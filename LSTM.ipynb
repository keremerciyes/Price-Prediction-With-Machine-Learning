{
 "cells": [
  {
   "cell_type": "code",
   "execution_count": 4,
   "metadata": {},
   "outputs": [
    {
     "ename": "IndexError",
     "evalue": "tuple index out of range",
     "output_type": "error",
     "traceback": [
      "\u001b[0;31m---------------------------------------------------------------------------\u001b[0m",
      "\u001b[0;31mIndexError\u001b[0m                                Traceback (most recent call last)",
      "Cell \u001b[0;32mIn[4], line 41\u001b[0m\n\u001b[1;32m     38\u001b[0m         out \u001b[39m=\u001b[39m \u001b[39mself\u001b[39m\u001b[39m.\u001b[39mfc(out[:, \u001b[39m-\u001b[39m\u001b[39m1\u001b[39m, :])\n\u001b[1;32m     39\u001b[0m         \u001b[39mreturn\u001b[39;00m out\n\u001b[0;32m---> 41\u001b[0m model \u001b[39m=\u001b[39m LSTMModel(input_dim\u001b[39m=\u001b[39mX_train\u001b[39m.\u001b[39;49mshape[\u001b[39m2\u001b[39;49m], hidden_dim\u001b[39m=\u001b[39m\u001b[39m32\u001b[39m, output_dim\u001b[39m=\u001b[39m\u001b[39m1\u001b[39m)\n\u001b[1;32m     43\u001b[0m \u001b[39m# Model Compilation\u001b[39;00m\n\u001b[1;32m     44\u001b[0m learning_rate \u001b[39m=\u001b[39m \u001b[39m0.001\u001b[39m\n",
      "\u001b[0;31mIndexError\u001b[0m: tuple index out of range"
     ]
    }
   ],
   "source": [
    "import pandas as pd\n",
    "from sklearn.model_selection import train_test_split\n",
    "import torch\n",
    "import torch.nn as nn\n",
    "import torch.optim as optim\n",
    "from torch.utils.data import DataLoader, TensorDataset\n",
    "\n",
    "# Load data\n",
    "data = pd.read_csv('data-sets/alcohol_sales.csv')\n",
    "\n",
    "# Convert date column to datetime object\n",
    "data['date'] = pd.to_datetime(data['date'])\n",
    "\n",
    "# Set date column as the index of the DataFrame\n",
    "data = data.set_index('date')\n",
    "\n",
    "# Split data into features and target\n",
    "X = data.index.values.astype(float).reshape(-1, 1)\n",
    "y = data['sales']\n",
    "\n",
    "# Split data into training and testing sets\n",
    "X_train, X_test, y_train, y_test = train_test_split(X, y, test_size=0.2, random_state=42)\n",
    "\n",
    "# Assume that we have X_train, y_train, X_val, y_val as tensors\n",
    "\n",
    "# Model Selection\n",
    "class LSTMModel(nn.Module):\n",
    "    def _init_(self, input_dim, hidden_dim, output_dim):\n",
    "        super(LSTMModel, self)._init_()\n",
    "        self.hidden_dim = hidden_dim\n",
    "        self.lstm = nn.LSTM(input_dim, hidden_dim, batch_first=True)\n",
    "        self.fc = nn.Linear(hidden_dim, output_dim)\n",
    "        \n",
    "    def forward(self, x):\n",
    "        h0 = torch.zeros(1, x.size(0), self.hidden_dim).requires_grad_()\n",
    "        c0 = torch.zeros(1, x.size(0), self.hidden_dim).requires_grad_()\n",
    "        out, (hn, cn) = self.lstm(x, (h0.detach(), c0.detach()))\n",
    "        out = self.fc(out[:, -1, :])\n",
    "        return out\n",
    "\n",
    "model = LSTMModel(input_dim=X_train.shape[2], hidden_dim=32, output_dim=1)\n",
    "\n",
    "# Model Compilation\n",
    "learning_rate = 0.001\n",
    "criterion = nn.MSELoss()\n",
    "optimizer = optim.Adam(model.parameters(), lr=learning_rate)\n",
    "\n",
    "# Model Training\n",
    "num_epochs = 100\n",
    "batch_size = 32\n",
    "train_dataset = TensorDataset(X_train, y_train)\n",
    "train_loader = DataLoader(train_dataset, batch_size=batch_size, shuffle=True)\n",
    "for epoch in range(num_epochs):\n",
    "    for i, (inputs, targets) in enumerate(train_loader):\n",
    "        optimizer.zero_grad()\n",
    "        outputs = model(inputs)\n",
    "        loss = criterion(outputs, targets)\n",
    "        loss.backward()\n",
    "        optimizer.step()\n",
    "\n",
    "# Model Evaluation\n",
    "val_dataset = TensorDataset(X, y)\n",
    "val_loader = DataLoader(val_dataset, batch_size=len(val_dataset))\n",
    "with torch.no_grad():\n",
    "    for inputs, targets in val_loader:\n",
    "        outputs = model(inputs)\n",
    "        mse = criterion(outputs, targets)\n",
    "        mae = nn.L1Loss()(outputs, targets)\n",
    "        rmse = torch.sqrt(mse)\n",
    "        print('Mean Squared Error:', mse.item())\n",
    "        print('Mean Absolute Error:', mae.item())\n",
    "        print('Root Mean Squared Error:', rmse.item())"
   ]
  }
 ],
 "metadata": {
  "kernelspec": {
   "display_name": "Python (3.11.2)",
   "language": "python",
   "name": "3.11.2"
  },
  "language_info": {
   "codemirror_mode": {
    "name": "ipython",
    "version": 3
   },
   "file_extension": ".py",
   "mimetype": "text/x-python",
   "name": "python",
   "nbconvert_exporter": "python",
   "pygments_lexer": "ipython3",
   "version": "3.11.2"
  },
  "orig_nbformat": 4
 },
 "nbformat": 4,
 "nbformat_minor": 2
}
