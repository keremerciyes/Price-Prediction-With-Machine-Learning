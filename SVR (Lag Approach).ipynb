{
 "cells": [
  {
   "cell_type": "code",
   "execution_count": 3,
   "id": "847dc94b",
   "metadata": {},
   "outputs": [
    {
     "name": "stderr",
     "output_type": "stream",
     "text": [
      "/Users/oktaykurt/.pyenv/versions/3.11.2/lib/python3.11/site-packages/sklearn/utils/validation.py:1143: DataConversionWarning: A column-vector y was passed when a 1d array was expected. Please change the shape of y to (n_samples, ), for example using ravel().\n",
      "  y = column_or_1d(y, warn=True)\n",
      "/Users/oktaykurt/.pyenv/versions/3.11.2/lib/python3.11/site-packages/sklearn/utils/validation.py:1143: DataConversionWarning: A column-vector y was passed when a 1d array was expected. Please change the shape of y to (n_samples, ), for example using ravel().\n",
      "  y = column_or_1d(y, warn=True)\n",
      "/Users/oktaykurt/.pyenv/versions/3.11.2/lib/python3.11/site-packages/sklearn/utils/validation.py:1143: DataConversionWarning: A column-vector y was passed when a 1d array was expected. Please change the shape of y to (n_samples, ), for example using ravel().\n",
      "  y = column_or_1d(y, warn=True)\n",
      "/Users/oktaykurt/.pyenv/versions/3.11.2/lib/python3.11/site-packages/sklearn/utils/validation.py:1143: DataConversionWarning: A column-vector y was passed when a 1d array was expected. Please change the shape of y to (n_samples, ), for example using ravel().\n",
      "  y = column_or_1d(y, warn=True)\n",
      "/Users/oktaykurt/.pyenv/versions/3.11.2/lib/python3.11/site-packages/sklearn/utils/validation.py:1143: DataConversionWarning: A column-vector y was passed when a 1d array was expected. Please change the shape of y to (n_samples, ), for example using ravel().\n",
      "  y = column_or_1d(y, warn=True)\n",
      "/Users/oktaykurt/.pyenv/versions/3.11.2/lib/python3.11/site-packages/sklearn/utils/validation.py:1143: DataConversionWarning: A column-vector y was passed when a 1d array was expected. Please change the shape of y to (n_samples, ), for example using ravel().\n",
      "  y = column_or_1d(y, warn=True)\n",
      "/Users/oktaykurt/.pyenv/versions/3.11.2/lib/python3.11/site-packages/sklearn/utils/validation.py:1143: DataConversionWarning: A column-vector y was passed when a 1d array was expected. Please change the shape of y to (n_samples, ), for example using ravel().\n",
      "  y = column_or_1d(y, warn=True)\n",
      "/Users/oktaykurt/.pyenv/versions/3.11.2/lib/python3.11/site-packages/sklearn/utils/validation.py:1143: DataConversionWarning: A column-vector y was passed when a 1d array was expected. Please change the shape of y to (n_samples, ), for example using ravel().\n",
      "  y = column_or_1d(y, warn=True)\n",
      "/Users/oktaykurt/.pyenv/versions/3.11.2/lib/python3.11/site-packages/sklearn/utils/validation.py:1143: DataConversionWarning: A column-vector y was passed when a 1d array was expected. Please change the shape of y to (n_samples, ), for example using ravel().\n",
      "  y = column_or_1d(y, warn=True)\n",
      "/Users/oktaykurt/.pyenv/versions/3.11.2/lib/python3.11/site-packages/sklearn/utils/validation.py:1143: DataConversionWarning: A column-vector y was passed when a 1d array was expected. Please change the shape of y to (n_samples, ), for example using ravel().\n",
      "  y = column_or_1d(y, warn=True)\n",
      "/Users/oktaykurt/.pyenv/versions/3.11.2/lib/python3.11/site-packages/sklearn/utils/validation.py:1143: DataConversionWarning: A column-vector y was passed when a 1d array was expected. Please change the shape of y to (n_samples, ), for example using ravel().\n",
      "  y = column_or_1d(y, warn=True)\n",
      "/Users/oktaykurt/.pyenv/versions/3.11.2/lib/python3.11/site-packages/sklearn/utils/validation.py:1143: DataConversionWarning: A column-vector y was passed when a 1d array was expected. Please change the shape of y to (n_samples, ), for example using ravel().\n",
      "  y = column_or_1d(y, warn=True)\n",
      "/Users/oktaykurt/.pyenv/versions/3.11.2/lib/python3.11/site-packages/sklearn/utils/validation.py:1143: DataConversionWarning: A column-vector y was passed when a 1d array was expected. Please change the shape of y to (n_samples, ), for example using ravel().\n",
      "  y = column_or_1d(y, warn=True)\n",
      "/Users/oktaykurt/.pyenv/versions/3.11.2/lib/python3.11/site-packages/sklearn/utils/validation.py:1143: DataConversionWarning: A column-vector y was passed when a 1d array was expected. Please change the shape of y to (n_samples, ), for example using ravel().\n",
      "  y = column_or_1d(y, warn=True)\n",
      "/Users/oktaykurt/.pyenv/versions/3.11.2/lib/python3.11/site-packages/sklearn/utils/validation.py:1143: DataConversionWarning: A column-vector y was passed when a 1d array was expected. Please change the shape of y to (n_samples, ), for example using ravel().\n",
      "  y = column_or_1d(y, warn=True)\n",
      "/var/folders/39/438kbb8j341fw7b_dxqc85300000gn/T/ipykernel_3803/13748168.py:65: DataConversionWarning: A column-vector y was passed when a 1d array was expected. Please change the shape of y to (n_samples,), for example using ravel().\n",
      "  model.fit(X_train, y_train)\n",
      "/var/folders/39/438kbb8j341fw7b_dxqc85300000gn/T/ipykernel_3803/13748168.py:65: DataConversionWarning: A column-vector y was passed when a 1d array was expected. Please change the shape of y to (n_samples,), for example using ravel().\n",
      "  model.fit(X_train, y_train)\n"
     ]
    },
    {
     "name": "stdout",
     "output_type": "stream",
     "text": [
      "Average MAPE for SVR(C=500, gamma=0.1) ShuffleSplit(n_splits=5, random_state=None, test_size=None, train_size=None) : 10.10%\n",
      "\n",
      "Average MAPE for SVR(C=500, gamma=0.1) KFold(n_splits=5, random_state=None, shuffle=False) : 15.13%\n",
      "\n",
      "Average MAPE for SVR(C=500, gamma=0.1) TimeSeriesSplit(gap=0, max_train_size=None, n_splits=5, test_size=None) : 19.20%\n",
      "\n"
     ]
    },
    {
     "name": "stderr",
     "output_type": "stream",
     "text": [
      "/var/folders/39/438kbb8j341fw7b_dxqc85300000gn/T/ipykernel_3803/13748168.py:65: DataConversionWarning: A column-vector y was passed when a 1d array was expected. Please change the shape of y to (n_samples,), for example using ravel().\n",
      "  model.fit(X_train, y_train)\n",
      "/var/folders/39/438kbb8j341fw7b_dxqc85300000gn/T/ipykernel_3803/13748168.py:65: DataConversionWarning: A column-vector y was passed when a 1d array was expected. Please change the shape of y to (n_samples,), for example using ravel().\n",
      "  model.fit(X_train, y_train)\n",
      "/var/folders/39/438kbb8j341fw7b_dxqc85300000gn/T/ipykernel_3803/13748168.py:65: DataConversionWarning: A column-vector y was passed when a 1d array was expected. Please change the shape of y to (n_samples,), for example using ravel().\n",
      "  model.fit(X_train, y_train)\n"
     ]
    },
    {
     "name": "stdout",
     "output_type": "stream",
     "text": [
      "Average MAPE for RandomForestRegressor(random_state=43) ShuffleSplit(n_splits=5, random_state=None, test_size=None, train_size=None) : 10.88%\n",
      "\n"
     ]
    },
    {
     "name": "stderr",
     "output_type": "stream",
     "text": [
      "/var/folders/39/438kbb8j341fw7b_dxqc85300000gn/T/ipykernel_3803/13748168.py:65: DataConversionWarning: A column-vector y was passed when a 1d array was expected. Please change the shape of y to (n_samples,), for example using ravel().\n",
      "  model.fit(X_train, y_train)\n",
      "/var/folders/39/438kbb8j341fw7b_dxqc85300000gn/T/ipykernel_3803/13748168.py:65: DataConversionWarning: A column-vector y was passed when a 1d array was expected. Please change the shape of y to (n_samples,), for example using ravel().\n",
      "  model.fit(X_train, y_train)\n",
      "/var/folders/39/438kbb8j341fw7b_dxqc85300000gn/T/ipykernel_3803/13748168.py:65: DataConversionWarning: A column-vector y was passed when a 1d array was expected. Please change the shape of y to (n_samples,), for example using ravel().\n",
      "  model.fit(X_train, y_train)\n",
      "/var/folders/39/438kbb8j341fw7b_dxqc85300000gn/T/ipykernel_3803/13748168.py:65: DataConversionWarning: A column-vector y was passed when a 1d array was expected. Please change the shape of y to (n_samples,), for example using ravel().\n",
      "  model.fit(X_train, y_train)\n",
      "/var/folders/39/438kbb8j341fw7b_dxqc85300000gn/T/ipykernel_3803/13748168.py:65: DataConversionWarning: A column-vector y was passed when a 1d array was expected. Please change the shape of y to (n_samples,), for example using ravel().\n",
      "  model.fit(X_train, y_train)\n",
      "/var/folders/39/438kbb8j341fw7b_dxqc85300000gn/T/ipykernel_3803/13748168.py:65: DataConversionWarning: A column-vector y was passed when a 1d array was expected. Please change the shape of y to (n_samples,), for example using ravel().\n",
      "  model.fit(X_train, y_train)\n"
     ]
    },
    {
     "name": "stdout",
     "output_type": "stream",
     "text": [
      "Average MAPE for RandomForestRegressor(random_state=43) KFold(n_splits=5, random_state=None, shuffle=False) : 14.49%\n",
      "\n"
     ]
    },
    {
     "name": "stderr",
     "output_type": "stream",
     "text": [
      "/var/folders/39/438kbb8j341fw7b_dxqc85300000gn/T/ipykernel_3803/13748168.py:65: DataConversionWarning: A column-vector y was passed when a 1d array was expected. Please change the shape of y to (n_samples,), for example using ravel().\n",
      "  model.fit(X_train, y_train)\n",
      "/var/folders/39/438kbb8j341fw7b_dxqc85300000gn/T/ipykernel_3803/13748168.py:65: DataConversionWarning: A column-vector y was passed when a 1d array was expected. Please change the shape of y to (n_samples,), for example using ravel().\n",
      "  model.fit(X_train, y_train)\n",
      "/var/folders/39/438kbb8j341fw7b_dxqc85300000gn/T/ipykernel_3803/13748168.py:65: DataConversionWarning: A column-vector y was passed when a 1d array was expected. Please change the shape of y to (n_samples,), for example using ravel().\n",
      "  model.fit(X_train, y_train)\n"
     ]
    },
    {
     "name": "stdout",
     "output_type": "stream",
     "text": [
      "Average MAPE for RandomForestRegressor(random_state=43) TimeSeriesSplit(gap=0, max_train_size=None, n_splits=5, test_size=None) : 18.85%\n",
      "\n",
      "Average MAPE for LinearRegression() ShuffleSplit(n_splits=5, random_state=None, test_size=None, train_size=None) : 10.27%\n",
      "\n",
      "Average MAPE for LinearRegression() KFold(n_splits=5, random_state=None, shuffle=False) : 11.08%\n",
      "\n",
      "Average MAPE for LinearRegression() TimeSeriesSplit(gap=0, max_train_size=None, n_splits=5, test_size=None) : 12.31%\n",
      "\n"
     ]
    },
    {
     "name": "stderr",
     "output_type": "stream",
     "text": [
      "/var/folders/39/438kbb8j341fw7b_dxqc85300000gn/T/ipykernel_3803/13748168.py:65: DataConversionWarning: A column-vector y was passed when a 1d array was expected. Please change the shape of y to (n_samples,), for example using ravel().\n",
      "  model.fit(X_train, y_train)\n"
     ]
    }
   ],
   "source": [
    "import pandas as pd\n",
    "from sklearn.svm import SVR\n",
    "from sklearn.ensemble import RandomForestRegressor\n",
    "from sklearn.linear_model import LinearRegression\n",
    "from sklearn.metrics import mean_absolute_percentage_error\n",
    "from sklearn.preprocessing import StandardScaler\n",
    "\n",
    "\n",
    "# Cross Validation methods\n",
    "from sklearn.model_selection import KFold\n",
    "from sklearn.model_selection import ShuffleSplit\n",
    "from sklearn.model_selection import TimeSeriesSplit\n",
    "\n",
    "\n",
    "# Load time series data into a Pandas dataframe\n",
    "df = pd.read_csv('data-sets/Alcohol_Sales.csv', index_col=0, parse_dates=True)\n",
    "\n",
    "# Define the number of lagged values\n",
    "n_lags = 3\n",
    "\n",
    "# Create the feature matrix X and target vector y\n",
    "X = pd.DataFrame(index=df.index)\n",
    "for lag in range(1, n_lags+1):\n",
    "    X[f'lag_{lag}'] = df.shift(lag)\n",
    "X.dropna(inplace=True)\n",
    "y = df.loc[X.index]\n",
    "\n",
    "\n",
    "# Define the number of rolling windows and the window size\n",
    "n_windows = 5\n",
    "\n",
    "# Initialize the cross-validators\n",
    "k_fold_cv = KFold(n_splits=n_windows)\n",
    "shuffles_split_cv = ShuffleSplit(n_splits=n_windows)\n",
    "timeSeries_split_cv = TimeSeriesSplit(n_splits=n_windows)\n",
    "\n",
    "cv_array = [shuffles_split_cv, k_fold_cv, timeSeries_split_cv]\n",
    "\n",
    "\n",
    "\n",
    "# Initialize the Support Vector Regression model\n",
    "svr = SVR(kernel='rbf', C=500, gamma=0.1, epsilon=.1)\n",
    "rfr = RandomForestRegressor(n_estimators=100, random_state=4)\n",
    "reg = LinearRegression()\n",
    "\n",
    "\n",
    "model_array = [svr, rfr, reg]\n",
    "\n",
    "\n",
    "# Iterate over the rolling windows and train/test the model\n",
    "for model in model_array:\n",
    "    for cv in cv_array:\n",
    "        sum_of_mape = 0\n",
    "        for i, (train_index, test_index) in enumerate(cv.split(X)):\n",
    "            # Split the data into training and testing sets\n",
    "            X_train, y_train = X.iloc[train_index], y.iloc[train_index]\n",
    "            X_test, y_test = X.iloc[test_index], y.iloc[test_index]\n",
    "\n",
    "            # Preprocess the data by scaling it\n",
    "            scaler = StandardScaler()\n",
    "            X_train = scaler.fit_transform(X_train)\n",
    "            X_test = scaler.transform(X_test)\n",
    "\n",
    "            # Train the Support Vector Regression model on the training data\n",
    "            model.fit(X_train, y_train)\n",
    "\n",
    "            # Make predictions on the testing data\n",
    "            y_pred = model.predict(X_test)\n",
    "\n",
    "            # Evaluate the performance of the model using the Mean Absolute Percentage Error\n",
    "            mape = mean_absolute_percentage_error(y_test, y_pred)\n",
    "\n",
    "            sum_of_mape += mape\n",
    "\n",
    "        average_mape = sum_of_mape / cv.get_n_splits()\n",
    "        print(f'Average MAPE for {model} {cv} : {average_mape * 100:.2f}%\\n')"
   ]
  },
  {
   "cell_type": "code",
   "execution_count": null,
   "id": "0d66411e",
   "metadata": {},
   "outputs": [],
   "source": []
  },
  {
   "cell_type": "code",
   "execution_count": null,
   "id": "0ddde81c",
   "metadata": {},
   "outputs": [],
   "source": []
  },
  {
   "cell_type": "code",
   "execution_count": null,
   "id": "5d3e9858",
   "metadata": {},
   "outputs": [],
   "source": []
  }
 ],
 "metadata": {
  "kernelspec": {
   "display_name": "Python (3.11.2)",
   "language": "python",
   "name": "3.11.2"
  },
  "language_info": {
   "codemirror_mode": {
    "name": "ipython",
    "version": 3
   },
   "file_extension": ".py",
   "mimetype": "text/x-python",
   "name": "python",
   "nbconvert_exporter": "python",
   "pygments_lexer": "ipython3",
   "version": "3.11.2"
  }
 },
 "nbformat": 4,
 "nbformat_minor": 5
}
