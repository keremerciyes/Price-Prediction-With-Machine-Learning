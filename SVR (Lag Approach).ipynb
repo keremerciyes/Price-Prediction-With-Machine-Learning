{
 "cells": [
  {
   "cell_type": "code",
   "execution_count": 3,
   "id": "847dc94b",
   "metadata": {},
   "outputs": [
    {
     "name": "stdout",
     "output_type": "stream",
     "text": [
      "Average MAPE for ShuffleSplit(n_splits=5, random_state=None, test_size=None, train_size=None): 10.49%\n",
      "\n",
      "Average MAPE for KFold(n_splits=5, random_state=None, shuffle=False): 15.13%\n",
      "\n",
      "Average MAPE for TimeSeriesSplit(gap=0, max_train_size=None, n_splits=5, test_size=None): 19.20%\n",
      "\n"
     ]
    },
    {
     "name": "stderr",
     "output_type": "stream",
     "text": [
      "/Users/mustafasoydan/opt/anaconda3/lib/python3.9/site-packages/sklearn/utils/validation.py:993: DataConversionWarning: A column-vector y was passed when a 1d array was expected. Please change the shape of y to (n_samples, ), for example using ravel().\n",
      "  y = column_or_1d(y, warn=True)\n",
      "/Users/mustafasoydan/opt/anaconda3/lib/python3.9/site-packages/sklearn/utils/validation.py:993: DataConversionWarning: A column-vector y was passed when a 1d array was expected. Please change the shape of y to (n_samples, ), for example using ravel().\n",
      "  y = column_or_1d(y, warn=True)\n",
      "/Users/mustafasoydan/opt/anaconda3/lib/python3.9/site-packages/sklearn/utils/validation.py:993: DataConversionWarning: A column-vector y was passed when a 1d array was expected. Please change the shape of y to (n_samples, ), for example using ravel().\n",
      "  y = column_or_1d(y, warn=True)\n",
      "/Users/mustafasoydan/opt/anaconda3/lib/python3.9/site-packages/sklearn/utils/validation.py:993: DataConversionWarning: A column-vector y was passed when a 1d array was expected. Please change the shape of y to (n_samples, ), for example using ravel().\n",
      "  y = column_or_1d(y, warn=True)\n",
      "/Users/mustafasoydan/opt/anaconda3/lib/python3.9/site-packages/sklearn/utils/validation.py:993: DataConversionWarning: A column-vector y was passed when a 1d array was expected. Please change the shape of y to (n_samples, ), for example using ravel().\n",
      "  y = column_or_1d(y, warn=True)\n",
      "/Users/mustafasoydan/opt/anaconda3/lib/python3.9/site-packages/sklearn/utils/validation.py:993: DataConversionWarning: A column-vector y was passed when a 1d array was expected. Please change the shape of y to (n_samples, ), for example using ravel().\n",
      "  y = column_or_1d(y, warn=True)\n",
      "/Users/mustafasoydan/opt/anaconda3/lib/python3.9/site-packages/sklearn/utils/validation.py:993: DataConversionWarning: A column-vector y was passed when a 1d array was expected. Please change the shape of y to (n_samples, ), for example using ravel().\n",
      "  y = column_or_1d(y, warn=True)\n",
      "/Users/mustafasoydan/opt/anaconda3/lib/python3.9/site-packages/sklearn/utils/validation.py:993: DataConversionWarning: A column-vector y was passed when a 1d array was expected. Please change the shape of y to (n_samples, ), for example using ravel().\n",
      "  y = column_or_1d(y, warn=True)\n",
      "/Users/mustafasoydan/opt/anaconda3/lib/python3.9/site-packages/sklearn/utils/validation.py:993: DataConversionWarning: A column-vector y was passed when a 1d array was expected. Please change the shape of y to (n_samples, ), for example using ravel().\n",
      "  y = column_or_1d(y, warn=True)\n",
      "/Users/mustafasoydan/opt/anaconda3/lib/python3.9/site-packages/sklearn/utils/validation.py:993: DataConversionWarning: A column-vector y was passed when a 1d array was expected. Please change the shape of y to (n_samples, ), for example using ravel().\n",
      "  y = column_or_1d(y, warn=True)\n",
      "/Users/mustafasoydan/opt/anaconda3/lib/python3.9/site-packages/sklearn/utils/validation.py:993: DataConversionWarning: A column-vector y was passed when a 1d array was expected. Please change the shape of y to (n_samples, ), for example using ravel().\n",
      "  y = column_or_1d(y, warn=True)\n",
      "/Users/mustafasoydan/opt/anaconda3/lib/python3.9/site-packages/sklearn/utils/validation.py:993: DataConversionWarning: A column-vector y was passed when a 1d array was expected. Please change the shape of y to (n_samples, ), for example using ravel().\n",
      "  y = column_or_1d(y, warn=True)\n",
      "/Users/mustafasoydan/opt/anaconda3/lib/python3.9/site-packages/sklearn/utils/validation.py:993: DataConversionWarning: A column-vector y was passed when a 1d array was expected. Please change the shape of y to (n_samples, ), for example using ravel().\n",
      "  y = column_or_1d(y, warn=True)\n",
      "/Users/mustafasoydan/opt/anaconda3/lib/python3.9/site-packages/sklearn/utils/validation.py:993: DataConversionWarning: A column-vector y was passed when a 1d array was expected. Please change the shape of y to (n_samples, ), for example using ravel().\n",
      "  y = column_or_1d(y, warn=True)\n",
      "/Users/mustafasoydan/opt/anaconda3/lib/python3.9/site-packages/sklearn/utils/validation.py:993: DataConversionWarning: A column-vector y was passed when a 1d array was expected. Please change the shape of y to (n_samples, ), for example using ravel().\n",
      "  y = column_or_1d(y, warn=True)\n"
     ]
    }
   ],
   "source": [
    "import pandas as pd\n",
    "from sklearn.svm import SVR\n",
    "from sklearn.metrics import mean_absolute_percentage_error\n",
    "from sklearn.preprocessing import StandardScaler\n",
    "\n",
    "from sklearn.model_selection import cross_val_score\n",
    "\n",
    "# Cross Validation methods\n",
    "\n",
    "from sklearn.model_selection import KFold\n",
    "from sklearn.model_selection import ShuffleSplit\n",
    "from sklearn.model_selection import StratifiedKFold\n",
    "from sklearn.model_selection import StratifiedShuffleSplit \n",
    "from sklearn.model_selection import GroupKFold\n",
    "from sklearn.model_selection import StratifiedGroupKFold\n",
    "from sklearn.model_selection import GroupShuffleSplit\n",
    "from sklearn.model_selection import TimeSeriesSplit\n",
    "\n",
    "\n",
    "# Load time series data into a Pandas dataframe\n",
    "df = pd.read_csv('data-sets/Alcohol_Sales.csv', index_col=0, parse_dates=True)\n",
    "\n",
    "# Define the number of lagged values\n",
    "n_lags = 3\n",
    "\n",
    "# Create the feature matrix X and target vector y\n",
    "X = pd.DataFrame(index=df.index)\n",
    "for lag in range(1, n_lags+1):\n",
    "    X[f'lag_{lag}'] = df.shift(lag)\n",
    "X.dropna(inplace=True)\n",
    "y = df.loc[X.index]\n",
    "\n",
    "\n",
    "# Define the number of rolling windows and the window size\n",
    "n_windows = 5\n",
    "window_size = len(X) // n_windows\n",
    "\n",
    "# Initialize the cross-validators\n",
    "k_fold_cv = KFold(n_splits=n_windows)\n",
    "shuffles_split_cv = ShuffleSplit(n_splits=n_windows)\n",
    "stratified_k_fold_cv = StratifiedKFold(n_splits=n_windows)\n",
    "stratified_shuffle_split_cv = StratifiedShuffleSplit(n_splits=n_windows)\n",
    "group_k_fold_cv = GroupKFold(n_splits=n_windows)\n",
    "stratified_group_k_fold_cv = StratifiedGroupKFold(n_splits=n_windows)\n",
    "group_shuffle_split_cv = GroupShuffleSplit(n_splits=n_windows)\n",
    "timeSeries_split_cv = TimeSeriesSplit(n_splits=n_windows)\n",
    "\n",
    "cv_array = [shuffles_split_cv, k_fold_cv, timeSeries_split_cv]\n",
    "\n",
    "\n",
    "\n",
    "# Initialize the Support Vector Regression model\n",
    "svr = SVR(kernel='rbf', C=500, gamma=0.1, epsilon=.1)\n",
    "\n",
    "# Iterate over the rolling windows and train/test the model\n",
    "for cv in cv_array:\n",
    "    sum_of_mape = 0\n",
    "    for i, (train_index, test_index) in enumerate(cv.split(X)):\n",
    "        # Split the data into training and testing sets\n",
    "        X_train, y_train = X.iloc[train_index], y.iloc[train_index]\n",
    "        X_test, y_test = X.iloc[test_index], y.iloc[test_index]\n",
    "\n",
    "        # Preprocess the data by scaling it\n",
    "        scaler = StandardScaler()\n",
    "        X_train = scaler.fit_transform(X_train)\n",
    "        X_test = scaler.transform(X_test)\n",
    "        \n",
    "\n",
    "        # Train the Support Vector Regression model on the training data\n",
    "        svr.fit(X_train, y_train)\n",
    "\n",
    "        # Make predictions on the testing data\n",
    "        y_pred = svr.predict(X_test)\n",
    "\n",
    "        # Evaluate the performance of the model using the Mean Absolute Percentage Error\n",
    "        mape = mean_absolute_percentage_error(y_test, y_pred)\n",
    "        \n",
    "        sum_of_mape += mape\n",
    "    \n",
    "    average_mape = sum_of_mape / cv.get_n_splits()\n",
    "    print(f'Average MAPE for {cv}: {average_mape * 100:.2f}%\\n')\n",
    "\n"
   ]
  },
  {
   "cell_type": "code",
   "execution_count": 4,
   "id": "0d66411e",
   "metadata": {},
   "outputs": [
    {
     "data": {
      "text/plain": [
       "array([10194.7897746 , 10223.36305977, 10358.63507591, 10034.97552867,\n",
       "       10180.94195344,  8905.43268199,  9500.44957584,  9975.06490085,\n",
       "       10198.93336882, 10323.18865861, 10256.79751278, 10020.09342947,\n",
       "        9987.79146362, 10265.9536427 , 10220.1468679 , 10128.61903559,\n",
       "        9927.94531805,  8858.58484886,  9641.94725206, 10256.5796151 ,\n",
       "       10173.29653285, 10215.95404286, 10018.77760238,  9651.8212026 ,\n",
       "        9909.08274036, 10104.97780211, 10008.97672224, 10078.29972995,\n",
       "        9676.25481937,  8891.4704737 ,  9635.16110851, 10298.39468858,\n",
       "       10110.64856389, 10003.82913756,  9525.25136377,  9241.365745  ,\n",
       "        9510.83748776,  9902.54970158,  9899.3011594 ,  9962.88358715,\n",
       "        9565.1216914 ,  9064.05215714,  9697.24725991, 10331.62109613,\n",
       "       10103.23101626,  9801.28962131,  9392.75077128,  9201.82385374,\n",
       "        9283.20658879,  9553.83639424,  9462.28308472,  9484.65725955,\n",
       "        8902.20006874])"
      ]
     },
     "execution_count": 4,
     "metadata": {},
     "output_type": "execute_result"
    }
   ],
   "source": [
    "y_pred"
   ]
  },
  {
   "cell_type": "code",
   "execution_count": null,
   "id": "f5ddeb7e",
   "metadata": {},
   "outputs": [],
   "source": []
  },
  {
   "cell_type": "code",
   "execution_count": null,
   "id": "d616f877",
   "metadata": {},
   "outputs": [],
   "source": []
  }
 ],
 "metadata": {
  "kernelspec": {
   "display_name": "Python 3 (ipykernel)",
   "language": "python",
   "name": "python3"
  },
  "language_info": {
   "codemirror_mode": {
    "name": "ipython",
    "version": 3
   },
   "file_extension": ".py",
   "mimetype": "text/x-python",
   "name": "python",
   "nbconvert_exporter": "python",
   "pygments_lexer": "ipython3",
   "version": "3.9.13"
  }
 },
 "nbformat": 4,
 "nbformat_minor": 5
}
