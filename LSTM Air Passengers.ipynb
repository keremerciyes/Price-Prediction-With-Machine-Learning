{
 "cells": [
  {
   "cell_type": "code",
   "execution_count": 16,
   "metadata": {},
   "outputs": [
    {
     "data": {
      "application/vnd.plotly.v1+json": {
       "config": {
        "plotlyServerURL": "https://plot.ly"
       },
       "data": [
        {
         "hovertemplate": "variable=Passengers<br>Month=%{x}<br>Passengers=%{y}<extra></extra>",
         "legendgroup": "Passengers",
         "line": {
          "color": "#636efa",
          "dash": "solid"
         },
         "marker": {
          "symbol": "circle"
         },
         "mode": "lines",
         "name": "Passengers",
         "orientation": "v",
         "showlegend": true,
         "type": "scatter",
         "x": [
          "1949-01-01T00:00:00",
          "1949-02-01T00:00:00",
          "1949-03-01T00:00:00",
          "1949-04-01T00:00:00",
          "1949-05-01T00:00:00",
          "1949-06-01T00:00:00",
          "1949-07-01T00:00:00",
          "1949-08-01T00:00:00",
          "1949-09-01T00:00:00",
          "1949-10-01T00:00:00",
          "1949-11-01T00:00:00",
          "1949-12-01T00:00:00",
          "1950-01-01T00:00:00",
          "1950-02-01T00:00:00",
          "1950-03-01T00:00:00",
          "1950-04-01T00:00:00",
          "1950-05-01T00:00:00",
          "1950-06-01T00:00:00",
          "1950-07-01T00:00:00",
          "1950-08-01T00:00:00",
          "1950-09-01T00:00:00",
          "1950-10-01T00:00:00",
          "1950-11-01T00:00:00",
          "1950-12-01T00:00:00",
          "1951-01-01T00:00:00",
          "1951-02-01T00:00:00",
          "1951-03-01T00:00:00",
          "1951-04-01T00:00:00",
          "1951-05-01T00:00:00",
          "1951-06-01T00:00:00",
          "1951-07-01T00:00:00",
          "1951-08-01T00:00:00",
          "1951-09-01T00:00:00",
          "1951-10-01T00:00:00",
          "1951-11-01T00:00:00",
          "1951-12-01T00:00:00",
          "1952-01-01T00:00:00",
          "1952-02-01T00:00:00",
          "1952-03-01T00:00:00",
          "1952-04-01T00:00:00",
          "1952-05-01T00:00:00",
          "1952-06-01T00:00:00",
          "1952-07-01T00:00:00",
          "1952-08-01T00:00:00",
          "1952-09-01T00:00:00",
          "1952-10-01T00:00:00",
          "1952-11-01T00:00:00",
          "1952-12-01T00:00:00",
          "1953-01-01T00:00:00",
          "1953-02-01T00:00:00",
          "1953-03-01T00:00:00",
          "1953-04-01T00:00:00",
          "1953-05-01T00:00:00",
          "1953-06-01T00:00:00",
          "1953-07-01T00:00:00",
          "1953-08-01T00:00:00",
          "1953-09-01T00:00:00",
          "1953-10-01T00:00:00",
          "1953-11-01T00:00:00",
          "1953-12-01T00:00:00",
          "1954-01-01T00:00:00",
          "1954-02-01T00:00:00",
          "1954-03-01T00:00:00",
          "1954-04-01T00:00:00",
          "1954-05-01T00:00:00",
          "1954-06-01T00:00:00",
          "1954-07-01T00:00:00",
          "1954-08-01T00:00:00",
          "1954-09-01T00:00:00",
          "1954-10-01T00:00:00",
          "1954-11-01T00:00:00",
          "1954-12-01T00:00:00",
          "1955-01-01T00:00:00",
          "1955-02-01T00:00:00",
          "1955-03-01T00:00:00",
          "1955-04-01T00:00:00",
          "1955-05-01T00:00:00",
          "1955-06-01T00:00:00",
          "1955-07-01T00:00:00",
          "1955-08-01T00:00:00",
          "1955-09-01T00:00:00",
          "1955-10-01T00:00:00",
          "1955-11-01T00:00:00",
          "1955-12-01T00:00:00",
          "1956-01-01T00:00:00",
          "1956-02-01T00:00:00",
          "1956-03-01T00:00:00",
          "1956-04-01T00:00:00",
          "1956-05-01T00:00:00",
          "1956-06-01T00:00:00",
          "1956-07-01T00:00:00",
          "1956-08-01T00:00:00",
          "1956-09-01T00:00:00",
          "1956-10-01T00:00:00",
          "1956-11-01T00:00:00",
          "1956-12-01T00:00:00",
          "1957-01-01T00:00:00",
          "1957-02-01T00:00:00",
          "1957-03-01T00:00:00",
          "1957-04-01T00:00:00",
          "1957-05-01T00:00:00",
          "1957-06-01T00:00:00",
          "1957-07-01T00:00:00",
          "1957-08-01T00:00:00",
          "1957-09-01T00:00:00",
          "1957-10-01T00:00:00",
          "1957-11-01T00:00:00",
          "1957-12-01T00:00:00",
          "1958-01-01T00:00:00",
          "1958-02-01T00:00:00",
          "1958-03-01T00:00:00",
          "1958-04-01T00:00:00",
          "1958-05-01T00:00:00",
          "1958-06-01T00:00:00",
          "1958-07-01T00:00:00",
          "1958-08-01T00:00:00",
          "1958-09-01T00:00:00",
          "1958-10-01T00:00:00",
          "1958-11-01T00:00:00",
          "1958-12-01T00:00:00",
          "1959-01-01T00:00:00",
          "1959-02-01T00:00:00",
          "1959-03-01T00:00:00",
          "1959-04-01T00:00:00",
          "1959-05-01T00:00:00",
          "1959-06-01T00:00:00",
          "1959-07-01T00:00:00",
          "1959-08-01T00:00:00",
          "1959-09-01T00:00:00",
          "1959-10-01T00:00:00",
          "1959-11-01T00:00:00",
          "1959-12-01T00:00:00",
          "1960-01-01T00:00:00",
          "1960-02-01T00:00:00",
          "1960-03-01T00:00:00",
          "1960-04-01T00:00:00",
          "1960-05-01T00:00:00",
          "1960-06-01T00:00:00",
          "1960-07-01T00:00:00",
          "1960-08-01T00:00:00",
          "1960-09-01T00:00:00",
          "1960-10-01T00:00:00",
          "1960-11-01T00:00:00",
          "1960-12-01T00:00:00"
         ],
         "xaxis": "x",
         "y": [
          112,
          118,
          132,
          129,
          121,
          135,
          148,
          148,
          136,
          119,
          104,
          118,
          115,
          126,
          141,
          135,
          125,
          149,
          170,
          170,
          158,
          133,
          114,
          140,
          145,
          150,
          178,
          163,
          172,
          178,
          199,
          199,
          184,
          162,
          146,
          166,
          171,
          180,
          193,
          181,
          183,
          218,
          230,
          242,
          209,
          191,
          172,
          194,
          196,
          196,
          236,
          235,
          229,
          243,
          264,
          272,
          237,
          211,
          180,
          201,
          204,
          188,
          235,
          227,
          234,
          264,
          302,
          293,
          259,
          229,
          203,
          229,
          242,
          233,
          267,
          269,
          270,
          315,
          364,
          347,
          312,
          274,
          237,
          278,
          284,
          277,
          317,
          313,
          318,
          374,
          413,
          405,
          355,
          306,
          271,
          306,
          315,
          301,
          356,
          348,
          355,
          422,
          465,
          467,
          404,
          347,
          305,
          336,
          340,
          318,
          362,
          348,
          363,
          435,
          491,
          505,
          404,
          359,
          310,
          337,
          360,
          342,
          406,
          396,
          420,
          472,
          548,
          559,
          463,
          407,
          362,
          405,
          417,
          391,
          419,
          461,
          472,
          535,
          622,
          606,
          508,
          461,
          390,
          432
         ],
         "yaxis": "y"
        }
       ],
       "layout": {
        "legend": {
         "orientation": "h",
         "title": {
          "text": ""
         },
         "tracegroupgap": 0,
         "y": 1.02
        },
        "margin": {
         "t": 60
        },
        "template": {
         "data": {
          "bar": [
           {
            "error_x": {
             "color": "#2a3f5f"
            },
            "error_y": {
             "color": "#2a3f5f"
            },
            "marker": {
             "line": {
              "color": "white",
              "width": 0.5
             },
             "pattern": {
              "fillmode": "overlay",
              "size": 10,
              "solidity": 0.2
             }
            },
            "type": "bar"
           }
          ],
          "barpolar": [
           {
            "marker": {
             "line": {
              "color": "white",
              "width": 0.5
             },
             "pattern": {
              "fillmode": "overlay",
              "size": 10,
              "solidity": 0.2
             }
            },
            "type": "barpolar"
           }
          ],
          "carpet": [
           {
            "aaxis": {
             "endlinecolor": "#2a3f5f",
             "gridcolor": "#C8D4E3",
             "linecolor": "#C8D4E3",
             "minorgridcolor": "#C8D4E3",
             "startlinecolor": "#2a3f5f"
            },
            "baxis": {
             "endlinecolor": "#2a3f5f",
             "gridcolor": "#C8D4E3",
             "linecolor": "#C8D4E3",
             "minorgridcolor": "#C8D4E3",
             "startlinecolor": "#2a3f5f"
            },
            "type": "carpet"
           }
          ],
          "choropleth": [
           {
            "colorbar": {
             "outlinewidth": 0,
             "ticks": ""
            },
            "type": "choropleth"
           }
          ],
          "contour": [
           {
            "colorbar": {
             "outlinewidth": 0,
             "ticks": ""
            },
            "colorscale": [
             [
              0,
              "#0d0887"
             ],
             [
              0.1111111111111111,
              "#46039f"
             ],
             [
              0.2222222222222222,
              "#7201a8"
             ],
             [
              0.3333333333333333,
              "#9c179e"
             ],
             [
              0.4444444444444444,
              "#bd3786"
             ],
             [
              0.5555555555555556,
              "#d8576b"
             ],
             [
              0.6666666666666666,
              "#ed7953"
             ],
             [
              0.7777777777777778,
              "#fb9f3a"
             ],
             [
              0.8888888888888888,
              "#fdca26"
             ],
             [
              1,
              "#f0f921"
             ]
            ],
            "type": "contour"
           }
          ],
          "contourcarpet": [
           {
            "colorbar": {
             "outlinewidth": 0,
             "ticks": ""
            },
            "type": "contourcarpet"
           }
          ],
          "heatmap": [
           {
            "colorbar": {
             "outlinewidth": 0,
             "ticks": ""
            },
            "colorscale": [
             [
              0,
              "#0d0887"
             ],
             [
              0.1111111111111111,
              "#46039f"
             ],
             [
              0.2222222222222222,
              "#7201a8"
             ],
             [
              0.3333333333333333,
              "#9c179e"
             ],
             [
              0.4444444444444444,
              "#bd3786"
             ],
             [
              0.5555555555555556,
              "#d8576b"
             ],
             [
              0.6666666666666666,
              "#ed7953"
             ],
             [
              0.7777777777777778,
              "#fb9f3a"
             ],
             [
              0.8888888888888888,
              "#fdca26"
             ],
             [
              1,
              "#f0f921"
             ]
            ],
            "type": "heatmap"
           }
          ],
          "heatmapgl": [
           {
            "colorbar": {
             "outlinewidth": 0,
             "ticks": ""
            },
            "colorscale": [
             [
              0,
              "#0d0887"
             ],
             [
              0.1111111111111111,
              "#46039f"
             ],
             [
              0.2222222222222222,
              "#7201a8"
             ],
             [
              0.3333333333333333,
              "#9c179e"
             ],
             [
              0.4444444444444444,
              "#bd3786"
             ],
             [
              0.5555555555555556,
              "#d8576b"
             ],
             [
              0.6666666666666666,
              "#ed7953"
             ],
             [
              0.7777777777777778,
              "#fb9f3a"
             ],
             [
              0.8888888888888888,
              "#fdca26"
             ],
             [
              1,
              "#f0f921"
             ]
            ],
            "type": "heatmapgl"
           }
          ],
          "histogram": [
           {
            "marker": {
             "pattern": {
              "fillmode": "overlay",
              "size": 10,
              "solidity": 0.2
             }
            },
            "type": "histogram"
           }
          ],
          "histogram2d": [
           {
            "colorbar": {
             "outlinewidth": 0,
             "ticks": ""
            },
            "colorscale": [
             [
              0,
              "#0d0887"
             ],
             [
              0.1111111111111111,
              "#46039f"
             ],
             [
              0.2222222222222222,
              "#7201a8"
             ],
             [
              0.3333333333333333,
              "#9c179e"
             ],
             [
              0.4444444444444444,
              "#bd3786"
             ],
             [
              0.5555555555555556,
              "#d8576b"
             ],
             [
              0.6666666666666666,
              "#ed7953"
             ],
             [
              0.7777777777777778,
              "#fb9f3a"
             ],
             [
              0.8888888888888888,
              "#fdca26"
             ],
             [
              1,
              "#f0f921"
             ]
            ],
            "type": "histogram2d"
           }
          ],
          "histogram2dcontour": [
           {
            "colorbar": {
             "outlinewidth": 0,
             "ticks": ""
            },
            "colorscale": [
             [
              0,
              "#0d0887"
             ],
             [
              0.1111111111111111,
              "#46039f"
             ],
             [
              0.2222222222222222,
              "#7201a8"
             ],
             [
              0.3333333333333333,
              "#9c179e"
             ],
             [
              0.4444444444444444,
              "#bd3786"
             ],
             [
              0.5555555555555556,
              "#d8576b"
             ],
             [
              0.6666666666666666,
              "#ed7953"
             ],
             [
              0.7777777777777778,
              "#fb9f3a"
             ],
             [
              0.8888888888888888,
              "#fdca26"
             ],
             [
              1,
              "#f0f921"
             ]
            ],
            "type": "histogram2dcontour"
           }
          ],
          "mesh3d": [
           {
            "colorbar": {
             "outlinewidth": 0,
             "ticks": ""
            },
            "type": "mesh3d"
           }
          ],
          "parcoords": [
           {
            "line": {
             "colorbar": {
              "outlinewidth": 0,
              "ticks": ""
             }
            },
            "type": "parcoords"
           }
          ],
          "pie": [
           {
            "automargin": true,
            "type": "pie"
           }
          ],
          "scatter": [
           {
            "fillpattern": {
             "fillmode": "overlay",
             "size": 10,
             "solidity": 0.2
            },
            "type": "scatter"
           }
          ],
          "scatter3d": [
           {
            "line": {
             "colorbar": {
              "outlinewidth": 0,
              "ticks": ""
             }
            },
            "marker": {
             "colorbar": {
              "outlinewidth": 0,
              "ticks": ""
             }
            },
            "type": "scatter3d"
           }
          ],
          "scattercarpet": [
           {
            "marker": {
             "colorbar": {
              "outlinewidth": 0,
              "ticks": ""
             }
            },
            "type": "scattercarpet"
           }
          ],
          "scattergeo": [
           {
            "marker": {
             "colorbar": {
              "outlinewidth": 0,
              "ticks": ""
             }
            },
            "type": "scattergeo"
           }
          ],
          "scattergl": [
           {
            "marker": {
             "colorbar": {
              "outlinewidth": 0,
              "ticks": ""
             }
            },
            "type": "scattergl"
           }
          ],
          "scattermapbox": [
           {
            "marker": {
             "colorbar": {
              "outlinewidth": 0,
              "ticks": ""
             }
            },
            "type": "scattermapbox"
           }
          ],
          "scatterpolar": [
           {
            "marker": {
             "colorbar": {
              "outlinewidth": 0,
              "ticks": ""
             }
            },
            "type": "scatterpolar"
           }
          ],
          "scatterpolargl": [
           {
            "marker": {
             "colorbar": {
              "outlinewidth": 0,
              "ticks": ""
             }
            },
            "type": "scatterpolargl"
           }
          ],
          "scatterternary": [
           {
            "marker": {
             "colorbar": {
              "outlinewidth": 0,
              "ticks": ""
             }
            },
            "type": "scatterternary"
           }
          ],
          "surface": [
           {
            "colorbar": {
             "outlinewidth": 0,
             "ticks": ""
            },
            "colorscale": [
             [
              0,
              "#0d0887"
             ],
             [
              0.1111111111111111,
              "#46039f"
             ],
             [
              0.2222222222222222,
              "#7201a8"
             ],
             [
              0.3333333333333333,
              "#9c179e"
             ],
             [
              0.4444444444444444,
              "#bd3786"
             ],
             [
              0.5555555555555556,
              "#d8576b"
             ],
             [
              0.6666666666666666,
              "#ed7953"
             ],
             [
              0.7777777777777778,
              "#fb9f3a"
             ],
             [
              0.8888888888888888,
              "#fdca26"
             ],
             [
              1,
              "#f0f921"
             ]
            ],
            "type": "surface"
           }
          ],
          "table": [
           {
            "cells": {
             "fill": {
              "color": "#EBF0F8"
             },
             "line": {
              "color": "white"
             }
            },
            "header": {
             "fill": {
              "color": "#C8D4E3"
             },
             "line": {
              "color": "white"
             }
            },
            "type": "table"
           }
          ]
         },
         "layout": {
          "font": {
           "size": 18
          },
          "xaxis": {
           "title": {
            "font": {
             "size": 24
            }
           }
          },
          "yaxis": {
           "title": {
            "font": {
             "size": 24
            }
           }
          }
         }
        },
        "xaxis": {
         "anchor": "y",
         "domain": [
          0,
          1
         ],
         "title": {
          "text": "Month"
         }
        },
        "yaxis": {
         "anchor": "x",
         "domain": [
          0,
          1
         ],
         "title": {
          "text": "Passengers"
         }
        }
       }
      }
     },
     "metadata": {},
     "output_type": "display_data"
    },
    {
     "name": "stdout",
     "output_type": "stream",
     "text": [
      "Test set fraction: 0.24475524475524477\n"
     ]
    }
   ],
   "source": [
    "# %% [markdown]\n",
    "# # How to use PyTorch LSTMs for time series regression\n",
    "\n",
    "# %% [markdown]\n",
    "# # Data\n",
    "\n",
    "# %% [markdown]\n",
    "# 1. Download the Air Passengers data.\n",
    "# 2. Load the Air Passengers data into a DataFrame.\n",
    "\n",
    "# %%\n",
    "import pandas as pd\n",
    "\n",
    "df = pd.read_csv(\"data-sets/air_passengers.csv\", index_col=\"Month\", parse_dates=True)\n",
    "df.rename(columns={'#Passengers': 'Passengers'}, inplace=True)\n",
    "\n",
    "# %%\n",
    "import plotly.express as px\n",
    "import plotly.graph_objects as go\n",
    "import plotly.io as pio\n",
    "pio.templates.default = \"plotly_white\"\n",
    "\n",
    "plot_template = dict(\n",
    "    layout=go.Layout({\n",
    "        \"font_size\": 18,\n",
    "        \"xaxis_title_font_size\": 24,\n",
    "        \"yaxis_title_font_size\": 24})\n",
    ")\n",
    "\n",
    "fig = px.line(df, labels=dict(index=\"Date\", value=\"Passengers\"))\n",
    "fig.update_layout(\n",
    "  template=plot_template, legend=dict(orientation='h', y=1.02, title_text=\"\")\n",
    ")\n",
    "fig.show()\n",
    "\n",
    "# %% [markdown]\n",
    "# ## Create the target variable\n",
    "\n",
    "# %%\n",
    "forecast_lead = 1\n",
    "target = f\"lead{forecast_lead}\"\n",
    "\n",
    "df[target] = df[\"Passengers\"].shift(-forecast_lead)\n",
    "df = df.iloc[:-forecast_lead]\n",
    "\n",
    "# %% [markdown]\n",
    "# ## Create a hold-out test set and preprocess the data\n",
    "\n",
    "# %%\n",
    "test_start = \"1958-01-01\"\n",
    "\n",
    "df_train = df.loc[:test_start].copy()\n",
    "df_test = df.loc[test_start:].copy()\n",
    "\n",
    "print(\"Test set fraction:\", len(df_test) / len(df))\n",
    "\n",
    "# %% [markdown]\n",
    "# ## Standardize the features and target, based on the training set\n",
    "\n",
    "# %%\n",
    "target_mean = df_train[target].mean()\n",
    "target_stdev = df_train[target].std()\n",
    "\n",
    "df_train[\"Passengers\"] = (df_train[\"Passengers\"] - target_mean) / target_stdev\n",
    "df_test[\"Passengers\"] = (df_test[\"Passengers\"] - target_mean) / target_stdev\n",
    "\n",
    "df_train[target] = (df_train[target] - target_mean) / target_stdev\n",
    "df_test[target] = (df_test[target] - target_mean) / target_stdev\n",
    "\n",
    "# %% [markdown]\n",
    "# ## Create datasets that PyTorch `DataLoader` can work with\n",
    "\n",
    "# %%\n",
    "import torch\n",
    "from torch.utils.data import Dataset\n",
    "\n",
    "class SequenceDataset(Dataset):\n",
    "    def __init__(self, dataframe, target, sequence_length=5):\n",
    "        self.target = target\n",
    "        self.sequence_length = sequence_length\n",
    "        self.y = torch.tensor(dataframe[self.target].values).float()\n",
    "        self.X = torch.tensor(dataframe['Passengers'].values).float().unsqueeze(1)\n",
    "\n",
    "    def __len__(self):\n",
    "        return self.X.shape[0]\n",
    "\n",
    "    def __getitem__(self, i): \n",
    "        if i >= self.sequence_length - 1:\n",
    "            i_start = i - self.sequence_length + 1\n",
    "            x = self.X[i_start:(i + 1), :]\n",
    "        else:\n",
    "            padding = self.X[0].repeat(self.sequence_length - i - 1, 1)\n",
    "            x = self.X[0:(i + 1), :]\n",
    "            x = torch.cat((padding, x), 0)\n",
    "\n",
    "        return x, self.y[i]\n",
    "        \n",
    "# Continue the rest of the code as before\n"
   ]
  },
  {
   "cell_type": "code",
   "execution_count": 17,
   "metadata": {},
   "outputs": [
    {
     "name": "stdout",
     "output_type": "stream",
     "text": [
      "Features shape: torch.Size([3, 3, 1])\n",
      "Target shape: torch.Size([3])\n"
     ]
    }
   ],
   "source": [
    "# %% [markdown]\n",
    "# ## Create the datasets and data loaders\n",
    "\n",
    "# %%\n",
    "from bayes_opt import BayesianOptimization, UtilityFunction\n",
    "from matplotlib import pyplot as plt\n",
    "from torch.utils.data import DataLoader\n",
    "torch.manual_seed(101)\n",
    "\n",
    "batch_size = 3\n",
    "sequence_length = 3\n",
    "\n",
    "train_dataset = SequenceDataset(\n",
    "    df_train,\n",
    "    target=target,\n",
    "    sequence_length=sequence_length\n",
    ")\n",
    "test_dataset = SequenceDataset(\n",
    "    df_test,\n",
    "    target=target,\n",
    "    sequence_length=sequence_length\n",
    ")\n",
    "\n",
    "train_loader = DataLoader(train_dataset, batch_size=batch_size, shuffle=True)\n",
    "test_loader = DataLoader(test_dataset, batch_size=batch_size, shuffle=False)\n",
    "\n",
    "X, y = next(iter(train_loader))\n",
    "print(\"Features shape:\", X.shape)\n",
    "print(\"Target shape:\", y.shape)\n",
    "\n",
    "# %% [markdown]\n",
    "# # The model and learning algorithm\n",
    "\n",
    "# %%\n",
    "from torch import nn\n",
    "\n",
    "class ShallowRegressionLSTM(nn.Module):\n",
    "    def __init__(self, hidden_size, num_layers):\n",
    "        super().__init__()\n",
    "        self.hidden_size = hidden_size\n",
    "        self.num_layers = num_layers\n",
    "\n",
    "        self.lstm = nn.LSTM(\n",
    "            input_size=1,\n",
    "            hidden_size=hidden_size,\n",
    "            batch_first=True,\n",
    "            num_layers=self.num_layers\n",
    "        )\n",
    "\n",
    "        self.linear = nn.Linear(in_features=self.hidden_size, out_features=1)\n",
    "\n",
    "    def forward(self, x):\n",
    "        batch_size = x.shape[0]\n",
    "        h0 = torch.zeros(self.num_layers, batch_size, self.hidden_size).requires_grad_()\n",
    "        c0 = torch.zeros(self.num_layers, batch_size, self.hidden_size).requires_grad_()\n",
    "        \n",
    "        _, (hn, _) = self.lstm(x, (h0, c0))\n",
    "        out = self.linear(hn[0]).flatten()\n",
    "\n",
    "        return out"
   ]
  },
  {
   "cell_type": "code",
   "execution_count": 18,
   "metadata": {},
   "outputs": [
    {
     "name": "stdout",
     "output_type": "stream",
     "text": [
      "|   iter    |  target   | batch_... | learni... | num_hi... | num_la... | weight... |\n",
      "-------------------------------------------------------------------------------------\n",
      "Train loss: 0.8968461740107553\n",
      "Test loss: 6.890447437763214\n",
      "| \u001b[0m1        \u001b[0m | \u001b[0m-6.89    \u001b[0m | \u001b[0m46.04    \u001b[0m | \u001b[0m-2.839   \u001b[0m | \u001b[0m1.007    \u001b[0m | \u001b[0m1.907    \u001b[0m | \u001b[0m-4.56    \u001b[0m |\n",
      "Train loss: 1.0270966721849668\n",
      "Test loss: 6.815695971250534\n",
      "| \u001b[95m2        \u001b[0m | \u001b[95m-6.816   \u001b[0m | \u001b[95m10.97    \u001b[0m | \u001b[95m-4.441   \u001b[0m | \u001b[95m22.77    \u001b[0m | \u001b[95m2.19     \u001b[0m | \u001b[95m-3.384   \u001b[0m |\n",
      "Train loss: 0.9842816997520827\n",
      "Test loss: 6.416813999414444\n",
      "| \u001b[95m3        \u001b[0m | \u001b[95m-6.417   \u001b[0m | \u001b[95m46.27    \u001b[0m | \u001b[95m-2.944   \u001b[0m | \u001b[95m13.88    \u001b[0m | \u001b[95m3.634    \u001b[0m | \u001b[95m-4.918   \u001b[0m |\n",
      "Train loss: 1.014196076103159\n",
      "Test loss: 5.432610432306926\n",
      "| \u001b[95m4        \u001b[0m | \u001b[95m-5.433   \u001b[0m | \u001b[95m73.41    \u001b[0m | \u001b[95m-3.748   \u001b[0m | \u001b[95m36.2     \u001b[0m | \u001b[95m1.421    \u001b[0m | \u001b[95m-4.406   \u001b[0m |\n",
      "Train loss: 0.5261348792527979\n",
      "Test loss: 1.037322151164214\n",
      "| \u001b[95m5        \u001b[0m | \u001b[95m-1.037   \u001b[0m | \u001b[95m87.48    \u001b[0m | \u001b[95m-2.095   \u001b[0m | \u001b[95m20.75    \u001b[0m | \u001b[95m3.077    \u001b[0m | \u001b[95m-2.371   \u001b[0m |\n",
      "Train loss: 0.6471330212441752\n",
      "Test loss: 1.156525043149789\n",
      "| \u001b[0m6        \u001b[0m | \u001b[0m-1.157   \u001b[0m | \u001b[0m87.81    \u001b[0m | \u001b[0m-2.087   \u001b[0m | \u001b[0m21.49    \u001b[0m | \u001b[0m2.969    \u001b[0m | \u001b[0m-2.093   \u001b[0m |\n",
      "Train loss: 0.9506507816951018\n",
      "Test loss: 5.581307460864385\n",
      "| \u001b[0m7        \u001b[0m | \u001b[0m-5.581   \u001b[0m | \u001b[0m101.5    \u001b[0m | \u001b[0m-2.0     \u001b[0m | \u001b[0m3.842    \u001b[0m | \u001b[0m4.0      \u001b[0m | \u001b[0m-5.0     \u001b[0m |\n",
      "Train loss: 0.8909136087105081\n",
      "Test loss: 5.483627676963806\n",
      "| \u001b[0m8        \u001b[0m | \u001b[0m-5.484   \u001b[0m | \u001b[0m77.89    \u001b[0m | \u001b[0m-5.0     \u001b[0m | \u001b[0m11.63    \u001b[0m | \u001b[0m1.0      \u001b[0m | \u001b[0m-2.0     \u001b[0m |\n",
      "Train loss: 0.9506043936755206\n",
      "Test loss: 4.8788602103789644\n",
      "| \u001b[0m9        \u001b[0m | \u001b[0m-4.879   \u001b[0m | \u001b[0m93.43    \u001b[0m | \u001b[0m-5.0     \u001b[0m | \u001b[0m18.75    \u001b[0m | \u001b[0m4.0      \u001b[0m | \u001b[0m-5.0     \u001b[0m |\n",
      "Train loss: 0.4405005139847777\n",
      "Test loss: 1.087679826033612\n",
      "| \u001b[0m10       \u001b[0m | \u001b[0m-1.088   \u001b[0m | \u001b[0m82.99    \u001b[0m | \u001b[0m-2.0     \u001b[0m | \u001b[0m22.96    \u001b[0m | \u001b[0m4.0      \u001b[0m | \u001b[0m-3.742   \u001b[0m |\n",
      "Train loss: 0.7383827929561203\n",
      "Test loss: 3.4046269208192825\n",
      "| \u001b[0m11       \u001b[0m | \u001b[0m-3.405   \u001b[0m | \u001b[0m90.08    \u001b[0m | \u001b[0m-2.711   \u001b[0m | \u001b[0m33.58    \u001b[0m | \u001b[0m3.951    \u001b[0m | \u001b[0m-4.122   \u001b[0m |\n",
      "Train loss: 1.083349132054561\n",
      "Test loss: 6.086061050494512\n",
      "| \u001b[0m12       \u001b[0m | \u001b[0m-6.086   \u001b[0m | \u001b[0m84.78    \u001b[0m | \u001b[0m-5.0     \u001b[0m | \u001b[0m22.4     \u001b[0m | \u001b[0m1.0      \u001b[0m | \u001b[0m-5.0     \u001b[0m |\n",
      "Train loss: 0.5023644551936839\n",
      "Test loss: 2.031081390877565\n",
      "| \u001b[0m13       \u001b[0m | \u001b[0m-2.031   \u001b[0m | \u001b[0m84.72    \u001b[0m | \u001b[0m-2.0     \u001b[0m | \u001b[0m21.43    \u001b[0m | \u001b[0m4.0      \u001b[0m | \u001b[0m-2.0     \u001b[0m |\n",
      "Train loss: 0.36034296032645413\n",
      "Test loss: 0.7121998239308596\n",
      "| \u001b[95m14       \u001b[0m | \u001b[95m-0.7122  \u001b[0m | \u001b[95m84.05    \u001b[0m | \u001b[95m-2.0     \u001b[0m | \u001b[95m25.78    \u001b[0m | \u001b[95m4.0      \u001b[0m | \u001b[95m-2.386   \u001b[0m |\n",
      "Train loss: 0.35410581332807606\n",
      "Test loss: 0.7392480621735255\n",
      "| \u001b[0m15       \u001b[0m | \u001b[0m-0.7392  \u001b[0m | \u001b[0m80.06    \u001b[0m | \u001b[0m-2.0     \u001b[0m | \u001b[0m25.67    \u001b[0m | \u001b[0m4.0      \u001b[0m | \u001b[0m-2.089   \u001b[0m |\n",
      "Train loss: 0.37237790322585684\n",
      "Test loss: 1.8495233251402776\n",
      "| \u001b[0m16       \u001b[0m | \u001b[0m-1.85    \u001b[0m | \u001b[0m81.57    \u001b[0m | \u001b[0m-2.0     \u001b[0m | \u001b[0m28.62    \u001b[0m | \u001b[0m4.0      \u001b[0m | \u001b[0m-5.0     \u001b[0m |\n",
      "Train loss: 0.4087890819017146\n",
      "Test loss: 1.7221303954720497\n",
      "| \u001b[0m17       \u001b[0m | \u001b[0m-1.722   \u001b[0m | \u001b[0m76.41    \u001b[0m | \u001b[0m-2.0     \u001b[0m | \u001b[0m23.15    \u001b[0m | \u001b[0m4.0      \u001b[0m | \u001b[0m-5.0     \u001b[0m |\n",
      "Train loss: 0.3631365146689318\n",
      "Test loss: 0.8438808831075827\n",
      "| \u001b[0m18       \u001b[0m | \u001b[0m-0.8439  \u001b[0m | \u001b[0m70.17    \u001b[0m | \u001b[0m-2.0     \u001b[0m | \u001b[0m24.22    \u001b[0m | \u001b[0m4.0      \u001b[0m | \u001b[0m-2.0     \u001b[0m |\n",
      "Train loss: 0.3611382194920569\n",
      "Test loss: 1.1940272394567728\n",
      "| \u001b[0m19       \u001b[0m | \u001b[0m-1.194   \u001b[0m | \u001b[0m66.74    \u001b[0m | \u001b[0m-2.0     \u001b[0m | \u001b[0m20.71    \u001b[0m | \u001b[0m4.0      \u001b[0m | \u001b[0m-5.0     \u001b[0m |\n",
      "Train loss: 0.960785066155163\n",
      "Test loss: 4.431325152516365\n",
      "| \u001b[0m20       \u001b[0m | \u001b[0m-4.431   \u001b[0m | \u001b[0m63.47    \u001b[0m | \u001b[0m-3.893   \u001b[0m | \u001b[0m25.08    \u001b[0m | \u001b[0m3.09     \u001b[0m | \u001b[0m-2.477   \u001b[0m |\n",
      "Train loss: 1.023173323454889\n",
      "Test loss: 6.991388827562332\n",
      "| \u001b[0m21       \u001b[0m | \u001b[0m-6.991   \u001b[0m | \u001b[0m71.0     \u001b[0m | \u001b[0m-3.403   \u001b[0m | \u001b[0m20.26    \u001b[0m | \u001b[0m3.34     \u001b[0m | \u001b[0m-2.119   \u001b[0m |\n",
      "Train loss: 0.43985973007825985\n",
      "Test loss: 1.9163765522340934\n",
      "| \u001b[0m22       \u001b[0m | \u001b[0m-1.916   \u001b[0m | \u001b[0m72.47    \u001b[0m | \u001b[0m-2.0     \u001b[0m | \u001b[0m26.75    \u001b[0m | \u001b[0m4.0      \u001b[0m | \u001b[0m-3.261   \u001b[0m |\n",
      "Train loss: 0.48646403446390823\n",
      "Test loss: 1.4414435178041458\n",
      "| \u001b[0m23       \u001b[0m | \u001b[0m-1.441   \u001b[0m | \u001b[0m68.95    \u001b[0m | \u001b[0m-2.203   \u001b[0m | \u001b[0m25.51    \u001b[0m | \u001b[0m3.161    \u001b[0m | \u001b[0m-4.865   \u001b[0m |\n",
      "Train loss: 0.4352634076935214\n",
      "Test loss: 1.1376006255547206\n",
      "| \u001b[0m24       \u001b[0m | \u001b[0m-1.138   \u001b[0m | \u001b[0m79.49    \u001b[0m | \u001b[0m-2.0     \u001b[0m | \u001b[0m21.92    \u001b[0m | \u001b[0m4.0      \u001b[0m | \u001b[0m-2.0     \u001b[0m |\n",
      "Train loss: 0.4252812034337202\n",
      "Test loss: 1.5389945767819881\n",
      "| \u001b[0m25       \u001b[0m | \u001b[0m-1.539   \u001b[0m | \u001b[0m81.82    \u001b[0m | \u001b[0m-2.0     \u001b[0m | \u001b[0m26.94    \u001b[0m | \u001b[0m1.0      \u001b[0m | \u001b[0m-2.0     \u001b[0m |\n",
      "Train loss: 0.9239600555140626\n",
      "Test loss: 5.803718666235606\n",
      "| \u001b[0m26       \u001b[0m | \u001b[0m-5.804   \u001b[0m | \u001b[0m81.92    \u001b[0m | \u001b[0m-5.0     \u001b[0m | \u001b[0m27.81    \u001b[0m | \u001b[0m4.0      \u001b[0m | \u001b[0m-2.0     \u001b[0m |\n",
      "Train loss: 0.4678941981967639\n",
      "Test loss: 0.8461557738482952\n",
      "| \u001b[0m27       \u001b[0m | \u001b[0m-0.8462  \u001b[0m | \u001b[0m79.93    \u001b[0m | \u001b[0m-2.257   \u001b[0m | \u001b[0m24.51    \u001b[0m | \u001b[0m1.249    \u001b[0m | \u001b[0m-3.679   \u001b[0m |\n",
      "Train loss: 0.4598940897330239\n",
      "Test loss: 1.9391209023694198\n",
      "| \u001b[0m28       \u001b[0m | \u001b[0m-1.939   \u001b[0m | \u001b[0m69.56    \u001b[0m | \u001b[0m-2.0     \u001b[0m | \u001b[0m26.72    \u001b[0m | \u001b[0m1.0      \u001b[0m | \u001b[0m-2.0     \u001b[0m |\n",
      "Train loss: 0.8350259530785922\n",
      "Test loss: 4.8763472239176435\n",
      "| \u001b[0m29       \u001b[0m | \u001b[0m-4.876   \u001b[0m | \u001b[0m62.66    \u001b[0m | \u001b[0m-2.864   \u001b[0m | \u001b[0m16.57    \u001b[0m | \u001b[0m2.316    \u001b[0m | \u001b[0m-4.772   \u001b[0m |\n",
      "Train loss: 0.42445941738205384\n",
      "Test loss: 1.2422411624963086\n",
      "| \u001b[0m30       \u001b[0m | \u001b[0m-1.242   \u001b[0m | \u001b[0m75.78    \u001b[0m | \u001b[0m-2.035   \u001b[0m | \u001b[0m26.32    \u001b[0m | \u001b[0m1.774    \u001b[0m | \u001b[0m-2.025   \u001b[0m |\n",
      "Train loss: 0.41831364608495625\n",
      "Test loss: 1.3120699270317953\n",
      "| \u001b[0m31       \u001b[0m | \u001b[0m-1.312   \u001b[0m | \u001b[0m77.77    \u001b[0m | \u001b[0m-2.0     \u001b[0m | \u001b[0m27.66    \u001b[0m | \u001b[0m1.0      \u001b[0m | \u001b[0m-5.0     \u001b[0m |\n",
      "Train loss: 0.45108344529226824\n",
      "Test loss: 1.146190700121224\n",
      "| \u001b[0m32       \u001b[0m | \u001b[0m-1.146   \u001b[0m | \u001b[0m88.4     \u001b[0m | \u001b[0m-2.0     \u001b[0m | \u001b[0m16.09    \u001b[0m | \u001b[0m1.0      \u001b[0m | \u001b[0m-2.0     \u001b[0m |\n",
      "Train loss: 0.7028314842767006\n",
      "Test loss: 2.718362179895242\n",
      "| \u001b[0m33       \u001b[0m | \u001b[0m-2.718   \u001b[0m | \u001b[0m87.68    \u001b[0m | \u001b[0m-2.253   \u001b[0m | \u001b[0m11.51    \u001b[0m | \u001b[0m2.234    \u001b[0m | \u001b[0m-4.241   \u001b[0m |\n",
      "Train loss: 0.9774493260963543\n",
      "Test loss: 6.575486123561859\n",
      "| \u001b[0m34       \u001b[0m | \u001b[0m-6.575   \u001b[0m | \u001b[0m33.01    \u001b[0m | \u001b[0m-4.716   \u001b[0m | \u001b[0m63.79    \u001b[0m | \u001b[0m2.667    \u001b[0m | \u001b[0m-2.642   \u001b[0m |\n",
      "Train loss: 0.9900882699577188\n",
      "Test loss: 6.0282392501831055\n",
      "| \u001b[0m35       \u001b[0m | \u001b[0m-6.028   \u001b[0m | \u001b[0m108.8    \u001b[0m | \u001b[0m-4.292   \u001b[0m | \u001b[0m63.94    \u001b[0m | \u001b[0m3.235    \u001b[0m | \u001b[0m-2.512   \u001b[0m |\n",
      "Train loss: 0.44938990466989953\n",
      "Test loss: 1.5086642721047003\n",
      "| \u001b[0m36       \u001b[0m | \u001b[0m-1.509   \u001b[0m | \u001b[0m1.04     \u001b[0m | \u001b[0m-2.124   \u001b[0m | \u001b[0m59.61    \u001b[0m | \u001b[0m1.282    \u001b[0m | \u001b[0m-4.684   \u001b[0m |\n",
      "Train loss: 0.9832507240007052\n",
      "Test loss: 5.874906033277512\n",
      "| \u001b[0m37       \u001b[0m | \u001b[0m-5.875   \u001b[0m | \u001b[0m2.171    \u001b[0m | \u001b[0m-4.26    \u001b[0m | \u001b[0m54.72    \u001b[0m | \u001b[0m2.12     \u001b[0m | \u001b[0m-3.023   \u001b[0m |\n",
      "Train loss: 0.3714220807132487\n",
      "Test loss: 0.6781925254811844\n",
      "| \u001b[95m38       \u001b[0m | \u001b[95m-0.6782  \u001b[0m | \u001b[95m2.577    \u001b[0m | \u001b[95m-2.149   \u001b[0m | \u001b[95m63.78    \u001b[0m | \u001b[95m3.59     \u001b[0m | \u001b[95m-4.904   \u001b[0m |\n",
      "Train loss: 0.8891540321999708\n",
      "Test loss: 4.254142706592877\n",
      "| \u001b[0m39       \u001b[0m | \u001b[0m-4.254   \u001b[0m | \u001b[0m5.887    \u001b[0m | \u001b[0m-3.123   \u001b[0m | \u001b[0m62.88    \u001b[0m | \u001b[0m1.297    \u001b[0m | \u001b[0m-4.221   \u001b[0m |\n",
      "Train loss: 1.037758474842318\n",
      "Test loss: 5.511774857838948\n",
      "| \u001b[0m40       \u001b[0m | \u001b[0m-5.512   \u001b[0m | \u001b[0m1.244    \u001b[0m | \u001b[0m-4.956   \u001b[0m | \u001b[0m63.44    \u001b[0m | \u001b[0m3.73     \u001b[0m | \u001b[0m-3.067   \u001b[0m |\n",
      "Train loss: 1.0390497997805879\n",
      "Test loss: 5.815333674351375\n",
      "| \u001b[0m41       \u001b[0m | \u001b[0m-5.815   \u001b[0m | \u001b[0m69.59    \u001b[0m | \u001b[0m-5.0     \u001b[0m | \u001b[0m26.64    \u001b[0m | \u001b[0m4.0      \u001b[0m | \u001b[0m-2.0     \u001b[0m |\n",
      "Train loss: 0.9999404759020418\n",
      "Test loss: 6.029741297165553\n",
      "| \u001b[0m42       \u001b[0m | \u001b[0m-6.03    \u001b[0m | \u001b[0m77.83    \u001b[0m | \u001b[0m-4.172   \u001b[0m | \u001b[0m25.15    \u001b[0m | \u001b[0m3.233    \u001b[0m | \u001b[0m-4.928   \u001b[0m |\n",
      "Train loss: 0.4735297424265662\n",
      "Test loss: 1.9212679527699947\n",
      "| \u001b[0m43       \u001b[0m | \u001b[0m-1.921   \u001b[0m | \u001b[0m81.74    \u001b[0m | \u001b[0m-2.0     \u001b[0m | \u001b[0m24.02    \u001b[0m | \u001b[0m2.551    \u001b[0m | \u001b[0m-2.0     \u001b[0m |\n",
      "Train loss: 0.4804343821203991\n",
      "Test loss: 1.1678613796830177\n",
      "| \u001b[0m44       \u001b[0m | \u001b[0m-1.168   \u001b[0m | \u001b[0m77.49    \u001b[0m | \u001b[0m-2.191   \u001b[0m | \u001b[0m28.98    \u001b[0m | \u001b[0m1.264    \u001b[0m | \u001b[0m-2.14    \u001b[0m |\n",
      "Train loss: 0.36366345179644793\n",
      "Test loss: 1.3869560174643993\n",
      "| \u001b[0m45       \u001b[0m | \u001b[0m-1.387   \u001b[0m | \u001b[0m78.69    \u001b[0m | \u001b[0m-2.0     \u001b[0m | \u001b[0m26.16    \u001b[0m | \u001b[0m1.0      \u001b[0m | \u001b[0m-2.0     \u001b[0m |\n",
      "Train loss: 0.41996653866324873\n",
      "Test loss: 1.4894012237588565\n",
      "| \u001b[0m46       \u001b[0m | \u001b[0m-1.489   \u001b[0m | \u001b[0m82.14    \u001b[0m | \u001b[0m-2.0     \u001b[0m | \u001b[0m25.46    \u001b[0m | \u001b[0m4.0      \u001b[0m | \u001b[0m-4.72    \u001b[0m |\n",
      "Train loss: 0.4061067181509979\n",
      "Test loss: 1.1916170675928395\n",
      "| \u001b[0m47       \u001b[0m | \u001b[0m-1.192   \u001b[0m | \u001b[0m89.65    \u001b[0m | \u001b[0m-2.0     \u001b[0m | \u001b[0m19.27    \u001b[0m | \u001b[0m1.0      \u001b[0m | \u001b[0m-2.0     \u001b[0m |\n",
      "Train loss: 0.44036151798806983\n",
      "Test loss: 1.1840709050496419\n",
      "| \u001b[0m48       \u001b[0m | \u001b[0m-1.184   \u001b[0m | \u001b[0m78.07    \u001b[0m | \u001b[0m-2.066   \u001b[0m | \u001b[0m21.41    \u001b[0m | \u001b[0m1.274    \u001b[0m | \u001b[0m-4.199   \u001b[0m |\n",
      "Train loss: 0.31222849087537946\n",
      "Test loss: 1.166259032053252\n",
      "| \u001b[0m49       \u001b[0m | \u001b[0m-1.166   \u001b[0m | \u001b[0m87.44    \u001b[0m | \u001b[0m-2.0     \u001b[0m | \u001b[0m26.16    \u001b[0m | \u001b[0m4.0      \u001b[0m | \u001b[0m-3.717   \u001b[0m |\n",
      "Train loss: 0.5979097976374466\n",
      "Test loss: 1.7801206403722365\n",
      "| \u001b[0m50       \u001b[0m | \u001b[0m-1.78    \u001b[0m | \u001b[0m84.55    \u001b[0m | \u001b[0m-2.15    \u001b[0m | \u001b[0m16.04    \u001b[0m | \u001b[0m3.956    \u001b[0m | \u001b[0m-2.595   \u001b[0m |\n",
      "Train loss: 0.4710907078178197\n",
      "Test loss: 1.098254218697548\n",
      "| \u001b[0m51       \u001b[0m | \u001b[0m-1.098   \u001b[0m | \u001b[0m89.0     \u001b[0m | \u001b[0m-2.0     \u001b[0m | \u001b[0m17.31    \u001b[0m | \u001b[0m4.0      \u001b[0m | \u001b[0m-2.0     \u001b[0m |\n",
      "Train loss: 0.517246362381942\n",
      "Test loss: 1.1149527058005333\n",
      "| \u001b[0m52       \u001b[0m | \u001b[0m-1.115   \u001b[0m | \u001b[0m92.62    \u001b[0m | \u001b[0m-2.0     \u001b[0m | \u001b[0m13.91    \u001b[0m | \u001b[0m1.0      \u001b[0m | \u001b[0m-2.0     \u001b[0m |\n",
      "Train loss: 0.36360683941559213\n",
      "Test loss: 1.1993605711807807\n",
      "| \u001b[0m53       \u001b[0m | \u001b[0m-1.199   \u001b[0m | \u001b[0m91.19    \u001b[0m | \u001b[0m-2.0     \u001b[0m | \u001b[0m26.19    \u001b[0m | \u001b[0m1.002    \u001b[0m | \u001b[0m-2.0     \u001b[0m |\n",
      "Train loss: 0.40860934253479986\n",
      "Test loss: 1.9741180948913097\n",
      "| \u001b[0m54       \u001b[0m | \u001b[0m-1.974   \u001b[0m | \u001b[0m87.22    \u001b[0m | \u001b[0m-2.0     \u001b[0m | \u001b[0m28.57    \u001b[0m | \u001b[0m1.0      \u001b[0m | \u001b[0m-2.0     \u001b[0m |\n",
      "Train loss: 0.4076346513097264\n",
      "Test loss: 1.9529706699152787\n",
      "| \u001b[0m55       \u001b[0m | \u001b[0m-1.953   \u001b[0m | \u001b[0m93.1     \u001b[0m | \u001b[0m-2.0     \u001b[0m | \u001b[0m26.87    \u001b[0m | \u001b[0m4.0      \u001b[0m | \u001b[0m-4.743   \u001b[0m |\n",
      "Train loss: 0.9742305381475268\n",
      "Test loss: 5.794697205225627\n",
      "| \u001b[0m56       \u001b[0m | \u001b[0m-5.795   \u001b[0m | \u001b[0m93.68    \u001b[0m | \u001b[0m-3.349   \u001b[0m | \u001b[0m9.57     \u001b[0m | \u001b[0m1.486    \u001b[0m | \u001b[0m-2.431   \u001b[0m |\n",
      "Train loss: 0.42408048285555244\n",
      "Test loss: 1.6179049114386241\n",
      "| \u001b[0m57       \u001b[0m | \u001b[0m-1.618   \u001b[0m | \u001b[0m91.65    \u001b[0m | \u001b[0m-2.0     \u001b[0m | \u001b[0m23.47    \u001b[0m | \u001b[0m4.0      \u001b[0m | \u001b[0m-2.0     \u001b[0m |\n",
      "Train loss: 0.4402026532066835\n",
      "Test loss: 1.0088282143697143\n",
      "| \u001b[0m58       \u001b[0m | \u001b[0m-1.009   \u001b[0m | \u001b[0m80.12    \u001b[0m | \u001b[0m-2.0     \u001b[0m | \u001b[0m18.91    \u001b[0m | \u001b[0m4.0      \u001b[0m | \u001b[0m-5.0     \u001b[0m |\n",
      "Train loss: 1.1866780189243522\n",
      "Test loss: 6.005738168954849\n",
      "| \u001b[0m59       \u001b[0m | \u001b[0m-6.006   \u001b[0m | \u001b[0m96.38    \u001b[0m | \u001b[0m-4.559   \u001b[0m | \u001b[0m26.59    \u001b[0m | \u001b[0m1.105    \u001b[0m | \u001b[0m-2.335   \u001b[0m |\n",
      "Train loss: 0.8786734332129158\n",
      "Test loss: 4.098707397778829\n",
      "| \u001b[0m60       \u001b[0m | \u001b[0m-4.099   \u001b[0m | \u001b[0m64.41    \u001b[0m | \u001b[0m-3.025   \u001b[0m | \u001b[0m63.73    \u001b[0m | \u001b[0m1.661    \u001b[0m | \u001b[0m-4.863   \u001b[0m |\n",
      "Train loss: 0.3939274480830677\n",
      "Test loss: 1.0114837568253279\n",
      "| \u001b[0m61       \u001b[0m | \u001b[0m-1.011   \u001b[0m | \u001b[0m67.18    \u001b[0m | \u001b[0m-2.0     \u001b[0m | \u001b[0m22.94    \u001b[0m | \u001b[0m1.0      \u001b[0m | \u001b[0m-5.0     \u001b[0m |\n",
      "Train loss: 0.4119217375519912\n",
      "Test loss: 1.5886043285330136\n",
      "| \u001b[0m62       \u001b[0m | \u001b[0m-1.589   \u001b[0m | \u001b[0m34.66    \u001b[0m | \u001b[0m-2.093   \u001b[0m | \u001b[0m38.05    \u001b[0m | \u001b[0m3.999    \u001b[0m | \u001b[0m-2.146   \u001b[0m |\n",
      "Train loss: 0.8776625497518359\n",
      "Test loss: 4.513782064119975\n",
      "| \u001b[0m63       \u001b[0m | \u001b[0m-4.514   \u001b[0m | \u001b[0m39.49    \u001b[0m | \u001b[0m-2.998   \u001b[0m | \u001b[0m38.62    \u001b[0m | \u001b[0m1.842    \u001b[0m | \u001b[0m-2.348   \u001b[0m |\n",
      "Train loss: 0.24967721504838886\n",
      "Test loss: 0.9006567591180404\n",
      "| \u001b[0m64       \u001b[0m | \u001b[0m-0.9007  \u001b[0m | \u001b[0m29.79    \u001b[0m | \u001b[0m-2.0     \u001b[0m | \u001b[0m37.49    \u001b[0m | \u001b[0m4.0      \u001b[0m | \u001b[0m-2.0     \u001b[0m |\n",
      "Train loss: 0.7619144114086757\n",
      "Test loss: 3.1166119376818338\n",
      "| \u001b[0m65       \u001b[0m | \u001b[0m-3.117   \u001b[0m | \u001b[0m31.34    \u001b[0m | \u001b[0m-2.736   \u001b[0m | \u001b[0m33.4     \u001b[0m | \u001b[0m3.527    \u001b[0m | \u001b[0m-2.474   \u001b[0m |\n",
      "Train loss: 0.3644908314627419\n",
      "Test loss: 2.228902588287989\n",
      "| \u001b[0m66       \u001b[0m | \u001b[0m-2.229   \u001b[0m | \u001b[0m30.92    \u001b[0m | \u001b[0m-2.0     \u001b[0m | \u001b[0m41.56    \u001b[0m | \u001b[0m4.0      \u001b[0m | \u001b[0m-2.0     \u001b[0m |\n",
      "Train loss: 0.3746154259739293\n",
      "Test loss: 1.8021843880414963\n",
      "| \u001b[0m67       \u001b[0m | \u001b[0m-1.802   \u001b[0m | \u001b[0m25.4     \u001b[0m | \u001b[0m-2.0     \u001b[0m | \u001b[0m38.27    \u001b[0m | \u001b[0m4.0      \u001b[0m | \u001b[0m-2.0     \u001b[0m |\n",
      "Train loss: 1.0932570493943687\n",
      "Test loss: 6.394622246424357\n",
      "| \u001b[0m68       \u001b[0m | \u001b[0m-6.395   \u001b[0m | \u001b[0m29.37    \u001b[0m | \u001b[0m-5.0     \u001b[0m | \u001b[0m38.45    \u001b[0m | \u001b[0m4.0      \u001b[0m | \u001b[0m-5.0     \u001b[0m |\n",
      "Train loss: 0.3310933659306249\n",
      "Test loss: 0.7473618021855751\n",
      "| \u001b[0m69       \u001b[0m | \u001b[0m-0.7474  \u001b[0m | \u001b[0m71.97    \u001b[0m | \u001b[0m-2.0     \u001b[0m | \u001b[0m24.49    \u001b[0m | \u001b[0m1.0      \u001b[0m | \u001b[0m-5.0     \u001b[0m |\n",
      "Train loss: 0.36880186512260826\n",
      "Test loss: 1.1375571265816689\n",
      "| \u001b[0m70       \u001b[0m | \u001b[0m-1.138   \u001b[0m | \u001b[0m23.75    \u001b[0m | \u001b[0m-2.0     \u001b[0m | \u001b[0m33.17    \u001b[0m | \u001b[0m4.0      \u001b[0m | \u001b[0m-2.0     \u001b[0m |\n",
      "Train loss: 0.3791240748722811\n",
      "Test loss: 1.4789681248366833\n",
      "| \u001b[0m71       \u001b[0m | \u001b[0m-1.479   \u001b[0m | \u001b[0m21.3     \u001b[0m | \u001b[0m-2.0     \u001b[0m | \u001b[0m35.35    \u001b[0m | \u001b[0m1.0      \u001b[0m | \u001b[0m-2.0     \u001b[0m |\n",
      "Train loss: 1.0331012659479637\n",
      "Test loss: 6.659599492947261\n",
      "| \u001b[0m72       \u001b[0m | \u001b[0m-6.66    \u001b[0m | \u001b[0m20.19    \u001b[0m | \u001b[0m-5.0     \u001b[0m | \u001b[0m33.15    \u001b[0m | \u001b[0m4.0      \u001b[0m | \u001b[0m-2.0     \u001b[0m |\n",
      "Train loss: 0.5052569545459354\n",
      "Test loss: 1.254363453015685\n",
      "| \u001b[0m73       \u001b[0m | \u001b[0m-1.254   \u001b[0m | \u001b[0m25.51    \u001b[0m | \u001b[0m-2.124   \u001b[0m | \u001b[0m32.03    \u001b[0m | \u001b[0m1.468    \u001b[0m | \u001b[0m-3.619   \u001b[0m |\n",
      "Train loss: 0.6197074376852125\n",
      "Test loss: 1.9804806920389335\n",
      "| \u001b[0m74       \u001b[0m | \u001b[0m-1.98    \u001b[0m | \u001b[0m25.31    \u001b[0m | \u001b[0m-2.491   \u001b[0m | \u001b[0m28.06    \u001b[0m | \u001b[0m2.465    \u001b[0m | \u001b[0m-2.053   \u001b[0m |\n",
      "Train loss: 0.9178947235986188\n",
      "Test loss: 4.547277723749478\n",
      "| \u001b[0m75       \u001b[0m | \u001b[0m-4.547   \u001b[0m | \u001b[0m25.69    \u001b[0m | \u001b[0m-3.147   \u001b[0m | \u001b[0m35.5     \u001b[0m | \u001b[0m1.89     \u001b[0m | \u001b[0m-2.337   \u001b[0m |\n",
      "Train loss: 0.5064510910998326\n",
      "Test loss: 0.8597872865696748\n",
      "| \u001b[0m76       \u001b[0m | \u001b[0m-0.8598  \u001b[0m | \u001b[0m80.35    \u001b[0m | \u001b[0m-2.0     \u001b[0m | \u001b[0m18.55    \u001b[0m | \u001b[0m1.744    \u001b[0m | \u001b[0m-2.174   \u001b[0m |\n",
      "Train loss: 0.4534118353716425\n",
      "Test loss: 0.9694468254844347\n",
      "| \u001b[0m77       \u001b[0m | \u001b[0m-0.9694  \u001b[0m | \u001b[0m92.41    \u001b[0m | \u001b[0m-2.0     \u001b[0m | \u001b[0m16.97    \u001b[0m | \u001b[0m1.0      \u001b[0m | \u001b[0m-2.0     \u001b[0m |\n",
      "Train loss: 0.4617664812296327\n",
      "Test loss: 1.169696155935526\n",
      "| \u001b[0m78       \u001b[0m | \u001b[0m-1.17    \u001b[0m | \u001b[0m77.97    \u001b[0m | \u001b[0m-2.0     \u001b[0m | \u001b[0m18.14    \u001b[0m | \u001b[0m4.0      \u001b[0m | \u001b[0m-2.205   \u001b[0m |\n",
      "Train loss: 0.46564004629790606\n",
      "Test loss: 1.4848891521493595\n",
      "| \u001b[0m79       \u001b[0m | \u001b[0m-1.485   \u001b[0m | \u001b[0m22.74    \u001b[0m | \u001b[0m-2.0     \u001b[0m | \u001b[0m30.84    \u001b[0m | \u001b[0m1.0      \u001b[0m | \u001b[0m-2.0     \u001b[0m |\n",
      "Train loss: 0.32411111326183417\n",
      "Test loss: 1.1912956566860278\n",
      "| \u001b[0m80       \u001b[0m | \u001b[0m-1.191   \u001b[0m | \u001b[0m20.4     \u001b[0m | \u001b[0m-2.0     \u001b[0m | \u001b[0m40.34    \u001b[0m | \u001b[0m1.0      \u001b[0m | \u001b[0m-2.0     \u001b[0m |\n",
      "Train loss: 0.33689093783598495\n",
      "Test loss: 0.7223709219445785\n",
      "| \u001b[0m81       \u001b[0m | \u001b[0m-0.7224  \u001b[0m | \u001b[0m23.88    \u001b[0m | \u001b[0m-2.128   \u001b[0m | \u001b[0m43.97    \u001b[0m | \u001b[0m2.242    \u001b[0m | \u001b[0m-2.245   \u001b[0m |\n",
      "Train loss: 0.46486216487765714\n",
      "Test loss: 0.9534091176465154\n",
      "| \u001b[0m82       \u001b[0m | \u001b[0m-0.9534  \u001b[0m | \u001b[0m19.76    \u001b[0m | \u001b[0m-2.357   \u001b[0m | \u001b[0m44.98    \u001b[0m | \u001b[0m1.415    \u001b[0m | \u001b[0m-2.374   \u001b[0m |\n",
      "Train loss: 1.0312158136181786\n",
      "Test loss: 6.089818100134532\n",
      "| \u001b[0m83       \u001b[0m | \u001b[0m-6.09    \u001b[0m | \u001b[0m20.99    \u001b[0m | \u001b[0m-4.976   \u001b[0m | \u001b[0m43.0     \u001b[0m | \u001b[0m3.736    \u001b[0m | \u001b[0m-3.588   \u001b[0m |\n",
      "Train loss: 0.33047050683180224\n",
      "Test loss: 0.7509678068260351\n",
      "| \u001b[0m84       \u001b[0m | \u001b[0m-0.751   \u001b[0m | \u001b[0m22.9     \u001b[0m | \u001b[0m-2.0     \u001b[0m | \u001b[0m47.28    \u001b[0m | \u001b[0m1.0      \u001b[0m | \u001b[0m-2.0     \u001b[0m |\n",
      "Train loss: 0.4183233142201159\n",
      "Test loss: 1.7739180053273838\n",
      "| \u001b[0m85       \u001b[0m | \u001b[0m-1.774   \u001b[0m | \u001b[0m26.9     \u001b[0m | \u001b[0m-2.0     \u001b[0m | \u001b[0m45.99    \u001b[0m | \u001b[0m1.0      \u001b[0m | \u001b[0m-2.0     \u001b[0m |\n",
      "Train loss: 0.3947703025706515\n",
      "Test loss: 1.7080239119629066\n",
      "| \u001b[0m86       \u001b[0m | \u001b[0m-1.708   \u001b[0m | \u001b[0m18.74    \u001b[0m | \u001b[0m-2.0     \u001b[0m | \u001b[0m48.98    \u001b[0m | \u001b[0m1.0      \u001b[0m | \u001b[0m-2.0     \u001b[0m |\n",
      "Train loss: 0.4103495560687136\n",
      "Test loss: 1.75734868273139\n",
      "| \u001b[0m87       \u001b[0m | \u001b[0m-1.757   \u001b[0m | \u001b[0m15.45    \u001b[0m | \u001b[0m-2.0     \u001b[0m | \u001b[0m43.81    \u001b[0m | \u001b[0m1.0      \u001b[0m | \u001b[0m-2.0     \u001b[0m |\n",
      "Train loss: 0.3606551924273623\n",
      "Test loss: 2.265893943607807\n",
      "| \u001b[0m88       \u001b[0m | \u001b[0m-2.266   \u001b[0m | \u001b[0m24.25    \u001b[0m | \u001b[0m-2.0     \u001b[0m | \u001b[0m49.74    \u001b[0m | \u001b[0m4.0      \u001b[0m | \u001b[0m-2.0     \u001b[0m |\n",
      "Train loss: 0.30738095335058263\n",
      "Test loss: 1.3894951554636161\n",
      "| \u001b[0m89       \u001b[0m | \u001b[0m-1.389   \u001b[0m | \u001b[0m25.46    \u001b[0m | \u001b[0m-2.0     \u001b[0m | \u001b[0m41.46    \u001b[0m | \u001b[0m1.0      \u001b[0m | \u001b[0m-2.0     \u001b[0m |\n",
      "Train loss: 0.37758080151586515\n",
      "Test loss: 2.141899893681208\n",
      "| \u001b[0m90       \u001b[0m | \u001b[0m-2.142   \u001b[0m | \u001b[0m15.84    \u001b[0m | \u001b[0m-2.0     \u001b[0m | \u001b[0m38.38    \u001b[0m | \u001b[0m1.0      \u001b[0m | \u001b[0m-2.0     \u001b[0m |\n",
      "Train loss: 0.8753371319255313\n",
      "Test loss: 4.197101041674614\n",
      "| \u001b[0m91       \u001b[0m | \u001b[0m-4.197   \u001b[0m | \u001b[0m13.17    \u001b[0m | \u001b[0m-2.92    \u001b[0m | \u001b[0m48.72    \u001b[0m | \u001b[0m2.648    \u001b[0m | \u001b[0m-4.785   \u001b[0m |\n",
      "Train loss: 0.41474685764468805\n",
      "Test loss: 1.16172469034791\n",
      "| \u001b[0m92       \u001b[0m | \u001b[0m-1.162   \u001b[0m | \u001b[0m1.0      \u001b[0m | \u001b[0m-2.0     \u001b[0m | \u001b[0m64.0     \u001b[0m | \u001b[0m1.0      \u001b[0m | \u001b[0m-5.0     \u001b[0m |\n",
      "Train loss: 1.002078957503309\n",
      "Test loss: 6.302190274000168\n",
      "| \u001b[0m93       \u001b[0m | \u001b[0m-6.302   \u001b[0m | \u001b[0m20.58    \u001b[0m | \u001b[0m-3.592   \u001b[0m | \u001b[0m54.57    \u001b[0m | \u001b[0m1.126    \u001b[0m | \u001b[0m-2.326   \u001b[0m |\n",
      "Train loss: 0.3660651516118968\n",
      "Test loss: 1.9093090519309044\n",
      "| \u001b[0m94       \u001b[0m | \u001b[0m-1.909   \u001b[0m | \u001b[0m30.06    \u001b[0m | \u001b[0m-2.0     \u001b[0m | \u001b[0m24.71    \u001b[0m | \u001b[0m1.0      \u001b[0m | \u001b[0m-5.0     \u001b[0m |\n",
      "Train loss: 0.4743247398905255\n",
      "Test loss: 1.259781885581712\n",
      "| \u001b[0m95       \u001b[0m | \u001b[0m-1.26    \u001b[0m | \u001b[0m25.57    \u001b[0m | \u001b[0m-2.0     \u001b[0m | \u001b[0m20.59    \u001b[0m | \u001b[0m1.0      \u001b[0m | \u001b[0m-5.0     \u001b[0m |\n",
      "Train loss: 0.9434776573970511\n",
      "Test loss: 5.808391451835632\n",
      "| \u001b[0m96       \u001b[0m | \u001b[0m-5.808   \u001b[0m | \u001b[0m29.02    \u001b[0m | \u001b[0m-3.77    \u001b[0m | \u001b[0m19.62    \u001b[0m | \u001b[0m2.91     \u001b[0m | \u001b[0m-2.364   \u001b[0m |\n",
      "Train loss: 0.3477553345539884\n",
      "Test loss: 0.98372073409458\n",
      "| \u001b[0m97       \u001b[0m | \u001b[0m-0.9837  \u001b[0m | \u001b[0m24.26    \u001b[0m | \u001b[0m-2.0     \u001b[0m | \u001b[0m30.29    \u001b[0m | \u001b[0m4.0      \u001b[0m | \u001b[0m-5.0     \u001b[0m |\n",
      "Train loss: 0.6678598422204723\n",
      "Test loss: 2.9393789718548455\n",
      "| \u001b[0m98       \u001b[0m | \u001b[0m-2.939   \u001b[0m | \u001b[0m22.85    \u001b[0m | \u001b[0m-2.508   \u001b[0m | \u001b[0m25.0     \u001b[0m | \u001b[0m1.608    \u001b[0m | \u001b[0m-4.586   \u001b[0m |\n",
      "Train loss: 0.6188894136229882\n",
      "Test loss: 1.812721511349082\n",
      "| \u001b[0m99       \u001b[0m | \u001b[0m-1.813   \u001b[0m | \u001b[0m23.03    \u001b[0m | \u001b[0m-2.312   \u001b[0m | \u001b[0m17.4     \u001b[0m | \u001b[0m1.38     \u001b[0m | \u001b[0m-4.247   \u001b[0m |\n",
      "Train loss: 0.9535793168721972\n",
      "Test loss: 5.253864179054896\n",
      "| \u001b[0m100      \u001b[0m | \u001b[0m-5.254   \u001b[0m | \u001b[0m21.08    \u001b[0m | \u001b[0m-3.452   \u001b[0m | \u001b[0m11.21    \u001b[0m | \u001b[0m2.222    \u001b[0m | \u001b[0m-4.668   \u001b[0m |\n",
      "Train loss: 0.3723879719304072\n",
      "Test loss: 1.3765052606662114\n",
      "| \u001b[0m101      \u001b[0m | \u001b[0m-1.377   \u001b[0m | \u001b[0m23.29    \u001b[0m | \u001b[0m-2.0     \u001b[0m | \u001b[0m45.81    \u001b[0m | \u001b[0m1.0      \u001b[0m | \u001b[0m-5.0     \u001b[0m |\n",
      "Train loss: 0.38987673904646086\n",
      "Test loss: 1.601313189913829\n",
      "| \u001b[0m102      \u001b[0m | \u001b[0m-1.601   \u001b[0m | \u001b[0m80.64    \u001b[0m | \u001b[0m-2.0     \u001b[0m | \u001b[0m32.33    \u001b[0m | \u001b[0m1.0      \u001b[0m | \u001b[0m-5.0     \u001b[0m |\n",
      "Train loss: 0.2704807229944178\n",
      "Test loss: 0.6317705710728964\n",
      "| \u001b[95m103      \u001b[0m | \u001b[95m-0.6318  \u001b[0m | \u001b[95m8.39     \u001b[0m | \u001b[95m-2.0     \u001b[0m | \u001b[95m39.5     \u001b[0m | \u001b[95m1.0      \u001b[0m | \u001b[95m-2.0     \u001b[0m |\n",
      "Train loss: 0.9096360492777249\n",
      "Test loss: 5.23088464140892\n",
      "| \u001b[0m104      \u001b[0m | \u001b[0m-5.231   \u001b[0m | \u001b[0m4.768    \u001b[0m | \u001b[0m-3.312   \u001b[0m | \u001b[0m38.75    \u001b[0m | \u001b[0m2.565    \u001b[0m | \u001b[0m-2.209   \u001b[0m |\n",
      "Train loss: 0.43119472159525835\n",
      "Test loss: 1.946069670220216\n",
      "| \u001b[0m105      \u001b[0m | \u001b[0m-1.946   \u001b[0m | \u001b[0m11.06    \u001b[0m | \u001b[0m-2.0     \u001b[0m | \u001b[0m40.58    \u001b[0m | \u001b[0m1.0      \u001b[0m | \u001b[0m-3.874   \u001b[0m |\n",
      "=====================================================================================\n",
      "{'target': -0.6317705710728964, 'params': {'batch_size': 8.389685273141586, 'learning_rate_log': -2.0, 'num_hidden_size': 39.501642471411316, 'num_layers': 1.0, 'weight_decay': -2.0}}\n"
     ]
    }
   ],
   "source": [
    "def train_model(data_loader, model, loss_function, optimizer):\n",
    "    num_batches = len(data_loader)\n",
    "    total_loss = 0\n",
    "    model.train()\n",
    "    \n",
    "    for X, y in data_loader:\n",
    "        output = model(X)\n",
    "        loss = loss_function(output, y)\n",
    "\n",
    "        optimizer.zero_grad()\n",
    "        loss.backward()\n",
    "        optimizer.step()\n",
    "\n",
    "        total_loss += loss.item()\n",
    "\n",
    "    avg_loss = total_loss / num_batches\n",
    "    print(f\"Train loss: {avg_loss}\")\n",
    "    return avg_loss\n",
    "\n",
    "def test_model(data_loader, model, loss_function):\n",
    "    \n",
    "    num_batches = len(data_loader)\n",
    "    total_loss = 0\n",
    "\n",
    "    model.eval()\n",
    "    with torch.no_grad():\n",
    "        for X, y in data_loader:\n",
    "            output = model(X)\n",
    "            total_loss += loss_function(output, y).item()\n",
    "\n",
    "    avg_loss = total_loss / num_batches\n",
    "    print(f\"Test loss: {avg_loss}\")\n",
    "    return avg_loss\n",
    "\n",
    "# Define the function to be optimized\n",
    "def evaluate_model(learning_rate_log, num_hidden_size, num_layers, weight_decay, batch_size):\n",
    "    learning_rate = 10 ** learning_rate_log\n",
    "    num_hidden_size = int(num_hidden_size)\n",
    "    num_layers = int(num_layers)\n",
    "    weight_decay = 10 ** weight_decay\n",
    "    batch_size = int(batch_size)\n",
    "\n",
    "    # Reinitialize the model with new parameters\n",
    "    model = ShallowRegressionLSTM(hidden_size=num_hidden_size, num_layers=num_layers)\n",
    "    loss_function = nn.MSELoss()\n",
    "    optimizer = torch.optim.Adam(model.parameters(), lr=learning_rate, weight_decay=weight_decay)\n",
    "    \n",
    "    # Train and test the model\n",
    "    train_model(train_loader, model, loss_function, optimizer)\n",
    "    test_loss = test_model(test_loader, model, loss_function)\n",
    "    \n",
    "    # Return the negative test loss because BayesianOptimization maximize the function\n",
    "    return -test_loss\n",
    "\n",
    "\n",
    "# Define the hyperparameters range\n",
    "hyperparameters_range = {\n",
    "    'learning_rate_log': (-5, -2),  # we optimize in log scale\n",
    "    'num_hidden_size': (1, 64),  # assuming 50 is a sensible upper limit\n",
    "    'num_layers': (2, 4),  # range of layers\n",
    "    'weight_decay': (-5, -2),  # weight decay in log scale\n",
    "    'batch_size': (1, len(df_train))\n",
    "}\n",
    "# Initialize the optimizer\n",
    "bayesian_optimizer = BayesianOptimization(\n",
    "    f=evaluate_model,\n",
    "    pbounds=hyperparameters_range,\n",
    "    verbose=2,\n",
    "    random_state=1\n",
    ")\n",
    "\n",
    "# Maximize the evaluation function\n",
    "bayesian_optimizer.maximize(init_points=5, n_iter=100)\n",
    "\n",
    "# Print the best parameters\n",
    "print(bayesian_optimizer.max)\n",
    "\n",
    "best_params = bayesian_optimizer.max['params']\n",
    "\n",
    "# Re-calculate the learning rate from its logarithm\n",
    "best_params['learning_rate_log'] = 10 ** best_params['learning_rate_log']\n",
    "\n",
    "# Ensure hidden_size and num_layers are integers\n",
    "best_params['num_hidden_size'] = int(round(best_params['num_hidden_size']))\n",
    "best_params['num_layers'] = int(round(best_params['num_layers']))\n",
    "\n",
    "# Train a new model with the best parameters\n",
    "model = ShallowRegressionLSTM(hidden_size=best_params['num_hidden_size'], num_layers=best_params['num_layers'])\n",
    "loss_function = nn.MSELoss()\n",
    "optimizer = torch.optim.Adam(model.parameters(), best_params['learning_rate_log'])"
   ]
  },
  {
   "cell_type": "code",
   "execution_count": 19,
   "metadata": {},
   "outputs": [
    {
     "name": "stdout",
     "output_type": "stream",
     "text": [
      "Untrained test\n",
      "--------\n",
      "Test loss: 5.675532301266988\n",
      "\n",
      "Epoch 0\n",
      "---------\n",
      "Train loss: 0.33454865333309547\n",
      "Test loss: 0.9358710683882236\n",
      "\n",
      "Epoch 1\n",
      "---------\n",
      "Train loss: 0.2090824622868535\n",
      "Test loss: 1.4455509303758542\n",
      "\n",
      "Epoch 2\n",
      "---------\n",
      "Train loss: 0.14185913677667142\n",
      "Test loss: 1.1227125364045303\n",
      "\n",
      "Epoch 3\n",
      "---------\n",
      "Train loss: 0.13467906301721577\n",
      "Test loss: 0.5936806909739971\n",
      "\n",
      "Epoch 4\n",
      "---------\n",
      "Train loss: 0.10098440851937551\n",
      "Test loss: 0.6597565139333407\n",
      "\n",
      "Epoch 5\n",
      "---------\n",
      "Train loss: 0.10572570948735685\n",
      "Test loss: 0.4322720095515251\n",
      "\n",
      "Epoch 6\n",
      "---------\n",
      "Train loss: 0.09098135460187001\n",
      "Test loss: 0.5132531126340231\n",
      "\n",
      "Epoch 7\n",
      "---------\n",
      "Train loss: 0.08649712298505914\n",
      "Test loss: 0.7881554116805395\n",
      "\n",
      "Epoch 8\n",
      "---------\n",
      "Train loss: 0.09137575713877497\n",
      "Test loss: 0.4290599711239338\n",
      "\n",
      "Epoch 9\n",
      "---------\n",
      "Train loss: 0.09552095436516243\n",
      "Test loss: 0.32599091654022533\n",
      "\n",
      "Epoch 10\n",
      "---------\n",
      "Train loss: 0.07924292931912115\n",
      "Test loss: 0.7487775832414627\n",
      "\n",
      "Epoch 11\n",
      "---------\n",
      "Train loss: 0.10376878432627465\n",
      "Test loss: 0.6003261071940263\n",
      "\n",
      "Epoch 12\n",
      "---------\n",
      "Train loss: 0.08268821824065133\n",
      "Test loss: 0.4281219889720281\n",
      "\n",
      "Epoch 13\n",
      "---------\n",
      "Train loss: 0.07684555359033717\n",
      "Test loss: 0.3294384367763996\n",
      "\n",
      "Epoch 14\n",
      "---------\n",
      "Train loss: 0.08057813638053532\n",
      "Test loss: 0.5689564136167368\n",
      "\n",
      "Epoch 15\n",
      "---------\n",
      "Train loss: 0.10472086311091443\n",
      "Test loss: 0.6681363297005495\n",
      "\n",
      "Epoch 16\n",
      "---------\n",
      "Train loss: 0.08187707467004657\n",
      "Test loss: 0.7955840316911539\n",
      "\n",
      "Epoch 17\n",
      "---------\n",
      "Train loss: 0.07759044915311844\n",
      "Test loss: 0.5544988295684258\n",
      "\n",
      "Epoch 18\n",
      "---------\n",
      "Train loss: 0.08129868907161762\n",
      "Test loss: 0.46599188695351285\n",
      "\n",
      "Epoch 19\n",
      "---------\n",
      "Train loss: 0.07284645922482014\n",
      "Test loss: 0.5133615601807833\n",
      "\n",
      "Epoch 20\n",
      "---------\n",
      "Train loss: 0.0776826313419922\n",
      "Test loss: 0.34389282142122585\n",
      "\n",
      "Epoch 21\n",
      "---------\n",
      "Train loss: 0.0768944098664498\n",
      "Test loss: 0.3822339816639821\n",
      "\n",
      "Epoch 22\n",
      "---------\n",
      "Train loss: 0.07482937519199441\n",
      "Test loss: 0.3169029721369346\n",
      "\n",
      "Epoch 23\n",
      "---------\n",
      "Train loss: 0.08087321589826732\n",
      "Test loss: 0.33367321640253067\n",
      "\n",
      "Epoch 24\n",
      "---------\n",
      "Train loss: 0.08038466711327233\n",
      "Test loss: 0.3310590696831544\n",
      "\n",
      "Epoch 25\n",
      "---------\n",
      "Train loss: 0.07457000745863125\n",
      "Test loss: 0.4330257164935271\n",
      "\n",
      "Epoch 26\n",
      "---------\n",
      "Train loss: 0.07117074359710976\n",
      "Test loss: 0.599295649677515\n",
      "\n",
      "Epoch 27\n",
      "---------\n",
      "Train loss: 0.07941459929822264\n",
      "Test loss: 0.3106992586205403\n",
      "\n",
      "Epoch 28\n",
      "---------\n",
      "Train loss: 0.08445326491837969\n",
      "Test loss: 0.4901563183714946\n",
      "\n",
      "Epoch 29\n",
      "---------\n",
      "Train loss: 0.07499208452390048\n",
      "Test loss: 0.38295443914830685\n",
      "\n",
      "Epoch 30\n",
      "---------\n",
      "Train loss: 0.07413134727362744\n",
      "Test loss: 0.43936928920447826\n",
      "\n",
      "Epoch 31\n",
      "---------\n",
      "Train loss: 0.082390334885064\n",
      "Test loss: 0.8040574590365092\n",
      "\n",
      "Epoch 32\n",
      "---------\n",
      "Train loss: 0.0866786458818997\n",
      "Test loss: 0.675007072587808\n",
      "\n",
      "Epoch 33\n",
      "---------\n",
      "Train loss: 0.07554567372111755\n",
      "Test loss: 0.4563864450901747\n",
      "\n",
      "Epoch 34\n",
      "---------\n",
      "Train loss: 0.06907060929586657\n",
      "Test loss: 0.4217485263943672\n",
      "\n",
      "Epoch 35\n",
      "---------\n",
      "Train loss: 0.07236202590079424\n",
      "Test loss: 0.3934250461558501\n",
      "\n",
      "Epoch 36\n",
      "---------\n",
      "Train loss: 0.07433982065885102\n",
      "Test loss: 0.6022090545545021\n",
      "\n",
      "Epoch 37\n",
      "---------\n",
      "Train loss: 0.08451790222898126\n",
      "Test loss: 0.6862806839247545\n",
      "\n",
      "Epoch 38\n",
      "---------\n",
      "Train loss: 0.07254353816293783\n",
      "Test loss: 0.3781137348463138\n",
      "\n",
      "Epoch 39\n",
      "---------\n",
      "Train loss: 0.07601635592574305\n",
      "Test loss: 0.39956032919387025\n",
      "\n",
      "Epoch 40\n",
      "---------\n",
      "Train loss: 0.07335628925923358\n",
      "Test loss: 0.4006856009364128\n",
      "\n",
      "Epoch 41\n",
      "---------\n",
      "Train loss: 0.06448716517676271\n",
      "Test loss: 0.5955687587459882\n",
      "\n",
      "Epoch 42\n",
      "---------\n",
      "Train loss: 0.08038677808174209\n",
      "Test loss: 0.8210157677531242\n",
      "\n",
      "Epoch 43\n",
      "---------\n",
      "Train loss: 0.08869523839471308\n",
      "Test loss: 0.7979085880021254\n",
      "\n",
      "Epoch 44\n",
      "---------\n",
      "Train loss: 0.09181373717414366\n",
      "Test loss: 0.5538539849221706\n",
      "\n",
      "Epoch 45\n",
      "---------\n",
      "Train loss: 0.07729336661538361\n",
      "Test loss: 0.48723462658623856\n",
      "\n",
      "Epoch 46\n",
      "---------\n",
      "Train loss: 0.07516913648391524\n",
      "Test loss: 0.5742630384241542\n",
      "\n",
      "Epoch 47\n",
      "---------\n",
      "Train loss: 0.07481759775278939\n",
      "Test loss: 0.4485325322796901\n",
      "\n",
      "Epoch 48\n",
      "---------\n",
      "Train loss: 0.07020431183077194\n",
      "Test loss: 0.5686581948151191\n",
      "\n",
      "Epoch 49\n",
      "---------\n",
      "Train loss: 0.07547643883908922\n",
      "Test loss: 0.6652312371879816\n",
      "\n",
      "Epoch 50\n",
      "---------\n",
      "Train loss: 0.07707481855853789\n",
      "Test loss: 0.5803523982564608\n",
      "\n",
      "Epoch 51\n",
      "---------\n",
      "Train loss: 0.0669052829628502\n",
      "Test loss: 0.4935569955656926\n",
      "\n",
      "Epoch 52\n",
      "---------\n",
      "Train loss: 0.08042663612679855\n",
      "Test loss: 0.4455252594004075\n",
      "\n",
      "Epoch 53\n",
      "---------\n",
      "Train loss: 0.07055761440455713\n",
      "Test loss: 0.5139099151516954\n",
      "\n",
      "Epoch 54\n",
      "---------\n",
      "Train loss: 0.061370685388258586\n",
      "Test loss: 0.6433833601574103\n",
      "\n",
      "Epoch 55\n",
      "---------\n",
      "Train loss: 0.07832938266565671\n",
      "Test loss: 0.4896615172425906\n",
      "\n",
      "Epoch 56\n",
      "---------\n",
      "Train loss: 0.069555761355504\n",
      "Test loss: 0.5186322964727879\n",
      "\n",
      "Epoch 57\n",
      "---------\n",
      "Train loss: 0.06728066200692509\n",
      "Test loss: 0.5970322067538897\n",
      "\n",
      "Epoch 58\n",
      "---------\n",
      "Train loss: 0.07576025109360549\n",
      "Test loss: 0.516558226197958\n",
      "\n",
      "Epoch 59\n",
      "---------\n",
      "Train loss: 0.0695146701874438\n",
      "Test loss: 0.5268092037489017\n",
      "\n",
      "Epoch 60\n",
      "---------\n",
      "Train loss: 0.07170609291642904\n",
      "Test loss: 0.5288964553425709\n",
      "\n",
      "Epoch 61\n",
      "---------\n",
      "Train loss: 0.06553008397286003\n",
      "Test loss: 0.4823009129613638\n",
      "\n",
      "Epoch 62\n",
      "---------\n",
      "Train loss: 0.06509661707221656\n",
      "Test loss: 0.6867419928312302\n",
      "\n",
      "Epoch 63\n",
      "---------\n",
      "Train loss: 0.0720894978054472\n",
      "Test loss: 0.4512111656367779\n",
      "\n",
      "Epoch 64\n",
      "---------\n",
      "Train loss: 0.06349129086309993\n",
      "Test loss: 0.6068482957780361\n",
      "\n",
      "Epoch 65\n",
      "---------\n",
      "Train loss: 0.06612367040125301\n",
      "Test loss: 0.7580982310076555\n",
      "\n",
      "Epoch 66\n",
      "---------\n",
      "Train loss: 0.07199845967399007\n",
      "Test loss: 0.4837833071748416\n",
      "\n",
      "Epoch 67\n",
      "---------\n",
      "Train loss: 0.06296628602855914\n",
      "Test loss: 0.41106359163920086\n",
      "\n",
      "Epoch 68\n",
      "---------\n",
      "Train loss: 0.06220371220764276\n",
      "Test loss: 0.691035178800424\n",
      "\n",
      "Epoch 69\n",
      "---------\n",
      "Train loss: 0.07134773056148677\n",
      "Test loss: 0.5278053705890974\n",
      "\n",
      "Epoch 70\n",
      "---------\n",
      "Train loss: 0.06619221826612547\n",
      "Test loss: 0.5060672828306755\n",
      "\n",
      "Epoch 71\n",
      "---------\n",
      "Train loss: 0.07039073628146907\n",
      "Test loss: 0.61370949447155\n",
      "\n",
      "Epoch 72\n",
      "---------\n",
      "Train loss: 0.07647318102897623\n",
      "Test loss: 0.44453720065454644\n",
      "\n",
      "Epoch 73\n",
      "---------\n",
      "Train loss: 0.06186097059902307\n",
      "Test loss: 0.521019900838534\n",
      "\n",
      "Epoch 74\n",
      "---------\n",
      "Train loss: 0.06501587797459718\n",
      "Test loss: 0.460267661139369\n",
      "\n",
      "Epoch 75\n",
      "---------\n",
      "Train loss: 0.06213170349144855\n",
      "Test loss: 0.43588303464154404\n",
      "\n",
      "Epoch 76\n",
      "---------\n",
      "Train loss: 0.06861163217675041\n",
      "Test loss: 0.5498877031107744\n",
      "\n",
      "Epoch 77\n",
      "---------\n",
      "Train loss: 0.06708226233997659\n",
      "Test loss: 0.5542126639435688\n",
      "\n",
      "Epoch 78\n",
      "---------\n",
      "Train loss: 0.07275009901590042\n",
      "Test loss: 0.4622019827365875\n",
      "\n",
      "Epoch 79\n",
      "---------\n",
      "Train loss: 0.060641530630606656\n",
      "Test loss: 0.4244837015867233\n",
      "\n",
      "Epoch 80\n",
      "---------\n",
      "Train loss: 0.05763980746269226\n",
      "Test loss: 0.5261423097302517\n",
      "\n",
      "Epoch 81\n",
      "---------\n",
      "Train loss: 0.05997946348066467\n",
      "Test loss: 0.39018642033139866\n",
      "\n",
      "Epoch 82\n",
      "---------\n",
      "Train loss: 0.06328985846374889\n",
      "Test loss: 0.4259754891196887\n",
      "\n",
      "Epoch 83\n",
      "---------\n",
      "Train loss: 0.0679060222983763\n",
      "Test loss: 0.3416869882494211\n",
      "\n",
      "Epoch 84\n",
      "---------\n",
      "Train loss: 0.0675147215433016\n",
      "Test loss: 0.5168443818887075\n",
      "\n",
      "Epoch 85\n",
      "---------\n",
      "Train loss: 0.06211464130870268\n",
      "Test loss: 0.5898768752813339\n",
      "\n",
      "Epoch 86\n",
      "---------\n",
      "Train loss: 0.06643524190184434\n",
      "Test loss: 0.5149435736238956\n",
      "\n",
      "Epoch 87\n",
      "---------\n",
      "Train loss: 0.06153537174435081\n",
      "Test loss: 0.377123959052066\n",
      "\n",
      "Epoch 88\n",
      "---------\n",
      "Train loss: 0.0630161774822989\n",
      "Test loss: 0.5047393664717674\n",
      "\n",
      "Epoch 89\n",
      "---------\n",
      "Train loss: 0.05934367789509329\n",
      "Test loss: 0.40372683852910995\n",
      "\n",
      "Epoch 90\n",
      "---------\n",
      "Train loss: 0.07017320040865122\n",
      "Test loss: 0.36943530493105453\n",
      "\n",
      "Epoch 91\n",
      "---------\n",
      "Train loss: 0.06609980144059739\n",
      "Test loss: 0.4035262080530326\n",
      "\n",
      "Epoch 92\n",
      "---------\n",
      "Train loss: 0.06384571026570189\n",
      "Test loss: 0.40083717554807663\n",
      "\n",
      "Epoch 93\n",
      "---------\n",
      "Train loss: 0.06203136935427382\n",
      "Test loss: 0.5540899193535248\n",
      "\n",
      "Epoch 94\n",
      "---------\n",
      "Train loss: 0.068859694390306\n",
      "Test loss: 0.6578071924547354\n",
      "\n",
      "Epoch 95\n",
      "---------\n",
      "Train loss: 0.07171311467332211\n",
      "Test loss: 0.5140168108046055\n",
      "\n",
      "Epoch 96\n",
      "---------\n",
      "Train loss: 0.06127721283937226\n",
      "Test loss: 0.3659276080628236\n",
      "\n",
      "Epoch 97\n",
      "---------\n",
      "Train loss: 0.0625376977353684\n",
      "Test loss: 0.4246323863044381\n",
      "\n",
      "Epoch 98\n",
      "---------\n",
      "Train loss: 0.05644121318048722\n",
      "Test loss: 0.45830944180488586\n",
      "\n",
      "Epoch 99\n",
      "---------\n",
      "Train loss: 0.05927274736412171\n",
      "Test loss: 0.513628205905358\n",
      "\n",
      "Epoch 100\n",
      "---------\n",
      "Train loss: 0.06075398829715276\n",
      "Test loss: 0.3684005963926514\n",
      "\n",
      "Epoch 101\n",
      "---------\n",
      "Train loss: 0.06102117825601552\n",
      "Test loss: 0.37558024128278095\n",
      "\n",
      "Epoch 102\n",
      "---------\n",
      "Train loss: 0.057234593898347404\n",
      "Test loss: 0.3740888486305873\n",
      "\n",
      "Epoch 103\n",
      "---------\n",
      "Train loss: 0.057413158906825086\n",
      "Test loss: 0.378425695002079\n",
      "\n",
      "Epoch 104\n",
      "---------\n",
      "Train loss: 0.058815703021733695\n",
      "Test loss: 0.3588079822560151\n",
      "\n",
      "Epoch 105\n",
      "---------\n",
      "Train loss: 0.06126303294346341\n",
      "Test loss: 0.3726242749641339\n",
      "\n",
      "Epoch 106\n",
      "---------\n",
      "Train loss: 0.057848390305062405\n",
      "Test loss: 0.5059917817513148\n",
      "\n",
      "Epoch 107\n",
      "---------\n",
      "Train loss: 0.057211128554332094\n",
      "Test loss: 0.4158715736120939\n",
      "\n",
      "Epoch 108\n",
      "---------\n",
      "Train loss: 0.05181723824274298\n",
      "Test loss: 0.46080952137708664\n",
      "\n",
      "Epoch 109\n",
      "---------\n",
      "Train loss: 0.06498839138579127\n",
      "Test loss: 0.4079795330762863\n",
      "\n",
      "Epoch 110\n",
      "---------\n",
      "Train loss: 0.05813979229109513\n",
      "Test loss: 0.3859196783353885\n",
      "\n",
      "Epoch 111\n",
      "---------\n",
      "Train loss: 0.060511710103349506\n",
      "Test loss: 0.35651083414753276\n",
      "\n",
      "Epoch 112\n",
      "---------\n",
      "Train loss: 0.05565692781709839\n",
      "Test loss: 0.4338433872908354\n",
      "\n",
      "Epoch 113\n",
      "---------\n",
      "Train loss: 0.055410290527081976\n",
      "Test loss: 0.3957850889613231\n",
      "\n",
      "Epoch 114\n",
      "---------\n",
      "Train loss: 0.0599036541597515\n",
      "Test loss: 0.5964334110418955\n",
      "\n",
      "Epoch 115\n",
      "---------\n",
      "Train loss: 0.06628970060547865\n",
      "Test loss: 0.38287222012877464\n",
      "\n",
      "Epoch 116\n",
      "---------\n",
      "Train loss: 0.053898466939761025\n",
      "Test loss: 0.376965028544267\n",
      "\n",
      "Epoch 117\n",
      "---------\n",
      "Train loss: 0.05405596856380234\n",
      "Test loss: 0.5213809460401535\n",
      "\n",
      "Epoch 118\n",
      "---------\n",
      "Train loss: 0.052770862270876566\n",
      "Test loss: 0.33781620177129906\n",
      "\n",
      "Epoch 119\n",
      "---------\n",
      "Train loss: 0.060293992616336896\n",
      "Test loss: 0.468953775241971\n",
      "\n",
      "Epoch 120\n",
      "---------\n",
      "Train loss: 0.06157951134986974\n",
      "Test loss: 0.38830901806553203\n",
      "\n",
      "Epoch 121\n",
      "---------\n",
      "Train loss: 0.05688008330321896\n",
      "Test loss: 0.4682336486876011\n",
      "\n",
      "Epoch 122\n",
      "---------\n",
      "Train loss: 0.0581169738131418\n",
      "Test loss: 0.4445079391201337\n",
      "\n",
      "Epoch 123\n",
      "---------\n",
      "Train loss: 0.052772419810345444\n",
      "Test loss: 0.4160943639775117\n",
      "\n",
      "Epoch 124\n",
      "---------\n",
      "Train loss: 0.055479115686958305\n",
      "Test loss: 0.36177236307412386\n",
      "\n",
      "Epoch 125\n",
      "---------\n",
      "Train loss: 0.05078570732242755\n",
      "Test loss: 0.4205484812458356\n",
      "\n",
      "Epoch 126\n",
      "---------\n",
      "Train loss: 0.05827674057611541\n",
      "Test loss: 0.4247727443774541\n",
      "\n",
      "Epoch 127\n",
      "---------\n",
      "Train loss: 0.05004706218008052\n",
      "Test loss: 0.4138265574971835\n",
      "\n",
      "Epoch 128\n",
      "---------\n",
      "Train loss: 0.05461058459508963\n",
      "Test loss: 0.38677408546209335\n",
      "\n",
      "Epoch 129\n",
      "---------\n",
      "Train loss: 0.04847057682864771\n",
      "Test loss: 0.4006728654106458\n",
      "\n",
      "Hidden SİZE XD 40\n"
     ]
    },
    {
     "data": {
      "image/png": "[encoded data removed]",
      "text/plain": [
       "<Figure size 1000x500 with 1 Axes>"
      ]
     },
     "metadata": {},
     "output_type": "display_data"
    },
    {
     "name": "stdout",
     "output_type": "stream",
     "text": [
      "            lead1  Model forecast\n",
      "Month                            \n",
      "1949-01-01  118.0      123.456642\n",
      "1949-02-01  132.0      129.292450\n",
      "1949-03-01  129.0      140.564178\n",
      "1949-04-01  121.0      132.863754\n",
      "1949-05-01  135.0      129.131927\n",
      "...           ...             ...\n",
      "1960-07-01  606.0      564.645020\n",
      "1960-08-01  508.0      532.439941\n",
      "1960-09-01  461.0      400.857788\n",
      "1960-10-01  390.0      404.948303\n",
      "1960-11-01  432.0      344.282410\n",
      "\n",
      "[144 rows x 2 columns]\n"
     ]
    },
    {
     "data": {
      "application/vnd.plotly.v1+json": {
       "config": {
        "plotlyServerURL": "https://plot.ly"
       },
       "data": [
        {
         "hovertemplate": "variable=lead1<br>Date=%{x}<br>Air Passengers=%{y}<extra></extra>",
         "legendgroup": "lead1",
         "line": {
          "color": "#636efa",
          "dash": "solid"
         },
         "marker": {
          "symbol": "circle"
         },
         "mode": "lines",
         "name": "lead1",
         "orientation": "v",
         "showlegend": true,
         "type": "scatter",
         "x": [
          "1949-01-01T00:00:00",
          "1949-02-01T00:00:00",
          "1949-03-01T00:00:00",
          "1949-04-01T00:00:00",
          "1949-05-01T00:00:00",
          "1949-06-01T00:00:00",
          "1949-07-01T00:00:00",
          "1949-08-01T00:00:00",
          "1949-09-01T00:00:00",
          "1949-10-01T00:00:00",
          "1949-11-01T00:00:00",
          "1949-12-01T00:00:00",
          "1950-01-01T00:00:00",
          "1950-02-01T00:00:00",
          "1950-03-01T00:00:00",
          "1950-04-01T00:00:00",
          "1950-05-01T00:00:00",
          "1950-06-01T00:00:00",
          "1950-07-01T00:00:00",
          "1950-08-01T00:00:00",
          "1950-09-01T00:00:00",
          "1950-10-01T00:00:00",
          "1950-11-01T00:00:00",
          "1950-12-01T00:00:00",
          "1951-01-01T00:00:00",
          "1951-02-01T00:00:00",
          "1951-03-01T00:00:00",
          "1951-04-01T00:00:00",
          "1951-05-01T00:00:00",
          "1951-06-01T00:00:00",
          "1951-07-01T00:00:00",
          "1951-08-01T00:00:00",
          "1951-09-01T00:00:00",
          "1951-10-01T00:00:00",
          "1951-11-01T00:00:00",
          "1951-12-01T00:00:00",
          "1952-01-01T00:00:00",
          "1952-02-01T00:00:00",
          "1952-03-01T00:00:00",
          "1952-04-01T00:00:00",
          "1952-05-01T00:00:00",
          "1952-06-01T00:00:00",
          "1952-07-01T00:00:00",
          "1952-08-01T00:00:00",
          "1952-09-01T00:00:00",
          "1952-10-01T00:00:00",
          "1952-11-01T00:00:00",
          "1952-12-01T00:00:00",
          "1953-01-01T00:00:00",
          "1953-02-01T00:00:00",
          "1953-03-01T00:00:00",
          "1953-04-01T00:00:00",
          "1953-05-01T00:00:00",
          "1953-06-01T00:00:00",
          "1953-07-01T00:00:00",
          "1953-08-01T00:00:00",
          "1953-09-01T00:00:00",
          "1953-10-01T00:00:00",
          "1953-11-01T00:00:00",
          "1953-12-01T00:00:00",
          "1954-01-01T00:00:00",
          "1954-02-01T00:00:00",
          "1954-03-01T00:00:00",
          "1954-04-01T00:00:00",
          "1954-05-01T00:00:00",
          "1954-06-01T00:00:00",
          "1954-07-01T00:00:00",
          "1954-08-01T00:00:00",
          "1954-09-01T00:00:00",
          "1954-10-01T00:00:00",
          "1954-11-01T00:00:00",
          "1954-12-01T00:00:00",
          "1955-01-01T00:00:00",
          "1955-02-01T00:00:00",
          "1955-03-01T00:00:00",
          "1955-04-01T00:00:00",
          "1955-05-01T00:00:00",
          "1955-06-01T00:00:00",
          "1955-07-01T00:00:00",
          "1955-08-01T00:00:00",
          "1955-09-01T00:00:00",
          "1955-10-01T00:00:00",
          "1955-11-01T00:00:00",
          "1955-12-01T00:00:00",
          "1956-01-01T00:00:00",
          "1956-02-01T00:00:00",
          "1956-03-01T00:00:00",
          "1956-04-01T00:00:00",
          "1956-05-01T00:00:00",
          "1956-06-01T00:00:00",
          "1956-07-01T00:00:00",
          "1956-08-01T00:00:00",
          "1956-09-01T00:00:00",
          "1956-10-01T00:00:00",
          "1956-11-01T00:00:00",
          "1956-12-01T00:00:00",
          "1957-01-01T00:00:00",
          "1957-02-01T00:00:00",
          "1957-03-01T00:00:00",
          "1957-04-01T00:00:00",
          "1957-05-01T00:00:00",
          "1957-06-01T00:00:00",
          "1957-07-01T00:00:00",
          "1957-08-01T00:00:00",
          "1957-09-01T00:00:00",
          "1957-10-01T00:00:00",
          "1957-11-01T00:00:00",
          "1957-12-01T00:00:00",
          "1958-01-01T00:00:00",
          "1958-01-01T00:00:00",
          "1958-02-01T00:00:00",
          "1958-03-01T00:00:00",
          "1958-04-01T00:00:00",
          "1958-05-01T00:00:00",
          "1958-06-01T00:00:00",
          "1958-07-01T00:00:00",
          "1958-08-01T00:00:00",
          "1958-09-01T00:00:00",
          "1958-10-01T00:00:00",
          "1958-11-01T00:00:00",
          "1958-12-01T00:00:00",
          "1959-01-01T00:00:00",
          "1959-02-01T00:00:00",
          "1959-03-01T00:00:00",
          "1959-04-01T00:00:00",
          "1959-05-01T00:00:00",
          "1959-06-01T00:00:00",
          "1959-07-01T00:00:00",
          "1959-08-01T00:00:00",
          "1959-09-01T00:00:00",
          "1959-10-01T00:00:00",
          "1959-11-01T00:00:00",
          "1959-12-01T00:00:00",
          "1960-01-01T00:00:00",
          "1960-02-01T00:00:00",
          "1960-03-01T00:00:00",
          "1960-04-01T00:00:00",
          "1960-05-01T00:00:00",
          "1960-06-01T00:00:00",
          "1960-07-01T00:00:00",
          "1960-08-01T00:00:00",
          "1960-09-01T00:00:00",
          "1960-10-01T00:00:00",
          "1960-11-01T00:00:00"
         ],
         "xaxis": "x",
         "y": [
          118,
          132,
          129,
          121,
          135,
          148,
          148,
          136,
          119,
          104,
          118,
          115,
          126,
          141,
          135,
          125,
          149,
          170,
          170,
          158,
          133,
          114,
          140,
          145,
          150,
          178,
          163,
          172,
          178,
          199,
          199,
          184,
          162,
          146,
          166,
          171,
          180,
          193,
          181,
          183,
          218,
          230,
          242,
          209,
          191,
          172,
          194,
          196,
          196,
          236,
          235,
          229,
          243,
          264,
          272,
          237,
          211,
          180,
          201,
          204,
          188,
          235,
          227,
          234,
          264,
          302,
          293,
          259,
          229,
          203,
          229,
          242,
          233,
          267,
          269,
          270,
          315,
          364,
          347,
          312,
          274,
          237,
          278,
          284,
          277,
          317,
          313,
          318,
          374,
          413,
          405,
          355,
          306,
          271,
          306,
          315,
          301,
          356,
          348,
          355,
          422,
          465,
          467,
          404,
          347,
          305,
          336,
          340,
          318,
          318,
          362,
          348,
          363,
          435,
          491,
          505,
          404,
          359,
          310,
          337,
          360,
          342,
          406,
          396,
          420,
          472,
          548,
          559,
          463,
          407,
          362,
          405,
          417,
          391,
          419,
          461,
          472,
          535,
          622,
          606,
          508,
          461,
          390,
          432
         ],
         "yaxis": "y"
        },
        {
         "hovertemplate": "variable=Model forecast<br>Date=%{x}<br>Air Passengers=%{y}<extra></extra>",
         "legendgroup": "Model forecast",
         "line": {
          "color": "#EF553B",
          "dash": "solid"
         },
         "marker": {
          "symbol": "circle"
         },
         "mode": "lines",
         "name": "Model forecast",
         "orientation": "v",
         "showlegend": true,
         "type": "scatter",
         "x": [
          "1949-01-01T00:00:00",
          "1949-02-01T00:00:00",
          "1949-03-01T00:00:00",
          "1949-04-01T00:00:00",
          "1949-05-01T00:00:00",
          "1949-06-01T00:00:00",
          "1949-07-01T00:00:00",
          "1949-08-01T00:00:00",
          "1949-09-01T00:00:00",
          "1949-10-01T00:00:00",
          "1949-11-01T00:00:00",
          "1949-12-01T00:00:00",
          "1950-01-01T00:00:00",
          "1950-02-01T00:00:00",
          "1950-03-01T00:00:00",
          "1950-04-01T00:00:00",
          "1950-05-01T00:00:00",
          "1950-06-01T00:00:00",
          "1950-07-01T00:00:00",
          "1950-08-01T00:00:00",
          "1950-09-01T00:00:00",
          "1950-10-01T00:00:00",
          "1950-11-01T00:00:00",
          "1950-12-01T00:00:00",
          "1951-01-01T00:00:00",
          "1951-02-01T00:00:00",
          "1951-03-01T00:00:00",
          "1951-04-01T00:00:00",
          "1951-05-01T00:00:00",
          "1951-06-01T00:00:00",
          "1951-07-01T00:00:00",
          "1951-08-01T00:00:00",
          "1951-09-01T00:00:00",
          "1951-10-01T00:00:00",
          "1951-11-01T00:00:00",
          "1951-12-01T00:00:00",
          "1952-01-01T00:00:00",
          "1952-02-01T00:00:00",
          "1952-03-01T00:00:00",
          "1952-04-01T00:00:00",
          "1952-05-01T00:00:00",
          "1952-06-01T00:00:00",
          "1952-07-01T00:00:00",
          "1952-08-01T00:00:00",
          "1952-09-01T00:00:00",
          "1952-10-01T00:00:00",
          "1952-11-01T00:00:00",
          "1952-12-01T00:00:00",
          "1953-01-01T00:00:00",
          "1953-02-01T00:00:00",
          "1953-03-01T00:00:00",
          "1953-04-01T00:00:00",
          "1953-05-01T00:00:00",
          "1953-06-01T00:00:00",
          "1953-07-01T00:00:00",
          "1953-08-01T00:00:00",
          "1953-09-01T00:00:00",
          "1953-10-01T00:00:00",
          "1953-11-01T00:00:00",
          "1953-12-01T00:00:00",
          "1954-01-01T00:00:00",
          "1954-02-01T00:00:00",
          "1954-03-01T00:00:00",
          "1954-04-01T00:00:00",
          "1954-05-01T00:00:00",
          "1954-06-01T00:00:00",
          "1954-07-01T00:00:00",
          "1954-08-01T00:00:00",
          "1954-09-01T00:00:00",
          "1954-10-01T00:00:00",
          "1954-11-01T00:00:00",
          "1954-12-01T00:00:00",
          "1955-01-01T00:00:00",
          "1955-02-01T00:00:00",
          "1955-03-01T00:00:00",
          "1955-04-01T00:00:00",
          "1955-05-01T00:00:00",
          "1955-06-01T00:00:00",
          "1955-07-01T00:00:00",
          "1955-08-01T00:00:00",
          "1955-09-01T00:00:00",
          "1955-10-01T00:00:00",
          "1955-11-01T00:00:00",
          "1955-12-01T00:00:00",
          "1956-01-01T00:00:00",
          "1956-02-01T00:00:00",
          "1956-03-01T00:00:00",
          "1956-04-01T00:00:00",
          "1956-05-01T00:00:00",
          "1956-06-01T00:00:00",
          "1956-07-01T00:00:00",
          "1956-08-01T00:00:00",
          "1956-09-01T00:00:00",
          "1956-10-01T00:00:00",
          "1956-11-01T00:00:00",
          "1956-12-01T00:00:00",
          "1957-01-01T00:00:00",
          "1957-02-01T00:00:00",
          "1957-03-01T00:00:00",
          "1957-04-01T00:00:00",
          "1957-05-01T00:00:00",
          "1957-06-01T00:00:00",
          "1957-07-01T00:00:00",
          "1957-08-01T00:00:00",
          "1957-09-01T00:00:00",
          "1957-10-01T00:00:00",
          "1957-11-01T00:00:00",
          "1957-12-01T00:00:00",
          "1958-01-01T00:00:00",
          "1958-01-01T00:00:00",
          "1958-02-01T00:00:00",
          "1958-03-01T00:00:00",
          "1958-04-01T00:00:00",
          "1958-05-01T00:00:00",
          "1958-06-01T00:00:00",
          "1958-07-01T00:00:00",
          "1958-08-01T00:00:00",
          "1958-09-01T00:00:00",
          "1958-10-01T00:00:00",
          "1958-11-01T00:00:00",
          "1958-12-01T00:00:00",
          "1959-01-01T00:00:00",
          "1959-02-01T00:00:00",
          "1959-03-01T00:00:00",
          "1959-04-01T00:00:00",
          "1959-05-01T00:00:00",
          "1959-06-01T00:00:00",
          "1959-07-01T00:00:00",
          "1959-08-01T00:00:00",
          "1959-09-01T00:00:00",
          "1959-10-01T00:00:00",
          "1959-11-01T00:00:00",
          "1959-12-01T00:00:00",
          "1960-01-01T00:00:00",
          "1960-02-01T00:00:00",
          "1960-03-01T00:00:00",
          "1960-04-01T00:00:00",
          "1960-05-01T00:00:00",
          "1960-06-01T00:00:00",
          "1960-07-01T00:00:00",
          "1960-08-01T00:00:00",
          "1960-09-01T00:00:00",
          "1960-10-01T00:00:00",
          "1960-11-01T00:00:00"
         ],
         "xaxis": "x",
         "y": [
          123.4566421508789,
          129.29244995117188,
          140.56417846679688,
          132.86375427246094,
          129.13192749023438,
          145.74472045898438,
          151.83474731445312,
          149.85733032226562,
          140.276123046875,
          128.22848510742188,
          118.33027648925781,
          134.330322265625,
          122.06766510009766,
          137.10862731933594,
          146.95465087890625,
          137.03506469726562,
          132.65673828125,
          158.8373565673828,
          170.8944854736328,
          169.79159545898438,
          161.98333740234375,
          140.31106567382812,
          127.57127380371094,
          153.8744659423828,
          145.6768341064453,
          154.0135498046875,
          181.1566925048828,
          160.29588317871094,
          180.32479858398438,
          180.68896484375,
          201.92330932617188,
          201.30078125,
          192.9094696044922,
          173.50413513183594,
          156.76820373535156,
          174.2092742919922,
          171.29092407226562,
          183.58494567871094,
          196.09628295898438,
          183.98085021972656,
          192.58953857421875,
          218.60763549804688,
          232.17955017089844,
          257.43115234375,
          201.22952270507812,
          207.49383544921875,
          186.3359375,
          202.33709716796875,
          197.45957946777344,
          203.7086181640625,
          235.73069763183594,
          241.6475830078125,
          241.668701171875,
          262.770751953125,
          278.4776306152344,
          262.4186706542969,
          226.28314208984375,
          204.43861389160156,
          199.9385223388672,
          213.27957153320312,
          206.67257690429688,
          196.85009765625,
          234.07183837890625,
          229.69850158691406,
          254.1695098876953,
          280.0132751464844,
          305.1859130859375,
          261.3282165527344,
          265.3204040527344,
          223.93125915527344,
          203.6916046142578,
          241.96055603027344,
          251.7454833984375,
          237.77755737304688,
          283.3914489746094,
          263.6735534667969,
          295.81121826171875,
          338.02569580078125,
          348.3334045410156,
          317.56610107421875,
          296.65423583984375,
          277.0147399902344,
          233.79852294921875,
          269.00457763671875,
          271.44268798828125,
          305.2221984863281,
          328.14013671875,
          292.64794921875,
          363.5008544921875,
          416.69921875,
          417.1184997558594,
          365.5416259765625,
          300.31549072265625,
          277.665283203125,
          277.974365234375,
          304.0691223144531,
          303.24224853515625,
          332.72271728515625,
          361.8431396484375,
          322.9369201660156,
          401.81256103515625,
          470.46636962890625,
          461.6751708984375,
          410.43865966796875,
          349.456787109375,
          299.6743469238281,
          303.22320556640625,
          348.65240478515625,
          354.196044921875,
          382.60150146484375,
          327.81658935546875,
          389.05133056640625,
          323.3351135253906,
          419.5389709472656,
          476.22406005859375,
          489.40655517578125,
          444.80413818359375,
          340.205810546875,
          337.1828918457031,
          272.6742248535156,
          353.659912109375,
          392.51373291015625,
          320.79876708984375,
          463.57940673828125,
          361.662353515625,
          418.133056640625,
          469.73675537109375,
          528.1978149414062,
          495.7935791015625,
          376.8436279296875,
          368.1498718261719,
          319.79345703125,
          474.888427734375,
          394.6971435546875,
          343.9627990722656,
          437.0445556640625,
          451.98004150390625,
          420.75555419921875,
          516.4488525390625,
          564.64501953125,
          532.43994140625,
          400.8577880859375,
          404.94830322265625,
          344.28240966796875
         ],
         "yaxis": "y"
        }
       ],
       "layout": {
        "annotations": [
         {
          "showarrow": false,
          "text": "Test set start",
          "x": 0.75,
          "xref": "paper",
          "y": 0.8,
          "yref": "paper"
         }
        ],
        "legend": {
         "orientation": "h",
         "title": {
          "text": ""
         },
         "tracegroupgap": 0,
         "y": 1.02
        },
        "margin": {
         "t": 60
        },
        "shapes": [
         {
          "line": {
           "dash": "dash",
           "width": 4
          },
          "type": "line",
          "x0": "1958-01-01",
          "x1": "1958-01-01",
          "xref": "x",
          "y0": 0,
          "y1": 1,
          "yref": "y domain"
         }
        ],
        "template": {
         "data": {
          "bar": [
           {
            "error_x": {
             "color": "#2a3f5f"
            },
            "error_y": {
             "color": "#2a3f5f"
            },
            "marker": {
             "line": {
              "color": "white",
              "width": 0.5
             },
             "pattern": {
              "fillmode": "overlay",
              "size": 10,
              "solidity": 0.2
             }
            },
            "type": "bar"
           }
          ],
          "barpolar": [
           {
            "marker": {
             "line": {
              "color": "white",
              "width": 0.5
             },
             "pattern": {
              "fillmode": "overlay",
              "size": 10,
              "solidity": 0.2
             }
            },
            "type": "barpolar"
           }
          ],
          "carpet": [
           {
            "aaxis": {
             "endlinecolor": "#2a3f5f",
             "gridcolor": "#C8D4E3",
             "linecolor": "#C8D4E3",
             "minorgridcolor": "#C8D4E3",
             "startlinecolor": "#2a3f5f"
            },
            "baxis": {
             "endlinecolor": "#2a3f5f",
             "gridcolor": "#C8D4E3",
             "linecolor": "#C8D4E3",
             "minorgridcolor": "#C8D4E3",
             "startlinecolor": "#2a3f5f"
            },
            "type": "carpet"
           }
          ],
          "choropleth": [
           {
            "colorbar": {
             "outlinewidth": 0,
             "ticks": ""
            },
            "type": "choropleth"
           }
          ],
          "contour": [
           {
            "colorbar": {
             "outlinewidth": 0,
             "ticks": ""
            },
            "colorscale": [
             [
              0,
              "#0d0887"
             ],
             [
              0.1111111111111111,
              "#46039f"
             ],
             [
              0.2222222222222222,
              "#7201a8"
             ],
             [
              0.3333333333333333,
              "#9c179e"
             ],
             [
              0.4444444444444444,
              "#bd3786"
             ],
             [
              0.5555555555555556,
              "#d8576b"
             ],
             [
              0.6666666666666666,
              "#ed7953"
             ],
             [
              0.7777777777777778,
              "#fb9f3a"
             ],
             [
              0.8888888888888888,
              "#fdca26"
             ],
             [
              1,
              "#f0f921"
             ]
            ],
            "type": "contour"
           }
          ],
          "contourcarpet": [
           {
            "colorbar": {
             "outlinewidth": 0,
             "ticks": ""
            },
            "type": "contourcarpet"
           }
          ],
          "heatmap": [
           {
            "colorbar": {
             "outlinewidth": 0,
             "ticks": ""
            },
            "colorscale": [
             [
              0,
              "#0d0887"
             ],
             [
              0.1111111111111111,
              "#46039f"
             ],
             [
              0.2222222222222222,
              "#7201a8"
             ],
             [
              0.3333333333333333,
              "#9c179e"
             ],
             [
              0.4444444444444444,
              "#bd3786"
             ],
             [
              0.5555555555555556,
              "#d8576b"
             ],
             [
              0.6666666666666666,
              "#ed7953"
             ],
             [
              0.7777777777777778,
              "#fb9f3a"
             ],
             [
              0.8888888888888888,
              "#fdca26"
             ],
             [
              1,
              "#f0f921"
             ]
            ],
            "type": "heatmap"
           }
          ],
          "heatmapgl": [
           {
            "colorbar": {
             "outlinewidth": 0,
             "ticks": ""
            },
            "colorscale": [
             [
              0,
              "#0d0887"
             ],
             [
              0.1111111111111111,
              "#46039f"
             ],
             [
              0.2222222222222222,
              "#7201a8"
             ],
             [
              0.3333333333333333,
              "#9c179e"
             ],
             [
              0.4444444444444444,
              "#bd3786"
             ],
             [
              0.5555555555555556,
              "#d8576b"
             ],
             [
              0.6666666666666666,
              "#ed7953"
             ],
             [
              0.7777777777777778,
              "#fb9f3a"
             ],
             [
              0.8888888888888888,
              "#fdca26"
             ],
             [
              1,
              "#f0f921"
             ]
            ],
            "type": "heatmapgl"
           }
          ],
          "histogram": [
           {
            "marker": {
             "pattern": {
              "fillmode": "overlay",
              "size": 10,
              "solidity": 0.2
             }
            },
            "type": "histogram"
           }
          ],
          "histogram2d": [
           {
            "colorbar": {
             "outlinewidth": 0,
             "ticks": ""
            },
            "colorscale": [
             [
              0,
              "#0d0887"
             ],
             [
              0.1111111111111111,
              "#46039f"
             ],
             [
              0.2222222222222222,
              "#7201a8"
             ],
             [
              0.3333333333333333,
              "#9c179e"
             ],
             [
              0.4444444444444444,
              "#bd3786"
             ],
             [
              0.5555555555555556,
              "#d8576b"
             ],
             [
              0.6666666666666666,
              "#ed7953"
             ],
             [
              0.7777777777777778,
              "#fb9f3a"
             ],
             [
              0.8888888888888888,
              "#fdca26"
             ],
             [
              1,
              "#f0f921"
             ]
            ],
            "type": "histogram2d"
           }
          ],
          "histogram2dcontour": [
           {
            "colorbar": {
             "outlinewidth": 0,
             "ticks": ""
            },
            "colorscale": [
             [
              0,
              "#0d0887"
             ],
             [
              0.1111111111111111,
              "#46039f"
             ],
             [
              0.2222222222222222,
              "#7201a8"
             ],
             [
              0.3333333333333333,
              "#9c179e"
             ],
             [
              0.4444444444444444,
              "#bd3786"
             ],
             [
              0.5555555555555556,
              "#d8576b"
             ],
             [
              0.6666666666666666,
              "#ed7953"
             ],
             [
              0.7777777777777778,
              "#fb9f3a"
             ],
             [
              0.8888888888888888,
              "#fdca26"
             ],
             [
              1,
              "#f0f921"
             ]
            ],
            "type": "histogram2dcontour"
           }
          ],
          "mesh3d": [
           {
            "colorbar": {
             "outlinewidth": 0,
             "ticks": ""
            },
            "type": "mesh3d"
           }
          ],
          "parcoords": [
           {
            "line": {
             "colorbar": {
              "outlinewidth": 0,
              "ticks": ""
             }
            },
            "type": "parcoords"
           }
          ],
          "pie": [
           {
            "automargin": true,
            "type": "pie"
           }
          ],
          "scatter": [
           {
            "fillpattern": {
             "fillmode": "overlay",
             "size": 10,
             "solidity": 0.2
            },
            "type": "scatter"
           }
          ],
          "scatter3d": [
           {
            "line": {
             "colorbar": {
              "outlinewidth": 0,
              "ticks": ""
             }
            },
            "marker": {
             "colorbar": {
              "outlinewidth": 0,
              "ticks": ""
             }
            },
            "type": "scatter3d"
           }
          ],
          "scattercarpet": [
           {
            "marker": {
             "colorbar": {
              "outlinewidth": 0,
              "ticks": ""
             }
            },
            "type": "scattercarpet"
           }
          ],
          "scattergeo": [
           {
            "marker": {
             "colorbar": {
              "outlinewidth": 0,
              "ticks": ""
             }
            },
            "type": "scattergeo"
           }
          ],
          "scattergl": [
           {
            "marker": {
             "colorbar": {
              "outlinewidth": 0,
              "ticks": ""
             }
            },
            "type": "scattergl"
           }
          ],
          "scattermapbox": [
           {
            "marker": {
             "colorbar": {
              "outlinewidth": 0,
              "ticks": ""
             }
            },
            "type": "scattermapbox"
           }
          ],
          "scatterpolar": [
           {
            "marker": {
             "colorbar": {
              "outlinewidth": 0,
              "ticks": ""
             }
            },
            "type": "scatterpolar"
           }
          ],
          "scatterpolargl": [
           {
            "marker": {
             "colorbar": {
              "outlinewidth": 0,
              "ticks": ""
             }
            },
            "type": "scatterpolargl"
           }
          ],
          "scatterternary": [
           {
            "marker": {
             "colorbar": {
              "outlinewidth": 0,
              "ticks": ""
             }
            },
            "type": "scatterternary"
           }
          ],
          "surface": [
           {
            "colorbar": {
             "outlinewidth": 0,
             "ticks": ""
            },
            "colorscale": [
             [
              0,
              "#0d0887"
             ],
             [
              0.1111111111111111,
              "#46039f"
             ],
             [
              0.2222222222222222,
              "#7201a8"
             ],
             [
              0.3333333333333333,
              "#9c179e"
             ],
             [
              0.4444444444444444,
              "#bd3786"
             ],
             [
              0.5555555555555556,
              "#d8576b"
             ],
             [
              0.6666666666666666,
              "#ed7953"
             ],
             [
              0.7777777777777778,
              "#fb9f3a"
             ],
             [
              0.8888888888888888,
              "#fdca26"
             ],
             [
              1,
              "#f0f921"
             ]
            ],
            "type": "surface"
           }
          ],
          "table": [
           {
            "cells": {
             "fill": {
              "color": "#EBF0F8"
             },
             "line": {
              "color": "white"
             }
            },
            "header": {
             "fill": {
              "color": "#C8D4E3"
             },
             "line": {
              "color": "white"
             }
            },
            "type": "table"
           }
          ]
         },
         "layout": {
          "font": {
           "size": 18
          },
          "xaxis": {
           "title": {
            "font": {
             "size": 24
            }
           }
          },
          "yaxis": {
           "title": {
            "font": {
             "size": 24
            }
           }
          }
         }
        },
        "xaxis": {
         "anchor": "y",
         "domain": [
          0,
          1
         ],
         "title": {
          "text": "Date"
         }
        },
        "yaxis": {
         "anchor": "x",
         "domain": [
          0,
          1
         ],
         "title": {
          "text": "Air Passengers"
         }
        }
       }
      }
     },
     "metadata": {},
     "output_type": "display_data"
    }
   ],
   "source": [
    "# Store losses per epoch\n",
    "train_losses = []\n",
    "test_losses = []\n",
    "\n",
    "print(\"Untrained test\\n--------\")\n",
    "initial_test_loss = test_model(test_loader, model, loss_function)\n",
    "test_losses.append(initial_test_loss)\n",
    "print()\n",
    "\n",
    "\n",
    "for ix_epoch in range(130):\n",
    "    print(f\"Epoch {ix_epoch}\\n---------\")\n",
    "    train_loss = train_model(train_loader, model, loss_function, optimizer=optimizer)\n",
    "    train_losses.append(train_loss)\n",
    "    \n",
    "    test_loss = test_model(test_loader, model, loss_function)\n",
    "    test_losses.append(test_loss)\n",
    "    print()\n",
    "\n",
    "print(\"Hidden SİZE XD\", model.hidden_size)\n",
    "\n",
    "# Plot loss per epoch\n",
    "plt.figure(figsize=(10,5))\n",
    "plt.plot(train_losses, label='Training loss')\n",
    "plt.plot(test_losses, label='Testing loss')\n",
    "plt.xlabel('Epochs')\n",
    "plt.ylabel('Loss')\n",
    "plt.legend()\n",
    "plt.show()\n",
    "\n",
    "# %% [markdown]\n",
    "# # Evaluation\n",
    "\n",
    "# %%\n",
    "def predict(data_loader, model):\n",
    "    \"\"\"Just like `test_loop` function but keep track of the outputs instead of the loss\n",
    "    function.\n",
    "    \"\"\"\n",
    "    output = torch.tensor([])\n",
    "    model.eval()\n",
    "    with torch.no_grad():\n",
    "        for X, _ in data_loader:\n",
    "            y_star = model(X)\n",
    "            output = torch.cat((output, y_star), 0)\n",
    "    \n",
    "    return output\n",
    "\n",
    "# %%\n",
    "train_eval_loader = DataLoader(train_dataset, batch_size=batch_size, shuffle=False)\n",
    "\n",
    "ystar_col = \"Model forecast\"\n",
    "df_train[ystar_col] = predict(train_eval_loader, model).numpy()\n",
    "df_test[ystar_col] = predict(test_loader, model).numpy()\n",
    "\n",
    "df_out = pd.concat((df_train, df_test))[[target, ystar_col]]\n",
    "\n",
    "for c in df_out.columns:\n",
    "    df_out[c] = df_out[c] * target_stdev + target_mean\n",
    "\n",
    "print(df_out)\n",
    "\n",
    "# %%\n",
    "fig = px.line(df_out, labels={'value': \"Air Passengers\", 'Month': 'Date'})\n",
    "fig.add_vline(x=test_start, line_width=4, line_dash=\"dash\")\n",
    "fig.add_annotation(xref=\"paper\", x=0.75, yref=\"paper\", y=0.8, text=\"Test set start\", showarrow=False)\n",
    "fig.update_layout(\n",
    "  template=plot_template, legend=dict(orientation='h', y=1.02, title_text=\"\")\n",
    ")\n",
    "fig.show()\n",
    "# fig.write_image(\"air_passengers_forecast.png\", width=1200, height=600)\n"
   ]
  },
  {
   "cell_type": "code",
   "execution_count": 28,
   "metadata": {},
   "outputs": [
    {
     "name": "stdout",
     "output_type": "stream",
     "text": [
      "MAPE 0.07784964714789822\n",
      "Test MAPE 0.11310766137940302\n"
     ]
    }
   ],
   "source": [
    "from sklearn.metrics import mean_absolute_percentage_error\n",
    "\n",
    "\n",
    "mape = mean_absolute_percentage_error(df_out['Model forecast'], df_out['lead1'])\n",
    "mape_test = mean_absolute_percentage_error(df_out['lead1'].iloc[118:144], df_out['Model forecast'].iloc[118:144])\n",
    "print(\"MAPE\", mape)\n",
    "print(\"Test MAPE\", mape_test)\n",
    "\n"
   ]
  }
 ],
 "metadata": {
  "kernelspec": {
   "display_name": "Python (3.11.2)",
   "language": "python",
   "name": "3.11.2"
  },
  "language_info": {
   "codemirror_mode": {
    "name": "ipython",
    "version": 3
   },
   "file_extension": ".py",
   "mimetype": "text/x-python",
   "name": "python",
   "nbconvert_exporter": "python",
   "pygments_lexer": "ipython3",
   "version": "3.11.2"
  },
  "orig_nbformat": 4
 },
 "nbformat": 4,
 "nbformat_minor": 2
}
