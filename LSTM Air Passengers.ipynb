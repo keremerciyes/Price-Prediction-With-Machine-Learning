{
 "cells": [
  {
   "cell_type": "code",
   "execution_count": 80,
   "metadata": {},
   "outputs": [
    {
     "data": {
      "application/vnd.plotly.v1+json": {
       "config": {
        "plotlyServerURL": "https://plot.ly"
       },
       "data": [
        {
         "hovertemplate": "variable=Passengers<br>Month=%{x}<br>Passengers=%{y}<extra></extra>",
         "legendgroup": "Passengers",
         "line": {
          "color": "#636efa",
          "dash": "solid"
         },
         "marker": {
          "symbol": "circle"
         },
         "mode": "lines",
         "name": "Passengers",
         "orientation": "v",
         "showlegend": true,
         "type": "scatter",
         "x": [
          "1949-01-01T00:00:00",
          "1949-02-01T00:00:00",
          "1949-03-01T00:00:00",
          "1949-04-01T00:00:00",
          "1949-05-01T00:00:00",
          "1949-06-01T00:00:00",
          "1949-07-01T00:00:00",
          "1949-08-01T00:00:00",
          "1949-09-01T00:00:00",
          "1949-10-01T00:00:00",
          "1949-11-01T00:00:00",
          "1949-12-01T00:00:00",
          "1950-01-01T00:00:00",
          "1950-02-01T00:00:00",
          "1950-03-01T00:00:00",
          "1950-04-01T00:00:00",
          "1950-05-01T00:00:00",
          "1950-06-01T00:00:00",
          "1950-07-01T00:00:00",
          "1950-08-01T00:00:00",
          "1950-09-01T00:00:00",
          "1950-10-01T00:00:00",
          "1950-11-01T00:00:00",
          "1950-12-01T00:00:00",
          "1951-01-01T00:00:00",
          "1951-02-01T00:00:00",
          "1951-03-01T00:00:00",
          "1951-04-01T00:00:00",
          "1951-05-01T00:00:00",
          "1951-06-01T00:00:00",
          "1951-07-01T00:00:00",
          "1951-08-01T00:00:00",
          "1951-09-01T00:00:00",
          "1951-10-01T00:00:00",
          "1951-11-01T00:00:00",
          "1951-12-01T00:00:00",
          "1952-01-01T00:00:00",
          "1952-02-01T00:00:00",
          "1952-03-01T00:00:00",
          "1952-04-01T00:00:00",
          "1952-05-01T00:00:00",
          "1952-06-01T00:00:00",
          "1952-07-01T00:00:00",
          "1952-08-01T00:00:00",
          "1952-09-01T00:00:00",
          "1952-10-01T00:00:00",
          "1952-11-01T00:00:00",
          "1952-12-01T00:00:00",
          "1953-01-01T00:00:00",
          "1953-02-01T00:00:00",
          "1953-03-01T00:00:00",
          "1953-04-01T00:00:00",
          "1953-05-01T00:00:00",
          "1953-06-01T00:00:00",
          "1953-07-01T00:00:00",
          "1953-08-01T00:00:00",
          "1953-09-01T00:00:00",
          "1953-10-01T00:00:00",
          "1953-11-01T00:00:00",
          "1953-12-01T00:00:00",
          "1954-01-01T00:00:00",
          "1954-02-01T00:00:00",
          "1954-03-01T00:00:00",
          "1954-04-01T00:00:00",
          "1954-05-01T00:00:00",
          "1954-06-01T00:00:00",
          "1954-07-01T00:00:00",
          "1954-08-01T00:00:00",
          "1954-09-01T00:00:00",
          "1954-10-01T00:00:00",
          "1954-11-01T00:00:00",
          "1954-12-01T00:00:00",
          "1955-01-01T00:00:00",
          "1955-02-01T00:00:00",
          "1955-03-01T00:00:00",
          "1955-04-01T00:00:00",
          "1955-05-01T00:00:00",
          "1955-06-01T00:00:00",
          "1955-07-01T00:00:00",
          "1955-08-01T00:00:00",
          "1955-09-01T00:00:00",
          "1955-10-01T00:00:00",
          "1955-11-01T00:00:00",
          "1955-12-01T00:00:00",
          "1956-01-01T00:00:00",
          "1956-02-01T00:00:00",
          "1956-03-01T00:00:00",
          "1956-04-01T00:00:00",
          "1956-05-01T00:00:00",
          "1956-06-01T00:00:00",
          "1956-07-01T00:00:00",
          "1956-08-01T00:00:00",
          "1956-09-01T00:00:00",
          "1956-10-01T00:00:00",
          "1956-11-01T00:00:00",
          "1956-12-01T00:00:00",
          "1957-01-01T00:00:00",
          "1957-02-01T00:00:00",
          "1957-03-01T00:00:00",
          "1957-04-01T00:00:00",
          "1957-05-01T00:00:00",
          "1957-06-01T00:00:00",
          "1957-07-01T00:00:00",
          "1957-08-01T00:00:00",
          "1957-09-01T00:00:00",
          "1957-10-01T00:00:00",
          "1957-11-01T00:00:00",
          "1957-12-01T00:00:00",
          "1958-01-01T00:00:00",
          "1958-02-01T00:00:00",
          "1958-03-01T00:00:00",
          "1958-04-01T00:00:00",
          "1958-05-01T00:00:00",
          "1958-06-01T00:00:00",
          "1958-07-01T00:00:00",
          "1958-08-01T00:00:00",
          "1958-09-01T00:00:00",
          "1958-10-01T00:00:00",
          "1958-11-01T00:00:00",
          "1958-12-01T00:00:00",
          "1959-01-01T00:00:00",
          "1959-02-01T00:00:00",
          "1959-03-01T00:00:00",
          "1959-04-01T00:00:00",
          "1959-05-01T00:00:00",
          "1959-06-01T00:00:00",
          "1959-07-01T00:00:00",
          "1959-08-01T00:00:00",
          "1959-09-01T00:00:00",
          "1959-10-01T00:00:00",
          "1959-11-01T00:00:00",
          "1959-12-01T00:00:00",
          "1960-01-01T00:00:00",
          "1960-02-01T00:00:00",
          "1960-03-01T00:00:00",
          "1960-04-01T00:00:00",
          "1960-05-01T00:00:00",
          "1960-06-01T00:00:00",
          "1960-07-01T00:00:00",
          "1960-08-01T00:00:00",
          "1960-09-01T00:00:00",
          "1960-10-01T00:00:00",
          "1960-11-01T00:00:00",
          "1960-12-01T00:00:00"
         ],
         "xaxis": "x",
         "y": [
          112,
          118,
          132,
          129,
          121,
          135,
          148,
          148,
          136,
          119,
          104,
          118,
          115,
          126,
          141,
          135,
          125,
          149,
          170,
          170,
          158,
          133,
          114,
          140,
          145,
          150,
          178,
          163,
          172,
          178,
          199,
          199,
          184,
          162,
          146,
          166,
          171,
          180,
          193,
          181,
          183,
          218,
          230,
          242,
          209,
          191,
          172,
          194,
          196,
          196,
          236,
          235,
          229,
          243,
          264,
          272,
          237,
          211,
          180,
          201,
          204,
          188,
          235,
          227,
          234,
          264,
          302,
          293,
          259,
          229,
          203,
          229,
          242,
          233,
          267,
          269,
          270,
          315,
          364,
          347,
          312,
          274,
          237,
          278,
          284,
          277,
          317,
          313,
          318,
          374,
          413,
          405,
          355,
          306,
          271,
          306,
          315,
          301,
          356,
          348,
          355,
          422,
          465,
          467,
          404,
          347,
          305,
          336,
          340,
          318,
          362,
          348,
          363,
          435,
          491,
          505,
          404,
          359,
          310,
          337,
          360,
          342,
          406,
          396,
          420,
          472,
          548,
          559,
          463,
          407,
          362,
          405,
          417,
          391,
          419,
          461,
          472,
          535,
          622,
          606,
          508,
          461,
          390,
          432
         ],
         "yaxis": "y"
        }
       ],
       "layout": {
        "legend": {
         "orientation": "h",
         "title": {
          "text": ""
         },
         "tracegroupgap": 0,
         "y": 1.02
        },
        "margin": {
         "t": 60
        },
        "template": {
         "data": {
          "bar": [
           {
            "error_x": {
             "color": "#2a3f5f"
            },
            "error_y": {
             "color": "#2a3f5f"
            },
            "marker": {
             "line": {
              "color": "white",
              "width": 0.5
             },
             "pattern": {
              "fillmode": "overlay",
              "size": 10,
              "solidity": 0.2
             }
            },
            "type": "bar"
           }
          ],
          "barpolar": [
           {
            "marker": {
             "line": {
              "color": "white",
              "width": 0.5
             },
             "pattern": {
              "fillmode": "overlay",
              "size": 10,
              "solidity": 0.2
             }
            },
            "type": "barpolar"
           }
          ],
          "carpet": [
           {
            "aaxis": {
             "endlinecolor": "#2a3f5f",
             "gridcolor": "#C8D4E3",
             "linecolor": "#C8D4E3",
             "minorgridcolor": "#C8D4E3",
             "startlinecolor": "#2a3f5f"
            },
            "baxis": {
             "endlinecolor": "#2a3f5f",
             "gridcolor": "#C8D4E3",
             "linecolor": "#C8D4E3",
             "minorgridcolor": "#C8D4E3",
             "startlinecolor": "#2a3f5f"
            },
            "type": "carpet"
           }
          ],
          "choropleth": [
           {
            "colorbar": {
             "outlinewidth": 0,
             "ticks": ""
            },
            "type": "choropleth"
           }
          ],
          "contour": [
           {
            "colorbar": {
             "outlinewidth": 0,
             "ticks": ""
            },
            "colorscale": [
             [
              0,
              "#0d0887"
             ],
             [
              0.1111111111111111,
              "#46039f"
             ],
             [
              0.2222222222222222,
              "#7201a8"
             ],
             [
              0.3333333333333333,
              "#9c179e"
             ],
             [
              0.4444444444444444,
              "#bd3786"
             ],
             [
              0.5555555555555556,
              "#d8576b"
             ],
             [
              0.6666666666666666,
              "#ed7953"
             ],
             [
              0.7777777777777778,
              "#fb9f3a"
             ],
             [
              0.8888888888888888,
              "#fdca26"
             ],
             [
              1,
              "#f0f921"
             ]
            ],
            "type": "contour"
           }
          ],
          "contourcarpet": [
           {
            "colorbar": {
             "outlinewidth": 0,
             "ticks": ""
            },
            "type": "contourcarpet"
           }
          ],
          "heatmap": [
           {
            "colorbar": {
             "outlinewidth": 0,
             "ticks": ""
            },
            "colorscale": [
             [
              0,
              "#0d0887"
             ],
             [
              0.1111111111111111,
              "#46039f"
             ],
             [
              0.2222222222222222,
              "#7201a8"
             ],
             [
              0.3333333333333333,
              "#9c179e"
             ],
             [
              0.4444444444444444,
              "#bd3786"
             ],
             [
              0.5555555555555556,
              "#d8576b"
             ],
             [
              0.6666666666666666,
              "#ed7953"
             ],
             [
              0.7777777777777778,
              "#fb9f3a"
             ],
             [
              0.8888888888888888,
              "#fdca26"
             ],
             [
              1,
              "#f0f921"
             ]
            ],
            "type": "heatmap"
           }
          ],
          "heatmapgl": [
           {
            "colorbar": {
             "outlinewidth": 0,
             "ticks": ""
            },
            "colorscale": [
             [
              0,
              "#0d0887"
             ],
             [
              0.1111111111111111,
              "#46039f"
             ],
             [
              0.2222222222222222,
              "#7201a8"
             ],
             [
              0.3333333333333333,
              "#9c179e"
             ],
             [
              0.4444444444444444,
              "#bd3786"
             ],
             [
              0.5555555555555556,
              "#d8576b"
             ],
             [
              0.6666666666666666,
              "#ed7953"
             ],
             [
              0.7777777777777778,
              "#fb9f3a"
             ],
             [
              0.8888888888888888,
              "#fdca26"
             ],
             [
              1,
              "#f0f921"
             ]
            ],
            "type": "heatmapgl"
           }
          ],
          "histogram": [
           {
            "marker": {
             "pattern": {
              "fillmode": "overlay",
              "size": 10,
              "solidity": 0.2
             }
            },
            "type": "histogram"
           }
          ],
          "histogram2d": [
           {
            "colorbar": {
             "outlinewidth": 0,
             "ticks": ""
            },
            "colorscale": [
             [
              0,
              "#0d0887"
             ],
             [
              0.1111111111111111,
              "#46039f"
             ],
             [
              0.2222222222222222,
              "#7201a8"
             ],
             [
              0.3333333333333333,
              "#9c179e"
             ],
             [
              0.4444444444444444,
              "#bd3786"
             ],
             [
              0.5555555555555556,
              "#d8576b"
             ],
             [
              0.6666666666666666,
              "#ed7953"
             ],
             [
              0.7777777777777778,
              "#fb9f3a"
             ],
             [
              0.8888888888888888,
              "#fdca26"
             ],
             [
              1,
              "#f0f921"
             ]
            ],
            "type": "histogram2d"
           }
          ],
          "histogram2dcontour": [
           {
            "colorbar": {
             "outlinewidth": 0,
             "ticks": ""
            },
            "colorscale": [
             [
              0,
              "#0d0887"
             ],
             [
              0.1111111111111111,
              "#46039f"
             ],
             [
              0.2222222222222222,
              "#7201a8"
             ],
             [
              0.3333333333333333,
              "#9c179e"
             ],
             [
              0.4444444444444444,
              "#bd3786"
             ],
             [
              0.5555555555555556,
              "#d8576b"
             ],
             [
              0.6666666666666666,
              "#ed7953"
             ],
             [
              0.7777777777777778,
              "#fb9f3a"
             ],
             [
              0.8888888888888888,
              "#fdca26"
             ],
             [
              1,
              "#f0f921"
             ]
            ],
            "type": "histogram2dcontour"
           }
          ],
          "mesh3d": [
           {
            "colorbar": {
             "outlinewidth": 0,
             "ticks": ""
            },
            "type": "mesh3d"
           }
          ],
          "parcoords": [
           {
            "line": {
             "colorbar": {
              "outlinewidth": 0,
              "ticks": ""
             }
            },
            "type": "parcoords"
           }
          ],
          "pie": [
           {
            "automargin": true,
            "type": "pie"
           }
          ],
          "scatter": [
           {
            "fillpattern": {
             "fillmode": "overlay",
             "size": 10,
             "solidity": 0.2
            },
            "type": "scatter"
           }
          ],
          "scatter3d": [
           {
            "line": {
             "colorbar": {
              "outlinewidth": 0,
              "ticks": ""
             }
            },
            "marker": {
             "colorbar": {
              "outlinewidth": 0,
              "ticks": ""
             }
            },
            "type": "scatter3d"
           }
          ],
          "scattercarpet": [
           {
            "marker": {
             "colorbar": {
              "outlinewidth": 0,
              "ticks": ""
             }
            },
            "type": "scattercarpet"
           }
          ],
          "scattergeo": [
           {
            "marker": {
             "colorbar": {
              "outlinewidth": 0,
              "ticks": ""
             }
            },
            "type": "scattergeo"
           }
          ],
          "scattergl": [
           {
            "marker": {
             "colorbar": {
              "outlinewidth": 0,
              "ticks": ""
             }
            },
            "type": "scattergl"
           }
          ],
          "scattermapbox": [
           {
            "marker": {
             "colorbar": {
              "outlinewidth": 0,
              "ticks": ""
             }
            },
            "type": "scattermapbox"
           }
          ],
          "scatterpolar": [
           {
            "marker": {
             "colorbar": {
              "outlinewidth": 0,
              "ticks": ""
             }
            },
            "type": "scatterpolar"
           }
          ],
          "scatterpolargl": [
           {
            "marker": {
             "colorbar": {
              "outlinewidth": 0,
              "ticks": ""
             }
            },
            "type": "scatterpolargl"
           }
          ],
          "scatterternary": [
           {
            "marker": {
             "colorbar": {
              "outlinewidth": 0,
              "ticks": ""
             }
            },
            "type": "scatterternary"
           }
          ],
          "surface": [
           {
            "colorbar": {
             "outlinewidth": 0,
             "ticks": ""
            },
            "colorscale": [
             [
              0,
              "#0d0887"
             ],
             [
              0.1111111111111111,
              "#46039f"
             ],
             [
              0.2222222222222222,
              "#7201a8"
             ],
             [
              0.3333333333333333,
              "#9c179e"
             ],
             [
              0.4444444444444444,
              "#bd3786"
             ],
             [
              0.5555555555555556,
              "#d8576b"
             ],
             [
              0.6666666666666666,
              "#ed7953"
             ],
             [
              0.7777777777777778,
              "#fb9f3a"
             ],
             [
              0.8888888888888888,
              "#fdca26"
             ],
             [
              1,
              "#f0f921"
             ]
            ],
            "type": "surface"
           }
          ],
          "table": [
           {
            "cells": {
             "fill": {
              "color": "#EBF0F8"
             },
             "line": {
              "color": "white"
             }
            },
            "header": {
             "fill": {
              "color": "#C8D4E3"
             },
             "line": {
              "color": "white"
             }
            },
            "type": "table"
           }
          ]
         },
         "layout": {
          "font": {
           "size": 18
          },
          "xaxis": {
           "title": {
            "font": {
             "size": 24
            }
           }
          },
          "yaxis": {
           "title": {
            "font": {
             "size": 24
            }
           }
          }
         }
        },
        "xaxis": {
         "anchor": "y",
         "domain": [
          0,
          1
         ],
         "title": {
          "text": "Month"
         }
        },
        "yaxis": {
         "anchor": "x",
         "domain": [
          0,
          1
         ],
         "title": {
          "text": "Passengers"
         }
        }
       }
      }
     },
     "metadata": {},
     "output_type": "display_data"
    },
    {
     "name": "stdout",
     "output_type": "stream",
     "text": [
      "Test set fraction: 0.24475524475524477\n"
     ]
    }
   ],
   "source": [
    "# %% [markdown]\n",
    "# # How to use PyTorch LSTMs for time series regression\n",
    "\n",
    "# %% [markdown]\n",
    "# # Data\n",
    "\n",
    "# %% [markdown]\n",
    "# 1. Download the Air Passengers data.\n",
    "# 2. Load the Air Passengers data into a DataFrame.\n",
    "\n",
    "# %%\n",
    "import pandas as pd\n",
    "\n",
    "df = pd.read_csv(\"data-sets/air_passengers.csv\", index_col=\"Month\", parse_dates=True)\n",
    "df.rename(columns={'#Passengers': ''}, inplace=True)\n",
    "\n",
    "# %%\n",
    "import plotly.express as px\n",
    "import plotly.graph_objects as go\n",
    "import plotly.io as pio\n",
    "pio.templates.default = \"plotly_white\"\n",
    "\n",
    "plot_template = dict(\n",
    "    layout=go.Layout({\n",
    "        \"font_size\": 18,\n",
    "        \"xaxis_title_font_size\": 24,\n",
    "        \"yaxis_title_font_size\": 24})\n",
    ")\n",
    "\n",
    "fig = px.line(df, labels=dict(index=\"Month\", value=\"Passengers\"))\n",
    "fig.update_layout(\n",
    "  template=plot_template, legend=dict(orientation='h', y=1.02, title_text=\"\")\n",
    ")\n",
    "fig.show()\n",
    "\n",
    "# %% [markdown]\n",
    "# ## Create the target variable\n",
    "\n",
    "# %%\n",
    "forecast_lead = 1\n",
    "target = f\"lead{forecast_lead}\"\n",
    "\n",
    "df[target] = df[\"Passengers\"].shift(-forecast_lead)\n",
    "df = df.iloc[:-forecast_lead]\n",
    "\n",
    "# %% [markdown]\n",
    "# ## Create a hold-out test set and preprocess the data\n",
    "\n",
    "# %%\n",
    "test_start = \"1958-01-01\"\n",
    "\n",
    "df_train = df.loc[:test_start].copy()\n",
    "df_test = df.loc[test_start:].copy()\n",
    "\n",
    "print(\"Test set fraction:\", len(df_test) / len(df))\n",
    "\n",
    "# %% [markdown]\n",
    "# ## Standardize the features and target, based on the training set\n",
    "\n",
    "# %%\n",
    "target_mean = df_train[target].mean()\n",
    "target_stdev = df_train[target].std()\n",
    "\n",
    "df_train[\"Passengers\"] = (df_train[\"Passengers\"] - target_mean) / target_stdev\n",
    "df_test[\"Passengers\"] = (df_test[\"Passengers\"] - target_mean) / target_stdev\n",
    "\n",
    "df_train[target] = (df_train[target] - target_mean) / target_stdev\n",
    "df_test[target] = (df_test[target] - target_mean) / target_stdev\n",
    "\n",
    "# %% [markdown]\n",
    "# ## Create datasets that PyTorch `DataLoader` can work with\n",
    "\n",
    "# %%\n",
    "import torch\n",
    "from torch.utils.data import Dataset\n",
    "\n",
    "class SequenceDataset(Dataset):\n",
    "    def __init__(self, dataframe, target, sequence_length=5):\n",
    "        self.target = target\n",
    "        self.sequence_length = sequence_length\n",
    "        self.y = torch.tensor(dataframe[self.target].values).float()\n",
    "        self.X = torch.tensor(dataframe['Passengers'].values).float().unsqueeze(1)\n",
    "\n",
    "    def __len__(self):\n",
    "        return self.X.shape[0]\n",
    "\n",
    "    def __getitem__(self, i): \n",
    "        if i >= self.sequence_length - 1:\n",
    "            i_start = i - self.sequence_length + 1\n",
    "            x = self.X[i_start:(i + 1), :]\n",
    "        else:\n",
    "            padding = self.X[0].repeat(self.sequence_length - i - 1, 1)\n",
    "            x = self.X[0:(i + 1), :]\n",
    "            x = torch.cat((padding, x), 0)\n",
    "\n",
    "        return x, self.y[i]\n",
    "        \n",
    "# Continue the rest of the code as before\n"
   ]
  },
  {
   "cell_type": "code",
   "execution_count": 81,
   "metadata": {},
   "outputs": [
    {
     "name": "stdout",
     "output_type": "stream",
     "text": [
      "Features shape: torch.Size([3, 3, 1])\n",
      "Target shape: torch.Size([3])\n"
     ]
    }
   ],
   "source": [
    "# %% [markdown]\n",
    "# ## Create the datasets and data loaders\n",
    "\n",
    "# %%\n",
    "from bayes_opt import BayesianOptimization, UtilityFunction\n",
    "from matplotlib import pyplot as plt\n",
    "from torch.utils.data import DataLoader\n",
    "torch.manual_seed(101)\n",
    "\n",
    "batch_size = 3\n",
    "sequence_length = 3\n",
    "\n",
    "train_dataset = SequenceDataset(\n",
    "    df_train,\n",
    "    target=target,\n",
    "    sequence_length=sequence_length\n",
    ")\n",
    "test_dataset = SequenceDataset(\n",
    "    df_test,\n",
    "    target=target,\n",
    "    sequence_length=sequence_length\n",
    ")\n",
    "\n",
    "train_loader = DataLoader(train_dataset, batch_size=batch_size, shuffle=True)\n",
    "test_loader = DataLoader(test_dataset, batch_size=batch_size, shuffle=False)\n",
    "\n",
    "X, y = next(iter(train_loader))\n",
    "print(\"Features shape:\", X.shape)\n",
    "print(\"Target shape:\", y.shape)\n",
    "\n",
    "# %% [markdown]\n",
    "# # The model and learning algorithm\n",
    "\n",
    "# %%\n",
    "from torch import nn\n",
    "\n",
    "class ShallowRegressionLSTM(nn.Module):\n",
    "    def __init__(self, hidden_size, num_layers):\n",
    "        super().__init__()\n",
    "        self.hidden_size = hidden_size\n",
    "        self.num_layers = num_layers\n",
    "\n",
    "        self.lstm = nn.LSTM(\n",
    "            input_size=1,\n",
    "            hidden_size=hidden_size,\n",
    "            batch_first=True,\n",
    "            num_layers=self.num_layers\n",
    "        )\n",
    "\n",
    "        self.linear = nn.Linear(in_features=self.hidden_size, out_features=1)\n",
    "\n",
    "    def forward(self, x):\n",
    "        batch_size = x.shape[0]\n",
    "        h0 = torch.zeros(self.num_layers, batch_size, self.hidden_size).requires_grad_()\n",
    "        c0 = torch.zeros(self.num_layers, batch_size, self.hidden_size).requires_grad_()\n",
    "        \n",
    "        _, (hn, _) = self.lstm(x, (h0, c0))\n",
    "        out = self.linear(hn[0]).flatten()\n",
    "\n",
    "        return out"
   ]
  },
  {
   "cell_type": "code",
   "execution_count": 82,
   "metadata": {},
   "outputs": [
    {
     "name": "stdout",
     "output_type": "stream",
     "text": [
      "|   iter    |  target   | batch_... | learni... | num_hi... | num_la... | weight... |\n",
      "-------------------------------------------------------------------------------------\n",
      "Train loss: 0.8968461852243824\n",
      "Test loss: 6.890447447697322\n",
      "| \u001b[0m1        \u001b[0m | \u001b[0m-6.89    \u001b[0m | \u001b[0m9.674    \u001b[0m | \u001b[0m-2.839   \u001b[0m | \u001b[0m1.004    \u001b[0m | \u001b[0m1.907    \u001b[0m | \u001b[0m-4.56    \u001b[0m |\n",
      "Train loss: 1.210539007911811\n",
      "Test loss: 6.470284412304561\n",
      "| \u001b[95m2        \u001b[0m | \u001b[95m-6.47    \u001b[0m | \u001b[95m2.921    \u001b[0m | \u001b[95m-4.441   \u001b[0m | \u001b[95m11.71    \u001b[0m | \u001b[95m2.19     \u001b[0m | \u001b[95m-3.384   \u001b[0m |\n",
      "Train loss: 0.9366857858022323\n",
      "Test loss: 4.858246793349584\n",
      "| \u001b[95m3        \u001b[0m | \u001b[95m-4.858   \u001b[0m | \u001b[95m9.719    \u001b[0m | \u001b[95m-2.944   \u001b[0m | \u001b[95m7.338    \u001b[0m | \u001b[95m3.634    \u001b[0m | \u001b[95m-4.918   \u001b[0m |\n",
      "Train loss: 0.9356953796295047\n",
      "Test loss: 5.788226892550786\n",
      "| \u001b[0m4        \u001b[0m | \u001b[0m-5.788   \u001b[0m | \u001b[0m14.95    \u001b[0m | \u001b[0m-3.748   \u001b[0m | \u001b[0m18.32    \u001b[0m | \u001b[0m1.421    \u001b[0m | \u001b[0m-4.406   \u001b[0m |\n",
      "Train loss: 0.769041212527333\n",
      "Test loss: 2.607319345076879\n",
      "| \u001b[95m5        \u001b[0m | \u001b[95m-2.607   \u001b[0m | \u001b[95m17.66    \u001b[0m | \u001b[95m-2.095   \u001b[0m | \u001b[95m10.72    \u001b[0m | \u001b[95m3.077    \u001b[0m | \u001b[95m-2.371   \u001b[0m |\n",
      "Train loss: 1.079498007289461\n",
      "Test loss: 6.60551385084788\n",
      "| \u001b[0m6        \u001b[0m | \u001b[0m-6.606   \u001b[0m | \u001b[0m17.91    \u001b[0m | \u001b[0m-2.968   \u001b[0m | \u001b[0m10.97    \u001b[0m | \u001b[0m3.132    \u001b[0m | \u001b[0m-2.197   \u001b[0m |\n",
      "Train loss: 1.0563960012954634\n",
      "Test loss: 6.007869919141133\n",
      "| \u001b[0m7        \u001b[0m | \u001b[0m-6.008   \u001b[0m | \u001b[0m7.238    \u001b[0m | \u001b[0m-3.625   \u001b[0m | \u001b[0m19.17    \u001b[0m | \u001b[0m3.229    \u001b[0m | \u001b[0m-3.577   \u001b[0m |\n",
      "Train loss: 1.1883786515508954\n",
      "Test loss: 7.970229367415111\n",
      "| \u001b[0m8        \u001b[0m | \u001b[0m-7.97    \u001b[0m | \u001b[0m16.31    \u001b[0m | \u001b[0m-2.929   \u001b[0m | \u001b[0m3.972    \u001b[0m | \u001b[0m3.024    \u001b[0m | \u001b[0m-3.044   \u001b[0m |\n",
      "Train loss: 0.48730319466542554\n",
      "Test loss: 0.9803510655959448\n",
      "| \u001b[95m9        \u001b[0m | \u001b[95m-0.9804  \u001b[0m | \u001b[95m9.08     \u001b[0m | \u001b[95m-2.223   \u001b[0m | \u001b[95m27.31    \u001b[0m | \u001b[95m2.76     \u001b[0m | \u001b[95m-4.342   \u001b[0m |\n",
      "Train loss: 0.7588669384351453\n",
      "Test loss: 3.4241099754969277\n",
      "| \u001b[0m10       \u001b[0m | \u001b[0m-3.424   \u001b[0m | \u001b[0m2.683    \u001b[0m | \u001b[0m-2.45    \u001b[0m | \u001b[0m25.84    \u001b[0m | \u001b[0m3.064    \u001b[0m | \u001b[0m-2.732   \u001b[0m |\n",
      "Train loss: 1.0701957103368398\n",
      "Test loss: 6.218942215045293\n",
      "| \u001b[0m11       \u001b[0m | \u001b[0m-6.219   \u001b[0m | \u001b[0m5.864    \u001b[0m | \u001b[0m-4.588   \u001b[0m | \u001b[0m28.4     \u001b[0m | \u001b[0m1.018    \u001b[0m | \u001b[0m-2.753   \u001b[0m |\n",
      "Train loss: 1.0330024512635696\n",
      "Test loss: 6.5576362907886505\n",
      "| \u001b[0m12       \u001b[0m | \u001b[0m-6.558   \u001b[0m | \u001b[0m12.45    \u001b[0m | \u001b[0m-4.358   \u001b[0m | \u001b[0m31.46    \u001b[0m | \u001b[0m2.279    \u001b[0m | \u001b[0m-2.525   \u001b[0m |\n",
      "Train loss: 0.9963739882286236\n",
      "Test loss: 5.9679036637147265\n",
      "| \u001b[0m13       \u001b[0m | \u001b[0m-5.968   \u001b[0m | \u001b[0m14.76    \u001b[0m | \u001b[0m-3.487   \u001b[0m | \u001b[0m9.093    \u001b[0m | \u001b[0m2.867    \u001b[0m | \u001b[0m-3.78    \u001b[0m |\n",
      "Train loss: 0.9861801861709839\n",
      "Test loss: 6.486906598011653\n",
      "| \u001b[0m14       \u001b[0m | \u001b[0m-6.487   \u001b[0m | \u001b[0m3.93     \u001b[0m | \u001b[0m-4.199   \u001b[0m | \u001b[0m27.37    \u001b[0m | \u001b[0m2.347    \u001b[0m | \u001b[0m-2.869   \u001b[0m |\n",
      "Train loss: 1.032936104246088\n",
      "Test loss: 6.356786111990611\n",
      "| \u001b[0m15       \u001b[0m | \u001b[0m-6.357   \u001b[0m | \u001b[0m10.75    \u001b[0m | \u001b[0m-4.887   \u001b[0m | \u001b[0m5.037    \u001b[0m | \u001b[0m3.117    \u001b[0m | \u001b[0m-3.595   \u001b[0m |\n",
      "Train loss: 0.7873096512378873\n",
      "Test loss: 4.161619399984677\n",
      "| \u001b[0m16       \u001b[0m | \u001b[0m-4.162   \u001b[0m | \u001b[0m17.87    \u001b[0m | \u001b[0m-2.468   \u001b[0m | \u001b[0m11.15    \u001b[0m | \u001b[0m2.852    \u001b[0m | \u001b[0m-2.531   \u001b[0m |\n",
      "Train loss: 0.9123743363731617\n",
      "Test loss: 4.802993963162105\n",
      "| \u001b[0m17       \u001b[0m | \u001b[0m-4.803   \u001b[0m | \u001b[0m17.98    \u001b[0m | \u001b[0m-2.345   \u001b[0m | \u001b[0m10.77    \u001b[0m | \u001b[0m2.908    \u001b[0m | \u001b[0m-2.063   \u001b[0m |\n",
      "Train loss: 0.6187926276360411\n",
      "Test loss: 1.5196278225630522\n",
      "| \u001b[0m18       \u001b[0m | \u001b[0m-1.52    \u001b[0m | \u001b[0m8.974    \u001b[0m | \u001b[0m-2.297   \u001b[0m | \u001b[0m28.16    \u001b[0m | \u001b[0m2.704    \u001b[0m | \u001b[0m-4.149   \u001b[0m |\n",
      "Train loss: 0.4559726536280249\n",
      "Test loss: 1.3377728182822466\n",
      "| \u001b[0m19       \u001b[0m | \u001b[0m-1.338   \u001b[0m | \u001b[0m9.425    \u001b[0m | \u001b[0m-2.0     \u001b[0m | \u001b[0m27.79    \u001b[0m | \u001b[0m3.112    \u001b[0m | \u001b[0m-4.639   \u001b[0m |\n",
      "Train loss: 0.34137278792725223\n",
      "Test loss: 1.8617416396737099\n",
      "| \u001b[0m20       \u001b[0m | \u001b[0m-1.862   \u001b[0m | \u001b[0m9.598    \u001b[0m | \u001b[0m-2.0     \u001b[0m | \u001b[0m27.65    \u001b[0m | \u001b[0m2.017    \u001b[0m | \u001b[0m-4.563   \u001b[0m |\n",
      "Train loss: 0.39293441429381837\n",
      "Test loss: 1.870659268150727\n",
      "| \u001b[0m21       \u001b[0m | \u001b[0m-1.871   \u001b[0m | \u001b[0m9.798    \u001b[0m | \u001b[0m-2.0     \u001b[0m | \u001b[0m27.42    \u001b[0m | \u001b[0m2.961    \u001b[0m | \u001b[0m-3.462   \u001b[0m |\n",
      "Train loss: 0.9581534496030292\n",
      "Test loss: 5.961395263671875\n",
      "| \u001b[0m22       \u001b[0m | \u001b[0m-5.961   \u001b[0m | \u001b[0m9.736    \u001b[0m | \u001b[0m-3.361   \u001b[0m | \u001b[0m27.43    \u001b[0m | \u001b[0m2.951    \u001b[0m | \u001b[0m-4.443   \u001b[0m |\n",
      "Train loss: 0.5091948909810871\n",
      "Test loss: 1.8935256029168765\n",
      "| \u001b[0m23       \u001b[0m | \u001b[0m-1.894   \u001b[0m | \u001b[0m8.576    \u001b[0m | \u001b[0m-2.0     \u001b[0m | \u001b[0m27.49    \u001b[0m | \u001b[0m3.421    \u001b[0m | \u001b[0m-3.801   \u001b[0m |\n",
      "Train loss: 0.5028622047220533\n",
      "Test loss: 1.700621238599221\n",
      "| \u001b[0m24       \u001b[0m | \u001b[0m-1.701   \u001b[0m | \u001b[0m8.621    \u001b[0m | \u001b[0m-2.0     \u001b[0m | \u001b[0m27.27    \u001b[0m | \u001b[0m2.01     \u001b[0m | \u001b[0m-3.562   \u001b[0m |\n",
      "Train loss: 0.3750065653836606\n",
      "Test loss: 1.7359834586580594\n",
      "| \u001b[0m25       \u001b[0m | \u001b[0m-1.736   \u001b[0m | \u001b[0m8.119    \u001b[0m | \u001b[0m-2.0     \u001b[0m | \u001b[0m27.57    \u001b[0m | \u001b[0m2.432    \u001b[0m | \u001b[0m-5.0     \u001b[0m |\n",
      "Train loss: 0.5853391710568119\n",
      "Test loss: 1.8358236228426297\n",
      "| \u001b[0m26       \u001b[0m | \u001b[0m-1.836   \u001b[0m | \u001b[0m17.22    \u001b[0m | \u001b[0m-2.0     \u001b[0m | \u001b[0m10.37    \u001b[0m | \u001b[0m2.876    \u001b[0m | \u001b[0m-3.869   \u001b[0m |\n",
      "Train loss: 0.4356170131296322\n",
      "Test loss: 1.485640746851762\n",
      "| \u001b[0m27       \u001b[0m | \u001b[0m-1.486   \u001b[0m | \u001b[0m16.16    \u001b[0m | \u001b[0m-2.0     \u001b[0m | \u001b[0m11.5     \u001b[0m | \u001b[0m3.051    \u001b[0m | \u001b[0m-3.115   \u001b[0m |\n",
      "Train loss: 0.47917986320130324\n",
      "Test loss: 1.8319566169132788\n",
      "| \u001b[0m28       \u001b[0m | \u001b[0m-1.832   \u001b[0m | \u001b[0m17.13    \u001b[0m | \u001b[0m-2.0     \u001b[0m | \u001b[0m11.91    \u001b[0m | \u001b[0m4.0      \u001b[0m | \u001b[0m-4.188   \u001b[0m |\n",
      "Train loss: 0.5009211413310589\n",
      "Test loss: 1.1122817086676757\n",
      "| \u001b[0m29       \u001b[0m | \u001b[0m-1.112   \u001b[0m | \u001b[0m16.85    \u001b[0m | \u001b[0m-2.0     \u001b[0m | \u001b[0m12.38    \u001b[0m | \u001b[0m1.953    \u001b[0m | \u001b[0m-4.447   \u001b[0m |\n",
      "Train loss: 0.5558346187746203\n",
      "Test loss: 1.3554928026472528\n",
      "| \u001b[0m30       \u001b[0m | \u001b[0m-1.355   \u001b[0m | \u001b[0m15.56    \u001b[0m | \u001b[0m-2.0     \u001b[0m | \u001b[0m13.44    \u001b[0m | \u001b[0m2.973    \u001b[0m | \u001b[0m-4.521   \u001b[0m |\n",
      "Train loss: 0.4991370139492525\n",
      "Test loss: 1.276694153745969\n",
      "| \u001b[0m31       \u001b[0m | \u001b[0m-1.277   \u001b[0m | \u001b[0m17.16    \u001b[0m | \u001b[0m-2.0     \u001b[0m | \u001b[0m14.08    \u001b[0m | \u001b[0m2.609    \u001b[0m | \u001b[0m-3.566   \u001b[0m |\n",
      "Train loss: 0.5001280505612895\n",
      "Test loss: 1.2341741224129994\n",
      "| \u001b[0m32       \u001b[0m | \u001b[0m-1.234   \u001b[0m | \u001b[0m15.66    \u001b[0m | \u001b[0m-2.0     \u001b[0m | \u001b[0m13.46    \u001b[0m | \u001b[0m1.127    \u001b[0m | \u001b[0m-3.151   \u001b[0m |\n",
      "Train loss: 0.4751137294177268\n",
      "Test loss: 1.2629981556286414\n",
      "| \u001b[0m33       \u001b[0m | \u001b[0m-1.263   \u001b[0m | \u001b[0m14.63    \u001b[0m | \u001b[0m-2.0     \u001b[0m | \u001b[0m12.78    \u001b[0m | \u001b[0m1.0      \u001b[0m | \u001b[0m-5.0     \u001b[0m |\n",
      "Train loss: 0.5549937494451532\n",
      "Test loss: 1.0705965428302686\n",
      "| \u001b[0m34       \u001b[0m | \u001b[0m-1.071   \u001b[0m | \u001b[0m16.47    \u001b[0m | \u001b[0m-2.0     \u001b[0m | \u001b[0m14.38    \u001b[0m | \u001b[0m1.0      \u001b[0m | \u001b[0m-5.0     \u001b[0m |\n",
      "Train loss: 1.085456913639162\n",
      "Test loss: 7.297778497139613\n",
      "| \u001b[0m35       \u001b[0m | \u001b[0m-7.298   \u001b[0m | \u001b[0m15.97    \u001b[0m | \u001b[0m-3.839   \u001b[0m | \u001b[0m13.63    \u001b[0m | \u001b[0m1.505    \u001b[0m | \u001b[0m-4.344   \u001b[0m |\n",
      "Train loss: 0.5072057561042744\n",
      "Test loss: 1.1190522983670235\n",
      "| \u001b[0m36       \u001b[0m | \u001b[0m-1.119   \u001b[0m | \u001b[0m18.79    \u001b[0m | \u001b[0m-2.0     \u001b[0m | \u001b[0m14.1     \u001b[0m | \u001b[0m1.301    \u001b[0m | \u001b[0m-5.0     \u001b[0m |\n",
      "Train loss: 0.47293973338437845\n",
      "Test loss: 0.9691295828670263\n",
      "| \u001b[95m37       \u001b[0m | \u001b[95m-0.9691  \u001b[0m | \u001b[95m18.37    \u001b[0m | \u001b[95m-2.0     \u001b[0m | \u001b[95m15.65    \u001b[0m | \u001b[95m1.0      \u001b[0m | \u001b[95m-3.412   \u001b[0m |\n",
      "Train loss: 0.5464927562688654\n",
      "Test loss: 1.2332129897549748\n",
      "| \u001b[0m38       \u001b[0m | \u001b[0m-1.233   \u001b[0m | \u001b[0m18.56    \u001b[0m | \u001b[0m-2.0     \u001b[0m | \u001b[0m16.0     \u001b[0m | \u001b[0m2.743    \u001b[0m | \u001b[0m-5.0     \u001b[0m |\n",
      "Train loss: 0.4636572679580265\n",
      "Test loss: 1.1708443571502964\n",
      "| \u001b[0m39       \u001b[0m | \u001b[0m-1.171   \u001b[0m | \u001b[0m20.54    \u001b[0m | \u001b[0m-2.0     \u001b[0m | \u001b[0m16.28    \u001b[0m | \u001b[0m1.0      \u001b[0m | \u001b[0m-4.734   \u001b[0m |\n",
      "Train loss: 0.4999278674556597\n",
      "Test loss: 1.328277316254874\n",
      "| \u001b[0m40       \u001b[0m | \u001b[0m-1.328   \u001b[0m | \u001b[0m20.37    \u001b[0m | \u001b[0m-2.0     \u001b[0m | \u001b[0m15.4     \u001b[0m | \u001b[0m2.75     \u001b[0m | \u001b[0m-3.167   \u001b[0m |\n",
      "Train loss: 0.37259990822624517\n",
      "Test loss: 1.1336697600781918\n",
      "| \u001b[0m41       \u001b[0m | \u001b[0m-1.134   \u001b[0m | \u001b[0m19.89    \u001b[0m | \u001b[0m-2.0     \u001b[0m | \u001b[0m18.02    \u001b[0m | \u001b[0m2.033    \u001b[0m | \u001b[0m-2.96    \u001b[0m |\n",
      "Train loss: 0.35363592086611567\n",
      "Test loss: 0.7966598508258661\n",
      "| \u001b[95m42       \u001b[0m | \u001b[95m-0.7967  \u001b[0m | \u001b[95m21.3     \u001b[0m | \u001b[95m-2.0     \u001b[0m | \u001b[95m17.66    \u001b[0m | \u001b[95m3.59     \u001b[0m | \u001b[95m-4.863   \u001b[0m |\n",
      "Train loss: 0.9524580873045567\n",
      "Test loss: 6.331521461407344\n",
      "| \u001b[0m43       \u001b[0m | \u001b[0m-6.332   \u001b[0m | \u001b[0m21.28    \u001b[0m | \u001b[0m-3.984   \u001b[0m | \u001b[0m17.28    \u001b[0m | \u001b[0m2.995    \u001b[0m | \u001b[0m-3.828   \u001b[0m |\n",
      "Train loss: 0.4637897684666756\n",
      "Test loss: 1.2902052194500964\n",
      "| \u001b[0m44       \u001b[0m | \u001b[0m-1.29    \u001b[0m | \u001b[0m19.47    \u001b[0m | \u001b[0m-2.0     \u001b[0m | \u001b[0m19.1     \u001b[0m | \u001b[0m3.3      \u001b[0m | \u001b[0m-5.0     \u001b[0m |\n",
      "Train loss: 0.39460432479107704\n",
      "Test loss: 0.9970415647452077\n",
      "| \u001b[0m45       \u001b[0m | \u001b[0m-0.997   \u001b[0m | \u001b[0m20.86    \u001b[0m | \u001b[0m-2.0     \u001b[0m | \u001b[0m19.28    \u001b[0m | \u001b[0m1.0      \u001b[0m | \u001b[0m-5.0     \u001b[0m |\n",
      "Train loss: 0.4131893811344698\n",
      "Test loss: 0.8750973949208856\n",
      "| \u001b[0m46       \u001b[0m | \u001b[0m-0.8751  \u001b[0m | \u001b[0m21.8     \u001b[0m | \u001b[0m-2.0     \u001b[0m | \u001b[0m20.42    \u001b[0m | \u001b[0m3.424    \u001b[0m | \u001b[0m-5.0     \u001b[0m |\n",
      "Train loss: 0.3773136063513497\n",
      "Test loss: 0.9698391842345396\n",
      "| \u001b[0m47       \u001b[0m | \u001b[0m-0.9698  \u001b[0m | \u001b[0m20.49    \u001b[0m | \u001b[0m-2.0     \u001b[0m | \u001b[0m21.34    \u001b[0m | \u001b[0m1.917    \u001b[0m | \u001b[0m-3.153   \u001b[0m |\n",
      "Train loss: 0.5024805080548331\n",
      "Test loss: 1.6023045349866152\n",
      "| \u001b[0m48       \u001b[0m | \u001b[0m-1.602   \u001b[0m | \u001b[0m20.19    \u001b[0m | \u001b[0m-2.0     \u001b[0m | \u001b[0m22.96    \u001b[0m | \u001b[0m3.131    \u001b[0m | \u001b[0m-5.0     \u001b[0m |\n",
      "Train loss: 0.516493451555033\n",
      "Test loss: 0.8311640787869692\n",
      "| \u001b[0m49       \u001b[0m | \u001b[0m-0.8312  \u001b[0m | \u001b[0m21.8     \u001b[0m | \u001b[0m-2.0     \u001b[0m | \u001b[0m22.14    \u001b[0m | \u001b[0m1.0      \u001b[0m | \u001b[0m-5.0     \u001b[0m |\n",
      "Train loss: 0.4895308161582294\n",
      "Test loss: 1.3107994745175044\n",
      "| \u001b[0m50       \u001b[0m | \u001b[0m-1.311   \u001b[0m | \u001b[0m21.8     \u001b[0m | \u001b[0m-2.0     \u001b[0m | \u001b[0m24.09    \u001b[0m | \u001b[0m1.296    \u001b[0m | \u001b[0m-2.673   \u001b[0m |\n",
      "Train loss: 1.0620468889136572\n",
      "Test loss: 6.5052803953488665\n",
      "| \u001b[0m51       \u001b[0m | \u001b[0m-6.505   \u001b[0m | \u001b[0m20.78    \u001b[0m | \u001b[0m-4.491   \u001b[0m | \u001b[0m22.74    \u001b[0m | \u001b[0m1.309    \u001b[0m | \u001b[0m-4.236   \u001b[0m |\n",
      "Train loss: 0.3945471716641977\n",
      "Test loss: 1.4955631711830695\n",
      "| \u001b[0m52       \u001b[0m | \u001b[0m-1.496   \u001b[0m | \u001b[0m21.8     \u001b[0m | \u001b[0m-2.0     \u001b[0m | \u001b[0m22.35    \u001b[0m | \u001b[0m4.0      \u001b[0m | \u001b[0m-2.352   \u001b[0m |\n",
      "Train loss: 0.3359142544654173\n",
      "Test loss: 1.6505932789295912\n",
      "| \u001b[0m53       \u001b[0m | \u001b[0m-1.651   \u001b[0m | \u001b[0m21.8     \u001b[0m | \u001b[0m-2.0     \u001b[0m | \u001b[0m25.86    \u001b[0m | \u001b[0m4.0      \u001b[0m | \u001b[0m-3.144   \u001b[0m |\n",
      "Train loss: 0.44541789250640274\n",
      "Test loss: 1.3252681683128078\n",
      "| \u001b[0m54       \u001b[0m | \u001b[0m-1.325   \u001b[0m | \u001b[0m19.04    \u001b[0m | \u001b[0m-2.0     \u001b[0m | \u001b[0m24.24    \u001b[0m | \u001b[0m3.819    \u001b[0m | \u001b[0m-2.0     \u001b[0m |\n",
      "Train loss: 0.44180946966406665\n",
      "Test loss: 0.8569874813159307\n",
      "| \u001b[0m55       \u001b[0m | \u001b[0m-0.857   \u001b[0m | \u001b[0m18.76    \u001b[0m | \u001b[0m-2.0     \u001b[0m | \u001b[0m20.8     \u001b[0m | \u001b[0m4.0      \u001b[0m | \u001b[0m-2.0     \u001b[0m |\n",
      "=====================================================================================\n",
      "{'target': -0.7966598508258661, 'params': {'batch_size': 21.29942825073937, 'learning_rate_log': -2.0, 'num_hidden_size': 17.655916855945563, 'num_layers': 3.5898576623589737, 'weight_decay': -4.8634250357919315}}\n"
     ]
    }
   ],
   "source": [
    "def train_model(data_loader, model, loss_function, optimizer):\n",
    "    num_batches = len(data_loader)\n",
    "    total_loss = 0\n",
    "    model.train()\n",
    "    \n",
    "    for X, y in data_loader:\n",
    "        output = model(X)\n",
    "        loss = loss_function(output, y)\n",
    "\n",
    "        optimizer.zero_grad()\n",
    "        loss.backward()\n",
    "        optimizer.step()\n",
    "\n",
    "        total_loss += loss.item()\n",
    "\n",
    "    avg_loss = total_loss / num_batches\n",
    "    print(f\"Train loss: {avg_loss}\")\n",
    "    return avg_loss\n",
    "\n",
    "def test_model(data_loader, model, loss_function):\n",
    "    \n",
    "    num_batches = len(data_loader)\n",
    "    total_loss = 0\n",
    "\n",
    "    model.eval()\n",
    "    with torch.no_grad():\n",
    "        for X, y in data_loader:\n",
    "            output = model(X)\n",
    "            total_loss += loss_function(output, y).item()\n",
    "\n",
    "    avg_loss = total_loss / num_batches\n",
    "    print(f\"Test loss: {avg_loss}\")\n",
    "    return avg_loss\n",
    "\n",
    "# Define the function to be optimized\n",
    "def evaluate_model(learning_rate_log, num_hidden_size, num_layers, weight_decay, batch_size):\n",
    "    learning_rate = 10 ** learning_rate_log\n",
    "    num_hidden_size = int(num_hidden_size)\n",
    "    num_layers = int(num_layers)\n",
    "    weight_decay = 10 ** weight_decay\n",
    "    batch_size = int(batch_size)\n",
    "\n",
    "    # Reinitialize the model with new parameters\n",
    "    model = ShallowRegressionLSTM(hidden_size=num_hidden_size, num_layers=num_layers)\n",
    "    loss_function = nn.MSELoss()\n",
    "    optimizer = torch.optim.Adam(model.parameters(), lr=learning_rate, weight_decay=weight_decay)\n",
    "    \n",
    "    # Train and test the model\n",
    "    train_model(train_loader, model, loss_function, optimizer)\n",
    "    test_loss = test_model(test_loader, model, loss_function)\n",
    "    \n",
    "    # Return the negative test loss because BayesianOptimization maximize the function\n",
    "    return -test_loss\n",
    "\n",
    "\n",
    "# Define the hyperparameters range\n",
    "hyperparameters_range = {\n",
    "    'learning_rate_log': (-5, -2),  # we optimize in log scale\n",
    "    'num_hidden_size': (1, 32),  # assuming 50 is a sensible upper limit\n",
    "    'num_layers': (1, 4),  # range of layers\n",
    "    'weight_decay': (-5, -2),  # weight decay in log scale\n",
    "    'batch_size': (1, len(df_train)/5)\n",
    "}\n",
    "# Initialize the optimizer\n",
    "bayesian_optimizer = BayesianOptimization(\n",
    "    f=evaluate_model,\n",
    "    pbounds=hyperparameters_range,\n",
    "    verbose=2,\n",
    "    random_state=1\n",
    ")\n",
    "\n",
    "# Maximize the evaluation function\n",
    "bayesian_optimizer.maximize(init_points=5, n_iter=50)\n",
    "\n",
    "# Print the best parameters\n",
    "print(bayesian_optimizer.max)\n",
    "\n",
    "best_params = bayesian_optimizer.max['params']\n",
    "\n",
    "# Re-calculate the learning rate from its logarithm\n",
    "best_params['learning_rate_log'] = 10 ** best_params['learning_rate_log']\n",
    "best_params['weight_decay'] = 10 ** best_params['weight_decay']\n",
    "\n",
    "# Ensure hidden_size and num_layers are integers\n",
    "best_params['num_hidden_size'] = int(round(best_params['num_hidden_size']))\n",
    "best_params['num_layers'] = int(round(best_params['num_layers']))\n",
    "\n",
    "# Train a new model with the best parameters\n",
    "model = ShallowRegressionLSTM(hidden_size=best_params['num_hidden_size'], num_layers=best_params['num_layers'] )\n",
    "loss_function = nn.MSELoss()\n",
    "optimizer = torch.optim.Adam(model.parameters(), lr= best_params['learning_rate_log'],weight_decay=best_params['weight_decay'] )"
   ]
  },
  {
   "cell_type": "code",
   "execution_count": 83,
   "metadata": {},
   "outputs": [
    {
     "name": "stdout",
     "output_type": "stream",
     "text": [
      "Untrained test\n",
      "--------\n",
      "Test loss: 5.735942264397939\n",
      "\n",
      "Epoch 0\n",
      "---------\n",
      "Train loss: 0.4780791192693082\n",
      "Test loss: 1.169331771011154\n",
      "\n",
      "Epoch 1\n",
      "---------\n",
      "Train loss: 0.16613155843790722\n",
      "Test loss: 1.2679528159399827\n",
      "\n",
      "Epoch 2\n",
      "---------\n",
      "Train loss: 0.14571631400267016\n",
      "Test loss: 1.1151031032204628\n",
      "\n",
      "Epoch 3\n",
      "---------\n",
      "Train loss: 0.12378979095798992\n",
      "Test loss: 1.1997809670865536\n",
      "\n",
      "Epoch 4\n",
      "---------\n",
      "Train loss: 0.12350538143938458\n",
      "Test loss: 1.339357614517212\n",
      "\n",
      "Epoch 5\n",
      "---------\n",
      "Train loss: 0.11202415013434114\n",
      "Test loss: 0.6093087382614613\n",
      "\n",
      "Epoch 6\n",
      "---------\n",
      "Train loss: 0.08904590334340527\n",
      "Test loss: 0.3004473342249791\n",
      "\n",
      "Epoch 7\n",
      "---------\n",
      "Train loss: 0.08624222434151012\n",
      "Test loss: 0.40120356529951096\n",
      "\n",
      "Epoch 8\n",
      "---------\n",
      "Train loss: 0.0798801192636224\n",
      "Test loss: 0.4740625023841858\n",
      "\n",
      "Epoch 9\n",
      "---------\n",
      "Train loss: 0.08551406386195103\n",
      "Test loss: 0.3084954476604859\n",
      "\n",
      "Epoch 10\n",
      "---------\n",
      "Train loss: 0.08093016472569592\n",
      "Test loss: 0.4225018036862214\n",
      "\n",
      "Epoch 11\n",
      "---------\n",
      "Train loss: 0.08148500255334216\n",
      "Test loss: 0.41654203832149506\n",
      "\n",
      "Epoch 12\n",
      "---------\n",
      "Train loss: 0.0808195420163306\n",
      "Test loss: 0.3898403675605853\n",
      "\n",
      "Epoch 13\n",
      "---------\n",
      "Train loss: 0.072898378344001\n",
      "Test loss: 0.4255715279529492\n",
      "\n",
      "Epoch 14\n",
      "---------\n",
      "Train loss: 0.0801060289660519\n",
      "Test loss: 0.37081150462230045\n",
      "\n",
      "Epoch 15\n",
      "---------\n",
      "Train loss: 0.07898395435217567\n",
      "Test loss: 0.36201264274617034\n",
      "\n",
      "Epoch 16\n",
      "---------\n",
      "Train loss: 0.07548260678713387\n",
      "Test loss: 0.33370233575503033\n",
      "\n",
      "Epoch 17\n",
      "---------\n",
      "Train loss: 0.07386830897775253\n",
      "Test loss: 0.41015134503444034\n",
      "\n",
      "Epoch 18\n",
      "---------\n",
      "Train loss: 0.07632481973033046\n",
      "Test loss: 0.3101276867091656\n",
      "\n",
      "Epoch 19\n",
      "---------\n",
      "Train loss: 0.0755435990018619\n",
      "Test loss: 0.4388131704181433\n",
      "\n",
      "Hidden SİZE XD 18\n"
     ]
    },
    {
     "data": {
      "image/png": "[encoded data removed]",
      "text/plain": [
       "<Figure size 1000x500 with 1 Axes>"
      ]
     },
     "metadata": {},
     "output_type": "display_data"
    },
    {
     "name": "stdout",
     "output_type": "stream",
     "text": [
      "            lead1  Model forecast\n",
      "Month                            \n",
      "1949-01-01  118.0      113.612335\n",
      "1949-02-01  132.0      117.405540\n",
      "1949-03-01  129.0      127.881790\n",
      "1949-04-01  121.0      127.960777\n",
      "1949-05-01  135.0      122.782646\n",
      "...           ...             ...\n",
      "1960-07-01  606.0      533.299438\n",
      "1960-08-01  508.0      519.644958\n",
      "1960-09-01  461.0      419.113892\n",
      "1960-10-01  390.0      393.141785\n",
      "1960-11-01  432.0      324.557068\n",
      "\n",
      "[144 rows x 2 columns]\n"
     ]
    },
    {
     "data": {
      "application/vnd.plotly.v1+json": {
       "config": {
        "plotlyServerURL": "https://plot.ly"
       },
       "data": [
        {
         "hovertemplate": "variable=lead1<br>Date=%{x}<br>Air Passengers=%{y}<extra></extra>",
         "legendgroup": "lead1",
         "line": {
          "color": "#636efa",
          "dash": "solid"
         },
         "marker": {
          "symbol": "circle"
         },
         "mode": "lines",
         "name": "lead1",
         "orientation": "v",
         "showlegend": true,
         "type": "scatter",
         "x": [
          "1949-01-01T00:00:00",
          "1949-02-01T00:00:00",
          "1949-03-01T00:00:00",
          "1949-04-01T00:00:00",
          "1949-05-01T00:00:00",
          "1949-06-01T00:00:00",
          "1949-07-01T00:00:00",
          "1949-08-01T00:00:00",
          "1949-09-01T00:00:00",
          "1949-10-01T00:00:00",
          "1949-11-01T00:00:00",
          "1949-12-01T00:00:00",
          "1950-01-01T00:00:00",
          "1950-02-01T00:00:00",
          "1950-03-01T00:00:00",
          "1950-04-01T00:00:00",
          "1950-05-01T00:00:00",
          "1950-06-01T00:00:00",
          "1950-07-01T00:00:00",
          "1950-08-01T00:00:00",
          "1950-09-01T00:00:00",
          "1950-10-01T00:00:00",
          "1950-11-01T00:00:00",
          "1950-12-01T00:00:00",
          "1951-01-01T00:00:00",
          "1951-02-01T00:00:00",
          "1951-03-01T00:00:00",
          "1951-04-01T00:00:00",
          "1951-05-01T00:00:00",
          "1951-06-01T00:00:00",
          "1951-07-01T00:00:00",
          "1951-08-01T00:00:00",
          "1951-09-01T00:00:00",
          "1951-10-01T00:00:00",
          "1951-11-01T00:00:00",
          "1951-12-01T00:00:00",
          "1952-01-01T00:00:00",
          "1952-02-01T00:00:00",
          "1952-03-01T00:00:00",
          "1952-04-01T00:00:00",
          "1952-05-01T00:00:00",
          "1952-06-01T00:00:00",
          "1952-07-01T00:00:00",
          "1952-08-01T00:00:00",
          "1952-09-01T00:00:00",
          "1952-10-01T00:00:00",
          "1952-11-01T00:00:00",
          "1952-12-01T00:00:00",
          "1953-01-01T00:00:00",
          "1953-02-01T00:00:00",
          "1953-03-01T00:00:00",
          "1953-04-01T00:00:00",
          "1953-05-01T00:00:00",
          "1953-06-01T00:00:00",
          "1953-07-01T00:00:00",
          "1953-08-01T00:00:00",
          "1953-09-01T00:00:00",
          "1953-10-01T00:00:00",
          "1953-11-01T00:00:00",
          "1953-12-01T00:00:00",
          "1954-01-01T00:00:00",
          "1954-02-01T00:00:00",
          "1954-03-01T00:00:00",
          "1954-04-01T00:00:00",
          "1954-05-01T00:00:00",
          "1954-06-01T00:00:00",
          "1954-07-01T00:00:00",
          "1954-08-01T00:00:00",
          "1954-09-01T00:00:00",
          "1954-10-01T00:00:00",
          "1954-11-01T00:00:00",
          "1954-12-01T00:00:00",
          "1955-01-01T00:00:00",
          "1955-02-01T00:00:00",
          "1955-03-01T00:00:00",
          "1955-04-01T00:00:00",
          "1955-05-01T00:00:00",
          "1955-06-01T00:00:00",
          "1955-07-01T00:00:00",
          "1955-08-01T00:00:00",
          "1955-09-01T00:00:00",
          "1955-10-01T00:00:00",
          "1955-11-01T00:00:00",
          "1955-12-01T00:00:00",
          "1956-01-01T00:00:00",
          "1956-02-01T00:00:00",
          "1956-03-01T00:00:00",
          "1956-04-01T00:00:00",
          "1956-05-01T00:00:00",
          "1956-06-01T00:00:00",
          "1956-07-01T00:00:00",
          "1956-08-01T00:00:00",
          "1956-09-01T00:00:00",
          "1956-10-01T00:00:00",
          "1956-11-01T00:00:00",
          "1956-12-01T00:00:00",
          "1957-01-01T00:00:00",
          "1957-02-01T00:00:00",
          "1957-03-01T00:00:00",
          "1957-04-01T00:00:00",
          "1957-05-01T00:00:00",
          "1957-06-01T00:00:00",
          "1957-07-01T00:00:00",
          "1957-08-01T00:00:00",
          "1957-09-01T00:00:00",
          "1957-10-01T00:00:00",
          "1957-11-01T00:00:00",
          "1957-12-01T00:00:00",
          "1958-01-01T00:00:00",
          "1958-01-01T00:00:00",
          "1958-02-01T00:00:00",
          "1958-03-01T00:00:00",
          "1958-04-01T00:00:00",
          "1958-05-01T00:00:00",
          "1958-06-01T00:00:00",
          "1958-07-01T00:00:00",
          "1958-08-01T00:00:00",
          "1958-09-01T00:00:00",
          "1958-10-01T00:00:00",
          "1958-11-01T00:00:00",
          "1958-12-01T00:00:00",
          "1959-01-01T00:00:00",
          "1959-02-01T00:00:00",
          "1959-03-01T00:00:00",
          "1959-04-01T00:00:00",
          "1959-05-01T00:00:00",
          "1959-06-01T00:00:00",
          "1959-07-01T00:00:00",
          "1959-08-01T00:00:00",
          "1959-09-01T00:00:00",
          "1959-10-01T00:00:00",
          "1959-11-01T00:00:00",
          "1959-12-01T00:00:00",
          "1960-01-01T00:00:00",
          "1960-02-01T00:00:00",
          "1960-03-01T00:00:00",
          "1960-04-01T00:00:00",
          "1960-05-01T00:00:00",
          "1960-06-01T00:00:00",
          "1960-07-01T00:00:00",
          "1960-08-01T00:00:00",
          "1960-09-01T00:00:00",
          "1960-10-01T00:00:00",
          "1960-11-01T00:00:00"
         ],
         "xaxis": "x",
         "y": [
          118,
          132,
          129,
          121,
          135,
          148,
          148,
          136,
          119,
          104,
          118,
          115,
          126,
          141,
          135,
          125,
          149,
          170,
          170,
          158,
          133,
          114,
          140,
          145,
          150,
          178,
          163,
          172,
          178,
          199,
          199,
          184,
          162,
          146,
          166,
          171,
          180,
          193,
          181,
          183,
          218,
          230,
          242,
          209,
          191,
          172,
          194,
          196,
          196,
          236,
          235,
          229,
          243,
          264,
          272,
          237,
          211,
          180,
          201,
          204,
          188,
          235,
          227,
          234,
          264,
          302,
          293,
          259,
          229,
          203,
          229,
          242,
          233,
          267,
          269,
          270,
          315,
          364,
          347,
          312,
          274,
          237,
          278,
          284,
          277,
          317,
          313,
          318,
          374,
          413,
          405,
          355,
          306,
          271,
          306,
          315,
          301,
          356,
          348,
          355,
          422,
          465,
          467,
          404,
          347,
          305,
          336,
          340,
          318,
          318,
          362,
          348,
          363,
          435,
          491,
          505,
          404,
          359,
          310,
          337,
          360,
          342,
          406,
          396,
          420,
          472,
          548,
          559,
          463,
          407,
          362,
          405,
          417,
          391,
          419,
          461,
          472,
          535,
          622,
          606,
          508,
          461,
          390,
          432
         ],
         "yaxis": "y"
        },
        {
         "hovertemplate": "variable=Model forecast<br>Date=%{x}<br>Air Passengers=%{y}<extra></extra>",
         "legendgroup": "Model forecast",
         "line": {
          "color": "#EF553B",
          "dash": "solid"
         },
         "marker": {
          "symbol": "circle"
         },
         "mode": "lines",
         "name": "Model forecast",
         "orientation": "v",
         "showlegend": true,
         "type": "scatter",
         "x": [
          "1949-01-01T00:00:00",
          "1949-02-01T00:00:00",
          "1949-03-01T00:00:00",
          "1949-04-01T00:00:00",
          "1949-05-01T00:00:00",
          "1949-06-01T00:00:00",
          "1949-07-01T00:00:00",
          "1949-08-01T00:00:00",
          "1949-09-01T00:00:00",
          "1949-10-01T00:00:00",
          "1949-11-01T00:00:00",
          "1949-12-01T00:00:00",
          "1950-01-01T00:00:00",
          "1950-02-01T00:00:00",
          "1950-03-01T00:00:00",
          "1950-04-01T00:00:00",
          "1950-05-01T00:00:00",
          "1950-06-01T00:00:00",
          "1950-07-01T00:00:00",
          "1950-08-01T00:00:00",
          "1950-09-01T00:00:00",
          "1950-10-01T00:00:00",
          "1950-11-01T00:00:00",
          "1950-12-01T00:00:00",
          "1951-01-01T00:00:00",
          "1951-02-01T00:00:00",
          "1951-03-01T00:00:00",
          "1951-04-01T00:00:00",
          "1951-05-01T00:00:00",
          "1951-06-01T00:00:00",
          "1951-07-01T00:00:00",
          "1951-08-01T00:00:00",
          "1951-09-01T00:00:00",
          "1951-10-01T00:00:00",
          "1951-11-01T00:00:00",
          "1951-12-01T00:00:00",
          "1952-01-01T00:00:00",
          "1952-02-01T00:00:00",
          "1952-03-01T00:00:00",
          "1952-04-01T00:00:00",
          "1952-05-01T00:00:00",
          "1952-06-01T00:00:00",
          "1952-07-01T00:00:00",
          "1952-08-01T00:00:00",
          "1952-09-01T00:00:00",
          "1952-10-01T00:00:00",
          "1952-11-01T00:00:00",
          "1952-12-01T00:00:00",
          "1953-01-01T00:00:00",
          "1953-02-01T00:00:00",
          "1953-03-01T00:00:00",
          "1953-04-01T00:00:00",
          "1953-05-01T00:00:00",
          "1953-06-01T00:00:00",
          "1953-07-01T00:00:00",
          "1953-08-01T00:00:00",
          "1953-09-01T00:00:00",
          "1953-10-01T00:00:00",
          "1953-11-01T00:00:00",
          "1953-12-01T00:00:00",
          "1954-01-01T00:00:00",
          "1954-02-01T00:00:00",
          "1954-03-01T00:00:00",
          "1954-04-01T00:00:00",
          "1954-05-01T00:00:00",
          "1954-06-01T00:00:00",
          "1954-07-01T00:00:00",
          "1954-08-01T00:00:00",
          "1954-09-01T00:00:00",
          "1954-10-01T00:00:00",
          "1954-11-01T00:00:00",
          "1954-12-01T00:00:00",
          "1955-01-01T00:00:00",
          "1955-02-01T00:00:00",
          "1955-03-01T00:00:00",
          "1955-04-01T00:00:00",
          "1955-05-01T00:00:00",
          "1955-06-01T00:00:00",
          "1955-07-01T00:00:00",
          "1955-08-01T00:00:00",
          "1955-09-01T00:00:00",
          "1955-10-01T00:00:00",
          "1955-11-01T00:00:00",
          "1955-12-01T00:00:00",
          "1956-01-01T00:00:00",
          "1956-02-01T00:00:00",
          "1956-03-01T00:00:00",
          "1956-04-01T00:00:00",
          "1956-05-01T00:00:00",
          "1956-06-01T00:00:00",
          "1956-07-01T00:00:00",
          "1956-08-01T00:00:00",
          "1956-09-01T00:00:00",
          "1956-10-01T00:00:00",
          "1956-11-01T00:00:00",
          "1956-12-01T00:00:00",
          "1957-01-01T00:00:00",
          "1957-02-01T00:00:00",
          "1957-03-01T00:00:00",
          "1957-04-01T00:00:00",
          "1957-05-01T00:00:00",
          "1957-06-01T00:00:00",
          "1957-07-01T00:00:00",
          "1957-08-01T00:00:00",
          "1957-09-01T00:00:00",
          "1957-10-01T00:00:00",
          "1957-11-01T00:00:00",
          "1957-12-01T00:00:00",
          "1958-01-01T00:00:00",
          "1958-01-01T00:00:00",
          "1958-02-01T00:00:00",
          "1958-03-01T00:00:00",
          "1958-04-01T00:00:00",
          "1958-05-01T00:00:00",
          "1958-06-01T00:00:00",
          "1958-07-01T00:00:00",
          "1958-08-01T00:00:00",
          "1958-09-01T00:00:00",
          "1958-10-01T00:00:00",
          "1958-11-01T00:00:00",
          "1958-12-01T00:00:00",
          "1959-01-01T00:00:00",
          "1959-02-01T00:00:00",
          "1959-03-01T00:00:00",
          "1959-04-01T00:00:00",
          "1959-05-01T00:00:00",
          "1959-06-01T00:00:00",
          "1959-07-01T00:00:00",
          "1959-08-01T00:00:00",
          "1959-09-01T00:00:00",
          "1959-10-01T00:00:00",
          "1959-11-01T00:00:00",
          "1959-12-01T00:00:00",
          "1960-01-01T00:00:00",
          "1960-02-01T00:00:00",
          "1960-03-01T00:00:00",
          "1960-04-01T00:00:00",
          "1960-05-01T00:00:00",
          "1960-06-01T00:00:00",
          "1960-07-01T00:00:00",
          "1960-08-01T00:00:00",
          "1960-09-01T00:00:00",
          "1960-10-01T00:00:00",
          "1960-11-01T00:00:00"
         ],
         "xaxis": "x",
         "y": [
          113.61233520507812,
          117.4055404663086,
          127.88179016113281,
          127.96077728271484,
          122.78264617919922,
          131.45758056640625,
          143.00100708007812,
          145.22396850585938,
          136.47921752929688,
          123.21765899658203,
          111.1250991821289,
          116.59403991699219,
          115.97489166259766,
          123.51913452148438,
          135.9193572998047,
          133.81753540039062,
          126.74996185302734,
          143.26243591308594,
          163.9615478515625,
          166.8643798828125,
          157.1461181640625,
          136.3557891845703,
          120.2901611328125,
          134.44232177734375,
          140.86083984375,
          146.86593627929688,
          172.7250213623047,
          160.5919189453125,
          170.35171508789062,
          175.4326629638672,
          197.5712890625,
          197.2138671875,
          182.738525390625,
          162.60952758789062,
          147.64797973632812,
          162.3358154296875,
          167.4741668701172,
          177.56683349609375,
          191.23095703125,
          178.97254943847656,
          182.47850036621094,
          218.7241668701172,
          230.4566650390625,
          244.67535400390625,
          202.7066192626953,
          192.55625915527344,
          172.33807373046875,
          193.57916259765625,
          194.02676391601562,
          195.27590942382812,
          239.8990478515625,
          233.24948120117188,
          229.2391357421875,
          247.7848358154297,
          269.35443115234375,
          273.5796813964844,
          227.29330444335938,
          212.10377502441406,
          180.3350830078125,
          202.67715454101562,
          202.6150665283203,
          186.408447265625,
          239.13079833984375,
          223.57052612304688,
          237.3744659423828,
          271.27398681640625,
          310.39483642578125,
          284.11712646484375,
          251.08367919921875,
          229.12010192871094,
          203.45445251464844,
          234.44078063964844,
          243.84072875976562,
          231.06027221679688,
          276.4456481933594,
          267.402587890625,
          272.2600402832031,
          327.64471435546875,
          369.57098388671875,
          324.08819580078125,
          298.0098876953125,
          269.0826110839844,
          235.72979736328125,
          291.51104736328125,
          282.5215759277344,
          275.6935119628906,
          330.2699279785156,
          304.1106262207031,
          322.0262451171875,
          384.64849853515625,
          405.6356201171875,
          376.5906982421875,
          314.91766357421875,
          290.45947265625,
          270.9366455078125,
          322.06451416015625,
          312.91796875,
          294.46826171875,
          370.581298828125,
          329.87908935546875,
          356.17559814453125,
          424.7899475097656,
          443.22332763671875,
          426.492431640625,
          339.39984130859375,
          310.9013366699219,
          296.392578125,
          353.1856994628906,
          333.5249328613281,
          338.33489990234375,
          307.1130676269531,
          376.4317321777344,
          327.5394592285156,
          367.70819091796875,
          433.95184326171875,
          463.43780517578125,
          458.124267578125,
          317.2820129394531,
          332.81207275390625,
          292.2628479003906,
          354.4755859375,
          360.39306640625,
          323.8868103027344,
          415.0187683105469,
          366.78082275390625,
          411.86468505859375,
          452.7689208984375,
          499.19091796875,
          493.69573974609375,
          376.04058837890625,
          349.18939208984375,
          329.78765869140625,
          414.13934326171875,
          397.2259216308594,
          356.37615966796875,
          415.26824951171875,
          442.22467041015625,
          434.475341796875,
          490.78875732421875,
          533.2994384765625,
          519.6449584960938,
          419.1138916015625,
          393.14178466796875,
          324.55706787109375
         ],
         "yaxis": "y"
        }
       ],
       "layout": {
        "annotations": [
         {
          "showarrow": false,
          "text": "Test set start",
          "x": 0.75,
          "xref": "paper",
          "y": 0.8,
          "yref": "paper"
         }
        ],
        "legend": {
         "orientation": "h",
         "title": {
          "text": ""
         },
         "tracegroupgap": 0,
         "y": 1.02
        },
        "margin": {
         "t": 60
        },
        "shapes": [
         {
          "line": {
           "dash": "dash",
           "width": 4
          },
          "type": "line",
          "x0": "1958-01-01",
          "x1": "1958-01-01",
          "xref": "x",
          "y0": 0,
          "y1": 1,
          "yref": "y domain"
         }
        ],
        "template": {
         "data": {
          "bar": [
           {
            "error_x": {
             "color": "#2a3f5f"
            },
            "error_y": {
             "color": "#2a3f5f"
            },
            "marker": {
             "line": {
              "color": "white",
              "width": 0.5
             },
             "pattern": {
              "fillmode": "overlay",
              "size": 10,
              "solidity": 0.2
             }
            },
            "type": "bar"
           }
          ],
          "barpolar": [
           {
            "marker": {
             "line": {
              "color": "white",
              "width": 0.5
             },
             "pattern": {
              "fillmode": "overlay",
              "size": 10,
              "solidity": 0.2
             }
            },
            "type": "barpolar"
           }
          ],
          "carpet": [
           {
            "aaxis": {
             "endlinecolor": "#2a3f5f",
             "gridcolor": "#C8D4E3",
             "linecolor": "#C8D4E3",
             "minorgridcolor": "#C8D4E3",
             "startlinecolor": "#2a3f5f"
            },
            "baxis": {
             "endlinecolor": "#2a3f5f",
             "gridcolor": "#C8D4E3",
             "linecolor": "#C8D4E3",
             "minorgridcolor": "#C8D4E3",
             "startlinecolor": "#2a3f5f"
            },
            "type": "carpet"
           }
          ],
          "choropleth": [
           {
            "colorbar": {
             "outlinewidth": 0,
             "ticks": ""
            },
            "type": "choropleth"
           }
          ],
          "contour": [
           {
            "colorbar": {
             "outlinewidth": 0,
             "ticks": ""
            },
            "colorscale": [
             [
              0,
              "#0d0887"
             ],
             [
              0.1111111111111111,
              "#46039f"
             ],
             [
              0.2222222222222222,
              "#7201a8"
             ],
             [
              0.3333333333333333,
              "#9c179e"
             ],
             [
              0.4444444444444444,
              "#bd3786"
             ],
             [
              0.5555555555555556,
              "#d8576b"
             ],
             [
              0.6666666666666666,
              "#ed7953"
             ],
             [
              0.7777777777777778,
              "#fb9f3a"
             ],
             [
              0.8888888888888888,
              "#fdca26"
             ],
             [
              1,
              "#f0f921"
             ]
            ],
            "type": "contour"
           }
          ],
          "contourcarpet": [
           {
            "colorbar": {
             "outlinewidth": 0,
             "ticks": ""
            },
            "type": "contourcarpet"
           }
          ],
          "heatmap": [
           {
            "colorbar": {
             "outlinewidth": 0,
             "ticks": ""
            },
            "colorscale": [
             [
              0,
              "#0d0887"
             ],
             [
              0.1111111111111111,
              "#46039f"
             ],
             [
              0.2222222222222222,
              "#7201a8"
             ],
             [
              0.3333333333333333,
              "#9c179e"
             ],
             [
              0.4444444444444444,
              "#bd3786"
             ],
             [
              0.5555555555555556,
              "#d8576b"
             ],
             [
              0.6666666666666666,
              "#ed7953"
             ],
             [
              0.7777777777777778,
              "#fb9f3a"
             ],
             [
              0.8888888888888888,
              "#fdca26"
             ],
             [
              1,
              "#f0f921"
             ]
            ],
            "type": "heatmap"
           }
          ],
          "heatmapgl": [
           {
            "colorbar": {
             "outlinewidth": 0,
             "ticks": ""
            },
            "colorscale": [
             [
              0,
              "#0d0887"
             ],
             [
              0.1111111111111111,
              "#46039f"
             ],
             [
              0.2222222222222222,
              "#7201a8"
             ],
             [
              0.3333333333333333,
              "#9c179e"
             ],
             [
              0.4444444444444444,
              "#bd3786"
             ],
             [
              0.5555555555555556,
              "#d8576b"
             ],
             [
              0.6666666666666666,
              "#ed7953"
             ],
             [
              0.7777777777777778,
              "#fb9f3a"
             ],
             [
              0.8888888888888888,
              "#fdca26"
             ],
             [
              1,
              "#f0f921"
             ]
            ],
            "type": "heatmapgl"
           }
          ],
          "histogram": [
           {
            "marker": {
             "pattern": {
              "fillmode": "overlay",
              "size": 10,
              "solidity": 0.2
             }
            },
            "type": "histogram"
           }
          ],
          "histogram2d": [
           {
            "colorbar": {
             "outlinewidth": 0,
             "ticks": ""
            },
            "colorscale": [
             [
              0,
              "#0d0887"
             ],
             [
              0.1111111111111111,
              "#46039f"
             ],
             [
              0.2222222222222222,
              "#7201a8"
             ],
             [
              0.3333333333333333,
              "#9c179e"
             ],
             [
              0.4444444444444444,
              "#bd3786"
             ],
             [
              0.5555555555555556,
              "#d8576b"
             ],
             [
              0.6666666666666666,
              "#ed7953"
             ],
             [
              0.7777777777777778,
              "#fb9f3a"
             ],
             [
              0.8888888888888888,
              "#fdca26"
             ],
             [
              1,
              "#f0f921"
             ]
            ],
            "type": "histogram2d"
           }
          ],
          "histogram2dcontour": [
           {
            "colorbar": {
             "outlinewidth": 0,
             "ticks": ""
            },
            "colorscale": [
             [
              0,
              "#0d0887"
             ],
             [
              0.1111111111111111,
              "#46039f"
             ],
             [
              0.2222222222222222,
              "#7201a8"
             ],
             [
              0.3333333333333333,
              "#9c179e"
             ],
             [
              0.4444444444444444,
              "#bd3786"
             ],
             [
              0.5555555555555556,
              "#d8576b"
             ],
             [
              0.6666666666666666,
              "#ed7953"
             ],
             [
              0.7777777777777778,
              "#fb9f3a"
             ],
             [
              0.8888888888888888,
              "#fdca26"
             ],
             [
              1,
              "#f0f921"
             ]
            ],
            "type": "histogram2dcontour"
           }
          ],
          "mesh3d": [
           {
            "colorbar": {
             "outlinewidth": 0,
             "ticks": ""
            },
            "type": "mesh3d"
           }
          ],
          "parcoords": [
           {
            "line": {
             "colorbar": {
              "outlinewidth": 0,
              "ticks": ""
             }
            },
            "type": "parcoords"
           }
          ],
          "pie": [
           {
            "automargin": true,
            "type": "pie"
           }
          ],
          "scatter": [
           {
            "fillpattern": {
             "fillmode": "overlay",
             "size": 10,
             "solidity": 0.2
            },
            "type": "scatter"
           }
          ],
          "scatter3d": [
           {
            "line": {
             "colorbar": {
              "outlinewidth": 0,
              "ticks": ""
             }
            },
            "marker": {
             "colorbar": {
              "outlinewidth": 0,
              "ticks": ""
             }
            },
            "type": "scatter3d"
           }
          ],
          "scattercarpet": [
           {
            "marker": {
             "colorbar": {
              "outlinewidth": 0,
              "ticks": ""
             }
            },
            "type": "scattercarpet"
           }
          ],
          "scattergeo": [
           {
            "marker": {
             "colorbar": {
              "outlinewidth": 0,
              "ticks": ""
             }
            },
            "type": "scattergeo"
           }
          ],
          "scattergl": [
           {
            "marker": {
             "colorbar": {
              "outlinewidth": 0,
              "ticks": ""
             }
            },
            "type": "scattergl"
           }
          ],
          "scattermapbox": [
           {
            "marker": {
             "colorbar": {
              "outlinewidth": 0,
              "ticks": ""
             }
            },
            "type": "scattermapbox"
           }
          ],
          "scatterpolar": [
           {
            "marker": {
             "colorbar": {
              "outlinewidth": 0,
              "ticks": ""
             }
            },
            "type": "scatterpolar"
           }
          ],
          "scatterpolargl": [
           {
            "marker": {
             "colorbar": {
              "outlinewidth": 0,
              "ticks": ""
             }
            },
            "type": "scatterpolargl"
           }
          ],
          "scatterternary": [
           {
            "marker": {
             "colorbar": {
              "outlinewidth": 0,
              "ticks": ""
             }
            },
            "type": "scatterternary"
           }
          ],
          "surface": [
           {
            "colorbar": {
             "outlinewidth": 0,
             "ticks": ""
            },
            "colorscale": [
             [
              0,
              "#0d0887"
             ],
             [
              0.1111111111111111,
              "#46039f"
             ],
             [
              0.2222222222222222,
              "#7201a8"
             ],
             [
              0.3333333333333333,
              "#9c179e"
             ],
             [
              0.4444444444444444,
              "#bd3786"
             ],
             [
              0.5555555555555556,
              "#d8576b"
             ],
             [
              0.6666666666666666,
              "#ed7953"
             ],
             [
              0.7777777777777778,
              "#fb9f3a"
             ],
             [
              0.8888888888888888,
              "#fdca26"
             ],
             [
              1,
              "#f0f921"
             ]
            ],
            "type": "surface"
           }
          ],
          "table": [
           {
            "cells": {
             "fill": {
              "color": "#EBF0F8"
             },
             "line": {
              "color": "white"
             }
            },
            "header": {
             "fill": {
              "color": "#C8D4E3"
             },
             "line": {
              "color": "white"
             }
            },
            "type": "table"
           }
          ]
         },
         "layout": {
          "font": {
           "size": 18
          },
          "xaxis": {
           "title": {
            "font": {
             "size": 24
            }
           }
          },
          "yaxis": {
           "title": {
            "font": {
             "size": 24
            }
           }
          }
         }
        },
        "xaxis": {
         "anchor": "y",
         "domain": [
          0,
          1
         ],
         "title": {
          "text": "Date"
         }
        },
        "yaxis": {
         "anchor": "x",
         "domain": [
          0,
          1
         ],
         "title": {
          "text": "Air Passengers"
         }
        }
       }
      }
     },
     "metadata": {},
     "output_type": "display_data"
    }
   ],
   "source": [
    "# Store losses per epoch\n",
    "train_losses = []\n",
    "test_losses = []\n",
    "\n",
    "print(\"Untrained test\\n--------\")\n",
    "initial_test_loss = test_model(test_loader, model, loss_function)\n",
    "test_losses.append(initial_test_loss)\n",
    "print()\n",
    "\n",
    "\n",
    "for ix_epoch in range(20):\n",
    "    print(f\"Epoch {ix_epoch}\\n---------\")\n",
    "    train_loss = train_model(train_loader, model, loss_function, optimizer=optimizer)\n",
    "    train_losses.append(train_loss)\n",
    "    \n",
    "    test_loss = test_model(test_loader, model, loss_function)\n",
    "    test_losses.append(test_loss)\n",
    "    print()\n",
    "\n",
    "print(\"Hidden SİZE XD\", model.hidden_size)\n",
    "\n",
    "# Plot loss per epoch\n",
    "plt.figure(figsize=(10,5))\n",
    "plt.plot(train_losses, label='Training loss')\n",
    "plt.plot(test_losses, label='Testing loss')\n",
    "plt.xlabel('Epochs')\n",
    "plt.ylabel('Loss')\n",
    "plt.legend()\n",
    "plt.show()\n",
    "\n",
    "# %% [markdown]\n",
    "# # Evaluation\n",
    "\n",
    "# %%\n",
    "def predict(data_loader, model):\n",
    "    \"\"\"Just like `test_loop` function but keep track of the outputs instead of the loss\n",
    "    function.\n",
    "    \"\"\"\n",
    "    output = torch.tensor([])\n",
    "    model.eval()\n",
    "    with torch.no_grad():\n",
    "        for X, _ in data_loader:\n",
    "            y_star = model(X)\n",
    "            output = torch.cat((output, y_star), 0)\n",
    "    \n",
    "    return output\n",
    "\n",
    "# %%\n",
    "train_eval_loader = DataLoader(train_dataset, batch_size=batch_size, shuffle=False)\n",
    "\n",
    "ystar_col = \"Model forecast\"\n",
    "df_train[ystar_col] = predict(train_eval_loader, model).numpy()\n",
    "df_test[ystar_col] = predict(test_loader, model).numpy()\n",
    "\n",
    "df_out = pd.concat((df_train, df_test))[[target, ystar_col]]\n",
    "\n",
    "for c in df_out.columns:\n",
    "    df_out[c] = df_out[c] * target_stdev + target_mean\n",
    "\n",
    "print(df_out)\n",
    "\n",
    "# %%\n",
    "fig = px.line(df_out, labels={'value': \"Air Passengers\", 'Month': 'Date'})\n",
    "fig.add_vline(x=test_start, line_width=4, line_dash=\"dash\")\n",
    "fig.add_annotation(xref=\"paper\", x=0.75, yref=\"paper\", y=0.8, text=\"Test set start\", showarrow=False)\n",
    "fig.update_layout(\n",
    "  template=plot_template, legend=dict(orientation='h', y=1.02, title_text=\"\")\n",
    ")\n",
    "fig.show()\n",
    "# fig.write_image(\"air_passengers_forecast.png\", width=1200, height=600)\n"
   ]
  },
  {
   "cell_type": "code",
   "execution_count": 84,
   "metadata": {},
   "outputs": [
    {
     "name": "stdout",
     "output_type": "stream",
     "text": [
      "MAPE 0.09234318675382475\n",
      "Test MAPE 0.10184561019366577\n"
     ]
    }
   ],
   "source": [
    "from sklearn.metrics import mean_absolute_percentage_error\n",
    "\n",
    "\n",
    "mape = mean_absolute_percentage_error(df_out['Model forecast'], df_out['lead1'])\n",
    "mape_test = mean_absolute_percentage_error(df_out['lead1'].iloc[118:144], df_out['Model forecast'].iloc[118:144])\n",
    "print(\"MAPE\", mape)\n",
    "print(\"Test MAPE\", mape_test)\n",
    "\n"
   ]
  }
 ],
 "metadata": {
  "kernelspec": {
   "display_name": "Python 3",
   "language": "python",
   "name": "python3"
  },
  "language_info": {
   "codemirror_mode": {
    "name": "ipython",
    "version": 3
   },
   "file_extension": ".py",
   "mimetype": "text/x-python",
   "name": "python",
   "nbconvert_exporter": "python",
   "pygments_lexer": "ipython3",
   "version": "3.10.5"
  },
  "orig_nbformat": 4
 },
 "nbformat": 4,
 "nbformat_minor": 2
}
