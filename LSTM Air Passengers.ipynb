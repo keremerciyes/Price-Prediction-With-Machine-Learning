{
 "cells": [
  {
   "cell_type": "code",
   "execution_count": 1,
   "metadata": {},
   "outputs": [
    {
     "data": {
      "application/vnd.plotly.v1+json": {
       "config": {
        "plotlyServerURL": "https://plot.ly"
       },
       "data": [
        {
         "hovertemplate": "variable=Passengers<br>Month=%{x}<br>Passengers=%{y}<extra></extra>",
         "legendgroup": "Passengers",
         "line": {
          "color": "#636efa",
          "dash": "solid"
         },
         "marker": {
          "symbol": "circle"
         },
         "mode": "lines",
         "name": "Passengers",
         "orientation": "v",
         "showlegend": true,
         "type": "scatter",
         "x": [
          "1949-01-01T00:00:00",
          "1949-02-01T00:00:00",
          "1949-03-01T00:00:00",
          "1949-04-01T00:00:00",
          "1949-05-01T00:00:00",
          "1949-06-01T00:00:00",
          "1949-07-01T00:00:00",
          "1949-08-01T00:00:00",
          "1949-09-01T00:00:00",
          "1949-10-01T00:00:00",
          "1949-11-01T00:00:00",
          "1949-12-01T00:00:00",
          "1950-01-01T00:00:00",
          "1950-02-01T00:00:00",
          "1950-03-01T00:00:00",
          "1950-04-01T00:00:00",
          "1950-05-01T00:00:00",
          "1950-06-01T00:00:00",
          "1950-07-01T00:00:00",
          "1950-08-01T00:00:00",
          "1950-09-01T00:00:00",
          "1950-10-01T00:00:00",
          "1950-11-01T00:00:00",
          "1950-12-01T00:00:00",
          "1951-01-01T00:00:00",
          "1951-02-01T00:00:00",
          "1951-03-01T00:00:00",
          "1951-04-01T00:00:00",
          "1951-05-01T00:00:00",
          "1951-06-01T00:00:00",
          "1951-07-01T00:00:00",
          "1951-08-01T00:00:00",
          "1951-09-01T00:00:00",
          "1951-10-01T00:00:00",
          "1951-11-01T00:00:00",
          "1951-12-01T00:00:00",
          "1952-01-01T00:00:00",
          "1952-02-01T00:00:00",
          "1952-03-01T00:00:00",
          "1952-04-01T00:00:00",
          "1952-05-01T00:00:00",
          "1952-06-01T00:00:00",
          "1952-07-01T00:00:00",
          "1952-08-01T00:00:00",
          "1952-09-01T00:00:00",
          "1952-10-01T00:00:00",
          "1952-11-01T00:00:00",
          "1952-12-01T00:00:00",
          "1953-01-01T00:00:00",
          "1953-02-01T00:00:00",
          "1953-03-01T00:00:00",
          "1953-04-01T00:00:00",
          "1953-05-01T00:00:00",
          "1953-06-01T00:00:00",
          "1953-07-01T00:00:00",
          "1953-08-01T00:00:00",
          "1953-09-01T00:00:00",
          "1953-10-01T00:00:00",
          "1953-11-01T00:00:00",
          "1953-12-01T00:00:00",
          "1954-01-01T00:00:00",
          "1954-02-01T00:00:00",
          "1954-03-01T00:00:00",
          "1954-04-01T00:00:00",
          "1954-05-01T00:00:00",
          "1954-06-01T00:00:00",
          "1954-07-01T00:00:00",
          "1954-08-01T00:00:00",
          "1954-09-01T00:00:00",
          "1954-10-01T00:00:00",
          "1954-11-01T00:00:00",
          "1954-12-01T00:00:00",
          "1955-01-01T00:00:00",
          "1955-02-01T00:00:00",
          "1955-03-01T00:00:00",
          "1955-04-01T00:00:00",
          "1955-05-01T00:00:00",
          "1955-06-01T00:00:00",
          "1955-07-01T00:00:00",
          "1955-08-01T00:00:00",
          "1955-09-01T00:00:00",
          "1955-10-01T00:00:00",
          "1955-11-01T00:00:00",
          "1955-12-01T00:00:00",
          "1956-01-01T00:00:00",
          "1956-02-01T00:00:00",
          "1956-03-01T00:00:00",
          "1956-04-01T00:00:00",
          "1956-05-01T00:00:00",
          "1956-06-01T00:00:00",
          "1956-07-01T00:00:00",
          "1956-08-01T00:00:00",
          "1956-09-01T00:00:00",
          "1956-10-01T00:00:00",
          "1956-11-01T00:00:00",
          "1956-12-01T00:00:00",
          "1957-01-01T00:00:00",
          "1957-02-01T00:00:00",
          "1957-03-01T00:00:00",
          "1957-04-01T00:00:00",
          "1957-05-01T00:00:00",
          "1957-06-01T00:00:00",
          "1957-07-01T00:00:00",
          "1957-08-01T00:00:00",
          "1957-09-01T00:00:00",
          "1957-10-01T00:00:00",
          "1957-11-01T00:00:00",
          "1957-12-01T00:00:00",
          "1958-01-01T00:00:00",
          "1958-02-01T00:00:00",
          "1958-03-01T00:00:00",
          "1958-04-01T00:00:00",
          "1958-05-01T00:00:00",
          "1958-06-01T00:00:00",
          "1958-07-01T00:00:00",
          "1958-08-01T00:00:00",
          "1958-09-01T00:00:00",
          "1958-10-01T00:00:00",
          "1958-11-01T00:00:00",
          "1958-12-01T00:00:00",
          "1959-01-01T00:00:00",
          "1959-02-01T00:00:00",
          "1959-03-01T00:00:00",
          "1959-04-01T00:00:00",
          "1959-05-01T00:00:00",
          "1959-06-01T00:00:00",
          "1959-07-01T00:00:00",
          "1959-08-01T00:00:00",
          "1959-09-01T00:00:00",
          "1959-10-01T00:00:00",
          "1959-11-01T00:00:00",
          "1959-12-01T00:00:00",
          "1960-01-01T00:00:00",
          "1960-02-01T00:00:00",
          "1960-03-01T00:00:00",
          "1960-04-01T00:00:00",
          "1960-05-01T00:00:00",
          "1960-06-01T00:00:00",
          "1960-07-01T00:00:00",
          "1960-08-01T00:00:00",
          "1960-09-01T00:00:00",
          "1960-10-01T00:00:00",
          "1960-11-01T00:00:00",
          "1960-12-01T00:00:00"
         ],
         "xaxis": "x",
         "y": [
          112,
          118,
          132,
          129,
          121,
          135,
          148,
          148,
          136,
          119,
          104,
          118,
          115,
          126,
          141,
          135,
          125,
          149,
          170,
          170,
          158,
          133,
          114,
          140,
          145,
          150,
          178,
          163,
          172,
          178,
          199,
          199,
          184,
          162,
          146,
          166,
          171,
          180,
          193,
          181,
          183,
          218,
          230,
          242,
          209,
          191,
          172,
          194,
          196,
          196,
          236,
          235,
          229,
          243,
          264,
          272,
          237,
          211,
          180,
          201,
          204,
          188,
          235,
          227,
          234,
          264,
          302,
          293,
          259,
          229,
          203,
          229,
          242,
          233,
          267,
          269,
          270,
          315,
          364,
          347,
          312,
          274,
          237,
          278,
          284,
          277,
          317,
          313,
          318,
          374,
          413,
          405,
          355,
          306,
          271,
          306,
          315,
          301,
          356,
          348,
          355,
          422,
          465,
          467,
          404,
          347,
          305,
          336,
          340,
          318,
          362,
          348,
          363,
          435,
          491,
          505,
          404,
          359,
          310,
          337,
          360,
          342,
          406,
          396,
          420,
          472,
          548,
          559,
          463,
          407,
          362,
          405,
          417,
          391,
          419,
          461,
          472,
          535,
          622,
          606,
          508,
          461,
          390,
          432
         ],
         "yaxis": "y"
        }
       ],
       "layout": {
        "legend": {
         "orientation": "h",
         "title": {
          "text": ""
         },
         "tracegroupgap": 0,
         "y": 1.02
        },
        "margin": {
         "t": 60
        },
        "template": {
         "data": {
          "bar": [
           {
            "error_x": {
             "color": "#2a3f5f"
            },
            "error_y": {
             "color": "#2a3f5f"
            },
            "marker": {
             "line": {
              "color": "white",
              "width": 0.5
             },
             "pattern": {
              "fillmode": "overlay",
              "size": 10,
              "solidity": 0.2
             }
            },
            "type": "bar"
           }
          ],
          "barpolar": [
           {
            "marker": {
             "line": {
              "color": "white",
              "width": 0.5
             },
             "pattern": {
              "fillmode": "overlay",
              "size": 10,
              "solidity": 0.2
             }
            },
            "type": "barpolar"
           }
          ],
          "carpet": [
           {
            "aaxis": {
             "endlinecolor": "#2a3f5f",
             "gridcolor": "#C8D4E3",
             "linecolor": "#C8D4E3",
             "minorgridcolor": "#C8D4E3",
             "startlinecolor": "#2a3f5f"
            },
            "baxis": {
             "endlinecolor": "#2a3f5f",
             "gridcolor": "#C8D4E3",
             "linecolor": "#C8D4E3",
             "minorgridcolor": "#C8D4E3",
             "startlinecolor": "#2a3f5f"
            },
            "type": "carpet"
           }
          ],
          "choropleth": [
           {
            "colorbar": {
             "outlinewidth": 0,
             "ticks": ""
            },
            "type": "choropleth"
           }
          ],
          "contour": [
           {
            "colorbar": {
             "outlinewidth": 0,
             "ticks": ""
            },
            "colorscale": [
             [
              0,
              "#0d0887"
             ],
             [
              0.1111111111111111,
              "#46039f"
             ],
             [
              0.2222222222222222,
              "#7201a8"
             ],
             [
              0.3333333333333333,
              "#9c179e"
             ],
             [
              0.4444444444444444,
              "#bd3786"
             ],
             [
              0.5555555555555556,
              "#d8576b"
             ],
             [
              0.6666666666666666,
              "#ed7953"
             ],
             [
              0.7777777777777778,
              "#fb9f3a"
             ],
             [
              0.8888888888888888,
              "#fdca26"
             ],
             [
              1,
              "#f0f921"
             ]
            ],
            "type": "contour"
           }
          ],
          "contourcarpet": [
           {
            "colorbar": {
             "outlinewidth": 0,
             "ticks": ""
            },
            "type": "contourcarpet"
           }
          ],
          "heatmap": [
           {
            "colorbar": {
             "outlinewidth": 0,
             "ticks": ""
            },
            "colorscale": [
             [
              0,
              "#0d0887"
             ],
             [
              0.1111111111111111,
              "#46039f"
             ],
             [
              0.2222222222222222,
              "#7201a8"
             ],
             [
              0.3333333333333333,
              "#9c179e"
             ],
             [
              0.4444444444444444,
              "#bd3786"
             ],
             [
              0.5555555555555556,
              "#d8576b"
             ],
             [
              0.6666666666666666,
              "#ed7953"
             ],
             [
              0.7777777777777778,
              "#fb9f3a"
             ],
             [
              0.8888888888888888,
              "#fdca26"
             ],
             [
              1,
              "#f0f921"
             ]
            ],
            "type": "heatmap"
           }
          ],
          "heatmapgl": [
           {
            "colorbar": {
             "outlinewidth": 0,
             "ticks": ""
            },
            "colorscale": [
             [
              0,
              "#0d0887"
             ],
             [
              0.1111111111111111,
              "#46039f"
             ],
             [
              0.2222222222222222,
              "#7201a8"
             ],
             [
              0.3333333333333333,
              "#9c179e"
             ],
             [
              0.4444444444444444,
              "#bd3786"
             ],
             [
              0.5555555555555556,
              "#d8576b"
             ],
             [
              0.6666666666666666,
              "#ed7953"
             ],
             [
              0.7777777777777778,
              "#fb9f3a"
             ],
             [
              0.8888888888888888,
              "#fdca26"
             ],
             [
              1,
              "#f0f921"
             ]
            ],
            "type": "heatmapgl"
           }
          ],
          "histogram": [
           {
            "marker": {
             "pattern": {
              "fillmode": "overlay",
              "size": 10,
              "solidity": 0.2
             }
            },
            "type": "histogram"
           }
          ],
          "histogram2d": [
           {
            "colorbar": {
             "outlinewidth": 0,
             "ticks": ""
            },
            "colorscale": [
             [
              0,
              "#0d0887"
             ],
             [
              0.1111111111111111,
              "#46039f"
             ],
             [
              0.2222222222222222,
              "#7201a8"
             ],
             [
              0.3333333333333333,
              "#9c179e"
             ],
             [
              0.4444444444444444,
              "#bd3786"
             ],
             [
              0.5555555555555556,
              "#d8576b"
             ],
             [
              0.6666666666666666,
              "#ed7953"
             ],
             [
              0.7777777777777778,
              "#fb9f3a"
             ],
             [
              0.8888888888888888,
              "#fdca26"
             ],
             [
              1,
              "#f0f921"
             ]
            ],
            "type": "histogram2d"
           }
          ],
          "histogram2dcontour": [
           {
            "colorbar": {
             "outlinewidth": 0,
             "ticks": ""
            },
            "colorscale": [
             [
              0,
              "#0d0887"
             ],
             [
              0.1111111111111111,
              "#46039f"
             ],
             [
              0.2222222222222222,
              "#7201a8"
             ],
             [
              0.3333333333333333,
              "#9c179e"
             ],
             [
              0.4444444444444444,
              "#bd3786"
             ],
             [
              0.5555555555555556,
              "#d8576b"
             ],
             [
              0.6666666666666666,
              "#ed7953"
             ],
             [
              0.7777777777777778,
              "#fb9f3a"
             ],
             [
              0.8888888888888888,
              "#fdca26"
             ],
             [
              1,
              "#f0f921"
             ]
            ],
            "type": "histogram2dcontour"
           }
          ],
          "mesh3d": [
           {
            "colorbar": {
             "outlinewidth": 0,
             "ticks": ""
            },
            "type": "mesh3d"
           }
          ],
          "parcoords": [
           {
            "line": {
             "colorbar": {
              "outlinewidth": 0,
              "ticks": ""
             }
            },
            "type": "parcoords"
           }
          ],
          "pie": [
           {
            "automargin": true,
            "type": "pie"
           }
          ],
          "scatter": [
           {
            "fillpattern": {
             "fillmode": "overlay",
             "size": 10,
             "solidity": 0.2
            },
            "type": "scatter"
           }
          ],
          "scatter3d": [
           {
            "line": {
             "colorbar": {
              "outlinewidth": 0,
              "ticks": ""
             }
            },
            "marker": {
             "colorbar": {
              "outlinewidth": 0,
              "ticks": ""
             }
            },
            "type": "scatter3d"
           }
          ],
          "scattercarpet": [
           {
            "marker": {
             "colorbar": {
              "outlinewidth": 0,
              "ticks": ""
             }
            },
            "type": "scattercarpet"
           }
          ],
          "scattergeo": [
           {
            "marker": {
             "colorbar": {
              "outlinewidth": 0,
              "ticks": ""
             }
            },
            "type": "scattergeo"
           }
          ],
          "scattergl": [
           {
            "marker": {
             "colorbar": {
              "outlinewidth": 0,
              "ticks": ""
             }
            },
            "type": "scattergl"
           }
          ],
          "scattermapbox": [
           {
            "marker": {
             "colorbar": {
              "outlinewidth": 0,
              "ticks": ""
             }
            },
            "type": "scattermapbox"
           }
          ],
          "scatterpolar": [
           {
            "marker": {
             "colorbar": {
              "outlinewidth": 0,
              "ticks": ""
             }
            },
            "type": "scatterpolar"
           }
          ],
          "scatterpolargl": [
           {
            "marker": {
             "colorbar": {
              "outlinewidth": 0,
              "ticks": ""
             }
            },
            "type": "scatterpolargl"
           }
          ],
          "scatterternary": [
           {
            "marker": {
             "colorbar": {
              "outlinewidth": 0,
              "ticks": ""
             }
            },
            "type": "scatterternary"
           }
          ],
          "surface": [
           {
            "colorbar": {
             "outlinewidth": 0,
             "ticks": ""
            },
            "colorscale": [
             [
              0,
              "#0d0887"
             ],
             [
              0.1111111111111111,
              "#46039f"
             ],
             [
              0.2222222222222222,
              "#7201a8"
             ],
             [
              0.3333333333333333,
              "#9c179e"
             ],
             [
              0.4444444444444444,
              "#bd3786"
             ],
             [
              0.5555555555555556,
              "#d8576b"
             ],
             [
              0.6666666666666666,
              "#ed7953"
             ],
             [
              0.7777777777777778,
              "#fb9f3a"
             ],
             [
              0.8888888888888888,
              "#fdca26"
             ],
             [
              1,
              "#f0f921"
             ]
            ],
            "type": "surface"
           }
          ],
          "table": [
           {
            "cells": {
             "fill": {
              "color": "#EBF0F8"
             },
             "line": {
              "color": "white"
             }
            },
            "header": {
             "fill": {
              "color": "#C8D4E3"
             },
             "line": {
              "color": "white"
             }
            },
            "type": "table"
           }
          ]
         },
         "layout": {
          "font": {
           "size": 18
          },
          "xaxis": {
           "title": {
            "font": {
             "size": 24
            }
           }
          },
          "yaxis": {
           "title": {
            "font": {
             "size": 24
            }
           }
          }
         }
        },
        "xaxis": {
         "anchor": "y",
         "domain": [
          0,
          1
         ],
         "title": {
          "text": "Month"
         }
        },
        "yaxis": {
         "anchor": "x",
         "domain": [
          0,
          1
         ],
         "title": {
          "text": "Passengers"
         }
        }
       }
      }
     },
     "metadata": {},
     "output_type": "display_data"
    },
    {
     "name": "stdout",
     "output_type": "stream",
     "text": [
      "Test set fraction: 0.24475524475524477\n"
     ]
    }
   ],
   "source": [
    "# %% [markdown]\n",
    "# # How to use PyTorch LSTMs for time series regression\n",
    "\n",
    "# %% [markdown]\n",
    "# # Data\n",
    "\n",
    "# %% [markdown]\n",
    "# 1. Download the Air Passengers data.\n",
    "# 2. Load the Air Passengers data into a DataFrame.\n",
    "\n",
    "# %%\n",
    "import pandas as pd\n",
    "\n",
    "df = pd.read_csv(\"data-sets/BTC-USD-2018-2023.csv\", index_col=\"Date\", parse_dates=True)\n",
    "df.rename(columns={'#Passengers': ''}, inplace=True)\n",
    "\n",
    "# %%\n",
    "import plotly.express as px\n",
    "import plotly.graph_objects as go\n",
    "import plotly.io as pio\n",
    "pio.templates.default = \"plotly_white\"\n",
    "\n",
    "plot_template = dict(\n",
    "    layout=go.Layout({\n",
    "        \"font_size\": 18,\n",
    "        \"xaxis_title_font_size\": 24,\n",
    "        \"yaxis_title_font_size\": 24})\n",
    ")\n",
    "\n",
    "fig = px.line(df, labels=dict(index=\"Date\", value=\"Passengers\"))\n",
    "fig.update_layout(\n",
    "  template=plot_template, legend=dict(orientation='h', y=1.02, title_text=\"\")\n",
    ")\n",
    "fig.show()\n",
    "\n",
    "# %% [markdown]\n",
    "# ## Create the target variable\n",
    "\n",
    "# %%\n",
    "forecast_lead = 1\n",
    "target = f\"lead{forecast_lead}\"\n",
    "\n",
    "df[target] = df[\"Passengers\"].shift(-forecast_lead)\n",
    "df = df.iloc[:-forecast_lead]\n",
    "\n",
    "# %% [markdown]\n",
    "# ## Create a hold-out test set and preprocess the data\n",
    "\n",
    "# %%\n",
    "test_start = \"1958-01-01\"\n",
    "\n",
    "df_train = df.loc[:test_start].copy()\n",
    "df_test = df.loc[test_start:].copy()\n",
    "\n",
    "print(\"Test set fraction:\", len(df_test) / len(df))\n",
    "\n",
    "# %% [markdown]\n",
    "# ## Standardize the features and target, based on the training set\n",
    "\n",
    "# %%\n",
    "target_mean = df_train[target].mean()\n",
    "target_stdev = df_train[target].std()\n",
    "\n",
    "df_train[\"Passengers\"] = (df_train[\"Passengers\"] - target_mean) / target_stdev\n",
    "df_test[\"Passengers\"] = (df_test[\"Passengers\"] - target_mean) / target_stdev\n",
    "\n",
    "df_train[target] = (df_train[target] - target_mean) / target_stdev\n",
    "df_test[target] = (df_test[target] - target_mean) / target_stdev\n",
    "\n",
    "# %% [markdown]\n",
    "# ## Create datasets that PyTorch `DataLoader` can work with\n",
    "\n",
    "# %%\n",
    "import torch\n",
    "from torch.utils.data import Dataset\n",
    "\n",
    "class SequenceDataset(Dataset):\n",
    "    def __init__(self, dataframe, target, sequence_length=5):\n",
    "        self.target = target\n",
    "        self.sequence_length = sequence_length\n",
    "        self.y = torch.tensor(dataframe[self.target].values).float()\n",
    "        self.X = torch.tensor(dataframe['Passengers'].values).float().unsqueeze(1)\n",
    "\n",
    "    def __len__(self):\n",
    "        return self.X.shape[0]\n",
    "\n",
    "    def __getitem__(self, i): \n",
    "        if i >= self.sequence_length - 1:\n",
    "            i_start = i - self.sequence_length + 1\n",
    "            x = self.X[i_start:(i + 1), :]\n",
    "        else:\n",
    "            padding = self.X[0].repeat(self.sequence_length - i - 1, 1)\n",
    "            x = self.X[0:(i + 1), :]\n",
    "            x = torch.cat((padding, x), 0)\n",
    "\n",
    "        return x, self.y[i]\n",
    "        \n",
    "# Continue the rest of the code as before\n"
   ]
  },
  {
   "cell_type": "code",
   "execution_count": 2,
   "metadata": {},
   "outputs": [
    {
     "name": "stdout",
     "output_type": "stream",
     "text": [
      "Features shape: torch.Size([3, 3, 1])\n",
      "Target shape: torch.Size([3])\n"
     ]
    }
   ],
   "source": [
    "# %% [markdown]\n",
    "# ## Create the datasets and data loaders\n",
    "\n",
    "# %%\n",
    "from bayes_opt import BayesianOptimization, UtilityFunction\n",
    "from matplotlib import pyplot as plt\n",
    "from torch.utils.data import DataLoader\n",
    "torch.manual_seed(101)\n",
    "\n",
    "batch_size = 3\n",
    "sequence_length = 3\n",
    "\n",
    "train_dataset = SequenceDataset(\n",
    "    df_train,\n",
    "    target=target,\n",
    "    sequence_length=sequence_length\n",
    ")\n",
    "test_dataset = SequenceDataset(\n",
    "    df_test,\n",
    "    target=target,\n",
    "    sequence_length=sequence_length\n",
    ")\n",
    "\n",
    "train_loader = DataLoader(train_dataset, batch_size=batch_size, shuffle=True)\n",
    "test_loader = DataLoader(test_dataset, batch_size=batch_size, shuffle=False)\n",
    "\n",
    "X, y = next(iter(train_loader))\n",
    "print(\"Features shape:\", X.shape)\n",
    "print(\"Target shape:\", y.shape)\n",
    "\n",
    "# %% [markdown]\n",
    "# # The model and learning algorithm\n",
    "\n",
    "# %%\n",
    "from torch import nn\n",
    "\n",
    "class ShallowRegressionLSTM(nn.Module):\n",
    "    def __init__(self, hidden_size, num_layers):\n",
    "        super().__init__()\n",
    "        self.hidden_size = hidden_size\n",
    "        self.num_layers = num_layers\n",
    "\n",
    "        self.lstm = nn.LSTM(\n",
    "            input_size=1,\n",
    "            hidden_size=hidden_size,\n",
    "            batch_first=True,\n",
    "            num_layers=self.num_layers\n",
    "        )\n",
    "\n",
    "        self.linear = nn.Linear(in_features=self.hidden_size, out_features=1)\n",
    "\n",
    "    def forward(self, x):\n",
    "        batch_size = x.shape[0]\n",
    "        h0 = torch.zeros(self.num_layers, batch_size, self.hidden_size).requires_grad_()\n",
    "        c0 = torch.zeros(self.num_layers, batch_size, self.hidden_size).requires_grad_()\n",
    "        \n",
    "        _, (hn, _) = self.lstm(x, (h0, c0))\n",
    "        out = self.linear(hn[0]).flatten()\n",
    "\n",
    "        return out"
   ]
  },
  {
   "cell_type": "code",
   "execution_count": 3,
   "metadata": {},
   "outputs": [
    {
     "name": "stdout",
     "output_type": "stream",
     "text": [
      "|   iter    |  target   | batch_... | learni... | num_hi... | num_la... | weight... |\n",
      "-------------------------------------------------------------------------------------\n",
      "Train loss: 0.9599555233443106\n",
      "Test loss: 5.4819841384887695\n",
      "| \u001b[0m1        \u001b[0m | \u001b[0m-5.482   \u001b[0m | \u001b[0m46.04    \u001b[0m | \u001b[0m-2.839   \u001b[0m | \u001b[0m1.007    \u001b[0m | \u001b[0m2.605    \u001b[0m | \u001b[0m-4.56    \u001b[0m |\n",
      "Train loss: 0.8940688709954958\n",
      "Test loss: 5.955228805541992\n",
      "| \u001b[0m2        \u001b[0m | \u001b[0m-5.955   \u001b[0m | \u001b[0m10.97    \u001b[0m | \u001b[0m-4.441   \u001b[0m | \u001b[0m22.77    \u001b[0m | \u001b[0m2.794    \u001b[0m | \u001b[0m-3.384   \u001b[0m |\n",
      "Train loss: 1.0792231813475892\n",
      "Test loss: 6.152967631816864\n",
      "| \u001b[0m3        \u001b[0m | \u001b[0m-6.153   \u001b[0m | \u001b[0m46.27    \u001b[0m | \u001b[0m-2.944   \u001b[0m | \u001b[0m13.88    \u001b[0m | \u001b[0m3.756    \u001b[0m | \u001b[0m-4.918   \u001b[0m |\n",
      "Train loss: 1.1144888835984308\n",
      "Test loss: 6.4306001762549085\n",
      "| \u001b[0m4        \u001b[0m | \u001b[0m-6.431   \u001b[0m | \u001b[0m73.41    \u001b[0m | \u001b[0m-3.748   \u001b[0m | \u001b[0m36.2     \u001b[0m | \u001b[0m2.281    \u001b[0m | \u001b[0m-4.406   \u001b[0m |\n",
      "Train loss: 0.5662313249289386\n",
      "Test loss: 1.4251145394518971\n",
      "| \u001b[95m5        \u001b[0m | \u001b[95m-1.425   \u001b[0m | \u001b[95m87.48    \u001b[0m | \u001b[95m-2.095   \u001b[0m | \u001b[95m20.75    \u001b[0m | \u001b[95m3.385    \u001b[0m | \u001b[95m-2.371   \u001b[0m |\n",
      "Train loss: 0.5154625125531409\n",
      "Test loss: 0.9882196436325709\n",
      "| \u001b[95m6        \u001b[0m | \u001b[95m-0.9882  \u001b[0m | \u001b[95m87.81    \u001b[0m | \u001b[95m-2.086   \u001b[0m | \u001b[95m21.5     \u001b[0m | \u001b[95m3.312    \u001b[0m | \u001b[95m-2.124   \u001b[0m |\n",
      "Train loss: 0.44027509344615845\n",
      "Test loss: 1.5825480502098799\n",
      "| \u001b[0m7        \u001b[0m | \u001b[0m-1.583   \u001b[0m | \u001b[0m93.39    \u001b[0m | \u001b[0m-2.0     \u001b[0m | \u001b[0m24.21    \u001b[0m | \u001b[0m2.971    \u001b[0m | \u001b[0m-2.0     \u001b[0m |\n",
      "Train loss: 1.0910975679352477\n",
      "Test loss: 6.05984150369962\n",
      "| \u001b[0m8        \u001b[0m | \u001b[0m-6.06    \u001b[0m | \u001b[0m87.12    \u001b[0m | \u001b[0m-4.713   \u001b[0m | \u001b[0m28.41    \u001b[0m | \u001b[0m2.74     \u001b[0m | \u001b[0m-2.342   \u001b[0m |\n",
      "Train loss: 0.3935422425133151\n",
      "Test loss: 0.9208150313546261\n",
      "| \u001b[95m9        \u001b[0m | \u001b[95m-0.9208  \u001b[0m | \u001b[95m91.93    \u001b[0m | \u001b[95m-2.0     \u001b[0m | \u001b[95m19.84    \u001b[0m | \u001b[95m2.0      \u001b[0m | \u001b[95m-2.0     \u001b[0m |\n",
      "Train loss: 0.4976651999052748\n",
      "Test loss: 1.462478316699465\n",
      "| \u001b[0m10       \u001b[0m | \u001b[0m-1.462   \u001b[0m | \u001b[0m98.64    \u001b[0m | \u001b[0m-2.0     \u001b[0m | \u001b[0m18.67    \u001b[0m | \u001b[0m4.0      \u001b[0m | \u001b[0m-2.0     \u001b[0m |\n",
      "Train loss: 0.5527316839056643\n",
      "Test loss: 1.727020399024089\n",
      "| \u001b[0m11       \u001b[0m | \u001b[0m-1.727   \u001b[0m | \u001b[0m96.53    \u001b[0m | \u001b[0m-2.0     \u001b[0m | \u001b[0m11.26    \u001b[0m | \u001b[0m2.0      \u001b[0m | \u001b[0m-2.0     \u001b[0m |\n",
      "Train loss: 1.04126889198213\n",
      "Test loss: 6.26565957069397\n",
      "| \u001b[0m12       \u001b[0m | \u001b[0m-6.266   \u001b[0m | \u001b[0m104.0    \u001b[0m | \u001b[0m-5.0     \u001b[0m | \u001b[0m13.36    \u001b[0m | \u001b[0m2.0      \u001b[0m | \u001b[0m-5.0     \u001b[0m |\n",
      "Train loss: 1.0462077634560096\n",
      "Test loss: 5.379275759061177\n",
      "| \u001b[0m13       \u001b[0m | \u001b[0m-5.379   \u001b[0m | \u001b[0m94.01    \u001b[0m | \u001b[0m-5.0     \u001b[0m | \u001b[0m19.29    \u001b[0m | \u001b[0m4.0      \u001b[0m | \u001b[0m-5.0     \u001b[0m |\n",
      "Train loss: 0.30450186824954645\n",
      "Test loss: 0.7664406380305687\n",
      "| \u001b[95m14       \u001b[0m | \u001b[95m-0.7664  \u001b[0m | \u001b[95m99.06    \u001b[0m | \u001b[95m-2.0     \u001b[0m | \u001b[95m23.27    \u001b[0m | \u001b[95m2.0      \u001b[0m | \u001b[95m-2.0     \u001b[0m |\n",
      "Train loss: 0.4173297014817394\n",
      "Test loss: 1.4119221791625023\n",
      "| \u001b[0m15       \u001b[0m | \u001b[0m-1.412   \u001b[0m | \u001b[0m103.9    \u001b[0m | \u001b[0m-2.0     \u001b[0m | \u001b[0m24.73    \u001b[0m | \u001b[0m4.0      \u001b[0m | \u001b[0m-2.0     \u001b[0m |\n",
      "Train loss: 0.3692390312994453\n",
      "Test loss: 1.2569017612064879\n",
      "| \u001b[0m16       \u001b[0m | \u001b[0m-1.257   \u001b[0m | \u001b[0m100.5    \u001b[0m | \u001b[0m-2.0     \u001b[0m | \u001b[0m29.93    \u001b[0m | \u001b[0m2.0      \u001b[0m | \u001b[0m-2.0     \u001b[0m |\n",
      "Train loss: 0.40645710922576284\n",
      "Test loss: 1.5410199450949829\n",
      "| \u001b[0m17       \u001b[0m | \u001b[0m-1.541   \u001b[0m | \u001b[0m107.9    \u001b[0m | \u001b[0m-2.0     \u001b[0m | \u001b[0m32.07    \u001b[0m | \u001b[0m2.0      \u001b[0m | \u001b[0m-2.0     \u001b[0m |\n",
      "Train loss: 0.36136643228599347\n",
      "Test loss: 1.7578238832453887\n",
      "| \u001b[0m18       \u001b[0m | \u001b[0m-1.758   \u001b[0m | \u001b[0m103.1    \u001b[0m | \u001b[0m-2.0     \u001b[0m | \u001b[0m37.56    \u001b[0m | \u001b[0m4.0      \u001b[0m | \u001b[0m-5.0     \u001b[0m |\n",
      "Train loss: 0.874792617418476\n",
      "Test loss: 3.9655307133992515\n",
      "| \u001b[0m19       \u001b[0m | \u001b[0m-3.966   \u001b[0m | \u001b[0m90.66    \u001b[0m | \u001b[0m-2.0     \u001b[0m | \u001b[0m4.908    \u001b[0m | \u001b[0m2.0      \u001b[0m | \u001b[0m-2.0     \u001b[0m |\n",
      "Train loss: 0.9859173882098214\n",
      "Test loss: 6.598897010087967\n",
      "| \u001b[0m20       \u001b[0m | \u001b[0m-6.599   \u001b[0m | \u001b[0m109.0    \u001b[0m | \u001b[0m-5.0     \u001b[0m | \u001b[0m39.97    \u001b[0m | \u001b[0m2.0      \u001b[0m | \u001b[0m-2.0     \u001b[0m |\n",
      "Train loss: 0.4035207811944388\n",
      "Test loss: 2.3096331357955933\n",
      "| \u001b[0m21       \u001b[0m | \u001b[0m-2.31    \u001b[0m | \u001b[0m104.7    \u001b[0m | \u001b[0m-2.0     \u001b[0m | \u001b[0m29.12    \u001b[0m | \u001b[0m2.0      \u001b[0m | \u001b[0m-5.0     \u001b[0m |\n",
      "Train loss: 0.31420613775923345\n",
      "Test loss: 0.9218213018029928\n",
      "| \u001b[0m22       \u001b[0m | \u001b[0m-0.9218  \u001b[0m | \u001b[0m96.85    \u001b[0m | \u001b[0m-2.006   \u001b[0m | \u001b[0m36.32    \u001b[0m | \u001b[0m3.009    \u001b[0m | \u001b[0m-2.749   \u001b[0m |\n",
      "Train loss: 0.4181011346345012\n",
      "Test loss: 1.2285144409785669\n",
      "| \u001b[0m23       \u001b[0m | \u001b[0m-1.229   \u001b[0m | \u001b[0m96.41    \u001b[0m | \u001b[0m-2.0     \u001b[0m | \u001b[0m42.19    \u001b[0m | \u001b[0m4.0      \u001b[0m | \u001b[0m-5.0     \u001b[0m |\n",
      "Train loss: 1.0254831692656956\n",
      "Test loss: 5.813218394915263\n",
      "| \u001b[0m24       \u001b[0m | \u001b[0m-5.813   \u001b[0m | \u001b[0m91.04    \u001b[0m | \u001b[0m-4.643   \u001b[0m | \u001b[0m43.69    \u001b[0m | \u001b[0m3.746    \u001b[0m | \u001b[0m-2.074   \u001b[0m |\n",
      "Train loss: 1.0493011563210874\n",
      "Test loss: 5.646604339281718\n",
      "| \u001b[0m25       \u001b[0m | \u001b[0m-5.647   \u001b[0m | \u001b[0m99.2     \u001b[0m | \u001b[0m-4.274   \u001b[0m | \u001b[0m35.12    \u001b[0m | \u001b[0m3.973    \u001b[0m | \u001b[0m-4.63    \u001b[0m |\n",
      "Train loss: 1.069360132757071\n",
      "Test loss: 7.069298575321834\n",
      "| \u001b[0m26       \u001b[0m | \u001b[0m-7.069   \u001b[0m | \u001b[0m100.3    \u001b[0m | \u001b[0m-3.71    \u001b[0m | \u001b[0m26.65    \u001b[0m | \u001b[0m2.648    \u001b[0m | \u001b[0m-2.616   \u001b[0m |\n",
      "Train loss: 0.41406491420206587\n",
      "Test loss: 1.6654815419266622\n",
      "| \u001b[0m27       \u001b[0m | \u001b[0m-1.665   \u001b[0m | \u001b[0m89.95    \u001b[0m | \u001b[0m-2.021   \u001b[0m | \u001b[0m20.73    \u001b[0m | \u001b[0m2.66     \u001b[0m | \u001b[0m-2.059   \u001b[0m |\n",
      "Train loss: 0.2955898341999666\n",
      "Test loss: 1.785257063806057\n",
      "| \u001b[0m28       \u001b[0m | \u001b[0m-1.785   \u001b[0m | \u001b[0m96.46    \u001b[0m | \u001b[0m-2.0     \u001b[0m | \u001b[0m38.63    \u001b[0m | \u001b[0m3.244    \u001b[0m | \u001b[0m-3.34    \u001b[0m |\n",
      "Train loss: 0.6448414034235317\n",
      "Test loss: 1.393202317878604\n",
      "| \u001b[0m29       \u001b[0m | \u001b[0m-1.393   \u001b[0m | \u001b[0m96.1     \u001b[0m | \u001b[0m-2.245   \u001b[0m | \u001b[0m20.96    \u001b[0m | \u001b[0m2.683    \u001b[0m | \u001b[0m-2.113   \u001b[0m |\n",
      "Train loss: 0.9748272913432604\n",
      "Test loss: 6.840171843767166\n",
      "| \u001b[0m30       \u001b[0m | \u001b[0m-6.84    \u001b[0m | \u001b[0m98.65    \u001b[0m | \u001b[0m-3.583   \u001b[0m | \u001b[0m21.09    \u001b[0m | \u001b[0m2.629    \u001b[0m | \u001b[0m-3.03    \u001b[0m |\n",
      "Train loss: 0.8772671027360736\n",
      "Test loss: 4.718003431955974\n",
      "| \u001b[0m31       \u001b[0m | \u001b[0m-4.718   \u001b[0m | \u001b[0m96.43    \u001b[0m | \u001b[0m-2.972   \u001b[0m | \u001b[0m36.87    \u001b[0m | \u001b[0m2.026    \u001b[0m | \u001b[0m-3.471   \u001b[0m |\n",
      "Train loss: 0.6471767316798906\n",
      "Test loss: 1.730307433133324\n",
      "| \u001b[0m32       \u001b[0m | \u001b[0m-1.73    \u001b[0m | \u001b[0m91.38    \u001b[0m | \u001b[0m-2.277   \u001b[0m | \u001b[0m20.77    \u001b[0m | \u001b[0m2.834    \u001b[0m | \u001b[0m-2.608   \u001b[0m |\n",
      "Train loss: 0.40217212114382433\n",
      "Test loss: 0.948214752599597\n",
      "| \u001b[0m33       \u001b[0m | \u001b[0m-0.9482  \u001b[0m | \u001b[0m96.87    \u001b[0m | \u001b[0m-2.222   \u001b[0m | \u001b[0m37.46    \u001b[0m | \u001b[0m3.35     \u001b[0m | \u001b[0m-2.105   \u001b[0m |\n",
      "Train loss: 0.4484539169415429\n",
      "Test loss: 1.766199649622043\n",
      "| \u001b[0m34       \u001b[0m | \u001b[0m-1.766   \u001b[0m | \u001b[0m93.79    \u001b[0m | \u001b[0m-2.0     \u001b[0m | \u001b[0m21.3     \u001b[0m | \u001b[0m2.251    \u001b[0m | \u001b[0m-2.0     \u001b[0m |\n",
      "Train loss: 0.3972145523120825\n",
      "Test loss: 1.5622006605068843\n",
      "| \u001b[0m35       \u001b[0m | \u001b[0m-1.562   \u001b[0m | \u001b[0m98.11    \u001b[0m | \u001b[0m-2.0     \u001b[0m | \u001b[0m36.22    \u001b[0m | \u001b[0m4.0      \u001b[0m | \u001b[0m-2.0     \u001b[0m |\n",
      "Train loss: 0.3292213626751815\n",
      "Test loss: 1.5804276230434577\n",
      "| \u001b[0m36       \u001b[0m | \u001b[0m-1.58    \u001b[0m | \u001b[0m97.54    \u001b[0m | \u001b[0m-2.0     \u001b[0m | \u001b[0m41.06    \u001b[0m | \u001b[0m4.0      \u001b[0m | \u001b[0m-3.146   \u001b[0m |\n",
      "Train loss: 0.39403084879489364\n",
      "Test loss: 1.2997056214759748\n",
      "| \u001b[0m37       \u001b[0m | \u001b[0m-1.3     \u001b[0m | \u001b[0m96.54    \u001b[0m | \u001b[0m-2.0     \u001b[0m | \u001b[0m23.64    \u001b[0m | \u001b[0m2.0      \u001b[0m | \u001b[0m-2.0     \u001b[0m |\n",
      "Train loss: 0.3490966638373966\n",
      "Test loss: 1.5336006507277489\n",
      "| \u001b[0m38       \u001b[0m | \u001b[0m-1.534   \u001b[0m | \u001b[0m102.8    \u001b[0m | \u001b[0m-2.0     \u001b[0m | \u001b[0m31.27    \u001b[0m | \u001b[0m2.0      \u001b[0m | \u001b[0m-2.0     \u001b[0m |\n",
      "Train loss: 0.41895430863558036\n",
      "Test loss: 3.052806278069814\n",
      "| \u001b[0m39       \u001b[0m | \u001b[0m-3.053   \u001b[0m | \u001b[0m98.7     \u001b[0m | \u001b[0m-2.0     \u001b[0m | \u001b[0m42.55    \u001b[0m | \u001b[0m2.549    \u001b[0m | \u001b[0m-5.0     \u001b[0m |\n",
      "Train loss: 0.5285241294847298\n",
      "Test loss: 1.2101154513657093\n",
      "| \u001b[0m40       \u001b[0m | \u001b[0m-1.21    \u001b[0m | \u001b[0m104.9    \u001b[0m | \u001b[0m-2.273   \u001b[0m | \u001b[0m32.68    \u001b[0m | \u001b[0m3.27     \u001b[0m | \u001b[0m-2.872   \u001b[0m |\n",
      "Train loss: 0.3314907326790932\n",
      "Test loss: 0.6402578620860974\n",
      "| \u001b[95m41       \u001b[0m | \u001b[95m-0.6403  \u001b[0m | \u001b[95m105.8    \u001b[0m | \u001b[95m-2.0     \u001b[0m | \u001b[95m30.17    \u001b[0m | \u001b[95m3.419    \u001b[0m | \u001b[95m-2.0     \u001b[0m |\n",
      "Train loss: 0.9761721085052233\n",
      "Test loss: 5.319219917058945\n",
      "| \u001b[0m42       \u001b[0m | \u001b[0m-5.319   \u001b[0m | \u001b[0m105.8    \u001b[0m | \u001b[0m-4.129   \u001b[0m | \u001b[0m30.94    \u001b[0m | \u001b[0m2.222    \u001b[0m | \u001b[0m-2.0     \u001b[0m |\n",
      "Train loss: 0.3675109502934926\n",
      "Test loss: 0.9981887570271889\n",
      "| \u001b[0m43       \u001b[0m | \u001b[0m-0.9982  \u001b[0m | \u001b[0m107.3    \u001b[0m | \u001b[0m-2.156   \u001b[0m | \u001b[0m33.88    \u001b[0m | \u001b[0m3.555    \u001b[0m | \u001b[0m-4.256   \u001b[0m |\n",
      "Train loss: 0.3895867004034084\n",
      "Test loss: 1.4504592586308718\n",
      "| \u001b[0m44       \u001b[0m | \u001b[0m-1.45    \u001b[0m | \u001b[0m105.1    \u001b[0m | \u001b[0m-2.0     \u001b[0m | \u001b[0m35.19    \u001b[0m | \u001b[0m4.0      \u001b[0m | \u001b[0m-3.891   \u001b[0m |\n",
      "Train loss: 0.42145762871950865\n",
      "Test loss: 0.8625401183962822\n",
      "| \u001b[0m45       \u001b[0m | \u001b[0m-0.8625  \u001b[0m | \u001b[0m106.8    \u001b[0m | \u001b[0m-2.089   \u001b[0m | \u001b[0m31.61    \u001b[0m | \u001b[0m2.988    \u001b[0m | \u001b[0m-4.795   \u001b[0m |\n",
      "Train loss: 0.5849986961363135\n",
      "Test loss: 2.335518861810366\n",
      "| \u001b[0m46       \u001b[0m | \u001b[0m-2.336   \u001b[0m | \u001b[0m106.9    \u001b[0m | \u001b[0m-2.329   \u001b[0m | \u001b[0m26.24    \u001b[0m | \u001b[0m3.178    \u001b[0m | \u001b[0m-2.229   \u001b[0m |\n",
      "Train loss: 0.37954307850953695\n",
      "Test loss: 1.417633621642987\n",
      "| \u001b[0m47       \u001b[0m | \u001b[0m-1.418   \u001b[0m | \u001b[0m103.4    \u001b[0m | \u001b[0m-2.075   \u001b[0m | \u001b[0m29.31    \u001b[0m | \u001b[0m3.912    \u001b[0m | \u001b[0m-2.678   \u001b[0m |\n",
      "Train loss: 0.3751512236540785\n",
      "Test loss: 2.038246234258016\n",
      "| \u001b[0m48       \u001b[0m | \u001b[0m-2.038   \u001b[0m | \u001b[0m108.2    \u001b[0m | \u001b[0m-2.0     \u001b[0m | \u001b[0m30.42    \u001b[0m | \u001b[0m4.0      \u001b[0m | \u001b[0m-3.198   \u001b[0m |\n",
      "Train loss: 0.43239159121908044\n",
      "Test loss: 1.30321413744241\n",
      "| \u001b[0m49       \u001b[0m | \u001b[0m-1.303   \u001b[0m | \u001b[0m88.18    \u001b[0m | \u001b[0m-2.0     \u001b[0m | \u001b[0m22.86    \u001b[0m | \u001b[0m4.0      \u001b[0m | \u001b[0m-4.418   \u001b[0m |\n",
      "Train loss: 0.595462025571111\n",
      "Test loss: 1.7199589163064957\n",
      "| \u001b[0m50       \u001b[0m | \u001b[0m-1.72    \u001b[0m | \u001b[0m91.22    \u001b[0m | \u001b[0m-2.276   \u001b[0m | \u001b[0m17.14    \u001b[0m | \u001b[0m2.383    \u001b[0m | \u001b[0m-2.405   \u001b[0m |\n",
      "Train loss: 0.9278103918642611\n",
      "Test loss: 5.817687193552653\n",
      "| \u001b[0m51       \u001b[0m | \u001b[0m-5.818   \u001b[0m | \u001b[0m87.76    \u001b[0m | \u001b[0m-4.096   \u001b[0m | \u001b[0m22.18    \u001b[0m | \u001b[0m2.0      \u001b[0m | \u001b[0m-3.415   \u001b[0m |\n",
      "Train loss: 0.4407025939986311\n",
      "Test loss: 0.886757374741137\n",
      "| \u001b[0m52       \u001b[0m | \u001b[0m-0.8868  \u001b[0m | \u001b[0m94.59    \u001b[0m | \u001b[0m-2.0     \u001b[0m | \u001b[0m18.11    \u001b[0m | \u001b[0m2.07     \u001b[0m | \u001b[0m-2.0     \u001b[0m |\n",
      "Train loss: 0.39468975872355133\n",
      "Test loss: 1.6621769455571969\n",
      "| \u001b[0m53       \u001b[0m | \u001b[0m-1.662   \u001b[0m | \u001b[0m95.2     \u001b[0m | \u001b[0m-2.0     \u001b[0m | \u001b[0m35.65    \u001b[0m | \u001b[0m4.0      \u001b[0m | \u001b[0m-2.0     \u001b[0m |\n",
      "Train loss: 0.38882100528634683\n",
      "Test loss: 0.7497085556387901\n",
      "| \u001b[0m54       \u001b[0m | \u001b[0m-0.7497  \u001b[0m | \u001b[0m105.3    \u001b[0m | \u001b[0m-2.0     \u001b[0m | \u001b[0m33.63    \u001b[0m | \u001b[0m2.0      \u001b[0m | \u001b[0m-5.0     \u001b[0m |\n",
      "Train loss: 0.5836317922315888\n",
      "Test loss: 2.352116022258997\n",
      "| \u001b[0m55       \u001b[0m | \u001b[0m-2.352   \u001b[0m | \u001b[0m104.2    \u001b[0m | \u001b[0m-2.0     \u001b[0m | \u001b[0m31.99    \u001b[0m | \u001b[0m4.0      \u001b[0m | \u001b[0m-5.0     \u001b[0m |\n",
      "Train loss: 1.010251774175747\n",
      "Test loss: 6.144625554482142\n",
      "| \u001b[0m56       \u001b[0m | \u001b[0m-6.145   \u001b[0m | \u001b[0m96.88    \u001b[0m | \u001b[0m-2.918   \u001b[0m | \u001b[0m15.64    \u001b[0m | \u001b[0m2.717    \u001b[0m | \u001b[0m-2.859   \u001b[0m |\n",
      "Train loss: 0.4668227110460803\n",
      "Test loss: 1.6735060724119346\n",
      "| \u001b[0m57       \u001b[0m | \u001b[0m-1.674   \u001b[0m | \u001b[0m89.85    \u001b[0m | \u001b[0m-2.0     \u001b[0m | \u001b[0m23.64    \u001b[0m | \u001b[0m4.0      \u001b[0m | \u001b[0m-2.0     \u001b[0m |\n",
      "Train loss: 0.9831199247289348\n",
      "Test loss: 5.74317142367363\n",
      "| \u001b[0m58       \u001b[0m | \u001b[0m-5.743   \u001b[0m | \u001b[0m108.3    \u001b[0m | \u001b[0m-4.061   \u001b[0m | \u001b[0m34.61    \u001b[0m | \u001b[0m2.386    \u001b[0m | \u001b[0m-4.964   \u001b[0m |\n",
      "Train loss: 0.5070827390897918\n",
      "Test loss: 1.215592655663689\n",
      "| \u001b[0m59       \u001b[0m | \u001b[0m-1.216   \u001b[0m | \u001b[0m105.0    \u001b[0m | \u001b[0m-2.1     \u001b[0m | \u001b[0m21.94    \u001b[0m | \u001b[0m3.005    \u001b[0m | \u001b[0m-2.269   \u001b[0m |\n",
      "Train loss: 0.8192683601298848\n",
      "Test loss: 4.754375030597051\n",
      "| \u001b[0m60       \u001b[0m | \u001b[0m-4.754   \u001b[0m | \u001b[0m105.3    \u001b[0m | \u001b[0m-2.904   \u001b[0m | \u001b[0m22.36    \u001b[0m | \u001b[0m2.948    \u001b[0m | \u001b[0m-4.644   \u001b[0m |\n",
      "Train loss: 1.0042541114663757\n",
      "Test loss: 6.738421579202016\n",
      "| \u001b[0m61       \u001b[0m | \u001b[0m-6.738   \u001b[0m | \u001b[0m96.19    \u001b[0m | \u001b[0m-4.503   \u001b[0m | \u001b[0m41.63    \u001b[0m | \u001b[0m4.0      \u001b[0m | \u001b[0m-4.204   \u001b[0m |\n",
      "Train loss: 0.4662676793900696\n",
      "Test loss: 1.8717603099842866\n",
      "| \u001b[0m62       \u001b[0m | \u001b[0m-1.872   \u001b[0m | \u001b[0m103.5    \u001b[0m | \u001b[0m-2.0     \u001b[0m | \u001b[0m34.63    \u001b[0m | \u001b[0m2.0      \u001b[0m | \u001b[0m-3.439   \u001b[0m |\n",
      "Train loss: 0.5868186704008966\n",
      "Test loss: 1.1642124727368355\n",
      "| \u001b[0m63       \u001b[0m | \u001b[0m-1.164   \u001b[0m | \u001b[0m101.4    \u001b[0m | \u001b[0m-2.44    \u001b[0m | \u001b[0m31.1     \u001b[0m | \u001b[0m2.489    \u001b[0m | \u001b[0m-4.349   \u001b[0m |\n",
      "Train loss: 0.9526253088906005\n",
      "Test loss: 5.239863107601802\n",
      "| \u001b[0m64       \u001b[0m | \u001b[0m-5.24    \u001b[0m | \u001b[0m100.9    \u001b[0m | \u001b[0m-2.976   \u001b[0m | \u001b[0m32.53    \u001b[0m | \u001b[0m2.044    \u001b[0m | \u001b[0m-2.122   \u001b[0m |\n",
      "Train loss: 0.45977708639740644\n",
      "Test loss: 1.5574898055444162\n",
      "| \u001b[0m65       \u001b[0m | \u001b[0m-1.557   \u001b[0m | \u001b[0m93.22    \u001b[0m | \u001b[0m-2.0     \u001b[0m | \u001b[0m18.82    \u001b[0m | \u001b[0m3.65     \u001b[0m | \u001b[0m-2.0     \u001b[0m |\n",
      "Train loss: 0.5459684129754031\n",
      "Test loss: 1.2051084789757927\n",
      "| \u001b[0m66       \u001b[0m | \u001b[0m-1.205   \u001b[0m | \u001b[0m102.3    \u001b[0m | \u001b[0m-2.166   \u001b[0m | \u001b[0m22.43    \u001b[0m | \u001b[0m3.449    \u001b[0m | \u001b[0m-2.026   \u001b[0m |\n",
      "Train loss: 0.4062460255683274\n",
      "Test loss: 1.101502465705077\n",
      "| \u001b[0m67       \u001b[0m | \u001b[0m-1.102   \u001b[0m | \u001b[0m103.3    \u001b[0m | \u001b[0m-2.008   \u001b[0m | \u001b[0m19.39    \u001b[0m | \u001b[0m3.024    \u001b[0m | \u001b[0m-2.088   \u001b[0m |\n",
      "Train loss: 0.8785146170270604\n",
      "Test loss: 5.3646460970242815\n",
      "| \u001b[0m68       \u001b[0m | \u001b[0m-5.365   \u001b[0m | \u001b[0m106.0    \u001b[0m | \u001b[0m-2.999   \u001b[0m | \u001b[0m18.98    \u001b[0m | \u001b[0m3.0      \u001b[0m | \u001b[0m-2.192   \u001b[0m |\n",
      "Train loss: 0.5082291544641595\n",
      "Test loss: 1.1070576334993045\n",
      "| \u001b[0m69       \u001b[0m | \u001b[0m-1.107   \u001b[0m | \u001b[0m106.7    \u001b[0m | \u001b[0m-2.255   \u001b[0m | \u001b[0m34.94    \u001b[0m | \u001b[0m2.817    \u001b[0m | \u001b[0m-2.667   \u001b[0m |\n",
      "Train loss: 0.5310887148654139\n",
      "Test loss: 1.8263658167173464\n",
      "| \u001b[0m70       \u001b[0m | \u001b[0m-1.826   \u001b[0m | \u001b[0m89.42    \u001b[0m | \u001b[0m-2.0     \u001b[0m | \u001b[0m18.44    \u001b[0m | \u001b[0m4.0      \u001b[0m | \u001b[0m-2.0     \u001b[0m |\n",
      "Train loss: 0.45667813813968283\n",
      "Test loss: 1.4878119093676407\n",
      "| \u001b[0m71       \u001b[0m | \u001b[0m-1.488   \u001b[0m | \u001b[0m103.1    \u001b[0m | \u001b[0m-2.0     \u001b[0m | \u001b[0m21.24    \u001b[0m | \u001b[0m2.0      \u001b[0m | \u001b[0m-2.0     \u001b[0m |\n",
      "Train loss: 0.3216465735757673\n",
      "Test loss: 0.6311664121846358\n",
      "| \u001b[95m72       \u001b[0m | \u001b[95m-0.6312  \u001b[0m | \u001b[95m86.07    \u001b[0m | \u001b[95m-2.0     \u001b[0m | \u001b[95m23.1     \u001b[0m | \u001b[95m4.0      \u001b[0m | \u001b[95m-2.0     \u001b[0m |\n",
      "Train loss: 0.5740249788237585\n",
      "Test loss: 1.531510119015972\n",
      "| \u001b[0m73       \u001b[0m | \u001b[0m-1.532   \u001b[0m | \u001b[0m83.37    \u001b[0m | \u001b[0m-2.246   \u001b[0m | \u001b[0m22.14    \u001b[0m | \u001b[0m3.587    \u001b[0m | \u001b[0m-3.13    \u001b[0m |\n",
      "Train loss: 0.41340290483187986\n",
      "Test loss: 1.0070388199140627\n",
      "| \u001b[0m74       \u001b[0m | \u001b[0m-1.007   \u001b[0m | \u001b[0m85.22    \u001b[0m | \u001b[0m-2.0     \u001b[0m | \u001b[0m24.0     \u001b[0m | \u001b[0m4.0      \u001b[0m | \u001b[0m-4.464   \u001b[0m |\n",
      "Train loss: 0.3432623782209703\n",
      "Test loss: 1.6035910360515118\n",
      "| \u001b[0m75       \u001b[0m | \u001b[0m-1.604   \u001b[0m | \u001b[0m84.56    \u001b[0m | \u001b[0m-2.055   \u001b[0m | \u001b[0m25.38    \u001b[0m | \u001b[0m3.998    \u001b[0m | \u001b[0m-2.443   \u001b[0m |\n",
      "Train loss: 0.8900103973023392\n",
      "Test loss: 5.083263556162517\n",
      "| \u001b[0m76       \u001b[0m | \u001b[0m-5.083   \u001b[0m | \u001b[0m81.82    \u001b[0m | \u001b[0m-2.793   \u001b[0m | \u001b[0m24.66    \u001b[0m | \u001b[0m3.607    \u001b[0m | \u001b[0m-4.209   \u001b[0m |\n",
      "Train loss: 1.1892058640919827\n",
      "Test loss: 5.8604826629161835\n",
      "| \u001b[0m77       \u001b[0m | \u001b[0m-5.86    \u001b[0m | \u001b[0m97.58    \u001b[0m | \u001b[0m-2.49    \u001b[0m | \u001b[0m8.498    \u001b[0m | \u001b[0m2.095    \u001b[0m | \u001b[0m-4.028   \u001b[0m |\n",
      "Train loss: 0.5021176811030789\n",
      "Test loss: 1.3554329508915544\n",
      "| \u001b[0m78       \u001b[0m | \u001b[0m-1.355   \u001b[0m | \u001b[0m84.61    \u001b[0m | \u001b[0m-2.0     \u001b[0m | \u001b[0m20.25    \u001b[0m | \u001b[0m4.0      \u001b[0m | \u001b[0m-2.0     \u001b[0m |\n",
      "Train loss: 0.42058983440133363\n",
      "Test loss: 0.9373306737591823\n",
      "| \u001b[0m79       \u001b[0m | \u001b[0m-0.9373  \u001b[0m | \u001b[0m85.38    \u001b[0m | \u001b[0m-2.0     \u001b[0m | \u001b[0m21.25    \u001b[0m | \u001b[0m4.0      \u001b[0m | \u001b[0m-4.885   \u001b[0m |\n",
      "Train loss: 0.5292745962537624\n",
      "Test loss: 1.6819725378106039\n",
      "| \u001b[0m80       \u001b[0m | \u001b[0m-1.682   \u001b[0m | \u001b[0m101.4    \u001b[0m | \u001b[0m-2.0     \u001b[0m | \u001b[0m17.95    \u001b[0m | \u001b[0m4.0      \u001b[0m | \u001b[0m-2.0     \u001b[0m |\n",
      "Train loss: 0.9783718983667928\n",
      "Test loss: 4.834891840815544\n",
      "| \u001b[0m81       \u001b[0m | \u001b[0m-4.835   \u001b[0m | \u001b[0m84.16    \u001b[0m | \u001b[0m-3.265   \u001b[0m | \u001b[0m17.89    \u001b[0m | \u001b[0m2.962    \u001b[0m | \u001b[0m-4.63    \u001b[0m |\n",
      "Train loss: 0.35209135353766585\n",
      "Test loss: 0.6283877541621526\n",
      "| \u001b[95m82       \u001b[0m | \u001b[95m-0.6284  \u001b[0m | \u001b[95m99.32    \u001b[0m | \u001b[95m-2.07    \u001b[0m | \u001b[95m39.38    \u001b[0m | \u001b[95m2.933    \u001b[0m | \u001b[95m-2.094   \u001b[0m |\n",
      "Train loss: 0.937931361029277\n",
      "Test loss: 5.3279876212279005\n",
      "| \u001b[0m83       \u001b[0m | \u001b[0m-5.328   \u001b[0m | \u001b[0m102.4    \u001b[0m | \u001b[0m-3.242   \u001b[0m | \u001b[0m40.36    \u001b[0m | \u001b[0m3.178    \u001b[0m | \u001b[0m-2.215   \u001b[0m |\n",
      "Train loss: 0.38101419360955824\n",
      "Test loss: 1.5953027550131083\n",
      "| \u001b[0m84       \u001b[0m | \u001b[0m-1.595   \u001b[0m | \u001b[0m92.13    \u001b[0m | \u001b[0m-2.0     \u001b[0m | \u001b[0m25.27    \u001b[0m | \u001b[0m4.0      \u001b[0m | \u001b[0m-5.0     \u001b[0m |\n",
      "Train loss: 0.39740054820337006\n",
      "Test loss: 1.2198901704202096\n",
      "| \u001b[0m85       \u001b[0m | \u001b[0m-1.22    \u001b[0m | \u001b[0m95.05    \u001b[0m | \u001b[0m-2.012   \u001b[0m | \u001b[0m27.08    \u001b[0m | \u001b[0m3.683    \u001b[0m | \u001b[0m-4.091   \u001b[0m |\n",
      "Train loss: 0.7199177919207392\n",
      "Test loss: 2.1533993929624557\n",
      "| \u001b[0m86       \u001b[0m | \u001b[0m-2.153   \u001b[0m | \u001b[0m93.23    \u001b[0m | \u001b[0m-2.356   \u001b[0m | \u001b[0m26.57    \u001b[0m | \u001b[0m2.017    \u001b[0m | \u001b[0m-3.929   \u001b[0m |\n",
      "Train loss: 0.682158954743598\n",
      "Test loss: 1.5678738268713157\n",
      "| \u001b[0m87       \u001b[0m | \u001b[0m-1.568   \u001b[0m | \u001b[0m94.84    \u001b[0m | \u001b[0m-2.445   \u001b[0m | \u001b[0m30.33    \u001b[0m | \u001b[0m3.391    \u001b[0m | \u001b[0m-2.754   \u001b[0m |\n",
      "Train loss: 0.9113776495529188\n",
      "Test loss: 5.554806421200435\n",
      "| \u001b[0m88       \u001b[0m | \u001b[0m-5.555   \u001b[0m | \u001b[0m94.31    \u001b[0m | \u001b[0m-4.201   \u001b[0m | \u001b[0m28.61    \u001b[0m | \u001b[0m3.025    \u001b[0m | \u001b[0m-4.558   \u001b[0m |\n",
      "Train loss: 0.377989047370549\n",
      "Test loss: 1.6574140563607216\n",
      "| \u001b[0m89       \u001b[0m | \u001b[0m-1.657   \u001b[0m | \u001b[0m99.54    \u001b[0m | \u001b[0m-2.0     \u001b[0m | \u001b[0m30.11    \u001b[0m | \u001b[0m4.0      \u001b[0m | \u001b[0m-5.0     \u001b[0m |\n",
      "Train loss: 0.46589406526874044\n",
      "Test loss: 1.8533853155871232\n",
      "| \u001b[0m90       \u001b[0m | \u001b[0m-1.853   \u001b[0m | \u001b[0m93.56    \u001b[0m | \u001b[0m-2.106   \u001b[0m | \u001b[0m32.86    \u001b[0m | \u001b[0m3.948    \u001b[0m | \u001b[0m-3.701   \u001b[0m |\n",
      "Train loss: 0.3888924526352737\n",
      "Test loss: 1.0314187286421657\n",
      "| \u001b[0m91       \u001b[0m | \u001b[0m-1.031   \u001b[0m | \u001b[0m107.0    \u001b[0m | \u001b[0m-2.0     \u001b[0m | \u001b[0m33.08    \u001b[0m | \u001b[0m4.0      \u001b[0m | \u001b[0m-2.0     \u001b[0m |\n",
      "Train loss: 0.6927846202979216\n",
      "Test loss: 1.738178529466192\n",
      "| \u001b[0m92       \u001b[0m | \u001b[0m-1.738   \u001b[0m | \u001b[0m95.65    \u001b[0m | \u001b[0m-2.237   \u001b[0m | \u001b[0m23.29    \u001b[0m | \u001b[0m3.838    \u001b[0m | \u001b[0m-4.161   \u001b[0m |\n",
      "Train loss: 0.8616438275718525\n",
      "Test loss: 4.8602368136247\n",
      "| \u001b[0m93       \u001b[0m | \u001b[0m-4.86    \u001b[0m | \u001b[0m34.1     \u001b[0m | \u001b[0m-3.224   \u001b[0m | \u001b[0m63.75    \u001b[0m | \u001b[0m2.654    \u001b[0m | \u001b[0m-2.603   \u001b[0m |\n",
      "Train loss: 0.5561152937494822\n",
      "Test loss: 1.1210723655919235\n",
      "| \u001b[0m94       \u001b[0m | \u001b[0m-1.121   \u001b[0m | \u001b[0m1.368    \u001b[0m | \u001b[0m-2.427   \u001b[0m | \u001b[0m56.28    \u001b[0m | \u001b[0m2.761    \u001b[0m | \u001b[0m-2.592   \u001b[0m |\n",
      "Train loss: 0.9511568749172462\n",
      "Test loss: 6.144146770238876\n",
      "| \u001b[0m95       \u001b[0m | \u001b[0m-6.144   \u001b[0m | \u001b[0m2.757    \u001b[0m | \u001b[0m-3.944   \u001b[0m | \u001b[0m57.42    \u001b[0m | \u001b[0m3.69     \u001b[0m | \u001b[0m-3.963   \u001b[0m |\n",
      "Train loss: 0.47251994262222907\n",
      "Test loss: 1.4359504772971075\n",
      "| \u001b[0m96       \u001b[0m | \u001b[0m-1.436   \u001b[0m | \u001b[0m1.707    \u001b[0m | \u001b[0m-2.21    \u001b[0m | \u001b[0m52.75    \u001b[0m | \u001b[0m2.57     \u001b[0m | \u001b[0m-3.236   \u001b[0m |\n",
      "Train loss: 0.9496792275285525\n",
      "Test loss: 5.845008015632629\n",
      "| \u001b[0m97       \u001b[0m | \u001b[0m-5.845   \u001b[0m | \u001b[0m1.281    \u001b[0m | \u001b[0m-3.734   \u001b[0m | \u001b[0m54.56    \u001b[0m | \u001b[0m2.894    \u001b[0m | \u001b[0m-2.063   \u001b[0m |\n",
      "Train loss: 0.4638306216613666\n",
      "Test loss: 1.5098713313539822\n",
      "| \u001b[0m98       \u001b[0m | \u001b[0m-1.51    \u001b[0m | \u001b[0m85.76    \u001b[0m | \u001b[0m-2.0     \u001b[0m | \u001b[0m22.11    \u001b[0m | \u001b[0m4.0      \u001b[0m | \u001b[0m-3.354   \u001b[0m |\n",
      "Train loss: 0.43327079766518056\n",
      "Test loss: 1.840086316068967\n",
      "| \u001b[0m99       \u001b[0m | \u001b[0m-1.84    \u001b[0m | \u001b[0m95.51    \u001b[0m | \u001b[0m-2.0     \u001b[0m | \u001b[0m25.52    \u001b[0m | \u001b[0m4.0      \u001b[0m | \u001b[0m-2.317   \u001b[0m |\n",
      "Train loss: 0.465995867565161\n",
      "Test loss: 1.384668945024411\n",
      "| \u001b[0m100      \u001b[0m | \u001b[0m-1.385   \u001b[0m | \u001b[0m99.18    \u001b[0m | \u001b[0m-2.183   \u001b[0m | \u001b[0m38.04    \u001b[0m | \u001b[0m3.883    \u001b[0m | \u001b[0m-3.082   \u001b[0m |\n",
      "Train loss: 0.39514567803692174\n",
      "Test loss: 1.7135499591628711\n",
      "| \u001b[0m101      \u001b[0m | \u001b[0m-1.714   \u001b[0m | \u001b[0m2.008    \u001b[0m | \u001b[0m-2.085   \u001b[0m | \u001b[0m51.59    \u001b[0m | \u001b[0m2.991    \u001b[0m | \u001b[0m-4.886   \u001b[0m |\n",
      "Train loss: 0.38400311992390435\n",
      "Test loss: 1.1959119184563558\n",
      "| \u001b[0m102      \u001b[0m | \u001b[0m-1.196   \u001b[0m | \u001b[0m3.472    \u001b[0m | \u001b[0m-2.178   \u001b[0m | \u001b[0m50.9     \u001b[0m | \u001b[0m3.38     \u001b[0m | \u001b[0m-2.504   \u001b[0m |\n",
      "Train loss: 0.301297917811049\n",
      "Test loss: 1.1311451426396768\n",
      "| \u001b[0m103      \u001b[0m | \u001b[0m-1.131   \u001b[0m | \u001b[0m1.768    \u001b[0m | \u001b[0m-2.026   \u001b[0m | \u001b[0m50.69    \u001b[0m | \u001b[0m2.181    \u001b[0m | \u001b[0m-2.497   \u001b[0m |\n",
      "Train loss: 0.41679518523852566\n",
      "Test loss: 1.5088816707332928\n",
      "| \u001b[0m104      \u001b[0m | \u001b[0m-1.509   \u001b[0m | \u001b[0m4.374    \u001b[0m | \u001b[0m-2.0     \u001b[0m | \u001b[0m52.21    \u001b[0m | \u001b[0m2.0      \u001b[0m | \u001b[0m-3.777   \u001b[0m |\n",
      "Train loss: 0.4012731156072806\n",
      "Test loss: 1.246738038957119\n",
      "| \u001b[0m105      \u001b[0m | \u001b[0m-1.247   \u001b[0m | \u001b[0m3.732    \u001b[0m | \u001b[0m-2.0     \u001b[0m | \u001b[0m49.0     \u001b[0m | \u001b[0m2.0      \u001b[0m | \u001b[0m-3.835   \u001b[0m |\n",
      "=====================================================================================\n",
      "{'target': -0.6283877541621526, 'params': {'batch_size': 99.31767143479107, 'learning_rate_log': -2.069745681191904, 'num_hidden_size': 39.38436488302246, 'num_layers': 2.933324195350682, 'weight_decay': -2.0942049532924525}}\n"
     ]
    }
   ],
   "source": [
    "def train_model(data_loader, model, loss_function, optimizer):\n",
    "    num_batches = len(data_loader)\n",
    "    total_loss = 0\n",
    "    model.train()\n",
    "    \n",
    "    for X, y in data_loader:\n",
    "        output = model(X)\n",
    "        loss = loss_function(output, y)\n",
    "\n",
    "        optimizer.zero_grad()\n",
    "        loss.backward()\n",
    "        optimizer.step()\n",
    "\n",
    "        total_loss += loss.item()\n",
    "\n",
    "    avg_loss = total_loss / num_batches\n",
    "    print(f\"Train loss: {avg_loss}\")\n",
    "    return avg_loss\n",
    "\n",
    "def test_model(data_loader, model, loss_function):\n",
    "    \n",
    "    num_batches = len(data_loader)\n",
    "    total_loss = 0\n",
    "\n",
    "    model.eval()\n",
    "    with torch.no_grad():\n",
    "        for X, y in data_loader:\n",
    "            output = model(X)\n",
    "            total_loss += loss_function(output, y).item()\n",
    "\n",
    "    avg_loss = total_loss / num_batches\n",
    "    print(f\"Test loss: {avg_loss}\")\n",
    "    return avg_loss\n",
    "\n",
    "# Define the function to be optimized\n",
    "def evaluate_model(learning_rate_log, num_hidden_size, num_layers, weight_decay, batch_size):\n",
    "    learning_rate = 10 ** learning_rate_log\n",
    "    num_hidden_size = int(num_hidden_size)\n",
    "    num_layers = int(num_layers)\n",
    "    weight_decay = 10 ** weight_decay\n",
    "    batch_size = int(batch_size)\n",
    "\n",
    "    # Reinitialize the model with new parameters\n",
    "    model = ShallowRegressionLSTM(hidden_size=num_hidden_size, num_layers=num_layers)\n",
    "    loss_function = nn.MSELoss()\n",
    "    optimizer = torch.optim.Adam(model.parameters(), lr=learning_rate, weight_decay=weight_decay)\n",
    "    \n",
    "    # Train and test the model\n",
    "    train_model(train_loader, model, loss_function, optimizer)\n",
    "    test_loss = test_model(test_loader, model, loss_function)\n",
    "    \n",
    "    # Return the negative test loss because BayesianOptimization maximize the function\n",
    "    return -test_loss\n",
    "\n",
    "\n",
    "# Define the hyperparameters range\n",
    "hyperparameters_range = {\n",
    "    'learning_rate_log': (-5, -2),  # we optimize in log scale\n",
    "    'num_hidden_size': (1, 64),  # assuming 50 is a sensible upper limit\n",
    "    'num_layers': (2, 4),  # range of layers\n",
    "    'weight_decay': (-5, -2),  # weight decay in log scale\n",
    "    'batch_size': (1, len(df_train))\n",
    "}\n",
    "# Initialize the optimizer\n",
    "bayesian_optimizer = BayesianOptimization(\n",
    "    f=evaluate_model,\n",
    "    pbounds=hyperparameters_range,\n",
    "    verbose=2,\n",
    "    random_state=1\n",
    ")\n",
    "\n",
    "# Maximize the evaluation function\n",
    "bayesian_optimizer.maximize(init_points=5, n_iter=100)\n",
    "\n",
    "# Print the best parameters\n",
    "print(bayesian_optimizer.max)\n",
    "\n",
    "best_params = bayesian_optimizer.max['params']\n",
    "\n",
    "# Re-calculate the learning rate from its logarithm\n",
    "best_params['learning_rate_log'] = 10 ** best_params['learning_rate_log']\n",
    "\n",
    "# Ensure hidden_size and num_layers are integers\n",
    "best_params['num_hidden_size'] = int(round(best_params['num_hidden_size']))\n",
    "best_params['num_layers'] = int(round(best_params['num_layers']))\n",
    "\n",
    "# Train a new model with the best parameters\n",
    "model = ShallowRegressionLSTM(hidden_size=best_params['num_hidden_size'], num_layers=best_params['num_layers'])\n",
    "loss_function = nn.MSELoss()\n",
    "optimizer = torch.optim.Adam(model.parameters(), best_params['learning_rate_log'])"
   ]
  },
  {
   "cell_type": "code",
   "execution_count": 4,
   "metadata": {},
   "outputs": [
    {
     "name": "stdout",
     "output_type": "stream",
     "text": [
      "Untrained test\n",
      "--------\n",
      "Test loss: 5.680697808663051\n",
      "\n",
      "Epoch 0\n",
      "---------\n",
      "Train loss: 0.30685007224815924\n",
      "Test loss: 1.1879057701056202\n",
      "\n",
      "Epoch 1\n",
      "---------\n",
      "Train loss: 0.20473311501681\n",
      "Test loss: 1.5661089196801186\n",
      "\n",
      "Epoch 2\n",
      "---------\n",
      "Train loss: 0.15730988850968108\n",
      "Test loss: 0.8727558869868517\n",
      "\n",
      "Epoch 3\n",
      "---------\n",
      "Train loss: 0.12656136380659566\n",
      "Test loss: 0.5225311828156313\n",
      "\n",
      "Epoch 4\n",
      "---------\n",
      "Train loss: 0.12077456325091221\n",
      "Test loss: 0.5578105685611566\n",
      "\n",
      "Epoch 5\n",
      "---------\n",
      "Train loss: 0.1098213122805228\n",
      "Test loss: 0.46142367646098137\n",
      "\n",
      "Epoch 6\n",
      "---------\n",
      "Train loss: 0.09281888646325348\n",
      "Test loss: 0.6759897371133169\n",
      "\n",
      "Epoch 7\n",
      "---------\n",
      "Train loss: 0.08540668594650924\n",
      "Test loss: 0.479970995336771\n",
      "\n",
      "Epoch 8\n",
      "---------\n",
      "Train loss: 0.07450683708176822\n",
      "Test loss: 0.47446321571866673\n",
      "\n",
      "Epoch 9\n",
      "---------\n",
      "Train loss: 0.07708164036424982\n",
      "Test loss: 0.296321173508962\n",
      "\n",
      "Epoch 10\n",
      "---------\n",
      "Train loss: 0.07262223566303382\n",
      "Test loss: 0.4045080095529556\n",
      "\n",
      "Epoch 11\n",
      "---------\n",
      "Train loss: 0.07471286626910237\n",
      "Test loss: 0.43348697076241177\n",
      "\n",
      "Epoch 12\n",
      "---------\n",
      "Train loss: 0.0795541777829262\n",
      "Test loss: 0.40672579904397327\n",
      "\n",
      "Epoch 13\n",
      "---------\n",
      "Train loss: 0.08020944117153114\n",
      "Test loss: 0.41950807472070056\n",
      "\n",
      "Epoch 14\n",
      "---------\n",
      "Train loss: 0.07550208665732597\n",
      "Test loss: 0.48789198820789653\n",
      "\n",
      "Epoch 15\n",
      "---------\n",
      "Train loss: 0.07825626974069588\n",
      "Test loss: 0.5110956144829591\n",
      "\n",
      "Epoch 16\n",
      "---------\n",
      "Train loss: 0.07749944167035455\n",
      "Test loss: 0.38537609080473584\n",
      "\n",
      "Epoch 17\n",
      "---------\n",
      "Train loss: 0.07137240267616722\n",
      "Test loss: 0.5028542876243591\n",
      "\n",
      "Epoch 18\n",
      "---------\n",
      "Train loss: 0.07338601742820763\n",
      "Test loss: 0.32007872437437374\n",
      "\n",
      "Epoch 19\n",
      "---------\n",
      "Train loss: 0.07611147343885859\n",
      "Test loss: 0.6291622084875902\n",
      "\n",
      "Epoch 20\n",
      "---------\n",
      "Train loss: 0.08822974819387938\n",
      "Test loss: 0.5832458144674698\n",
      "\n",
      "Epoch 21\n",
      "---------\n",
      "Train loss: 0.07776708105528676\n",
      "Test loss: 0.7049416887263457\n",
      "\n",
      "Epoch 22\n",
      "---------\n",
      "Train loss: 0.08454919608964308\n",
      "Test loss: 0.4259315747767687\n",
      "\n",
      "Epoch 23\n",
      "---------\n",
      "Train loss: 0.0734030904651091\n",
      "Test loss: 0.332161075125138\n",
      "\n",
      "Epoch 24\n",
      "---------\n",
      "Train loss: 0.08309520290208024\n",
      "Test loss: 0.41251976663867634\n",
      "\n",
      "Epoch 25\n",
      "---------\n",
      "Train loss: 0.08008009581700773\n",
      "Test loss: 0.5265346616506577\n",
      "\n",
      "Epoch 26\n",
      "---------\n",
      "Train loss: 0.07271764588517111\n",
      "Test loss: 0.5833483549455801\n",
      "\n",
      "Epoch 27\n",
      "---------\n",
      "Train loss: 0.07535642124964176\n",
      "Test loss: 0.3612230084836483\n",
      "\n",
      "Epoch 28\n",
      "---------\n",
      "Train loss: 0.0750990675837415\n",
      "Test loss: 0.3316785941521327\n",
      "\n",
      "Epoch 29\n",
      "---------\n",
      "Train loss: 0.07197114414963368\n",
      "Test loss: 0.46843294364710647\n",
      "\n",
      "Epoch 30\n",
      "---------\n",
      "Train loss: 0.08023660904350313\n",
      "Test loss: 0.5480144588897625\n",
      "\n",
      "Epoch 31\n",
      "---------\n",
      "Train loss: 0.08036295479994167\n",
      "Test loss: 0.4722930130859216\n",
      "\n",
      "Epoch 32\n",
      "---------\n",
      "Train loss: 0.07943321990849753\n",
      "Test loss: 0.5572304297238588\n",
      "\n",
      "Epoch 33\n",
      "---------\n",
      "Train loss: 0.08074064737789936\n",
      "Test loss: 0.5098718851804733\n",
      "\n",
      "Epoch 34\n",
      "---------\n",
      "Train loss: 0.07605106097557959\n",
      "Test loss: 0.285547336563468\n",
      "\n",
      "Epoch 35\n",
      "---------\n",
      "Train loss: 0.08153318884354588\n",
      "Test loss: 0.33016087921957177\n",
      "\n",
      "Epoch 36\n",
      "---------\n",
      "Train loss: 0.07262800962465966\n",
      "Test loss: 0.4666194984068473\n",
      "\n",
      "Epoch 37\n",
      "---------\n",
      "Train loss: 0.07482596655451768\n",
      "Test loss: 0.35375047102570534\n",
      "\n",
      "Epoch 38\n",
      "---------\n",
      "Train loss: 0.08154433071172822\n",
      "Test loss: 0.3611748870462179\n",
      "\n",
      "Epoch 39\n",
      "---------\n",
      "Train loss: 0.07453681776501439\n",
      "Test loss: 0.59185441583395\n",
      "\n",
      "Epoch 40\n",
      "---------\n",
      "Train loss: 0.07682468968984746\n",
      "Test loss: 0.7203361528615156\n",
      "\n",
      "Epoch 41\n",
      "---------\n",
      "Train loss: 0.0771985743320673\n",
      "Test loss: 0.37408827369411785\n",
      "\n",
      "Epoch 42\n",
      "---------\n",
      "Train loss: 0.07838726564109125\n",
      "Test loss: 0.47590925234059495\n",
      "\n",
      "Epoch 43\n",
      "---------\n",
      "Train loss: 0.0717358188326093\n",
      "Test loss: 0.3401525678733985\n",
      "\n",
      "Epoch 44\n",
      "---------\n",
      "Train loss: 0.08052105780036466\n",
      "Test loss: 0.6833595292021831\n",
      "\n",
      "Epoch 45\n",
      "---------\n",
      "Train loss: 0.06670886249205954\n",
      "Test loss: 0.5143549386411905\n",
      "\n",
      "Epoch 46\n",
      "---------\n",
      "Train loss: 0.06904279217879111\n",
      "Test loss: 0.42123774625360966\n",
      "\n",
      "Epoch 47\n",
      "---------\n",
      "Train loss: 0.07043585989221528\n",
      "Test loss: 0.48588730705281097\n",
      "\n",
      "Epoch 48\n",
      "---------\n",
      "Train loss: 0.06463766980261819\n",
      "Test loss: 0.5238773406793674\n",
      "\n",
      "Epoch 49\n",
      "---------\n",
      "Train loss: 0.06663550293180034\n",
      "Test loss: 0.3315264067302148\n",
      "\n",
      "Epoch 50\n",
      "---------\n",
      "Train loss: 0.07203645439113716\n",
      "Test loss: 0.39686707003662985\n",
      "\n",
      "Epoch 51\n",
      "---------\n",
      "Train loss: 0.06613732363424592\n",
      "Test loss: 0.4493001302083333\n",
      "\n",
      "Epoch 52\n",
      "---------\n",
      "Train loss: 0.07207932091645293\n",
      "Test loss: 0.5185554772615433\n",
      "\n",
      "Epoch 53\n",
      "---------\n",
      "Train loss: 0.07138631993753684\n",
      "Test loss: 0.38705469978352386\n",
      "\n",
      "Epoch 54\n",
      "---------\n",
      "Train loss: 0.06480666708100487\n",
      "Test loss: 0.48116107036670047\n",
      "\n",
      "Epoch 55\n",
      "---------\n",
      "Train loss: 0.0656093057698092\n",
      "Test loss: 0.5148398093879223\n",
      "\n",
      "Epoch 56\n",
      "---------\n",
      "Train loss: 0.06851351282534164\n",
      "Test loss: 0.5134596352775892\n",
      "\n",
      "Epoch 57\n",
      "---------\n",
      "Train loss: 0.06257956262325516\n",
      "Test loss: 0.5322449163844188\n",
      "\n",
      "Epoch 58\n",
      "---------\n",
      "Train loss: 0.06250710472434277\n",
      "Test loss: 0.441730547696352\n",
      "\n",
      "Epoch 59\n",
      "---------\n",
      "Train loss: 0.06398934405297041\n",
      "Test loss: 0.3446337943896651\n",
      "\n",
      "Epoch 60\n",
      "---------\n",
      "Train loss: 0.06851447401316585\n",
      "Test loss: 0.42222518225510913\n",
      "\n",
      "Epoch 61\n",
      "---------\n",
      "Train loss: 0.060017876380525935\n",
      "Test loss: 0.5911209248006344\n",
      "\n",
      "Epoch 62\n",
      "---------\n",
      "Train loss: 0.06169106782967779\n",
      "Test loss: 0.3879896261108418\n",
      "\n",
      "Epoch 63\n",
      "---------\n",
      "Train loss: 0.06435530873116206\n",
      "Test loss: 0.3879497641076644\n",
      "\n",
      "Epoch 64\n",
      "---------\n",
      "Train loss: 0.07956124732673571\n",
      "Test loss: 0.6780680182079474\n",
      "\n",
      "Epoch 65\n",
      "---------\n",
      "Train loss: 0.07915266138828687\n",
      "Test loss: 0.33504297118633986\n",
      "\n",
      "Epoch 66\n",
      "---------\n",
      "Train loss: 0.06593453078656583\n",
      "Test loss: 0.496592886125048\n",
      "\n",
      "Epoch 67\n",
      "---------\n",
      "Train loss: 0.06269690244634812\n",
      "Test loss: 0.5269791384538015\n",
      "\n",
      "Epoch 68\n",
      "---------\n",
      "Train loss: 0.06336137354122223\n",
      "Test loss: 0.48131682599584263\n",
      "\n",
      "Epoch 69\n",
      "---------\n",
      "Train loss: 0.06148213616295441\n",
      "Test loss: 0.3958907872438431\n",
      "\n",
      "Epoch 70\n",
      "---------\n",
      "Train loss: 0.06309856314564476\n",
      "Test loss: 0.41470935257772606\n",
      "\n",
      "Epoch 71\n",
      "---------\n",
      "Train loss: 0.058673858801506176\n",
      "Test loss: 0.5156876556575298\n",
      "\n",
      "Epoch 72\n",
      "---------\n",
      "Train loss: 0.0589829559022611\n",
      "Test loss: 0.4210784913351138\n",
      "\n",
      "Epoch 73\n",
      "---------\n",
      "Train loss: 0.06855509374480716\n",
      "Test loss: 0.49544262575606507\n",
      "\n",
      "Epoch 74\n",
      "---------\n",
      "Train loss: 0.06318806789538546\n",
      "Test loss: 0.7214803112049898\n",
      "\n",
      "Epoch 75\n",
      "---------\n",
      "Train loss: 0.06609305315273437\n",
      "Test loss: 0.4244320883105199\n",
      "\n",
      "Epoch 76\n",
      "---------\n",
      "Train loss: 0.07317957332408107\n",
      "Test loss: 0.36852894983409595\n",
      "\n",
      "Epoch 77\n",
      "---------\n",
      "Train loss: 0.07998522814375826\n",
      "Test loss: 0.40823958069086075\n",
      "\n",
      "Epoch 78\n",
      "---------\n",
      "Train loss: 0.06707978870316937\n",
      "Test loss: 0.49411274554828805\n",
      "\n",
      "Epoch 79\n",
      "---------\n",
      "Train loss: 0.06019092095713761\n",
      "Test loss: 0.4172498794893424\n",
      "\n",
      "Epoch 80\n",
      "---------\n",
      "Train loss: 0.057903483308650354\n",
      "Test loss: 0.44633391002813977\n",
      "\n",
      "Epoch 81\n",
      "---------\n",
      "Train loss: 0.0594296817444784\n",
      "Test loss: 0.4388925985743602\n",
      "\n",
      "Epoch 82\n",
      "---------\n",
      "Train loss: 0.05898704445241271\n",
      "Test loss: 0.39696040532241267\n",
      "\n",
      "Epoch 83\n",
      "---------\n",
      "Train loss: 0.05611026830769874\n",
      "Test loss: 0.4914425847431024\n",
      "\n",
      "Epoch 84\n",
      "---------\n",
      "Train loss: 0.0640787762916974\n",
      "Test loss: 0.45261263598998386\n",
      "\n",
      "Epoch 85\n",
      "---------\n",
      "Train loss: 0.06317604951107421\n",
      "Test loss: 0.37205145818491775\n",
      "\n",
      "Epoch 86\n",
      "---------\n",
      "Train loss: 0.062380429231435865\n",
      "Test loss: 0.4272677681098382\n",
      "\n",
      "Epoch 87\n",
      "---------\n",
      "Train loss: 0.06216138712054974\n",
      "Test loss: 0.5201525477071604\n",
      "\n",
      "Epoch 88\n",
      "---------\n",
      "Train loss: 0.060163645463920126\n",
      "Test loss: 0.4073674753308296\n",
      "\n",
      "Epoch 89\n",
      "---------\n",
      "Train loss: 0.058374687853093084\n",
      "Test loss: 0.4507698478798072\n",
      "\n",
      "Epoch 90\n",
      "---------\n",
      "Train loss: 0.055726114490598035\n",
      "Test loss: 0.39488406851887703\n",
      "\n",
      "Epoch 91\n",
      "---------\n",
      "Train loss: 0.0601929354078665\n",
      "Test loss: 0.47992112922171754\n",
      "\n",
      "Epoch 92\n",
      "---------\n",
      "Train loss: 0.06251970677938615\n",
      "Test loss: 0.5574733975032965\n",
      "\n",
      "Epoch 93\n",
      "---------\n",
      "Train loss: 0.06153694562916014\n",
      "Test loss: 0.3593139825388789\n",
      "\n",
      "Epoch 94\n",
      "---------\n",
      "Train loss: 0.06256264870014117\n",
      "Test loss: 0.37065746169537306\n",
      "\n",
      "Epoch 95\n",
      "---------\n",
      "Train loss: 0.076460714804361\n",
      "Test loss: 1.0382195748388767\n",
      "\n",
      "Epoch 96\n",
      "---------\n",
      "Train loss: 0.07066215521882514\n",
      "Test loss: 0.3756048632785678\n",
      "\n",
      "Epoch 97\n",
      "---------\n",
      "Train loss: 0.07179529169524038\n",
      "Test loss: 0.35251189799358446\n",
      "\n",
      "Epoch 98\n",
      "---------\n",
      "Train loss: 0.06478247275525653\n",
      "Test loss: 0.47091200575232506\n",
      "\n",
      "Epoch 99\n",
      "---------\n",
      "Train loss: 0.06064011448541203\n",
      "Test loss: 0.5225065021465222\n",
      "\n",
      "Epoch 100\n",
      "---------\n",
      "Train loss: 0.059584621867444995\n",
      "Test loss: 0.4205999883512656\n",
      "\n",
      "Epoch 101\n",
      "---------\n",
      "Train loss: 0.06434496178455348\n",
      "Test loss: 0.4535681741933028\n",
      "\n",
      "Epoch 102\n",
      "---------\n",
      "Train loss: 0.06085144834139863\n",
      "Test loss: 0.3548864771922429\n",
      "\n",
      "Epoch 103\n",
      "---------\n",
      "Train loss: 0.0563292556089928\n",
      "Test loss: 0.533033637329936\n",
      "\n",
      "Epoch 104\n",
      "---------\n",
      "Train loss: 0.05829127362576892\n",
      "Test loss: 0.4613675760726134\n",
      "\n",
      "Epoch 105\n",
      "---------\n",
      "Train loss: 0.06222014159366891\n",
      "Test loss: 0.4600223693996668\n",
      "\n",
      "Epoch 106\n",
      "---------\n",
      "Train loss: 0.06746140588074923\n",
      "Test loss: 0.4334011133760214\n",
      "\n",
      "Epoch 107\n",
      "---------\n",
      "Train loss: 0.06138233793899417\n",
      "Test loss: 0.3400586470961571\n",
      "\n",
      "Epoch 108\n",
      "---------\n",
      "Train loss: 0.062062807230127824\n",
      "Test loss: 0.5554768753548464\n",
      "\n",
      "Epoch 109\n",
      "---------\n",
      "Train loss: 0.06585177475888584\n",
      "Test loss: 0.3912192539622386\n",
      "\n",
      "Epoch 110\n",
      "---------\n",
      "Train loss: 0.057746367717816216\n",
      "Test loss: 0.47515986921886605\n",
      "\n",
      "Epoch 111\n",
      "---------\n",
      "Train loss: 0.05583312887088018\n",
      "Test loss: 0.4503151085227728\n",
      "\n",
      "Epoch 112\n",
      "---------\n",
      "Train loss: 0.05813774187117815\n",
      "Test loss: 0.4293335775534312\n",
      "\n",
      "Epoch 113\n",
      "---------\n",
      "Train loss: 0.05634334893280489\n",
      "Test loss: 0.4977576670547326\n",
      "\n",
      "Epoch 114\n",
      "---------\n",
      "Train loss: 0.056847179610584234\n",
      "Test loss: 0.5154603651414315\n",
      "\n",
      "Epoch 115\n",
      "---------\n",
      "Train loss: 0.06131110997946077\n",
      "Test loss: 0.35589421167969704\n",
      "\n",
      "Epoch 116\n",
      "---------\n",
      "Train loss: 0.057711709504695355\n",
      "Test loss: 0.44356421070794266\n",
      "\n",
      "Epoch 117\n",
      "---------\n",
      "Train loss: 0.055121619310985144\n",
      "Test loss: 0.43096383288502693\n",
      "\n",
      "Epoch 118\n",
      "---------\n",
      "Train loss: 0.053179361816571166\n",
      "Test loss: 0.43458699993789196\n",
      "\n",
      "Epoch 119\n",
      "---------\n",
      "Train loss: 0.05540024241860453\n",
      "Test loss: 0.3931326648841302\n",
      "\n",
      "Epoch 120\n",
      "---------\n",
      "Train loss: 0.05475244584896073\n",
      "Test loss: 0.5617576166987419\n",
      "\n",
      "Epoch 121\n",
      "---------\n",
      "Train loss: 0.05449882138998726\n",
      "Test loss: 0.458257879751424\n",
      "\n",
      "Epoch 122\n",
      "---------\n",
      "Train loss: 0.06767526522555666\n",
      "Test loss: 0.39547118296225864\n",
      "\n",
      "Epoch 123\n",
      "---------\n",
      "Train loss: 0.054306243121548484\n",
      "Test loss: 0.4887266308069229\n",
      "\n",
      "Epoch 124\n",
      "---------\n",
      "Train loss: 0.05711700046132948\n",
      "Test loss: 0.47792506590485573\n",
      "\n",
      "Epoch 125\n",
      "---------\n",
      "Train loss: 0.05284102159124371\n",
      "Test loss: 0.4003963824361563\n",
      "\n",
      "Epoch 126\n",
      "---------\n",
      "Train loss: 0.054916406956476135\n",
      "Test loss: 0.41533276873330277\n",
      "\n",
      "Epoch 127\n",
      "---------\n",
      "Train loss: 0.06037511586662338\n",
      "Test loss: 0.5041436577836672\n",
      "\n",
      "Epoch 128\n",
      "---------\n",
      "Train loss: 0.059503561307399255\n",
      "Test loss: 0.35913364837567013\n",
      "\n",
      "Epoch 129\n",
      "---------\n",
      "Train loss: 0.05394678156369844\n",
      "Test loss: 0.6587581417212883\n",
      "\n",
      "Hidden SİZE XD 39\n"
     ]
    },
    {
     "data": {
      "image/png": "[encoded data removed]",
      "text/plain": [
       "<Figure size 1000x500 with 1 Axes>"
      ]
     },
     "metadata": {},
     "output_type": "display_data"
    },
    {
     "name": "stdout",
     "output_type": "stream",
     "text": [
      "            lead1  Model forecast\n",
      "Month                            \n",
      "1949-01-01  118.0      124.148689\n",
      "1949-02-01  132.0      129.379440\n",
      "1949-03-01  129.0      140.329727\n",
      "1949-04-01  121.0      134.113174\n",
      "1949-05-01  135.0      130.181519\n",
      "...           ...             ...\n",
      "1960-07-01  606.0      532.004944\n",
      "1960-08-01  508.0      471.445496\n",
      "1960-09-01  461.0      373.449829\n",
      "1960-10-01  390.0      358.883545\n",
      "1960-11-01  432.0      317.622345\n",
      "\n",
      "[144 rows x 2 columns]\n"
     ]
    },
    {
     "data": {
      "application/vnd.plotly.v1+json": {
       "config": {
        "plotlyServerURL": "https://plot.ly"
       },
       "data": [
        {
         "hovertemplate": "variable=lead1<br>Date=%{x}<br>Air Passengers=%{y}<extra></extra>",
         "legendgroup": "lead1",
         "line": {
          "color": "#636efa",
          "dash": "solid"
         },
         "marker": {
          "symbol": "circle"
         },
         "mode": "lines",
         "name": "lead1",
         "orientation": "v",
         "showlegend": true,
         "type": "scatter",
         "x": [
          "1949-01-01T00:00:00",
          "1949-02-01T00:00:00",
          "1949-03-01T00:00:00",
          "1949-04-01T00:00:00",
          "1949-05-01T00:00:00",
          "1949-06-01T00:00:00",
          "1949-07-01T00:00:00",
          "1949-08-01T00:00:00",
          "1949-09-01T00:00:00",
          "1949-10-01T00:00:00",
          "1949-11-01T00:00:00",
          "1949-12-01T00:00:00",
          "1950-01-01T00:00:00",
          "1950-02-01T00:00:00",
          "1950-03-01T00:00:00",
          "1950-04-01T00:00:00",
          "1950-05-01T00:00:00",
          "1950-06-01T00:00:00",
          "1950-07-01T00:00:00",
          "1950-08-01T00:00:00",
          "1950-09-01T00:00:00",
          "1950-10-01T00:00:00",
          "1950-11-01T00:00:00",
          "1950-12-01T00:00:00",
          "1951-01-01T00:00:00",
          "1951-02-01T00:00:00",
          "1951-03-01T00:00:00",
          "1951-04-01T00:00:00",
          "1951-05-01T00:00:00",
          "1951-06-01T00:00:00",
          "1951-07-01T00:00:00",
          "1951-08-01T00:00:00",
          "1951-09-01T00:00:00",
          "1951-10-01T00:00:00",
          "1951-11-01T00:00:00",
          "1951-12-01T00:00:00",
          "1952-01-01T00:00:00",
          "1952-02-01T00:00:00",
          "1952-03-01T00:00:00",
          "1952-04-01T00:00:00",
          "1952-05-01T00:00:00",
          "1952-06-01T00:00:00",
          "1952-07-01T00:00:00",
          "1952-08-01T00:00:00",
          "1952-09-01T00:00:00",
          "1952-10-01T00:00:00",
          "1952-11-01T00:00:00",
          "1952-12-01T00:00:00",
          "1953-01-01T00:00:00",
          "1953-02-01T00:00:00",
          "1953-03-01T00:00:00",
          "1953-04-01T00:00:00",
          "1953-05-01T00:00:00",
          "1953-06-01T00:00:00",
          "1953-07-01T00:00:00",
          "1953-08-01T00:00:00",
          "1953-09-01T00:00:00",
          "1953-10-01T00:00:00",
          "1953-11-01T00:00:00",
          "1953-12-01T00:00:00",
          "1954-01-01T00:00:00",
          "1954-02-01T00:00:00",
          "1954-03-01T00:00:00",
          "1954-04-01T00:00:00",
          "1954-05-01T00:00:00",
          "1954-06-01T00:00:00",
          "1954-07-01T00:00:00",
          "1954-08-01T00:00:00",
          "1954-09-01T00:00:00",
          "1954-10-01T00:00:00",
          "1954-11-01T00:00:00",
          "1954-12-01T00:00:00",
          "1955-01-01T00:00:00",
          "1955-02-01T00:00:00",
          "1955-03-01T00:00:00",
          "1955-04-01T00:00:00",
          "1955-05-01T00:00:00",
          "1955-06-01T00:00:00",
          "1955-07-01T00:00:00",
          "1955-08-01T00:00:00",
          "1955-09-01T00:00:00",
          "1955-10-01T00:00:00",
          "1955-11-01T00:00:00",
          "1955-12-01T00:00:00",
          "1956-01-01T00:00:00",
          "1956-02-01T00:00:00",
          "1956-03-01T00:00:00",
          "1956-04-01T00:00:00",
          "1956-05-01T00:00:00",
          "1956-06-01T00:00:00",
          "1956-07-01T00:00:00",
          "1956-08-01T00:00:00",
          "1956-09-01T00:00:00",
          "1956-10-01T00:00:00",
          "1956-11-01T00:00:00",
          "1956-12-01T00:00:00",
          "1957-01-01T00:00:00",
          "1957-02-01T00:00:00",
          "1957-03-01T00:00:00",
          "1957-04-01T00:00:00",
          "1957-05-01T00:00:00",
          "1957-06-01T00:00:00",
          "1957-07-01T00:00:00",
          "1957-08-01T00:00:00",
          "1957-09-01T00:00:00",
          "1957-10-01T00:00:00",
          "1957-11-01T00:00:00",
          "1957-12-01T00:00:00",
          "1958-01-01T00:00:00",
          "1958-01-01T00:00:00",
          "1958-02-01T00:00:00",
          "1958-03-01T00:00:00",
          "1958-04-01T00:00:00",
          "1958-05-01T00:00:00",
          "1958-06-01T00:00:00",
          "1958-07-01T00:00:00",
          "1958-08-01T00:00:00",
          "1958-09-01T00:00:00",
          "1958-10-01T00:00:00",
          "1958-11-01T00:00:00",
          "1958-12-01T00:00:00",
          "1959-01-01T00:00:00",
          "1959-02-01T00:00:00",
          "1959-03-01T00:00:00",
          "1959-04-01T00:00:00",
          "1959-05-01T00:00:00",
          "1959-06-01T00:00:00",
          "1959-07-01T00:00:00",
          "1959-08-01T00:00:00",
          "1959-09-01T00:00:00",
          "1959-10-01T00:00:00",
          "1959-11-01T00:00:00",
          "1959-12-01T00:00:00",
          "1960-01-01T00:00:00",
          "1960-02-01T00:00:00",
          "1960-03-01T00:00:00",
          "1960-04-01T00:00:00",
          "1960-05-01T00:00:00",
          "1960-06-01T00:00:00",
          "1960-07-01T00:00:00",
          "1960-08-01T00:00:00",
          "1960-09-01T00:00:00",
          "1960-10-01T00:00:00",
          "1960-11-01T00:00:00"
         ],
         "xaxis": "x",
         "y": [
          118,
          132,
          129,
          121,
          135,
          148,
          148,
          136,
          119,
          104,
          118,
          115,
          126,
          141,
          135,
          125,
          149,
          170,
          170,
          158,
          133,
          114,
          140,
          145,
          150,
          178,
          163,
          172,
          178,
          199,
          199,
          184,
          162,
          146,
          166,
          171,
          180,
          193,
          181,
          183,
          218,
          230,
          242,
          209,
          191,
          172,
          194,
          196,
          196,
          236,
          235,
          229,
          243,
          264,
          272,
          237,
          211,
          180,
          201,
          204,
          188,
          235,
          227,
          234,
          264,
          302,
          293,
          259,
          229,
          203,
          229,
          242,
          233,
          267,
          269,
          270,
          315,
          364,
          347,
          312,
          274,
          237,
          278,
          284,
          277,
          317,
          313,
          318,
          374,
          413,
          405,
          355,
          306,
          271,
          306,
          315,
          301,
          356,
          348,
          355,
          422,
          465,
          467,
          404,
          347,
          305,
          336,
          340,
          318,
          318,
          362,
          348,
          363,
          435,
          491,
          505,
          404,
          359,
          310,
          337,
          360,
          342,
          406,
          396,
          420,
          472,
          548,
          559,
          463,
          407,
          362,
          405,
          417,
          391,
          419,
          461,
          472,
          535,
          622,
          606,
          508,
          461,
          390,
          432
         ],
         "yaxis": "y"
        },
        {
         "hovertemplate": "variable=Model forecast<br>Date=%{x}<br>Air Passengers=%{y}<extra></extra>",
         "legendgroup": "Model forecast",
         "line": {
          "color": "#EF553B",
          "dash": "solid"
         },
         "marker": {
          "symbol": "circle"
         },
         "mode": "lines",
         "name": "Model forecast",
         "orientation": "v",
         "showlegend": true,
         "type": "scatter",
         "x": [
          "1949-01-01T00:00:00",
          "1949-02-01T00:00:00",
          "1949-03-01T00:00:00",
          "1949-04-01T00:00:00",
          "1949-05-01T00:00:00",
          "1949-06-01T00:00:00",
          "1949-07-01T00:00:00",
          "1949-08-01T00:00:00",
          "1949-09-01T00:00:00",
          "1949-10-01T00:00:00",
          "1949-11-01T00:00:00",
          "1949-12-01T00:00:00",
          "1950-01-01T00:00:00",
          "1950-02-01T00:00:00",
          "1950-03-01T00:00:00",
          "1950-04-01T00:00:00",
          "1950-05-01T00:00:00",
          "1950-06-01T00:00:00",
          "1950-07-01T00:00:00",
          "1950-08-01T00:00:00",
          "1950-09-01T00:00:00",
          "1950-10-01T00:00:00",
          "1950-11-01T00:00:00",
          "1950-12-01T00:00:00",
          "1951-01-01T00:00:00",
          "1951-02-01T00:00:00",
          "1951-03-01T00:00:00",
          "1951-04-01T00:00:00",
          "1951-05-01T00:00:00",
          "1951-06-01T00:00:00",
          "1951-07-01T00:00:00",
          "1951-08-01T00:00:00",
          "1951-09-01T00:00:00",
          "1951-10-01T00:00:00",
          "1951-11-01T00:00:00",
          "1951-12-01T00:00:00",
          "1952-01-01T00:00:00",
          "1952-02-01T00:00:00",
          "1952-03-01T00:00:00",
          "1952-04-01T00:00:00",
          "1952-05-01T00:00:00",
          "1952-06-01T00:00:00",
          "1952-07-01T00:00:00",
          "1952-08-01T00:00:00",
          "1952-09-01T00:00:00",
          "1952-10-01T00:00:00",
          "1952-11-01T00:00:00",
          "1952-12-01T00:00:00",
          "1953-01-01T00:00:00",
          "1953-02-01T00:00:00",
          "1953-03-01T00:00:00",
          "1953-04-01T00:00:00",
          "1953-05-01T00:00:00",
          "1953-06-01T00:00:00",
          "1953-07-01T00:00:00",
          "1953-08-01T00:00:00",
          "1953-09-01T00:00:00",
          "1953-10-01T00:00:00",
          "1953-11-01T00:00:00",
          "1953-12-01T00:00:00",
          "1954-01-01T00:00:00",
          "1954-02-01T00:00:00",
          "1954-03-01T00:00:00",
          "1954-04-01T00:00:00",
          "1954-05-01T00:00:00",
          "1954-06-01T00:00:00",
          "1954-07-01T00:00:00",
          "1954-08-01T00:00:00",
          "1954-09-01T00:00:00",
          "1954-10-01T00:00:00",
          "1954-11-01T00:00:00",
          "1954-12-01T00:00:00",
          "1955-01-01T00:00:00",
          "1955-02-01T00:00:00",
          "1955-03-01T00:00:00",
          "1955-04-01T00:00:00",
          "1955-05-01T00:00:00",
          "1955-06-01T00:00:00",
          "1955-07-01T00:00:00",
          "1955-08-01T00:00:00",
          "1955-09-01T00:00:00",
          "1955-10-01T00:00:00",
          "1955-11-01T00:00:00",
          "1955-12-01T00:00:00",
          "1956-01-01T00:00:00",
          "1956-02-01T00:00:00",
          "1956-03-01T00:00:00",
          "1956-04-01T00:00:00",
          "1956-05-01T00:00:00",
          "1956-06-01T00:00:00",
          "1956-07-01T00:00:00",
          "1956-08-01T00:00:00",
          "1956-09-01T00:00:00",
          "1956-10-01T00:00:00",
          "1956-11-01T00:00:00",
          "1956-12-01T00:00:00",
          "1957-01-01T00:00:00",
          "1957-02-01T00:00:00",
          "1957-03-01T00:00:00",
          "1957-04-01T00:00:00",
          "1957-05-01T00:00:00",
          "1957-06-01T00:00:00",
          "1957-07-01T00:00:00",
          "1957-08-01T00:00:00",
          "1957-09-01T00:00:00",
          "1957-10-01T00:00:00",
          "1957-11-01T00:00:00",
          "1957-12-01T00:00:00",
          "1958-01-01T00:00:00",
          "1958-01-01T00:00:00",
          "1958-02-01T00:00:00",
          "1958-03-01T00:00:00",
          "1958-04-01T00:00:00",
          "1958-05-01T00:00:00",
          "1958-06-01T00:00:00",
          "1958-07-01T00:00:00",
          "1958-08-01T00:00:00",
          "1958-09-01T00:00:00",
          "1958-10-01T00:00:00",
          "1958-11-01T00:00:00",
          "1958-12-01T00:00:00",
          "1959-01-01T00:00:00",
          "1959-02-01T00:00:00",
          "1959-03-01T00:00:00",
          "1959-04-01T00:00:00",
          "1959-05-01T00:00:00",
          "1959-06-01T00:00:00",
          "1959-07-01T00:00:00",
          "1959-08-01T00:00:00",
          "1959-09-01T00:00:00",
          "1959-10-01T00:00:00",
          "1959-11-01T00:00:00",
          "1959-12-01T00:00:00",
          "1960-01-01T00:00:00",
          "1960-02-01T00:00:00",
          "1960-03-01T00:00:00",
          "1960-04-01T00:00:00",
          "1960-05-01T00:00:00",
          "1960-06-01T00:00:00",
          "1960-07-01T00:00:00",
          "1960-08-01T00:00:00",
          "1960-09-01T00:00:00",
          "1960-10-01T00:00:00",
          "1960-11-01T00:00:00"
         ],
         "xaxis": "x",
         "y": [
          124.14868927001953,
          129.3794403076172,
          140.32972717285156,
          134.11317443847656,
          130.1815185546875,
          145.31484985351562,
          152.7608642578125,
          151.59249877929688,
          141.88320922851562,
          129.43356323242188,
          119.7403335571289,
          133.20608520507812,
          123.3521499633789,
          136.70298767089844,
          147.22824096679688,
          138.6229248046875,
          133.7951202392578,
          158.54458618164062,
          172.67349243164062,
          172.09014892578125,
          163.97702026367188,
          141.47842407226562,
          128.5456085205078,
          152.45440673828125,
          147.17552185058594,
          155.4493408203125,
          182.8551788330078,
          162.7364501953125,
          181.55224609375,
          182.6673126220703,
          203.30227661132812,
          203.25906372070312,
          194.55621337890625,
          174.93507385253906,
          157.86764526367188,
          175.22616577148438,
          173.474609375,
          185.3878631591797,
          197.6981658935547,
          186.10305786132812,
          193.7239990234375,
          219.73097229003906,
          234.18116760253906,
          258.4071350097656,
          207.02481079101562,
          207.96536254882812,
          188.26422119140625,
          202.99659729003906,
          199.4967498779297,
          205.02621459960938,
          236.9418182373047,
          242.7113494873047,
          243.72625732421875,
          263.3125915527344,
          280.6535339355469,
          267.6488952636719,
          229.7244415283203,
          208.50537109375,
          200.63966369628906,
          214.06982421875,
          208.49818420410156,
          198.48068237304688,
          235.41700744628906,
          230.89883422851562,
          254.60848999023438,
          281.9319152832031,
          311.301025390625,
          261.406494140625,
          260.5861511230469,
          227.4696044921875,
          206.66796875,
          243.33419799804688,
          253.14585876464844,
          240.6972198486328,
          285.12408447265625,
          264.97216796875,
          293.9479675292969,
          337.5972595214844,
          361.3545227050781,
          311.8260498046875,
          295.25390625,
          266.4547119140625,
          235.59201049804688,
          272.66424560546875,
          272.51983642578125,
          301.1502685546875,
          328.5368957519531,
          292.70745849609375,
          350.7896728515625,
          410.7994384765625,
          417.439453125,
          346.58837890625,
          295.3785400390625,
          268.73516845703125,
          269.1577453613281,
          305.7107849121094,
          307.78118896484375,
          325.6884765625,
          358.70556640625,
          317.9813537597656,
          399.70513916015625,
          472.74957275390625,
          428.43853759765625,
          378.3005676269531,
          326.33489990234375,
          292.44146728515625,
          280.5247802734375,
          344.8319396972656,
          356.016845703125,
          379.81536865234375,
          325.687744140625,
          380.39111328125,
          319.6492614746094,
          415.52703857421875,
          477.53204345703125,
          451.69183349609375,
          406.8389892578125,
          323.069091796875,
          312.9084777832031,
          271.245849609375,
          349.1785583496094,
          396.35894775390625,
          323.24176025390625,
          457.8265380859375,
          344.4195251464844,
          402.7438659667969,
          436.47998046875,
          484.5245666503906,
          444.03076171875,
          353.7113342285156,
          331.53857421875,
          308.23211669921875,
          464.454833984375,
          373.7249450683594,
          327.91595458984375,
          420.5564270019531,
          419.52191162109375,
          386.0882568359375,
          456.9674072265625,
          532.0049438476562,
          471.44549560546875,
          373.4498291015625,
          358.883544921875,
          317.6223449707031
         ],
         "yaxis": "y"
        }
       ],
       "layout": {
        "annotations": [
         {
          "showarrow": false,
          "text": "Test set start",
          "x": 0.75,
          "xref": "paper",
          "y": 0.8,
          "yref": "paper"
         }
        ],
        "legend": {
         "orientation": "h",
         "title": {
          "text": ""
         },
         "tracegroupgap": 0,
         "y": 1.02
        },
        "margin": {
         "t": 60
        },
        "shapes": [
         {
          "line": {
           "dash": "dash",
           "width": 4
          },
          "type": "line",
          "x0": "1958-01-01",
          "x1": "1958-01-01",
          "xref": "x",
          "y0": 0,
          "y1": 1,
          "yref": "y domain"
         }
        ],
        "template": {
         "data": {
          "bar": [
           {
            "error_x": {
             "color": "#2a3f5f"
            },
            "error_y": {
             "color": "#2a3f5f"
            },
            "marker": {
             "line": {
              "color": "white",
              "width": 0.5
             },
             "pattern": {
              "fillmode": "overlay",
              "size": 10,
              "solidity": 0.2
             }
            },
            "type": "bar"
           }
          ],
          "barpolar": [
           {
            "marker": {
             "line": {
              "color": "white",
              "width": 0.5
             },
             "pattern": {
              "fillmode": "overlay",
              "size": 10,
              "solidity": 0.2
             }
            },
            "type": "barpolar"
           }
          ],
          "carpet": [
           {
            "aaxis": {
             "endlinecolor": "#2a3f5f",
             "gridcolor": "#C8D4E3",
             "linecolor": "#C8D4E3",
             "minorgridcolor": "#C8D4E3",
             "startlinecolor": "#2a3f5f"
            },
            "baxis": {
             "endlinecolor": "#2a3f5f",
             "gridcolor": "#C8D4E3",
             "linecolor": "#C8D4E3",
             "minorgridcolor": "#C8D4E3",
             "startlinecolor": "#2a3f5f"
            },
            "type": "carpet"
           }
          ],
          "choropleth": [
           {
            "colorbar": {
             "outlinewidth": 0,
             "ticks": ""
            },
            "type": "choropleth"
           }
          ],
          "contour": [
           {
            "colorbar": {
             "outlinewidth": 0,
             "ticks": ""
            },
            "colorscale": [
             [
              0,
              "#0d0887"
             ],
             [
              0.1111111111111111,
              "#46039f"
             ],
             [
              0.2222222222222222,
              "#7201a8"
             ],
             [
              0.3333333333333333,
              "#9c179e"
             ],
             [
              0.4444444444444444,
              "#bd3786"
             ],
             [
              0.5555555555555556,
              "#d8576b"
             ],
             [
              0.6666666666666666,
              "#ed7953"
             ],
             [
              0.7777777777777778,
              "#fb9f3a"
             ],
             [
              0.8888888888888888,
              "#fdca26"
             ],
             [
              1,
              "#f0f921"
             ]
            ],
            "type": "contour"
           }
          ],
          "contourcarpet": [
           {
            "colorbar": {
             "outlinewidth": 0,
             "ticks": ""
            },
            "type": "contourcarpet"
           }
          ],
          "heatmap": [
           {
            "colorbar": {
             "outlinewidth": 0,
             "ticks": ""
            },
            "colorscale": [
             [
              0,
              "#0d0887"
             ],
             [
              0.1111111111111111,
              "#46039f"
             ],
             [
              0.2222222222222222,
              "#7201a8"
             ],
             [
              0.3333333333333333,
              "#9c179e"
             ],
             [
              0.4444444444444444,
              "#bd3786"
             ],
             [
              0.5555555555555556,
              "#d8576b"
             ],
             [
              0.6666666666666666,
              "#ed7953"
             ],
             [
              0.7777777777777778,
              "#fb9f3a"
             ],
             [
              0.8888888888888888,
              "#fdca26"
             ],
             [
              1,
              "#f0f921"
             ]
            ],
            "type": "heatmap"
           }
          ],
          "heatmapgl": [
           {
            "colorbar": {
             "outlinewidth": 0,
             "ticks": ""
            },
            "colorscale": [
             [
              0,
              "#0d0887"
             ],
             [
              0.1111111111111111,
              "#46039f"
             ],
             [
              0.2222222222222222,
              "#7201a8"
             ],
             [
              0.3333333333333333,
              "#9c179e"
             ],
             [
              0.4444444444444444,
              "#bd3786"
             ],
             [
              0.5555555555555556,
              "#d8576b"
             ],
             [
              0.6666666666666666,
              "#ed7953"
             ],
             [
              0.7777777777777778,
              "#fb9f3a"
             ],
             [
              0.8888888888888888,
              "#fdca26"
             ],
             [
              1,
              "#f0f921"
             ]
            ],
            "type": "heatmapgl"
           }
          ],
          "histogram": [
           {
            "marker": {
             "pattern": {
              "fillmode": "overlay",
              "size": 10,
              "solidity": 0.2
             }
            },
            "type": "histogram"
           }
          ],
          "histogram2d": [
           {
            "colorbar": {
             "outlinewidth": 0,
             "ticks": ""
            },
            "colorscale": [
             [
              0,
              "#0d0887"
             ],
             [
              0.1111111111111111,
              "#46039f"
             ],
             [
              0.2222222222222222,
              "#7201a8"
             ],
             [
              0.3333333333333333,
              "#9c179e"
             ],
             [
              0.4444444444444444,
              "#bd3786"
             ],
             [
              0.5555555555555556,
              "#d8576b"
             ],
             [
              0.6666666666666666,
              "#ed7953"
             ],
             [
              0.7777777777777778,
              "#fb9f3a"
             ],
             [
              0.8888888888888888,
              "#fdca26"
             ],
             [
              1,
              "#f0f921"
             ]
            ],
            "type": "histogram2d"
           }
          ],
          "histogram2dcontour": [
           {
            "colorbar": {
             "outlinewidth": 0,
             "ticks": ""
            },
            "colorscale": [
             [
              0,
              "#0d0887"
             ],
             [
              0.1111111111111111,
              "#46039f"
             ],
             [
              0.2222222222222222,
              "#7201a8"
             ],
             [
              0.3333333333333333,
              "#9c179e"
             ],
             [
              0.4444444444444444,
              "#bd3786"
             ],
             [
              0.5555555555555556,
              "#d8576b"
             ],
             [
              0.6666666666666666,
              "#ed7953"
             ],
             [
              0.7777777777777778,
              "#fb9f3a"
             ],
             [
              0.8888888888888888,
              "#fdca26"
             ],
             [
              1,
              "#f0f921"
             ]
            ],
            "type": "histogram2dcontour"
           }
          ],
          "mesh3d": [
           {
            "colorbar": {
             "outlinewidth": 0,
             "ticks": ""
            },
            "type": "mesh3d"
           }
          ],
          "parcoords": [
           {
            "line": {
             "colorbar": {
              "outlinewidth": 0,
              "ticks": ""
             }
            },
            "type": "parcoords"
           }
          ],
          "pie": [
           {
            "automargin": true,
            "type": "pie"
           }
          ],
          "scatter": [
           {
            "fillpattern": {
             "fillmode": "overlay",
             "size": 10,
             "solidity": 0.2
            },
            "type": "scatter"
           }
          ],
          "scatter3d": [
           {
            "line": {
             "colorbar": {
              "outlinewidth": 0,
              "ticks": ""
             }
            },
            "marker": {
             "colorbar": {
              "outlinewidth": 0,
              "ticks": ""
             }
            },
            "type": "scatter3d"
           }
          ],
          "scattercarpet": [
           {
            "marker": {
             "colorbar": {
              "outlinewidth": 0,
              "ticks": ""
             }
            },
            "type": "scattercarpet"
           }
          ],
          "scattergeo": [
           {
            "marker": {
             "colorbar": {
              "outlinewidth": 0,
              "ticks": ""
             }
            },
            "type": "scattergeo"
           }
          ],
          "scattergl": [
           {
            "marker": {
             "colorbar": {
              "outlinewidth": 0,
              "ticks": ""
             }
            },
            "type": "scattergl"
           }
          ],
          "scattermapbox": [
           {
            "marker": {
             "colorbar": {
              "outlinewidth": 0,
              "ticks": ""
             }
            },
            "type": "scattermapbox"
           }
          ],
          "scatterpolar": [
           {
            "marker": {
             "colorbar": {
              "outlinewidth": 0,
              "ticks": ""
             }
            },
            "type": "scatterpolar"
           }
          ],
          "scatterpolargl": [
           {
            "marker": {
             "colorbar": {
              "outlinewidth": 0,
              "ticks": ""
             }
            },
            "type": "scatterpolargl"
           }
          ],
          "scatterternary": [
           {
            "marker": {
             "colorbar": {
              "outlinewidth": 0,
              "ticks": ""
             }
            },
            "type": "scatterternary"
           }
          ],
          "surface": [
           {
            "colorbar": {
             "outlinewidth": 0,
             "ticks": ""
            },
            "colorscale": [
             [
              0,
              "#0d0887"
             ],
             [
              0.1111111111111111,
              "#46039f"
             ],
             [
              0.2222222222222222,
              "#7201a8"
             ],
             [
              0.3333333333333333,
              "#9c179e"
             ],
             [
              0.4444444444444444,
              "#bd3786"
             ],
             [
              0.5555555555555556,
              "#d8576b"
             ],
             [
              0.6666666666666666,
              "#ed7953"
             ],
             [
              0.7777777777777778,
              "#fb9f3a"
             ],
             [
              0.8888888888888888,
              "#fdca26"
             ],
             [
              1,
              "#f0f921"
             ]
            ],
            "type": "surface"
           }
          ],
          "table": [
           {
            "cells": {
             "fill": {
              "color": "#EBF0F8"
             },
             "line": {
              "color": "white"
             }
            },
            "header": {
             "fill": {
              "color": "#C8D4E3"
             },
             "line": {
              "color": "white"
             }
            },
            "type": "table"
           }
          ]
         },
         "layout": {
          "font": {
           "size": 18
          },
          "xaxis": {
           "title": {
            "font": {
             "size": 24
            }
           }
          },
          "yaxis": {
           "title": {
            "font": {
             "size": 24
            }
           }
          }
         }
        },
        "xaxis": {
         "anchor": "y",
         "domain": [
          0,
          1
         ],
         "title": {
          "text": "Date"
         }
        },
        "yaxis": {
         "anchor": "x",
         "domain": [
          0,
          1
         ],
         "title": {
          "text": "Air Passengers"
         }
        }
       }
      }
     },
     "metadata": {},
     "output_type": "display_data"
    }
   ],
   "source": [
    "# Store losses per epoch\n",
    "train_losses = []\n",
    "test_losses = []\n",
    "\n",
    "print(\"Untrained test\\n--------\")\n",
    "initial_test_loss = test_model(test_loader, model, loss_function)\n",
    "test_losses.append(initial_test_loss)\n",
    "print()\n",
    "\n",
    "\n",
    "for ix_epoch in range(130):\n",
    "    print(f\"Epoch {ix_epoch}\\n---------\")\n",
    "    train_loss = train_model(train_loader, model, loss_function, optimizer=optimizer)\n",
    "    train_losses.append(train_loss)\n",
    "    \n",
    "    test_loss = test_model(test_loader, model, loss_function)\n",
    "    test_losses.append(test_loss)\n",
    "    print()\n",
    "\n",
    "print(\"Hidden SİZE XD\", model.hidden_size)\n",
    "\n",
    "# Plot loss per epoch\n",
    "plt.figure(figsize=(10,5))\n",
    "plt.plot(train_losses, label='Training loss')\n",
    "plt.plot(test_losses, label='Testing loss')\n",
    "plt.xlabel('Epochs')\n",
    "plt.ylabel('Loss')\n",
    "plt.legend()\n",
    "plt.show()\n",
    "\n",
    "# %% [markdown]\n",
    "# # Evaluation\n",
    "\n",
    "# %%\n",
    "def predict(data_loader, model):\n",
    "    \"\"\"Just like `test_loop` function but keep track of the outputs instead of the loss\n",
    "    function.\n",
    "    \"\"\"\n",
    "    output = torch.tensor([])\n",
    "    model.eval()\n",
    "    with torch.no_grad():\n",
    "        for X, _ in data_loader:\n",
    "            y_star = model(X)\n",
    "            output = torch.cat((output, y_star), 0)\n",
    "    \n",
    "    return output\n",
    "\n",
    "# %%\n",
    "train_eval_loader = DataLoader(train_dataset, batch_size=batch_size, shuffle=False)\n",
    "\n",
    "ystar_col = \"Model forecast\"\n",
    "df_train[ystar_col] = predict(train_eval_loader, model).numpy()\n",
    "df_test[ystar_col] = predict(test_loader, model).numpy()\n",
    "\n",
    "df_out = pd.concat((df_train, df_test))[[target, ystar_col]]\n",
    "\n",
    "for c in df_out.columns:\n",
    "    df_out[c] = df_out[c] * target_stdev + target_mean\n",
    "\n",
    "print(df_out)\n",
    "\n",
    "# %%\n",
    "fig = px.line(df_out, labels={'value': \"Air Passengers\", 'Month': 'Date'})\n",
    "fig.add_vline(x=test_start, line_width=4, line_dash=\"dash\")\n",
    "fig.add_annotation(xref=\"paper\", x=0.75, yref=\"paper\", y=0.8, text=\"Test set start\", showarrow=False)\n",
    "fig.update_layout(\n",
    "  template=plot_template, legend=dict(orientation='h', y=1.02, title_text=\"\")\n",
    ")\n",
    "fig.show()\n",
    "# fig.write_image(\"air_passengers_forecast.png\", width=1200, height=600)\n"
   ]
  },
  {
   "cell_type": "code",
   "execution_count": 5,
   "metadata": {},
   "outputs": [
    {
     "name": "stdout",
     "output_type": "stream",
     "text": [
      "MAPE 0.09003753813396176\n",
      "Test MAPE 0.14455130625093202\n"
     ]
    }
   ],
   "source": [
    "from sklearn.metrics import mean_absolute_percentage_error\n",
    "\n",
    "\n",
    "mape = mean_absolute_percentage_error(df_out['Model forecast'], df_out['lead1'])\n",
    "mape_test = mean_absolute_percentage_error(df_out['lead1'].iloc[118:144], df_out['Model forecast'].iloc[118:144])\n",
    "print(\"MAPE\", mape)\n",
    "print(\"Test MAPE\", mape_test)\n",
    "\n"
   ]
  }
 ],
 "metadata": {
  "kernelspec": {
   "display_name": "Python (3.11.2)",
   "language": "python",
   "name": "3.11.2"
  },
  "language_info": {
   "codemirror_mode": {
    "name": "ipython",
    "version": 3
   },
   "file_extension": ".py",
   "mimetype": "text/x-python",
   "name": "python",
   "nbconvert_exporter": "python",
   "pygments_lexer": "ipython3",
   "version": "3.11.2"
  },
  "orig_nbformat": 4
 },
 "nbformat": 4,
 "nbformat_minor": 2
}
