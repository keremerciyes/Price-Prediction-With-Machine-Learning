{
 "cells": [
  {
   "cell_type": "code",
   "execution_count": 22,
   "metadata": {},
   "outputs": [
    {
     "name": "stdout",
     "output_type": "stream",
     "text": [
      "Before dropping column:\n",
      "         date  fng_value fng_classification\n",
      "0  2018-02-01         30               Fear\n",
      "1  2018-02-02         15       Extreme Fear\n",
      "2  2018-02-03         40               Fear\n",
      "3  2018-02-04         24       Extreme Fear\n",
      "4  2018-02-05         11       Extreme Fear\n",
      "\n",
      "After dropping column:\n",
      "         date  fng_value\n",
      "0  2018-02-01         30\n",
      "1  2018-02-02         15\n",
      "2  2018-02-03         40\n",
      "3  2018-02-04         24\n",
      "4  2018-02-05         11\n",
      "            date  fng_value\n",
      "117   2018-06-01         24\n",
      "118   2018-06-02         27\n",
      "119   2018-06-03         40\n",
      "120   2018-06-04         41\n",
      "121   2018-06-05         26\n",
      "...          ...        ...\n",
      "1939  2023-05-28         50\n",
      "1940  2023-05-29         52\n",
      "1941  2023-05-30         51\n",
      "1942  2023-05-31         51\n",
      "1943  2023-06-01         52\n",
      "\n",
      "[1827 rows x 2 columns]\n"
     ]
    }
   ],
   "source": [
    "import pandas as pd\n",
    "\n",
    "fear_greed_index_df = pd.read_csv(\"fear_greed_index.csv\")\n",
    "\n",
    "# Sort the DataFrame in ascending order based on the 'date' column\n",
    "fear_greed_index_df_sorted = fear_greed_index_df.sort_values('date', ascending=True)\n",
    "\n",
    "# Reset the index\n",
    "fear_greed_index_df_sorted.reset_index(drop=True, inplace=True)\n",
    "\n",
    "# Check if 'fng_classification' column exists before dropping it\n",
    "if 'fng_classification' in fear_greed_index_df_sorted.columns:\n",
    "    print(\"Before dropping column:\")\n",
    "    print(fear_greed_index_df_sorted.head())  # Print the DataFrame before dropping the column\n",
    "\n",
    "    # Create a copy of the sorted DataFrame without the 'fng_classification' column\n",
    "    selected_df = fear_greed_index_df_sorted.drop(columns=['fng_classification']).copy()\n",
    "\n",
    "    print(\"\\nAfter dropping column:\")\n",
    "    print(selected_df.head())  # Print the DataFrame after dropping the column\n",
    "else:\n",
    "    selected_df = fear_greed_index_df_sorted.copy()\n",
    "\n",
    "# Select the range of dates in the sorted DataFrame\n",
    "start_date = '2018-06-01'\n",
    "end_date = '2023-06-01'\n",
    "selected_df = selected_df.loc[(selected_df['date'] >= start_date) & (selected_df['date'] <= end_date)]\n",
    "\n",
    "print(selected_df)\n",
    "\n",
    "selected_df.to_csv(\"fear_greed_index_prepared.csv\", index=False)\n"
   ]
  }
 ],
 "metadata": {
  "kernelspec": {
   "display_name": "Python (3.11.2)",
   "language": "python",
   "name": "3.11.2"
  },
  "language_info": {
   "codemirror_mode": {
    "name": "ipython",
    "version": 3
   },
   "file_extension": ".py",
   "mimetype": "text/x-python",
   "name": "python",
   "nbconvert_exporter": "python",
   "pygments_lexer": "ipython3",
   "version": "3.11.2"
  },
  "orig_nbformat": 4
 },
 "nbformat": 4,
 "nbformat_minor": 2
}
