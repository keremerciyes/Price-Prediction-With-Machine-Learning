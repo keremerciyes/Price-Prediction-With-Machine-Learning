{
 "cells": [
  {
   "cell_type": "code",
   "execution_count": 2,
   "id": "d57e22c2",
   "metadata": {
    "scrolled": false
   },
   "outputs": [
    {
     "data": {
      "text/html": [
       "<div>\n",
       "<style scoped>\n",
       "    .dataframe tbody tr th:only-of-type {\n",
       "        vertical-align: middle;\n",
       "    }\n",
       "\n",
       "    .dataframe tbody tr th {\n",
       "        vertical-align: top;\n",
       "    }\n",
       "\n",
       "    .dataframe thead th {\n",
       "        text-align: right;\n",
       "    }\n",
       "</style>\n",
       "<table border=\"1\" class=\"dataframe\">\n",
       "  <thead>\n",
       "    <tr style=\"text-align: right;\">\n",
       "      <th></th>\n",
       "      <th>meantemp</th>\n",
       "      <th>meantemp1</th>\n",
       "      <th>meantemp2</th>\n",
       "      <th>meantemp3</th>\n",
       "      <th>humidity</th>\n",
       "      <th>wind_speed</th>\n",
       "    </tr>\n",
       "  </thead>\n",
       "  <tbody>\n",
       "    <tr>\n",
       "      <th>0</th>\n",
       "      <td>8.666667</td>\n",
       "      <td>7.166667</td>\n",
       "      <td>7.400000</td>\n",
       "      <td>10.000000</td>\n",
       "      <td>87.000000</td>\n",
       "      <td>4.633333</td>\n",
       "    </tr>\n",
       "    <tr>\n",
       "      <th>1</th>\n",
       "      <td>6.000000</td>\n",
       "      <td>8.666667</td>\n",
       "      <td>7.166667</td>\n",
       "      <td>7.400000</td>\n",
       "      <td>71.333333</td>\n",
       "      <td>1.233333</td>\n",
       "    </tr>\n",
       "    <tr>\n",
       "      <th>2</th>\n",
       "      <td>7.000000</td>\n",
       "      <td>6.000000</td>\n",
       "      <td>8.666667</td>\n",
       "      <td>7.166667</td>\n",
       "      <td>86.833333</td>\n",
       "      <td>3.700000</td>\n",
       "    </tr>\n",
       "    <tr>\n",
       "      <th>3</th>\n",
       "      <td>7.000000</td>\n",
       "      <td>7.000000</td>\n",
       "      <td>6.000000</td>\n",
       "      <td>8.666667</td>\n",
       "      <td>82.800000</td>\n",
       "      <td>1.480000</td>\n",
       "    </tr>\n",
       "    <tr>\n",
       "      <th>4</th>\n",
       "      <td>8.857143</td>\n",
       "      <td>7.000000</td>\n",
       "      <td>7.000000</td>\n",
       "      <td>6.000000</td>\n",
       "      <td>78.600000</td>\n",
       "      <td>6.300000</td>\n",
       "    </tr>\n",
       "    <tr>\n",
       "      <th>...</th>\n",
       "      <td>...</td>\n",
       "      <td>...</td>\n",
       "      <td>...</td>\n",
       "      <td>...</td>\n",
       "      <td>...</td>\n",
       "      <td>...</td>\n",
       "    </tr>\n",
       "    <tr>\n",
       "      <th>1455</th>\n",
       "      <td>15.238095</td>\n",
       "      <td>17.217391</td>\n",
       "      <td>16.850000</td>\n",
       "      <td>17.142857</td>\n",
       "      <td>68.043478</td>\n",
       "      <td>3.547826</td>\n",
       "    </tr>\n",
       "    <tr>\n",
       "      <th>1456</th>\n",
       "      <td>14.095238</td>\n",
       "      <td>15.238095</td>\n",
       "      <td>17.217391</td>\n",
       "      <td>16.850000</td>\n",
       "      <td>87.857143</td>\n",
       "      <td>6.000000</td>\n",
       "    </tr>\n",
       "    <tr>\n",
       "      <th>1457</th>\n",
       "      <td>14.095238</td>\n",
       "      <td>14.095238</td>\n",
       "      <td>15.238095</td>\n",
       "      <td>17.217391</td>\n",
       "      <td>89.666667</td>\n",
       "      <td>6.266667</td>\n",
       "    </tr>\n",
       "    <tr>\n",
       "      <th>1458</th>\n",
       "      <td>15.052632</td>\n",
       "      <td>14.095238</td>\n",
       "      <td>14.095238</td>\n",
       "      <td>15.238095</td>\n",
       "      <td>87.000000</td>\n",
       "      <td>7.325000</td>\n",
       "    </tr>\n",
       "    <tr>\n",
       "      <th>1459</th>\n",
       "      <td>10.000000</td>\n",
       "      <td>15.052632</td>\n",
       "      <td>14.095238</td>\n",
       "      <td>14.095238</td>\n",
       "      <td>100.000000</td>\n",
       "      <td>0.000000</td>\n",
       "    </tr>\n",
       "  </tbody>\n",
       "</table>\n",
       "<p>1460 rows × 6 columns</p>\n",
       "</div>"
      ],
      "text/plain": [
       "       meantemp  meantemp1  meantemp2  meantemp3    humidity  wind_speed\n",
       "0      8.666667   7.166667   7.400000  10.000000   87.000000    4.633333\n",
       "1      6.000000   8.666667   7.166667   7.400000   71.333333    1.233333\n",
       "2      7.000000   6.000000   8.666667   7.166667   86.833333    3.700000\n",
       "3      7.000000   7.000000   6.000000   8.666667   82.800000    1.480000\n",
       "4      8.857143   7.000000   7.000000   6.000000   78.600000    6.300000\n",
       "...         ...        ...        ...        ...         ...         ...\n",
       "1455  15.238095  17.217391  16.850000  17.142857   68.043478    3.547826\n",
       "1456  14.095238  15.238095  17.217391  16.850000   87.857143    6.000000\n",
       "1457  14.095238  14.095238  15.238095  17.217391   89.666667    6.266667\n",
       "1458  15.052632  14.095238  14.095238  15.238095   87.000000    7.325000\n",
       "1459  10.000000  15.052632  14.095238  14.095238  100.000000    0.000000\n",
       "\n",
       "[1460 rows x 6 columns]"
      ]
     },
     "execution_count": 2,
     "metadata": {},
     "output_type": "execute_result"
    }
   ],
   "source": [
    "import pandas as pd\n",
    "import numpy as np\n",
    "\n",
    "df = pd.read_excel('datatabt_3.xlsx')\n",
    "df"
   ]
  },
  {
   "cell_type": "markdown",
   "id": "dd7cdde7",
   "metadata": {},
   "source": [
    "## Set up the dependent and independent variables"
   ]
  },
  {
   "cell_type": "code",
   "execution_count": 3,
   "id": "2ab50c78",
   "metadata": {},
   "outputs": [],
   "source": [
    "X = pd.DataFrame(df[['meantemp1', 'meantemp2','meantemp3', 'humidity', 'wind_speed']])\n",
    "y = pd.DataFrame(df[['meantemp']])"
   ]
  },
  {
   "cell_type": "markdown",
   "id": "825eeb6a",
   "metadata": {},
   "source": [
    "## Independent Variables"
   ]
  },
  {
   "cell_type": "code",
   "execution_count": 4,
   "id": "c1dbdf73",
   "metadata": {},
   "outputs": [
    {
     "data": {
      "text/html": [
       "<div>\n",
       "<style scoped>\n",
       "    .dataframe tbody tr th:only-of-type {\n",
       "        vertical-align: middle;\n",
       "    }\n",
       "\n",
       "    .dataframe tbody tr th {\n",
       "        vertical-align: top;\n",
       "    }\n",
       "\n",
       "    .dataframe thead th {\n",
       "        text-align: right;\n",
       "    }\n",
       "</style>\n",
       "<table border=\"1\" class=\"dataframe\">\n",
       "  <thead>\n",
       "    <tr style=\"text-align: right;\">\n",
       "      <th></th>\n",
       "      <th>meantemp1</th>\n",
       "      <th>meantemp2</th>\n",
       "      <th>meantemp3</th>\n",
       "      <th>humidity</th>\n",
       "      <th>wind_speed</th>\n",
       "    </tr>\n",
       "  </thead>\n",
       "  <tbody>\n",
       "    <tr>\n",
       "      <th>0</th>\n",
       "      <td>7.166667</td>\n",
       "      <td>7.400000</td>\n",
       "      <td>10.000000</td>\n",
       "      <td>87.000000</td>\n",
       "      <td>4.633333</td>\n",
       "    </tr>\n",
       "    <tr>\n",
       "      <th>1</th>\n",
       "      <td>8.666667</td>\n",
       "      <td>7.166667</td>\n",
       "      <td>7.400000</td>\n",
       "      <td>71.333333</td>\n",
       "      <td>1.233333</td>\n",
       "    </tr>\n",
       "    <tr>\n",
       "      <th>2</th>\n",
       "      <td>6.000000</td>\n",
       "      <td>8.666667</td>\n",
       "      <td>7.166667</td>\n",
       "      <td>86.833333</td>\n",
       "      <td>3.700000</td>\n",
       "    </tr>\n",
       "    <tr>\n",
       "      <th>3</th>\n",
       "      <td>7.000000</td>\n",
       "      <td>6.000000</td>\n",
       "      <td>8.666667</td>\n",
       "      <td>82.800000</td>\n",
       "      <td>1.480000</td>\n",
       "    </tr>\n",
       "    <tr>\n",
       "      <th>4</th>\n",
       "      <td>7.000000</td>\n",
       "      <td>7.000000</td>\n",
       "      <td>6.000000</td>\n",
       "      <td>78.600000</td>\n",
       "      <td>6.300000</td>\n",
       "    </tr>\n",
       "    <tr>\n",
       "      <th>...</th>\n",
       "      <td>...</td>\n",
       "      <td>...</td>\n",
       "      <td>...</td>\n",
       "      <td>...</td>\n",
       "      <td>...</td>\n",
       "    </tr>\n",
       "    <tr>\n",
       "      <th>1455</th>\n",
       "      <td>17.217391</td>\n",
       "      <td>16.850000</td>\n",
       "      <td>17.142857</td>\n",
       "      <td>68.043478</td>\n",
       "      <td>3.547826</td>\n",
       "    </tr>\n",
       "    <tr>\n",
       "      <th>1456</th>\n",
       "      <td>15.238095</td>\n",
       "      <td>17.217391</td>\n",
       "      <td>16.850000</td>\n",
       "      <td>87.857143</td>\n",
       "      <td>6.000000</td>\n",
       "    </tr>\n",
       "    <tr>\n",
       "      <th>1457</th>\n",
       "      <td>14.095238</td>\n",
       "      <td>15.238095</td>\n",
       "      <td>17.217391</td>\n",
       "      <td>89.666667</td>\n",
       "      <td>6.266667</td>\n",
       "    </tr>\n",
       "    <tr>\n",
       "      <th>1458</th>\n",
       "      <td>14.095238</td>\n",
       "      <td>14.095238</td>\n",
       "      <td>15.238095</td>\n",
       "      <td>87.000000</td>\n",
       "      <td>7.325000</td>\n",
       "    </tr>\n",
       "    <tr>\n",
       "      <th>1459</th>\n",
       "      <td>15.052632</td>\n",
       "      <td>14.095238</td>\n",
       "      <td>14.095238</td>\n",
       "      <td>100.000000</td>\n",
       "      <td>0.000000</td>\n",
       "    </tr>\n",
       "  </tbody>\n",
       "</table>\n",
       "<p>1460 rows × 5 columns</p>\n",
       "</div>"
      ],
      "text/plain": [
       "      meantemp1  meantemp2  meantemp3    humidity  wind_speed\n",
       "0      7.166667   7.400000  10.000000   87.000000    4.633333\n",
       "1      8.666667   7.166667   7.400000   71.333333    1.233333\n",
       "2      6.000000   8.666667   7.166667   86.833333    3.700000\n",
       "3      7.000000   6.000000   8.666667   82.800000    1.480000\n",
       "4      7.000000   7.000000   6.000000   78.600000    6.300000\n",
       "...         ...        ...        ...         ...         ...\n",
       "1455  17.217391  16.850000  17.142857   68.043478    3.547826\n",
       "1456  15.238095  17.217391  16.850000   87.857143    6.000000\n",
       "1457  14.095238  15.238095  17.217391   89.666667    6.266667\n",
       "1458  14.095238  14.095238  15.238095   87.000000    7.325000\n",
       "1459  15.052632  14.095238  14.095238  100.000000    0.000000\n",
       "\n",
       "[1460 rows x 5 columns]"
      ]
     },
     "execution_count": 4,
     "metadata": {},
     "output_type": "execute_result"
    }
   ],
   "source": [
    "X"
   ]
  },
  {
   "cell_type": "markdown",
   "id": "aed8c979",
   "metadata": {},
   "source": [
    "## Dependent Variable"
   ]
  },
  {
   "cell_type": "code",
   "execution_count": 5,
   "id": "2c00d6f8",
   "metadata": {
    "scrolled": false
   },
   "outputs": [
    {
     "data": {
      "text/html": [
       "<div>\n",
       "<style scoped>\n",
       "    .dataframe tbody tr th:only-of-type {\n",
       "        vertical-align: middle;\n",
       "    }\n",
       "\n",
       "    .dataframe tbody tr th {\n",
       "        vertical-align: top;\n",
       "    }\n",
       "\n",
       "    .dataframe thead th {\n",
       "        text-align: right;\n",
       "    }\n",
       "</style>\n",
       "<table border=\"1\" class=\"dataframe\">\n",
       "  <thead>\n",
       "    <tr style=\"text-align: right;\">\n",
       "      <th></th>\n",
       "      <th>meantemp</th>\n",
       "    </tr>\n",
       "  </thead>\n",
       "  <tbody>\n",
       "    <tr>\n",
       "      <th>0</th>\n",
       "      <td>8.666667</td>\n",
       "    </tr>\n",
       "    <tr>\n",
       "      <th>1</th>\n",
       "      <td>6.000000</td>\n",
       "    </tr>\n",
       "    <tr>\n",
       "      <th>2</th>\n",
       "      <td>7.000000</td>\n",
       "    </tr>\n",
       "    <tr>\n",
       "      <th>3</th>\n",
       "      <td>7.000000</td>\n",
       "    </tr>\n",
       "    <tr>\n",
       "      <th>4</th>\n",
       "      <td>8.857143</td>\n",
       "    </tr>\n",
       "    <tr>\n",
       "      <th>...</th>\n",
       "      <td>...</td>\n",
       "    </tr>\n",
       "    <tr>\n",
       "      <th>1455</th>\n",
       "      <td>15.238095</td>\n",
       "    </tr>\n",
       "    <tr>\n",
       "      <th>1456</th>\n",
       "      <td>14.095238</td>\n",
       "    </tr>\n",
       "    <tr>\n",
       "      <th>1457</th>\n",
       "      <td>14.095238</td>\n",
       "    </tr>\n",
       "    <tr>\n",
       "      <th>1458</th>\n",
       "      <td>15.052632</td>\n",
       "    </tr>\n",
       "    <tr>\n",
       "      <th>1459</th>\n",
       "      <td>10.000000</td>\n",
       "    </tr>\n",
       "  </tbody>\n",
       "</table>\n",
       "<p>1460 rows × 1 columns</p>\n",
       "</div>"
      ],
      "text/plain": [
       "       meantemp\n",
       "0      8.666667\n",
       "1      6.000000\n",
       "2      7.000000\n",
       "3      7.000000\n",
       "4      8.857143\n",
       "...         ...\n",
       "1455  15.238095\n",
       "1456  14.095238\n",
       "1457  14.095238\n",
       "1458  15.052632\n",
       "1459  10.000000\n",
       "\n",
       "[1460 rows x 1 columns]"
      ]
     },
     "execution_count": 5,
     "metadata": {},
     "output_type": "execute_result"
    }
   ],
   "source": [
    "y"
   ]
  },
  {
   "cell_type": "markdown",
   "id": "fec228be",
   "metadata": {},
   "source": [
    "## Divide data into test and train sets"
   ]
  },
  {
   "cell_type": "code",
   "execution_count": 6,
   "id": "3e262bc6",
   "metadata": {},
   "outputs": [
    {
     "name": "stdout",
     "output_type": "stream",
     "text": [
      "      meantemp1  meantemp2  meantemp3   humidity  wind_speed\n",
      "737      11.125  10.625000  10.000000  73.125000      4.4125\n",
      "923      33.375  30.875000  29.875000  52.875000     17.1375\n",
      "682      18.250  18.625000  18.375000  47.625000      2.5500\n",
      "1039     21.875  21.875000  22.875000  70.250000      1.8625\n",
      "793      18.375  20.000000  18.750000  80.375000      4.1750\n",
      "...         ...        ...        ...        ...         ...\n",
      "399      18.500  17.000000  18.857143  65.375000      6.0125\n",
      "993      28.625  30.250000  30.125000  61.250000     13.6750\n",
      "862      28.500  29.625000  27.750000  52.125000      7.1750\n",
      "1138     17.600  17.642857  17.066667  59.533333      5.9400\n",
      "559      32.625  33.125000  32.375000  63.000000     10.4500\n",
      "\n",
      "[1168 rows x 5 columns]       meantemp1  meantemp2  meantemp3   humidity  wind_speed\n",
      "649   24.500000  27.625000  26.000000  67.625000    5.325000\n",
      "674   23.875000  24.000000  23.000000  66.250000    1.625000\n",
      "1122  20.142857  19.562500  16.857143  78.500000    1.200000\n",
      "529   36.375000  33.875000  30.500000  41.375000   10.887500\n",
      "1187  32.812500  33.312500  32.312500  33.125000    8.000000\n",
      "...         ...        ...        ...        ...         ...\n",
      "697   20.000000  19.750000  20.250000  42.625000    8.800000\n",
      "309   18.000000  20.142857  20.571429  82.200000   19.912500\n",
      "896   35.125000  33.875000  32.375000  45.125000    3.012500\n",
      "1085  11.250000  12.500000  12.000000  68.625000    6.025000\n",
      "223   29.666667  30.750000  29.500000  74.333333    9.866667\n",
      "\n",
      "[292 rows x 5 columns]        meantemp\n",
      "737   11.000000\n",
      "923   31.750000\n",
      "682   17.750000\n",
      "1039  21.750000\n",
      "793   19.500000\n",
      "...         ...\n",
      "399   19.625000\n",
      "993   28.250000\n",
      "862   30.000000\n",
      "1138  18.214286\n",
      "559   30.750000\n",
      "\n",
      "[1168 rows x 1 columns]        meantemp\n",
      "649   24.500000\n",
      "674   24.125000\n",
      "1122  17.375000\n",
      "529   36.875000\n",
      "1187  32.312500\n",
      "...         ...\n",
      "697   21.375000\n",
      "309   19.857143\n",
      "896   35.875000\n",
      "1085  11.500000\n",
      "223   27.714286\n",
      "\n",
      "[292 rows x 1 columns]\n"
     ]
    }
   ],
   "source": [
    "from sklearn.model_selection import train_test_split\n",
    "X_train, X_test, y_train, y_test = train_test_split(X, y, test_size=0.2)\n",
    "\n",
    "print(X_train, X_test, y_train, y_test)"
   ]
  },
  {
   "cell_type": "code",
   "execution_count": 7,
   "id": "e5cd3914",
   "metadata": {},
   "outputs": [
    {
     "name": "stdout",
     "output_type": "stream",
     "text": [
      "(1168, 5)\n",
      "(292, 5)\n",
      "(1168, 1)\n",
      "(292, 1)\n"
     ]
    }
   ],
   "source": [
    "print(X_train.shape)\n",
    "print(X_test.shape)\n",
    "print(y_train.shape)\n",
    "print(y_test.shape)"
   ]
  },
  {
   "cell_type": "markdown",
   "id": "1acb8bed",
   "metadata": {},
   "source": [
    "## Train the algorithm"
   ]
  },
  {
   "cell_type": "code",
   "execution_count": 8,
   "id": "8a88f59a",
   "metadata": {
    "scrolled": true
   },
   "outputs": [
    {
     "data": {
      "text/plain": [
       "LinearRegression()"
      ]
     },
     "execution_count": 8,
     "metadata": {},
     "output_type": "execute_result"
    }
   ],
   "source": [
    "from sklearn.linear_model import LinearRegression\n",
    "regressor = LinearRegression()\n",
    "regressor.fit(X_train, y_train)"
   ]
  },
  {
   "cell_type": "markdown",
   "id": "143ccbbc",
   "metadata": {},
   "source": [
    "## Control the coefficients the model chosen"
   ]
  },
  {
   "cell_type": "code",
   "execution_count": 9,
   "id": "fc9ff79d",
   "metadata": {},
   "outputs": [],
   "source": [
    "v = pd.DataFrame(regressor.coef_,index=['Co-efficient']).transpose()\n",
    "w = pd.DataFrame(X.columns, columns=['Attribute'])"
   ]
  },
  {
   "cell_type": "code",
   "execution_count": 10,
   "id": "c04bfe54",
   "metadata": {},
   "outputs": [
    {
     "data": {
      "text/html": [
       "<div>\n",
       "<style scoped>\n",
       "    .dataframe tbody tr th:only-of-type {\n",
       "        vertical-align: middle;\n",
       "    }\n",
       "\n",
       "    .dataframe tbody tr th {\n",
       "        vertical-align: top;\n",
       "    }\n",
       "\n",
       "    .dataframe thead th {\n",
       "        text-align: right;\n",
       "    }\n",
       "</style>\n",
       "<table border=\"1\" class=\"dataframe\">\n",
       "  <thead>\n",
       "    <tr style=\"text-align: right;\">\n",
       "      <th></th>\n",
       "      <th>Attribute</th>\n",
       "      <th>Co-efficient</th>\n",
       "    </tr>\n",
       "  </thead>\n",
       "  <tbody>\n",
       "    <tr>\n",
       "      <th>0</th>\n",
       "      <td>meantemp1</td>\n",
       "      <td>0.824065</td>\n",
       "    </tr>\n",
       "    <tr>\n",
       "      <th>1</th>\n",
       "      <td>meantemp2</td>\n",
       "      <td>0.080429</td>\n",
       "    </tr>\n",
       "    <tr>\n",
       "      <th>2</th>\n",
       "      <td>meantemp3</td>\n",
       "      <td>0.084150</td>\n",
       "    </tr>\n",
       "    <tr>\n",
       "      <th>3</th>\n",
       "      <td>humidity</td>\n",
       "      <td>0.007713</td>\n",
       "    </tr>\n",
       "    <tr>\n",
       "      <th>4</th>\n",
       "      <td>wind_speed</td>\n",
       "      <td>-0.000036</td>\n",
       "    </tr>\n",
       "  </tbody>\n",
       "</table>\n",
       "</div>"
      ],
      "text/plain": [
       "    Attribute  Co-efficient\n",
       "0   meantemp1      0.824065\n",
       "1   meantemp2      0.080429\n",
       "2   meantemp3      0.084150\n",
       "3    humidity      0.007713\n",
       "4  wind_speed     -0.000036"
      ]
     },
     "execution_count": 10,
     "metadata": {},
     "output_type": "execute_result"
    }
   ],
   "source": [
    "coeff_df = pd.concat([w,v], axis=1, join='inner')\n",
    "coeff_df\n",
    "# y = B1.X1 + B2.X2 + B3.X3 + B4.X4\n",
    "# B = COEFFICIENT\n",
    "# X = INPUT (ATTRIBUTE)"
   ]
  },
  {
   "cell_type": "markdown",
   "id": "118679a5",
   "metadata": {},
   "source": [
    "## Comparing Predicted value to the actual value"
   ]
  },
  {
   "cell_type": "code",
   "execution_count": 11,
   "id": "bcda8fbe",
   "metadata": {
    "scrolled": true
   },
   "outputs": [
    {
     "data": {
      "text/html": [
       "<div>\n",
       "<style scoped>\n",
       "    .dataframe tbody tr th:only-of-type {\n",
       "        vertical-align: middle;\n",
       "    }\n",
       "\n",
       "    .dataframe tbody tr th {\n",
       "        vertical-align: top;\n",
       "    }\n",
       "\n",
       "    .dataframe thead th {\n",
       "        text-align: right;\n",
       "    }\n",
       "</style>\n",
       "<table border=\"1\" class=\"dataframe\">\n",
       "  <thead>\n",
       "    <tr style=\"text-align: right;\">\n",
       "      <th></th>\n",
       "      <th>Predicted meantemp</th>\n",
       "    </tr>\n",
       "  </thead>\n",
       "  <tbody>\n",
       "    <tr>\n",
       "      <th>0</th>\n",
       "      <td>24.978698</td>\n",
       "    </tr>\n",
       "    <tr>\n",
       "      <th>1</th>\n",
       "      <td>23.909180</td>\n",
       "    </tr>\n",
       "    <tr>\n",
       "      <th>2</th>\n",
       "      <td>20.054329</td>\n",
       "    </tr>\n",
       "    <tr>\n",
       "      <th>3</th>\n",
       "      <td>35.443156</td>\n",
       "    </tr>\n",
       "    <tr>\n",
       "      <th>4</th>\n",
       "      <td>32.551176</td>\n",
       "    </tr>\n",
       "    <tr>\n",
       "      <th>...</th>\n",
       "      <td>...</td>\n",
       "    </tr>\n",
       "    <tr>\n",
       "      <th>287</th>\n",
       "      <td>19.960217</td>\n",
       "    </tr>\n",
       "    <tr>\n",
       "      <th>288</th>\n",
       "      <td>18.675579</td>\n",
       "    </tr>\n",
       "    <tr>\n",
       "      <th>289</th>\n",
       "      <td>34.600062</td>\n",
       "    </tr>\n",
       "    <tr>\n",
       "      <th>290</th>\n",
       "      <td>11.672943</td>\n",
       "    </tr>\n",
       "    <tr>\n",
       "      <th>291</th>\n",
       "      <td>29.833810</td>\n",
       "    </tr>\n",
       "  </tbody>\n",
       "</table>\n",
       "<p>292 rows × 1 columns</p>\n",
       "</div>"
      ],
      "text/plain": [
       "     Predicted meantemp\n",
       "0             24.978698\n",
       "1             23.909180\n",
       "2             20.054329\n",
       "3             35.443156\n",
       "4             32.551176\n",
       "..                  ...\n",
       "287           19.960217\n",
       "288           18.675579\n",
       "289           34.600062\n",
       "290           11.672943\n",
       "291           29.833810\n",
       "\n",
       "[292 rows x 1 columns]"
      ]
     },
     "execution_count": 11,
     "metadata": {},
     "output_type": "execute_result"
    }
   ],
   "source": [
    "y_pred = regressor.predict(X_test)\n",
    "y_pred = pd.DataFrame(y_pred, columns=['Predicted meantemp'])\n",
    "y_pred"
   ]
  },
  {
   "cell_type": "code",
   "execution_count": 12,
   "id": "3c1714c3",
   "metadata": {
    "scrolled": false
   },
   "outputs": [
    {
     "data": {
      "text/html": [
       "<div>\n",
       "<style scoped>\n",
       "    .dataframe tbody tr th:only-of-type {\n",
       "        vertical-align: middle;\n",
       "    }\n",
       "\n",
       "    .dataframe tbody tr th {\n",
       "        vertical-align: top;\n",
       "    }\n",
       "\n",
       "    .dataframe thead th {\n",
       "        text-align: right;\n",
       "    }\n",
       "</style>\n",
       "<table border=\"1\" class=\"dataframe\">\n",
       "  <thead>\n",
       "    <tr style=\"text-align: right;\">\n",
       "      <th></th>\n",
       "      <th>meantemp</th>\n",
       "    </tr>\n",
       "  </thead>\n",
       "  <tbody>\n",
       "    <tr>\n",
       "      <th>649</th>\n",
       "      <td>24.500000</td>\n",
       "    </tr>\n",
       "    <tr>\n",
       "      <th>674</th>\n",
       "      <td>24.125000</td>\n",
       "    </tr>\n",
       "    <tr>\n",
       "      <th>1122</th>\n",
       "      <td>17.375000</td>\n",
       "    </tr>\n",
       "    <tr>\n",
       "      <th>529</th>\n",
       "      <td>36.875000</td>\n",
       "    </tr>\n",
       "    <tr>\n",
       "      <th>1187</th>\n",
       "      <td>32.312500</td>\n",
       "    </tr>\n",
       "    <tr>\n",
       "      <th>...</th>\n",
       "      <td>...</td>\n",
       "    </tr>\n",
       "    <tr>\n",
       "      <th>697</th>\n",
       "      <td>21.375000</td>\n",
       "    </tr>\n",
       "    <tr>\n",
       "      <th>309</th>\n",
       "      <td>19.857143</td>\n",
       "    </tr>\n",
       "    <tr>\n",
       "      <th>896</th>\n",
       "      <td>35.875000</td>\n",
       "    </tr>\n",
       "    <tr>\n",
       "      <th>1085</th>\n",
       "      <td>11.500000</td>\n",
       "    </tr>\n",
       "    <tr>\n",
       "      <th>223</th>\n",
       "      <td>27.714286</td>\n",
       "    </tr>\n",
       "  </tbody>\n",
       "</table>\n",
       "<p>292 rows × 1 columns</p>\n",
       "</div>"
      ],
      "text/plain": [
       "       meantemp\n",
       "649   24.500000\n",
       "674   24.125000\n",
       "1122  17.375000\n",
       "529   36.875000\n",
       "1187  32.312500\n",
       "...         ...\n",
       "697   21.375000\n",
       "309   19.857143\n",
       "896   35.875000\n",
       "1085  11.500000\n",
       "223   27.714286\n",
       "\n",
       "[292 rows x 1 columns]"
      ]
     },
     "execution_count": 12,
     "metadata": {},
     "output_type": "execute_result"
    }
   ],
   "source": [
    "y_test"
   ]
  },
  {
   "cell_type": "code",
   "execution_count": 13,
   "id": "495caa63",
   "metadata": {
    "scrolled": false
   },
   "outputs": [
    {
     "data": {
      "text/html": [
       "<div>\n",
       "<style scoped>\n",
       "    .dataframe tbody tr th:only-of-type {\n",
       "        vertical-align: middle;\n",
       "    }\n",
       "\n",
       "    .dataframe tbody tr th {\n",
       "        vertical-align: top;\n",
       "    }\n",
       "\n",
       "    .dataframe thead th {\n",
       "        text-align: right;\n",
       "    }\n",
       "</style>\n",
       "<table border=\"1\" class=\"dataframe\">\n",
       "  <thead>\n",
       "    <tr style=\"text-align: right;\">\n",
       "      <th></th>\n",
       "      <th>date</th>\n",
       "    </tr>\n",
       "  </thead>\n",
       "  <tbody>\n",
       "    <tr>\n",
       "      <th>0</th>\n",
       "      <td>2013-01-01</td>\n",
       "    </tr>\n",
       "    <tr>\n",
       "      <th>1</th>\n",
       "      <td>2013-01-02</td>\n",
       "    </tr>\n",
       "    <tr>\n",
       "      <th>2</th>\n",
       "      <td>2013-01-03</td>\n",
       "    </tr>\n",
       "    <tr>\n",
       "      <th>3</th>\n",
       "      <td>2013-01-04</td>\n",
       "    </tr>\n",
       "    <tr>\n",
       "      <th>4</th>\n",
       "      <td>2013-01-05</td>\n",
       "    </tr>\n",
       "    <tr>\n",
       "      <th>...</th>\n",
       "      <td>...</td>\n",
       "    </tr>\n",
       "    <tr>\n",
       "      <th>287</th>\n",
       "      <td>2013-10-15</td>\n",
       "    </tr>\n",
       "    <tr>\n",
       "      <th>288</th>\n",
       "      <td>2013-10-16</td>\n",
       "    </tr>\n",
       "    <tr>\n",
       "      <th>289</th>\n",
       "      <td>2013-10-17</td>\n",
       "    </tr>\n",
       "    <tr>\n",
       "      <th>290</th>\n",
       "      <td>2013-10-18</td>\n",
       "    </tr>\n",
       "    <tr>\n",
       "      <th>291</th>\n",
       "      <td>2013-10-19</td>\n",
       "    </tr>\n",
       "  </tbody>\n",
       "</table>\n",
       "<p>292 rows × 1 columns</p>\n",
       "</div>"
      ],
      "text/plain": [
       "          date\n",
       "0   2013-01-01\n",
       "1   2013-01-02\n",
       "2   2013-01-03\n",
       "3   2013-01-04\n",
       "4   2013-01-05\n",
       "..         ...\n",
       "287 2013-10-15\n",
       "288 2013-10-16\n",
       "289 2013-10-17\n",
       "290 2013-10-18\n",
       "291 2013-10-19\n",
       "\n",
       "[292 rows x 1 columns]"
      ]
     },
     "execution_count": 13,
     "metadata": {},
     "output_type": "execute_result"
    }
   ],
   "source": [
    "date = pd.read_excel('date.xlsx')\n",
    "date"
   ]
  },
  {
   "cell_type": "code",
   "execution_count": 14,
   "id": "18233a34",
   "metadata": {
    "scrolled": false
   },
   "outputs": [
    {
     "data": {
      "image/png": "[encoded data removed]",
      "text/plain": [
       "<Figure size 640x480 with 1 Axes>"
      ]
     },
     "metadata": {},
     "output_type": "display_data"
    }
   ],
   "source": [
    "import matplotlib.pyplot as plt\n",
    "\n",
    "x1 = date\n",
    "x2 = date\n",
    "\n",
    "y_show = y_test\n",
    "\n",
    "y2 = y_pred\n",
    "\n",
    "plt.plot(x1, y_show, label = 'Actual Temperatures')\n",
    "\n",
    "plt.plot(x2, y2, label = 'Predicted Temperatures')\n",
    "\n",
    "plt.legend(['Actual Temperatures', 'Predicted Temperatures'])\n",
    "\n",
    "plt.xlabel('Date')\n",
    "\n",
    "plt.ylabel('Temperature')\n",
    "\n",
    "plt.title('The Predicted and Actual Values of Temperature in India From 2013 to 2017')\n",
    "\n",
    "plt.show()"
   ]
  },
  {
   "cell_type": "markdown",
   "id": "cc2c712e",
   "metadata": {},
   "source": [
    "## Evaluate the algorithm"
   ]
  },
  {
   "cell_type": "code",
   "execution_count": 15,
   "id": "d1aabe6f",
   "metadata": {
    "scrolled": true
   },
   "outputs": [
    {
     "name": "stdout",
     "output_type": "stream",
     "text": [
      "Mean Absolute Error: 1.164729590765096\n",
      "Mean Squared Error: 2.416828835250845\n",
      "Root Mean Squared Error: 1.5546153335313675\n"
     ]
    }
   ],
   "source": [
    "from sklearn import metrics\n",
    "print('Mean Absolute Error:', metrics.mean_absolute_error(y_test, y_pred))\n",
    "print('Mean Squared Error:', metrics.mean_squared_error(y_test, y_pred))\n",
    "print('Root Mean Squared Error:', np.sqrt(metrics.mean_squared_error(y_test, y_pred)))\n"
   ]
  },
  {
   "cell_type": "code",
   "execution_count": 16,
   "id": "cca2ba9d",
   "metadata": {
    "scrolled": true
   },
   "outputs": [
    {
     "name": "stdout",
     "output_type": "stream",
     "text": [
      "% 5.166692059087025\n"
     ]
    }
   ],
   "source": [
    "from sklearn.metrics import mean_absolute_percentage_error\n",
    "mean_absolute_percentage_error(y_test, y_pred)\n",
    "print('%',mean_absolute_percentage_error(y_test, y_pred)*100)"
   ]
  },
  {
   "cell_type": "code",
   "execution_count": null,
   "id": "373fb8f0",
   "metadata": {},
   "outputs": [],
   "source": []
  },
  {
   "cell_type": "code",
   "execution_count": null,
   "id": "9c8396c9",
   "metadata": {},
   "outputs": [],
   "source": []
  },
  {
   "cell_type": "code",
   "execution_count": null,
   "id": "74018cbd",
   "metadata": {},
   "outputs": [],
   "source": []
  }
 ],
 "metadata": {
  "kernelspec": {
   "display_name": "Python 3 (ipykernel)",
   "language": "python",
   "name": "python3"
  },
  "language_info": {
   "codemirror_mode": {
    "name": "ipython",
    "version": 3
   },
   "file_extension": ".py",
   "mimetype": "text/x-python",
   "name": "python",
   "nbconvert_exporter": "python",
   "pygments_lexer": "ipython3",
   "version": "3.9.13"
  }
 },
 "nbformat": 4,
 "nbformat_minor": 5
}
