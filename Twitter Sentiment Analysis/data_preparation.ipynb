{
 "cells": [
  {
   "cell_type": "code",
   "execution_count": null,
   "metadata": {},
   "outputs": [],
   "source": [
    "import pandas as pd\n",
    "\n",
    "data = pd.read_csv(\"Bitcoin_tweets.csv\") "
   ]
  },
  {
   "cell_type": "code",
   "execution_count": null,
   "metadata": {},
   "outputs": [],
   "source": [
    "new_df = pd.DataFrame()\n",
    "selected_cols = [\"user_followers\", \"user_favourites\", \"date\", \"text\"]\n",
    "\n",
    "for c in selected_cols:\n",
    "    new_df[str(c)] = data[c]"
   ]
  },
  {
   "attachments": {},
   "cell_type": "markdown",
   "metadata": {},
   "source": [
    "Data Cleaning, user_favourites > 5000 and user_followers > 2500 "
   ]
  },
  {
   "cell_type": "code",
   "execution_count": null,
   "metadata": {},
   "outputs": [],
   "source": [
    "new_df['user_favourites'] = pd.to_numeric(new_df['user_favourites'], errors='coerce')\n",
    "\n",
    "# Option 1: Fill NaNs with 0\n",
    "new_df['user_favourites'] = new_df['user_favourites'].fillna(0).astype(int)\n",
    "\n",
    "# Option 2: Drop rows with NaNs\n",
    "new_df = new_df.dropna(subset=['user_favourites'])\n",
    "new_df['user_favourites'] = new_df['user_favourites'].astype(int)\n",
    "new_df = new_df[new_df['user_favourites'] > 5000]\n"
   ]
  },
  {
   "cell_type": "code",
   "execution_count": null,
   "metadata": {},
   "outputs": [],
   "source": [
    "len(new_df)"
   ]
  },
  {
   "cell_type": "code",
   "execution_count": null,
   "metadata": {},
   "outputs": [],
   "source": [
    "new_df['user_followers'] = pd.to_numeric(new_df['user_followers'], errors='coerce')\n",
    "\n",
    "# Option 1: Fill NaNs with 0\n",
    "new_df['user_followers'] = new_df['user_followers'].fillna(0).astype(int)\n",
    "\n",
    "# Option 2: Drop rows with NaNs\n",
    "new_df = new_df.dropna(subset=['user_followers'])\n",
    "\n",
    "new_df['user_followers'] = new_df['user_followers'].astype(float).astype(int)\n",
    "new_df = new_df[new_df['user_followers'] > 2500]"
   ]
  },
  {
   "cell_type": "code",
   "execution_count": 1,
   "metadata": {},
   "outputs": [
    {
     "ename": "NameError",
     "evalue": "name 'new_df' is not defined",
     "output_type": "error",
     "traceback": [
      "\u001b[0;31m---------------------------------------------------------------------------\u001b[0m",
      "\u001b[0;31mNameError\u001b[0m                                 Traceback (most recent call last)",
      "Cell \u001b[0;32mIn[1], line 1\u001b[0m\n\u001b[0;32m----> 1\u001b[0m \u001b[39mlen\u001b[39m(new_df)\n",
      "\u001b[0;31mNameError\u001b[0m: name 'new_df' is not defined"
     ]
    }
   ],
   "source": [
    "len(new_df)"
   ]
  },
  {
   "cell_type": "code",
   "execution_count": null,
   "metadata": {},
   "outputs": [],
   "source": [
    "new_df.head()"
   ]
  },
  {
   "cell_type": "code",
   "execution_count": null,
   "metadata": {},
   "outputs": [],
   "source": [
    "del new_df['user_favourites']\n",
    "del new_df['user_followers']"
   ]
  },
  {
   "cell_type": "code",
   "execution_count": 83,
   "metadata": {},
   "outputs": [
    {
     "data": {
      "text/html": [
       "<div>\n",
       "<style scoped>\n",
       "    .dataframe tbody tr th:only-of-type {\n",
       "        vertical-align: middle;\n",
       "    }\n",
       "\n",
       "    .dataframe tbody tr th {\n",
       "        vertical-align: top;\n",
       "    }\n",
       "\n",
       "    .dataframe thead th {\n",
       "        text-align: right;\n",
       "    }\n",
       "</style>\n",
       "<table border=\"1\" class=\"dataframe\">\n",
       "  <thead>\n",
       "    <tr style=\"text-align: right;\">\n",
       "      <th></th>\n",
       "      <th>date</th>\n",
       "      <th>text</th>\n",
       "    </tr>\n",
       "  </thead>\n",
       "  <tbody>\n",
       "    <tr>\n",
       "      <th>1</th>\n",
       "      <td>2021-02-10 23:58:48</td>\n",
       "      <td>😎 Today, that's this #Thursday, we will do a \"...</td>\n",
       "    </tr>\n",
       "    <tr>\n",
       "      <th>16</th>\n",
       "      <td>2021-02-10 23:48:37</td>\n",
       "      <td>@naval #BTC is unconfiscatable \\n\\nAll roads l...</td>\n",
       "    </tr>\n",
       "    <tr>\n",
       "      <th>23</th>\n",
       "      <td>2021-02-10 23:45:03</td>\n",
       "      <td>#Bitcoin’s Rally Signals the Rise of Digital A...</td>\n",
       "    </tr>\n",
       "    <tr>\n",
       "      <th>35</th>\n",
       "      <td>2021-02-10 23:38:52</td>\n",
       "      <td>🔵 Upfront and Personal!\\n\\nEpisode 3: Blockcha...</td>\n",
       "    </tr>\n",
       "    <tr>\n",
       "      <th>70</th>\n",
       "      <td>2021-02-10 23:22:38</td>\n",
       "      <td>$MA 💳 #MASTERCARD TO OPEN UP NETWORK TO SELECT...</td>\n",
       "    </tr>\n",
       "  </tbody>\n",
       "</table>\n",
       "</div>"
      ],
      "text/plain": [
       "                   date                                               text\n",
       "1   2021-02-10 23:58:48  😎 Today, that's this #Thursday, we will do a \"...\n",
       "16  2021-02-10 23:48:37  @naval #BTC is unconfiscatable \\n\\nAll roads l...\n",
       "23  2021-02-10 23:45:03  #Bitcoin’s Rally Signals the Rise of Digital A...\n",
       "35  2021-02-10 23:38:52  🔵 Upfront and Personal!\\n\\nEpisode 3: Blockcha...\n",
       "70  2021-02-10 23:22:38  $MA 💳 #MASTERCARD TO OPEN UP NETWORK TO SELECT..."
      ]
     },
     "execution_count": 83,
     "metadata": {},
     "output_type": "execute_result"
    }
   ],
   "source": [
    "new_df.to_csv(\"bitcoin_tweet_with_date_text_more_followers.csv\", index=False)\n",
    "new_df.head()"
   ]
  },
  {
   "cell_type": "code",
   "execution_count": null,
   "metadata": {},
   "outputs": [],
   "source": [
    "# import pandas as pd\n",
    "# bitcoin_tweets_with_3_columns = pd.read_csv(\"bitcoin_tweets_with_3_columns.csv\")\n",
    "# bitcoin_tweets_only_verified = bitcoin_tweets_with_3_columns[bitcoin_tweets_with_3_columns[\"user_verified\"] == \"True\"]"
   ]
  },
  {
   "cell_type": "code",
   "execution_count": null,
   "metadata": {},
   "outputs": [],
   "source": [
    "# bitcoin_tweets_only_verified.head()"
   ]
  },
  {
   "cell_type": "code",
   "execution_count": null,
   "metadata": {},
   "outputs": [],
   "source": [
    "# bitcoin_tweets_only_verified.to_csv(\"bitcoin_tweets_only_verified.csv\", index=False)"
   ]
  },
  {
   "cell_type": "code",
   "execution_count": null,
   "metadata": {},
   "outputs": [],
   "source": [
    "# del bitcoin_tweets_only_verified[\"user_verified\"]"
   ]
  },
  {
   "cell_type": "code",
   "execution_count": null,
   "metadata": {},
   "outputs": [],
   "source": [
    "# bitcoin_tweets_only_verified.to_csv(\"bitcoin_tweets_only_verified_with_date_and_tweets.csv\", index=False)"
   ]
  },
  {
   "cell_type": "code",
   "execution_count": null,
   "metadata": {},
   "outputs": [],
   "source": [
    "# bitcoin_tweets_only_verified.head()\n"
   ]
  }
 ],
 "metadata": {
  "kernelspec": {
   "display_name": "Python (3.11.2)",
   "language": "python",
   "name": "3.11.2"
  },
  "language_info": {
   "codemirror_mode": {
    "name": "ipython",
    "version": 3
   },
   "file_extension": ".py",
   "mimetype": "text/x-python",
   "name": "python",
   "nbconvert_exporter": "python",
   "pygments_lexer": "ipython3",
   "version": "3.11.2"
  },
  "orig_nbformat": 4
 },
 "nbformat": 4,
 "nbformat_minor": 2
}
