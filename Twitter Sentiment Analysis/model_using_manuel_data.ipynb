{
 "cells": [
  {
   "cell_type": "code",
   "execution_count": 3,
   "metadata": {},
   "outputs": [
    {
     "name": "stdout",
     "output_type": "stream",
     "text": [
      "                                                    text sentiment\n",
      "0      #Bitcoin’s Rally Signals the Rise of Digital A...  negative\n",
      "1      If Apple Inc ever makes a move for #Bitcoin as...   neutral\n",
      "2      .@LFDodds has more on Twitter saying it could ...  positive\n",
      "3      Crypto update:\\n#Bitcoin 44726.30 -5.5%\\n#Ethe...   neutral\n",
      "4      #Bitcoin’s Rally Signals the Rise of Digital A...  negative\n",
      "...                                                  ...       ...\n",
      "18674  How much do you think 1 #Bitcoin is worth by t...  positive\n",
      "18675  #Bitcoin is Breaking out of The 21 Days Consol...   neutral\n",
      "18676  2023 may see #Bitcoin being adopted by more go...  positive\n",
      "18677  Thanks for the #Bitcoin Christmas card! It arr...  negative\n",
      "18678  Will 2️⃣0️⃣2️⃣3️⃣  be a better year for #BITCO...  positive\n",
      "\n",
      "[18679 rows x 2 columns]\n"
     ]
    }
   ],
   "source": [
    "import pandas as pd\n",
    "from textblob import TextBlob\n",
    "\n",
    "# Load dataset\n",
    "data = pd.read_csv(\"bitcoin_tweets_only_verified_with_date_and_tweets.csv\")\n",
    "\n",
    "\n",
    "# Preprocess text data (optional)\n",
    "# ... your preprocessing code here ...\n",
    "\n",
    "def analyze_sentiment(tweet):\n",
    "    if not isinstance(tweet, str):\n",
    "        return 'unknown'\n",
    "    \n",
    "    analysis = TextBlob(tweet)\n",
    "    if analysis.sentiment.polarity > 0:\n",
    "        return \"positive\"\n",
    "    elif analysis.sentiment.polarity == 0:\n",
    "        return \"neutral\"\n",
    "    else:\n",
    "        return \"negative\"\n",
    "\n",
    "\n",
    "\n",
    "data['sentiment'] = data['text'].apply(analyze_sentiment)\n",
    "data.to_csv(\"bitcoin_tweets_only_verified_with_date_and_tweets_sentiments.csv\")\n",
    "\n",
    "# Display sentiment analysis results\n",
    "print(data[['text', 'sentiment']])\n"
   ]
  }
 ],
 "metadata": {
  "kernelspec": {
   "display_name": "Python (3.11.2)",
   "language": "python",
   "name": "3.11.2"
  },
  "language_info": {
   "codemirror_mode": {
    "name": "ipython",
    "version": 3
   },
   "file_extension": ".py",
   "mimetype": "text/x-python",
   "name": "python",
   "nbconvert_exporter": "python",
   "pygments_lexer": "ipython3",
   "version": "3.11.2"
  },
  "orig_nbformat": 4
 },
 "nbformat": 4,
 "nbformat_minor": 2
}
