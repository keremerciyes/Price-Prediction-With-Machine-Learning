{
 "cells": [
  {
   "cell_type": "code",
   "execution_count": 25,
   "metadata": {},
   "outputs": [
    {
     "name": "stdout",
     "output_type": "stream",
     "text": [
      "                                                Content sentiment\n",
      "0     #Ethereum price update: \\n\\n#ETH $1269.23 USD\\...   neutral\n",
      "1     @mtmalinen @ecb Do well to understand that eve...  positive\n",
      "2     Kayla #Ethereum Harold #世界杯 Egbert #百家乐 Lavern...   neutral\n",
      "3     #Bitcoin https://t.co/2koLlCvCri https://t.co/...   neutral\n",
      "4     Yesterday we made a 3,000 SLAM buyback and loc...   neutral\n",
      "...                                                 ...       ...\n",
      "9995  Digital Rupee or e-Rupee is a form of digital ...  positive\n",
      "9996  In bear market, short every pump n dca every u...  negative\n",
      "9997  Take that high and I’m max short #btc https://...  positive\n",
      "9998  في خطة التوسع حول العالم، باينانس تستحوذ على م...   neutral\n",
      "9999  The 15m #bitcoin just went into self custody h...   neutral\n",
      "\n",
      "[10438 rows x 2 columns]\n"
     ]
    }
   ],
   "source": [
    "import pandas as pd\n",
    "from textblob import TextBlob\n",
    "\n",
    "# Load dataset\n",
    "data = pd.read_csv(\"crpyto_tweets.csv\")\n",
    "\n",
    "\n",
    "# Preprocess text data (optional)\n",
    "# ... your preprocessing code here ...\n",
    "\n",
    "def analyze_sentiment(tweet):\n",
    "    if not isinstance(tweet, str):\n",
    "        return 'unknown'\n",
    "    \n",
    "    analysis = TextBlob(tweet)\n",
    "    if analysis.sentiment.polarity > 0:\n",
    "        return 'positive'\n",
    "    elif analysis.sentiment.polarity == 0:\n",
    "        return 'neutral'\n",
    "    else:\n",
    "        return 'negative'\n",
    "\n",
    "\n",
    "\n",
    "data['Sentiment'] = data['Content'].apply(analyze_sentiment)\n",
    "\n",
    "# Display sentiment analysis results\n",
    "print(data[['Content', 'Sentiment']])\n"
   ]
  }
 ],
 "metadata": {
  "kernelspec": {
   "display_name": "Python 3",
   "language": "python",
   "name": "python3"
  },
  "language_info": {
   "codemirror_mode": {
    "name": "ipython",
    "version": 3
   },
   "file_extension": ".py",
   "mimetype": "text/x-python",
   "name": "python",
   "nbconvert_exporter": "python",
   "pygments_lexer": "ipython3",
   "version": "3.11.2"
  },
  "orig_nbformat": 4
 },
 "nbformat": 4,
 "nbformat_minor": 2
}
